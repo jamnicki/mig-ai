{
 "cells": [
  {
   "cell_type": "code",
   "execution_count": 15,
   "metadata": {},
   "outputs": [],
   "source": [
    "import cv2\n",
    "import mediapipe as mp\n",
    "import pandas as pd\n",
    "from src.settings import MOVIE_CLIPS_DIR, DATA_DIR"
   ]
  },
  {
   "cell_type": "code",
   "execution_count": 16,
   "metadata": {},
   "outputs": [],
   "source": [
    "df = pd.read_csv(DATA_DIR / 'landmarks/K01AF__07_5160-5640.csv')"
   ]
  },
  {
   "cell_type": "code",
   "execution_count": 17,
   "metadata": {},
   "outputs": [
    {
     "data": {
      "text/html": [
       "<div>\n",
       "<style scoped>\n",
       "    .dataframe tbody tr th:only-of-type {\n",
       "        vertical-align: middle;\n",
       "    }\n",
       "\n",
       "    .dataframe tbody tr th {\n",
       "        vertical-align: top;\n",
       "    }\n",
       "\n",
       "    .dataframe thead th {\n",
       "        text-align: right;\n",
       "    }\n",
       "</style>\n",
       "<table border=\"1\" class=\"dataframe\">\n",
       "  <thead>\n",
       "    <tr style=\"text-align: right;\">\n",
       "      <th></th>\n",
       "      <th>Unnamed: 0</th>\n",
       "      <th>0</th>\n",
       "      <th>1</th>\n",
       "      <th>2</th>\n",
       "      <th>3</th>\n",
       "      <th>4</th>\n",
       "      <th>5</th>\n",
       "      <th>6</th>\n",
       "    </tr>\n",
       "  </thead>\n",
       "  <tbody>\n",
       "    <tr>\n",
       "      <th>0</th>\n",
       "      <td>0</td>\n",
       "      <td>K01AF__07_5160-5640.mp4</td>\n",
       "      <td>1</td>\n",
       "      <td>NOSE</td>\n",
       "      <td>0</td>\n",
       "      <td>0.420696</td>\n",
       "      <td>0.422673</td>\n",
       "      <td>-0.924984</td>\n",
       "    </tr>\n",
       "    <tr>\n",
       "      <th>1</th>\n",
       "      <td>1</td>\n",
       "      <td>K01AF__07_5160-5640.mp4</td>\n",
       "      <td>1</td>\n",
       "      <td>LEFT_EYE_INNER</td>\n",
       "      <td>1</td>\n",
       "      <td>0.436258</td>\n",
       "      <td>0.395843</td>\n",
       "      <td>-0.936608</td>\n",
       "    </tr>\n",
       "    <tr>\n",
       "      <th>2</th>\n",
       "      <td>2</td>\n",
       "      <td>K01AF__07_5160-5640.mp4</td>\n",
       "      <td>1</td>\n",
       "      <td>LEFT_EYE</td>\n",
       "      <td>2</td>\n",
       "      <td>0.446540</td>\n",
       "      <td>0.399170</td>\n",
       "      <td>-0.936535</td>\n",
       "    </tr>\n",
       "    <tr>\n",
       "      <th>3</th>\n",
       "      <td>3</td>\n",
       "      <td>K01AF__07_5160-5640.mp4</td>\n",
       "      <td>1</td>\n",
       "      <td>LEFT_EYE_OUTER</td>\n",
       "      <td>3</td>\n",
       "      <td>0.455943</td>\n",
       "      <td>0.401145</td>\n",
       "      <td>-0.936784</td>\n",
       "    </tr>\n",
       "    <tr>\n",
       "      <th>4</th>\n",
       "      <td>4</td>\n",
       "      <td>K01AF__07_5160-5640.mp4</td>\n",
       "      <td>1</td>\n",
       "      <td>RIGHT_EYE_INNER</td>\n",
       "      <td>4</td>\n",
       "      <td>0.414876</td>\n",
       "      <td>0.381894</td>\n",
       "      <td>-0.923483</td>\n",
       "    </tr>\n",
       "    <tr>\n",
       "      <th>...</th>\n",
       "      <td>...</td>\n",
       "      <td>...</td>\n",
       "      <td>...</td>\n",
       "      <td>...</td>\n",
       "      <td>...</td>\n",
       "      <td>...</td>\n",
       "      <td>...</td>\n",
       "      <td>...</td>\n",
       "    </tr>\n",
       "    <tr>\n",
       "      <th>424</th>\n",
       "      <td>424</td>\n",
       "      <td>K01AF__07_5160-5640.mp4</td>\n",
       "      <td>13</td>\n",
       "      <td>RIGHT_ANKLE</td>\n",
       "      <td>28</td>\n",
       "      <td>0.418549</td>\n",
       "      <td>1.490459</td>\n",
       "      <td>0.414808</td>\n",
       "    </tr>\n",
       "    <tr>\n",
       "      <th>425</th>\n",
       "      <td>425</td>\n",
       "      <td>K01AF__07_5160-5640.mp4</td>\n",
       "      <td>13</td>\n",
       "      <td>LEFT_HEEL</td>\n",
       "      <td>29</td>\n",
       "      <td>0.547404</td>\n",
       "      <td>1.516295</td>\n",
       "      <td>0.471803</td>\n",
       "    </tr>\n",
       "    <tr>\n",
       "      <th>426</th>\n",
       "      <td>426</td>\n",
       "      <td>K01AF__07_5160-5640.mp4</td>\n",
       "      <td>13</td>\n",
       "      <td>RIGHT_HEEL</td>\n",
       "      <td>30</td>\n",
       "      <td>0.420104</td>\n",
       "      <td>1.538161</td>\n",
       "      <td>0.446725</td>\n",
       "    </tr>\n",
       "    <tr>\n",
       "      <th>427</th>\n",
       "      <td>427</td>\n",
       "      <td>K01AF__07_5160-5640.mp4</td>\n",
       "      <td>13</td>\n",
       "      <td>LEFT_FOOT_INDEX</td>\n",
       "      <td>31</td>\n",
       "      <td>0.525499</td>\n",
       "      <td>1.593318</td>\n",
       "      <td>0.259207</td>\n",
       "    </tr>\n",
       "    <tr>\n",
       "      <th>428</th>\n",
       "      <td>428</td>\n",
       "      <td>K01AF__07_5160-5640.mp4</td>\n",
       "      <td>13</td>\n",
       "      <td>RIGHT_FOOT_INDEX</td>\n",
       "      <td>32</td>\n",
       "      <td>0.433602</td>\n",
       "      <td>1.602951</td>\n",
       "      <td>0.100490</td>\n",
       "    </tr>\n",
       "  </tbody>\n",
       "</table>\n",
       "<p>429 rows × 8 columns</p>\n",
       "</div>"
      ],
      "text/plain": [
       "     Unnamed: 0                        0   1                 2   3         4  \\\n",
       "0             0  K01AF__07_5160-5640.mp4   1              NOSE   0  0.420696   \n",
       "1             1  K01AF__07_5160-5640.mp4   1    LEFT_EYE_INNER   1  0.436258   \n",
       "2             2  K01AF__07_5160-5640.mp4   1          LEFT_EYE   2  0.446540   \n",
       "3             3  K01AF__07_5160-5640.mp4   1    LEFT_EYE_OUTER   3  0.455943   \n",
       "4             4  K01AF__07_5160-5640.mp4   1   RIGHT_EYE_INNER   4  0.414876   \n",
       "..          ...                      ...  ..               ...  ..       ...   \n",
       "424         424  K01AF__07_5160-5640.mp4  13       RIGHT_ANKLE  28  0.418549   \n",
       "425         425  K01AF__07_5160-5640.mp4  13         LEFT_HEEL  29  0.547404   \n",
       "426         426  K01AF__07_5160-5640.mp4  13        RIGHT_HEEL  30  0.420104   \n",
       "427         427  K01AF__07_5160-5640.mp4  13   LEFT_FOOT_INDEX  31  0.525499   \n",
       "428         428  K01AF__07_5160-5640.mp4  13  RIGHT_FOOT_INDEX  32  0.433602   \n",
       "\n",
       "            5         6  \n",
       "0    0.422673 -0.924984  \n",
       "1    0.395843 -0.936608  \n",
       "2    0.399170 -0.936535  \n",
       "3    0.401145 -0.936784  \n",
       "4    0.381894 -0.923483  \n",
       "..        ...       ...  \n",
       "424  1.490459  0.414808  \n",
       "425  1.516295  0.471803  \n",
       "426  1.538161  0.446725  \n",
       "427  1.593318  0.259207  \n",
       "428  1.602951  0.100490  \n",
       "\n",
       "[429 rows x 8 columns]"
      ]
     },
     "execution_count": 17,
     "metadata": {},
     "output_type": "execute_result"
    }
   ],
   "source": [
    "df"
   ]
  },
  {
   "cell_type": "code",
   "execution_count": 18,
   "metadata": {},
   "outputs": [
    {
     "data": {
      "text/plain": [
       "Index(['Unnamed: 0', '0', '1', '2', '3', '4', '5', '6'], dtype='object')"
      ]
     },
     "execution_count": 18,
     "metadata": {},
     "output_type": "execute_result"
    }
   ],
   "source": [
    "df.columns"
   ]
  },
  {
   "cell_type": "code",
   "execution_count": 19,
   "metadata": {},
   "outputs": [
    {
     "data": {
      "text/html": [
       "<div>\n",
       "<style scoped>\n",
       "    .dataframe tbody tr th:only-of-type {\n",
       "        vertical-align: middle;\n",
       "    }\n",
       "\n",
       "    .dataframe tbody tr th {\n",
       "        vertical-align: top;\n",
       "    }\n",
       "\n",
       "    .dataframe thead th {\n",
       "        text-align: right;\n",
       "    }\n",
       "</style>\n",
       "<table border=\"1\" class=\"dataframe\">\n",
       "  <thead>\n",
       "    <tr style=\"text-align: right;\">\n",
       "      <th></th>\n",
       "      <th>VideoName</th>\n",
       "      <th>FrameNumber</th>\n",
       "      <th>LandmarkName</th>\n",
       "      <th>LandmarkIdx</th>\n",
       "      <th>X</th>\n",
       "      <th>Y</th>\n",
       "      <th>Z</th>\n",
       "    </tr>\n",
       "  </thead>\n",
       "  <tbody>\n",
       "    <tr>\n",
       "      <th>0</th>\n",
       "      <td>K01AF__07_5160-5640.mp4</td>\n",
       "      <td>1</td>\n",
       "      <td>NOSE</td>\n",
       "      <td>0</td>\n",
       "      <td>0.420696</td>\n",
       "      <td>0.422673</td>\n",
       "      <td>-0.924984</td>\n",
       "    </tr>\n",
       "    <tr>\n",
       "      <th>1</th>\n",
       "      <td>K01AF__07_5160-5640.mp4</td>\n",
       "      <td>1</td>\n",
       "      <td>LEFT_EYE_INNER</td>\n",
       "      <td>1</td>\n",
       "      <td>0.436258</td>\n",
       "      <td>0.395843</td>\n",
       "      <td>-0.936608</td>\n",
       "    </tr>\n",
       "    <tr>\n",
       "      <th>2</th>\n",
       "      <td>K01AF__07_5160-5640.mp4</td>\n",
       "      <td>1</td>\n",
       "      <td>LEFT_EYE</td>\n",
       "      <td>2</td>\n",
       "      <td>0.446540</td>\n",
       "      <td>0.399170</td>\n",
       "      <td>-0.936535</td>\n",
       "    </tr>\n",
       "    <tr>\n",
       "      <th>3</th>\n",
       "      <td>K01AF__07_5160-5640.mp4</td>\n",
       "      <td>1</td>\n",
       "      <td>LEFT_EYE_OUTER</td>\n",
       "      <td>3</td>\n",
       "      <td>0.455943</td>\n",
       "      <td>0.401145</td>\n",
       "      <td>-0.936784</td>\n",
       "    </tr>\n",
       "    <tr>\n",
       "      <th>4</th>\n",
       "      <td>K01AF__07_5160-5640.mp4</td>\n",
       "      <td>1</td>\n",
       "      <td>RIGHT_EYE_INNER</td>\n",
       "      <td>4</td>\n",
       "      <td>0.414876</td>\n",
       "      <td>0.381894</td>\n",
       "      <td>-0.923483</td>\n",
       "    </tr>\n",
       "    <tr>\n",
       "      <th>...</th>\n",
       "      <td>...</td>\n",
       "      <td>...</td>\n",
       "      <td>...</td>\n",
       "      <td>...</td>\n",
       "      <td>...</td>\n",
       "      <td>...</td>\n",
       "      <td>...</td>\n",
       "    </tr>\n",
       "    <tr>\n",
       "      <th>424</th>\n",
       "      <td>K01AF__07_5160-5640.mp4</td>\n",
       "      <td>13</td>\n",
       "      <td>RIGHT_ANKLE</td>\n",
       "      <td>28</td>\n",
       "      <td>0.418549</td>\n",
       "      <td>1.490459</td>\n",
       "      <td>0.414808</td>\n",
       "    </tr>\n",
       "    <tr>\n",
       "      <th>425</th>\n",
       "      <td>K01AF__07_5160-5640.mp4</td>\n",
       "      <td>13</td>\n",
       "      <td>LEFT_HEEL</td>\n",
       "      <td>29</td>\n",
       "      <td>0.547404</td>\n",
       "      <td>1.516295</td>\n",
       "      <td>0.471803</td>\n",
       "    </tr>\n",
       "    <tr>\n",
       "      <th>426</th>\n",
       "      <td>K01AF__07_5160-5640.mp4</td>\n",
       "      <td>13</td>\n",
       "      <td>RIGHT_HEEL</td>\n",
       "      <td>30</td>\n",
       "      <td>0.420104</td>\n",
       "      <td>1.538161</td>\n",
       "      <td>0.446725</td>\n",
       "    </tr>\n",
       "    <tr>\n",
       "      <th>427</th>\n",
       "      <td>K01AF__07_5160-5640.mp4</td>\n",
       "      <td>13</td>\n",
       "      <td>LEFT_FOOT_INDEX</td>\n",
       "      <td>31</td>\n",
       "      <td>0.525499</td>\n",
       "      <td>1.593318</td>\n",
       "      <td>0.259207</td>\n",
       "    </tr>\n",
       "    <tr>\n",
       "      <th>428</th>\n",
       "      <td>K01AF__07_5160-5640.mp4</td>\n",
       "      <td>13</td>\n",
       "      <td>RIGHT_FOOT_INDEX</td>\n",
       "      <td>32</td>\n",
       "      <td>0.433602</td>\n",
       "      <td>1.602951</td>\n",
       "      <td>0.100490</td>\n",
       "    </tr>\n",
       "  </tbody>\n",
       "</table>\n",
       "<p>429 rows × 7 columns</p>\n",
       "</div>"
      ],
      "text/plain": [
       "                   VideoName  FrameNumber      LandmarkName  LandmarkIdx  \\\n",
       "0    K01AF__07_5160-5640.mp4            1              NOSE            0   \n",
       "1    K01AF__07_5160-5640.mp4            1    LEFT_EYE_INNER            1   \n",
       "2    K01AF__07_5160-5640.mp4            1          LEFT_EYE            2   \n",
       "3    K01AF__07_5160-5640.mp4            1    LEFT_EYE_OUTER            3   \n",
       "4    K01AF__07_5160-5640.mp4            1   RIGHT_EYE_INNER            4   \n",
       "..                       ...          ...               ...          ...   \n",
       "424  K01AF__07_5160-5640.mp4           13       RIGHT_ANKLE           28   \n",
       "425  K01AF__07_5160-5640.mp4           13         LEFT_HEEL           29   \n",
       "426  K01AF__07_5160-5640.mp4           13        RIGHT_HEEL           30   \n",
       "427  K01AF__07_5160-5640.mp4           13   LEFT_FOOT_INDEX           31   \n",
       "428  K01AF__07_5160-5640.mp4           13  RIGHT_FOOT_INDEX           32   \n",
       "\n",
       "            X         Y         Z  \n",
       "0    0.420696  0.422673 -0.924984  \n",
       "1    0.436258  0.395843 -0.936608  \n",
       "2    0.446540  0.399170 -0.936535  \n",
       "3    0.455943  0.401145 -0.936784  \n",
       "4    0.414876  0.381894 -0.923483  \n",
       "..        ...       ...       ...  \n",
       "424  0.418549  1.490459  0.414808  \n",
       "425  0.547404  1.516295  0.471803  \n",
       "426  0.420104  1.538161  0.446725  \n",
       "427  0.525499  1.593318  0.259207  \n",
       "428  0.433602  1.602951  0.100490  \n",
       "\n",
       "[429 rows x 7 columns]"
      ]
     },
     "execution_count": 19,
     "metadata": {},
     "output_type": "execute_result"
    }
   ],
   "source": [
    "df = df.drop(columns=['Unnamed: 0'])\n",
    "df.rename(columns={'0': 'VideoName','1':'FrameNumber', '2': 'LandmarkName', '3': 'LandmarkIdx','4': 'X', '5': 'Y', '6': 'Z'}, inplace = True)\n",
    "df"
   ]
  },
  {
   "cell_type": "code",
   "execution_count": 6,
   "metadata": {},
   "outputs": [
    {
     "data": {
      "text/plain": [
       "count    429.000000\n",
       "mean       0.398466\n",
       "std        0.077703\n",
       "min        0.216240\n",
       "25%        0.350472\n",
       "50%        0.404857\n",
       "75%        0.440534\n",
       "max        0.559378\n",
       "Name: X, dtype: float64"
      ]
     },
     "execution_count": 6,
     "metadata": {},
     "output_type": "execute_result"
    }
   ],
   "source": [
    "df['X'].describe()"
   ]
  },
  {
   "cell_type": "code",
   "execution_count": 7,
   "metadata": {},
   "outputs": [
    {
     "data": {
      "text/plain": [
       "count    429.000000\n",
       "mean       0.642965\n",
       "std        0.274775\n",
       "min        0.348209\n",
       "25%        0.405898\n",
       "50%        0.627251\n",
       "75%        0.726800\n",
       "max        1.602951\n",
       "Name: Y, dtype: float64"
      ]
     },
     "execution_count": 7,
     "metadata": {},
     "output_type": "execute_result"
    }
   ],
   "source": [
    "df['Y'].describe()"
   ]
  },
  {
   "cell_type": "code",
   "execution_count": 8,
   "metadata": {},
   "outputs": [
    {
     "data": {
      "text/plain": [
       "count    429.000000\n",
       "mean      -0.408852\n",
       "std        0.474093\n",
       "min       -1.050382\n",
       "25%       -0.765577\n",
       "50%       -0.619246\n",
       "75%       -0.017597\n",
       "max        0.838217\n",
       "Name: Z, dtype: float64"
      ]
     },
     "execution_count": 8,
     "metadata": {},
     "output_type": "execute_result"
    }
   ],
   "source": [
    "df['Z'].describe()"
   ]
  },
  {
   "cell_type": "code",
   "execution_count": 24,
   "metadata": {},
   "outputs": [
    {
     "data": {
      "text/html": [
       "<div>\n",
       "<style scoped>\n",
       "    .dataframe tbody tr th:only-of-type {\n",
       "        vertical-align: middle;\n",
       "    }\n",
       "\n",
       "    .dataframe tbody tr th {\n",
       "        vertical-align: top;\n",
       "    }\n",
       "\n",
       "    .dataframe thead th {\n",
       "        text-align: right;\n",
       "    }\n",
       "</style>\n",
       "<table border=\"1\" class=\"dataframe\">\n",
       "  <thead>\n",
       "    <tr style=\"text-align: right;\">\n",
       "      <th></th>\n",
       "      <th>VideoName</th>\n",
       "      <th>FrameNumber</th>\n",
       "      <th>LandmarkName</th>\n",
       "      <th>LandmarkIdx</th>\n",
       "      <th>X</th>\n",
       "      <th>Y</th>\n",
       "      <th>Z</th>\n",
       "    </tr>\n",
       "  </thead>\n",
       "  <tbody>\n",
       "    <tr>\n",
       "      <th>0</th>\n",
       "      <td>K01AF__07_5160-5640.mp4</td>\n",
       "      <td>1</td>\n",
       "      <td>NOSE</td>\n",
       "      <td>0</td>\n",
       "      <td>0.420696</td>\n",
       "      <td>0.422673</td>\n",
       "      <td>-0.924984</td>\n",
       "    </tr>\n",
       "    <tr>\n",
       "      <th>1</th>\n",
       "      <td>K01AF__07_5160-5640.mp4</td>\n",
       "      <td>1</td>\n",
       "      <td>LEFT_EYE_INNER</td>\n",
       "      <td>1</td>\n",
       "      <td>0.436258</td>\n",
       "      <td>0.395843</td>\n",
       "      <td>-0.936608</td>\n",
       "    </tr>\n",
       "    <tr>\n",
       "      <th>2</th>\n",
       "      <td>K01AF__07_5160-5640.mp4</td>\n",
       "      <td>1</td>\n",
       "      <td>LEFT_EYE</td>\n",
       "      <td>2</td>\n",
       "      <td>0.446540</td>\n",
       "      <td>0.399170</td>\n",
       "      <td>-0.936535</td>\n",
       "    </tr>\n",
       "    <tr>\n",
       "      <th>3</th>\n",
       "      <td>K01AF__07_5160-5640.mp4</td>\n",
       "      <td>1</td>\n",
       "      <td>LEFT_EYE_OUTER</td>\n",
       "      <td>3</td>\n",
       "      <td>0.455943</td>\n",
       "      <td>0.401145</td>\n",
       "      <td>-0.936784</td>\n",
       "    </tr>\n",
       "    <tr>\n",
       "      <th>4</th>\n",
       "      <td>K01AF__07_5160-5640.mp4</td>\n",
       "      <td>1</td>\n",
       "      <td>RIGHT_EYE_INNER</td>\n",
       "      <td>4</td>\n",
       "      <td>0.414876</td>\n",
       "      <td>0.381894</td>\n",
       "      <td>-0.923483</td>\n",
       "    </tr>\n",
       "    <tr>\n",
       "      <th>...</th>\n",
       "      <td>...</td>\n",
       "      <td>...</td>\n",
       "      <td>...</td>\n",
       "      <td>...</td>\n",
       "      <td>...</td>\n",
       "      <td>...</td>\n",
       "      <td>...</td>\n",
       "    </tr>\n",
       "    <tr>\n",
       "      <th>416</th>\n",
       "      <td>K01AF__07_5160-5640.mp4</td>\n",
       "      <td>13</td>\n",
       "      <td>RIGHT_INDEX</td>\n",
       "      <td>20</td>\n",
       "      <td>0.307457</td>\n",
       "      <td>0.597315</td>\n",
       "      <td>-0.707241</td>\n",
       "    </tr>\n",
       "    <tr>\n",
       "      <th>417</th>\n",
       "      <td>K01AF__07_5160-5640.mp4</td>\n",
       "      <td>13</td>\n",
       "      <td>LEFT_THUMB</td>\n",
       "      <td>21</td>\n",
       "      <td>0.359656</td>\n",
       "      <td>0.639261</td>\n",
       "      <td>-0.467707</td>\n",
       "    </tr>\n",
       "    <tr>\n",
       "      <th>418</th>\n",
       "      <td>K01AF__07_5160-5640.mp4</td>\n",
       "      <td>13</td>\n",
       "      <td>RIGHT_THUMB</td>\n",
       "      <td>22</td>\n",
       "      <td>0.314339</td>\n",
       "      <td>0.600172</td>\n",
       "      <td>-0.661444</td>\n",
       "    </tr>\n",
       "    <tr>\n",
       "      <th>419</th>\n",
       "      <td>K01AF__07_5160-5640.mp4</td>\n",
       "      <td>13</td>\n",
       "      <td>LEFT_HIP</td>\n",
       "      <td>23</td>\n",
       "      <td>0.531089</td>\n",
       "      <td>0.904182</td>\n",
       "      <td>-0.018867</td>\n",
       "    </tr>\n",
       "    <tr>\n",
       "      <th>420</th>\n",
       "      <td>K01AF__07_5160-5640.mp4</td>\n",
       "      <td>13</td>\n",
       "      <td>RIGHT_HIP</td>\n",
       "      <td>24</td>\n",
       "      <td>0.416866</td>\n",
       "      <td>0.913094</td>\n",
       "      <td>0.019960</td>\n",
       "    </tr>\n",
       "  </tbody>\n",
       "</table>\n",
       "<p>325 rows × 7 columns</p>\n",
       "</div>"
      ],
      "text/plain": [
       "                   VideoName  FrameNumber     LandmarkName  LandmarkIdx  \\\n",
       "0    K01AF__07_5160-5640.mp4            1             NOSE            0   \n",
       "1    K01AF__07_5160-5640.mp4            1   LEFT_EYE_INNER            1   \n",
       "2    K01AF__07_5160-5640.mp4            1         LEFT_EYE            2   \n",
       "3    K01AF__07_5160-5640.mp4            1   LEFT_EYE_OUTER            3   \n",
       "4    K01AF__07_5160-5640.mp4            1  RIGHT_EYE_INNER            4   \n",
       "..                       ...          ...              ...          ...   \n",
       "416  K01AF__07_5160-5640.mp4           13      RIGHT_INDEX           20   \n",
       "417  K01AF__07_5160-5640.mp4           13       LEFT_THUMB           21   \n",
       "418  K01AF__07_5160-5640.mp4           13      RIGHT_THUMB           22   \n",
       "419  K01AF__07_5160-5640.mp4           13         LEFT_HIP           23   \n",
       "420  K01AF__07_5160-5640.mp4           13        RIGHT_HIP           24   \n",
       "\n",
       "            X         Y         Z  \n",
       "0    0.420696  0.422673 -0.924984  \n",
       "1    0.436258  0.395843 -0.936608  \n",
       "2    0.446540  0.399170 -0.936535  \n",
       "3    0.455943  0.401145 -0.936784  \n",
       "4    0.414876  0.381894 -0.923483  \n",
       "..        ...       ...       ...  \n",
       "416  0.307457  0.597315 -0.707241  \n",
       "417  0.359656  0.639261 -0.467707  \n",
       "418  0.314339  0.600172 -0.661444  \n",
       "419  0.531089  0.904182 -0.018867  \n",
       "420  0.416866  0.913094  0.019960  \n",
       "\n",
       "[325 rows x 7 columns]"
      ]
     },
     "execution_count": 24,
     "metadata": {},
     "output_type": "execute_result"
    }
   ],
   "source": [
    "df_filtered = df[df['LandmarkIdx'] <= 24]\n",
    "df_filtered"
   ]
  },
  {
   "cell_type": "code",
   "execution_count": 25,
   "metadata": {},
   "outputs": [
    {
     "data": {
      "text/plain": [
       "count    325.000000\n",
       "mean       0.380584\n",
       "std        0.076818\n",
       "min        0.216240\n",
       "25%        0.324689\n",
       "50%        0.385493\n",
       "75%        0.417219\n",
       "max        0.552717\n",
       "Name: X, dtype: float64"
      ]
     },
     "execution_count": 25,
     "metadata": {},
     "output_type": "execute_result"
    }
   ],
   "source": [
    "df_filtered['X'].describe()"
   ]
  },
  {
   "cell_type": "code",
   "execution_count": 26,
   "metadata": {},
   "outputs": [
    {
     "data": {
      "text/plain": [
       "count    325.000000\n",
       "mean       0.545532\n",
       "std        0.160026\n",
       "min        0.348209\n",
       "25%        0.389793\n",
       "50%        0.451014\n",
       "75%        0.693104\n",
       "max        0.913094\n",
       "Name: Y, dtype: float64"
      ]
     },
     "execution_count": 26,
     "metadata": {},
     "output_type": "execute_result"
    }
   ],
   "source": [
    "df_filtered['Y'].describe()"
   ]
  },
  {
   "cell_type": "code",
   "execution_count": 27,
   "metadata": {},
   "outputs": [
    {
     "data": {
      "text/plain": [
       "count    325.000000\n",
       "mean      -0.631278\n",
       "std        0.252668\n",
       "min       -1.050382\n",
       "25%       -0.790064\n",
       "50%       -0.700098\n",
       "75%       -0.517857\n",
       "max        0.032138\n",
       "Name: Z, dtype: float64"
      ]
     },
     "execution_count": 27,
     "metadata": {},
     "output_type": "execute_result"
    }
   ],
   "source": [
    "df_filtered['Z'].describe()"
   ]
  },
  {
   "cell_type": "code",
   "execution_count": 23,
   "metadata": {},
   "outputs": [
    {
     "data": {
      "text/html": [
       "<div>\n",
       "<style scoped>\n",
       "    .dataframe tbody tr th:only-of-type {\n",
       "        vertical-align: middle;\n",
       "    }\n",
       "\n",
       "    .dataframe tbody tr th {\n",
       "        vertical-align: top;\n",
       "    }\n",
       "\n",
       "    .dataframe thead th {\n",
       "        text-align: right;\n",
       "    }\n",
       "</style>\n",
       "<table border=\"1\" class=\"dataframe\">\n",
       "  <thead>\n",
       "    <tr style=\"text-align: right;\">\n",
       "      <th></th>\n",
       "      <th>VideoName</th>\n",
       "      <th>FrameNumber</th>\n",
       "      <th>LandmarkName</th>\n",
       "      <th>LandmarkIdx</th>\n",
       "      <th>X</th>\n",
       "      <th>Y</th>\n",
       "      <th>Z</th>\n",
       "    </tr>\n",
       "  </thead>\n",
       "  <tbody>\n",
       "    <tr>\n",
       "      <th>0</th>\n",
       "      <td>K01AF__07_5160-5640.mp4</td>\n",
       "      <td>1</td>\n",
       "      <td>NOSE</td>\n",
       "      <td>0</td>\n",
       "      <td>0.420696</td>\n",
       "      <td>0.422673</td>\n",
       "      <td>-0.924984</td>\n",
       "    </tr>\n",
       "    <tr>\n",
       "      <th>1</th>\n",
       "      <td>K01AF__07_5160-5640.mp4</td>\n",
       "      <td>1</td>\n",
       "      <td>LEFT_EYE_INNER</td>\n",
       "      <td>1</td>\n",
       "      <td>0.436258</td>\n",
       "      <td>0.395843</td>\n",
       "      <td>-0.936608</td>\n",
       "    </tr>\n",
       "    <tr>\n",
       "      <th>2</th>\n",
       "      <td>K01AF__07_5160-5640.mp4</td>\n",
       "      <td>1</td>\n",
       "      <td>LEFT_EYE</td>\n",
       "      <td>2</td>\n",
       "      <td>0.446540</td>\n",
       "      <td>0.399170</td>\n",
       "      <td>-0.936535</td>\n",
       "    </tr>\n",
       "    <tr>\n",
       "      <th>3</th>\n",
       "      <td>K01AF__07_5160-5640.mp4</td>\n",
       "      <td>1</td>\n",
       "      <td>LEFT_EYE_OUTER</td>\n",
       "      <td>3</td>\n",
       "      <td>0.455943</td>\n",
       "      <td>0.401145</td>\n",
       "      <td>-0.936784</td>\n",
       "    </tr>\n",
       "    <tr>\n",
       "      <th>4</th>\n",
       "      <td>K01AF__07_5160-5640.mp4</td>\n",
       "      <td>1</td>\n",
       "      <td>RIGHT_EYE_INNER</td>\n",
       "      <td>4</td>\n",
       "      <td>0.414876</td>\n",
       "      <td>0.381894</td>\n",
       "      <td>-0.923483</td>\n",
       "    </tr>\n",
       "    <tr>\n",
       "      <th>5</th>\n",
       "      <td>K01AF__07_5160-5640.mp4</td>\n",
       "      <td>1</td>\n",
       "      <td>RIGHT_EYE</td>\n",
       "      <td>5</td>\n",
       "      <td>0.409666</td>\n",
       "      <td>0.375953</td>\n",
       "      <td>-0.923621</td>\n",
       "    </tr>\n",
       "    <tr>\n",
       "      <th>6</th>\n",
       "      <td>K01AF__07_5160-5640.mp4</td>\n",
       "      <td>1</td>\n",
       "      <td>RIGHT_EYE_OUTER</td>\n",
       "      <td>6</td>\n",
       "      <td>0.404969</td>\n",
       "      <td>0.370114</td>\n",
       "      <td>-0.923806</td>\n",
       "    </tr>\n",
       "    <tr>\n",
       "      <th>7</th>\n",
       "      <td>K01AF__07_5160-5640.mp4</td>\n",
       "      <td>1</td>\n",
       "      <td>LEFT_EAR</td>\n",
       "      <td>7</td>\n",
       "      <td>0.479792</td>\n",
       "      <td>0.389869</td>\n",
       "      <td>-0.845745</td>\n",
       "    </tr>\n",
       "    <tr>\n",
       "      <th>8</th>\n",
       "      <td>K01AF__07_5160-5640.mp4</td>\n",
       "      <td>1</td>\n",
       "      <td>RIGHT_EAR</td>\n",
       "      <td>8</td>\n",
       "      <td>0.413695</td>\n",
       "      <td>0.355002</td>\n",
       "      <td>-0.788614</td>\n",
       "    </tr>\n",
       "    <tr>\n",
       "      <th>9</th>\n",
       "      <td>K01AF__07_5160-5640.mp4</td>\n",
       "      <td>1</td>\n",
       "      <td>MOUTH_LEFT</td>\n",
       "      <td>9</td>\n",
       "      <td>0.439348</td>\n",
       "      <td>0.453780</td>\n",
       "      <td>-0.877135</td>\n",
       "    </tr>\n",
       "    <tr>\n",
       "      <th>10</th>\n",
       "      <td>K01AF__07_5160-5640.mp4</td>\n",
       "      <td>1</td>\n",
       "      <td>MOUTH_RIGHT</td>\n",
       "      <td>10</td>\n",
       "      <td>0.411116</td>\n",
       "      <td>0.438160</td>\n",
       "      <td>-0.860906</td>\n",
       "    </tr>\n",
       "    <tr>\n",
       "      <th>11</th>\n",
       "      <td>K01AF__07_5160-5640.mp4</td>\n",
       "      <td>1</td>\n",
       "      <td>LEFT_SHOULDER</td>\n",
       "      <td>11</td>\n",
       "      <td>0.541010</td>\n",
       "      <td>0.431539</td>\n",
       "      <td>-0.704482</td>\n",
       "    </tr>\n",
       "    <tr>\n",
       "      <th>12</th>\n",
       "      <td>K01AF__07_5160-5640.mp4</td>\n",
       "      <td>1</td>\n",
       "      <td>RIGHT_SHOULDER</td>\n",
       "      <td>12</td>\n",
       "      <td>0.375307</td>\n",
       "      <td>0.426634</td>\n",
       "      <td>-0.601898</td>\n",
       "    </tr>\n",
       "    <tr>\n",
       "      <th>13</th>\n",
       "      <td>K01AF__07_5160-5640.mp4</td>\n",
       "      <td>1</td>\n",
       "      <td>LEFT_ELBOW</td>\n",
       "      <td>13</td>\n",
       "      <td>0.513039</td>\n",
       "      <td>0.697125</td>\n",
       "      <td>-0.788202</td>\n",
       "    </tr>\n",
       "    <tr>\n",
       "      <th>14</th>\n",
       "      <td>K01AF__07_5160-5640.mp4</td>\n",
       "      <td>1</td>\n",
       "      <td>RIGHT_ELBOW</td>\n",
       "      <td>14</td>\n",
       "      <td>0.310344</td>\n",
       "      <td>0.594632</td>\n",
       "      <td>-0.704982</td>\n",
       "    </tr>\n",
       "    <tr>\n",
       "      <th>15</th>\n",
       "      <td>K01AF__07_5160-5640.mp4</td>\n",
       "      <td>1</td>\n",
       "      <td>LEFT_WRIST</td>\n",
       "      <td>15</td>\n",
       "      <td>0.352463</td>\n",
       "      <td>0.695341</td>\n",
       "      <td>-0.908054</td>\n",
       "    </tr>\n",
       "    <tr>\n",
       "      <th>16</th>\n",
       "      <td>K01AF__07_5160-5640.mp4</td>\n",
       "      <td>1</td>\n",
       "      <td>RIGHT_WRIST</td>\n",
       "      <td>16</td>\n",
       "      <td>0.245429</td>\n",
       "      <td>0.649761</td>\n",
       "      <td>-0.953458</td>\n",
       "    </tr>\n",
       "    <tr>\n",
       "      <th>17</th>\n",
       "      <td>K01AF__07_5160-5640.mp4</td>\n",
       "      <td>1</td>\n",
       "      <td>LEFT_PINKY</td>\n",
       "      <td>17</td>\n",
       "      <td>0.321102</td>\n",
       "      <td>0.709725</td>\n",
       "      <td>-0.972943</td>\n",
       "    </tr>\n",
       "    <tr>\n",
       "      <th>18</th>\n",
       "      <td>K01AF__07_5160-5640.mp4</td>\n",
       "      <td>1</td>\n",
       "      <td>RIGHT_PINKY</td>\n",
       "      <td>18</td>\n",
       "      <td>0.218603</td>\n",
       "      <td>0.668330</td>\n",
       "      <td>-1.018015</td>\n",
       "    </tr>\n",
       "    <tr>\n",
       "      <th>19</th>\n",
       "      <td>K01AF__07_5160-5640.mp4</td>\n",
       "      <td>1</td>\n",
       "      <td>LEFT_INDEX</td>\n",
       "      <td>19</td>\n",
       "      <td>0.317633</td>\n",
       "      <td>0.678333</td>\n",
       "      <td>-0.956394</td>\n",
       "    </tr>\n",
       "    <tr>\n",
       "      <th>20</th>\n",
       "      <td>K01AF__07_5160-5640.mp4</td>\n",
       "      <td>1</td>\n",
       "      <td>RIGHT_INDEX</td>\n",
       "      <td>20</td>\n",
       "      <td>0.222361</td>\n",
       "      <td>0.662040</td>\n",
       "      <td>-1.030949</td>\n",
       "    </tr>\n",
       "    <tr>\n",
       "      <th>21</th>\n",
       "      <td>K01AF__07_5160-5640.mp4</td>\n",
       "      <td>1</td>\n",
       "      <td>LEFT_THUMB</td>\n",
       "      <td>21</td>\n",
       "      <td>0.324689</td>\n",
       "      <td>0.666407</td>\n",
       "      <td>-0.903311</td>\n",
       "    </tr>\n",
       "    <tr>\n",
       "      <th>22</th>\n",
       "      <td>K01AF__07_5160-5640.mp4</td>\n",
       "      <td>1</td>\n",
       "      <td>RIGHT_THUMB</td>\n",
       "      <td>22</td>\n",
       "      <td>0.235200</td>\n",
       "      <td>0.657328</td>\n",
       "      <td>-0.967306</td>\n",
       "    </tr>\n",
       "    <tr>\n",
       "      <th>23</th>\n",
       "      <td>K01AF__07_5160-5640.mp4</td>\n",
       "      <td>1</td>\n",
       "      <td>LEFT_HIP</td>\n",
       "      <td>23</td>\n",
       "      <td>0.496012</td>\n",
       "      <td>0.665067</td>\n",
       "      <td>0.002170</td>\n",
       "    </tr>\n",
       "    <tr>\n",
       "      <th>24</th>\n",
       "      <td>K01AF__07_5160-5640.mp4</td>\n",
       "      <td>1</td>\n",
       "      <td>RIGHT_HIP</td>\n",
       "      <td>24</td>\n",
       "      <td>0.413457</td>\n",
       "      <td>0.651635</td>\n",
       "      <td>-0.001833</td>\n",
       "    </tr>\n",
       "  </tbody>\n",
       "</table>\n",
       "</div>"
      ],
      "text/plain": [
       "                  VideoName  FrameNumber     LandmarkName  LandmarkIdx  \\\n",
       "0   K01AF__07_5160-5640.mp4            1             NOSE            0   \n",
       "1   K01AF__07_5160-5640.mp4            1   LEFT_EYE_INNER            1   \n",
       "2   K01AF__07_5160-5640.mp4            1         LEFT_EYE            2   \n",
       "3   K01AF__07_5160-5640.mp4            1   LEFT_EYE_OUTER            3   \n",
       "4   K01AF__07_5160-5640.mp4            1  RIGHT_EYE_INNER            4   \n",
       "5   K01AF__07_5160-5640.mp4            1        RIGHT_EYE            5   \n",
       "6   K01AF__07_5160-5640.mp4            1  RIGHT_EYE_OUTER            6   \n",
       "7   K01AF__07_5160-5640.mp4            1         LEFT_EAR            7   \n",
       "8   K01AF__07_5160-5640.mp4            1        RIGHT_EAR            8   \n",
       "9   K01AF__07_5160-5640.mp4            1       MOUTH_LEFT            9   \n",
       "10  K01AF__07_5160-5640.mp4            1      MOUTH_RIGHT           10   \n",
       "11  K01AF__07_5160-5640.mp4            1    LEFT_SHOULDER           11   \n",
       "12  K01AF__07_5160-5640.mp4            1   RIGHT_SHOULDER           12   \n",
       "13  K01AF__07_5160-5640.mp4            1       LEFT_ELBOW           13   \n",
       "14  K01AF__07_5160-5640.mp4            1      RIGHT_ELBOW           14   \n",
       "15  K01AF__07_5160-5640.mp4            1       LEFT_WRIST           15   \n",
       "16  K01AF__07_5160-5640.mp4            1      RIGHT_WRIST           16   \n",
       "17  K01AF__07_5160-5640.mp4            1       LEFT_PINKY           17   \n",
       "18  K01AF__07_5160-5640.mp4            1      RIGHT_PINKY           18   \n",
       "19  K01AF__07_5160-5640.mp4            1       LEFT_INDEX           19   \n",
       "20  K01AF__07_5160-5640.mp4            1      RIGHT_INDEX           20   \n",
       "21  K01AF__07_5160-5640.mp4            1       LEFT_THUMB           21   \n",
       "22  K01AF__07_5160-5640.mp4            1      RIGHT_THUMB           22   \n",
       "23  K01AF__07_5160-5640.mp4            1         LEFT_HIP           23   \n",
       "24  K01AF__07_5160-5640.mp4            1        RIGHT_HIP           24   \n",
       "\n",
       "           X         Y         Z  \n",
       "0   0.420696  0.422673 -0.924984  \n",
       "1   0.436258  0.395843 -0.936608  \n",
       "2   0.446540  0.399170 -0.936535  \n",
       "3   0.455943  0.401145 -0.936784  \n",
       "4   0.414876  0.381894 -0.923483  \n",
       "5   0.409666  0.375953 -0.923621  \n",
       "6   0.404969  0.370114 -0.923806  \n",
       "7   0.479792  0.389869 -0.845745  \n",
       "8   0.413695  0.355002 -0.788614  \n",
       "9   0.439348  0.453780 -0.877135  \n",
       "10  0.411116  0.438160 -0.860906  \n",
       "11  0.541010  0.431539 -0.704482  \n",
       "12  0.375307  0.426634 -0.601898  \n",
       "13  0.513039  0.697125 -0.788202  \n",
       "14  0.310344  0.594632 -0.704982  \n",
       "15  0.352463  0.695341 -0.908054  \n",
       "16  0.245429  0.649761 -0.953458  \n",
       "17  0.321102  0.709725 -0.972943  \n",
       "18  0.218603  0.668330 -1.018015  \n",
       "19  0.317633  0.678333 -0.956394  \n",
       "20  0.222361  0.662040 -1.030949  \n",
       "21  0.324689  0.666407 -0.903311  \n",
       "22  0.235200  0.657328 -0.967306  \n",
       "23  0.496012  0.665067  0.002170  \n",
       "24  0.413457  0.651635 -0.001833  "
      ]
     },
     "execution_count": 23,
     "metadata": {},
     "output_type": "execute_result"
    }
   ],
   "source": [
    "df[(df['FrameNumber'] == 1) & (df['LandmarkIdx'] <= 24)]\n"
   ]
  },
  {
   "cell_type": "code",
   "execution_count": 60,
   "metadata": {},
   "outputs": [
    {
     "data": {
      "text/html": [
       "<div>\n",
       "<style scoped>\n",
       "    .dataframe tbody tr th:only-of-type {\n",
       "        vertical-align: middle;\n",
       "    }\n",
       "\n",
       "    .dataframe tbody tr th {\n",
       "        vertical-align: top;\n",
       "    }\n",
       "\n",
       "    .dataframe thead th {\n",
       "        text-align: right;\n",
       "    }\n",
       "</style>\n",
       "<table border=\"1\" class=\"dataframe\">\n",
       "  <thead>\n",
       "    <tr style=\"text-align: right;\">\n",
       "      <th></th>\n",
       "      <th>Unnamed: 0</th>\n",
       "      <th>0</th>\n",
       "      <th>1</th>\n",
       "      <th>2</th>\n",
       "      <th>3</th>\n",
       "      <th>4</th>\n",
       "      <th>5</th>\n",
       "      <th>6</th>\n",
       "    </tr>\n",
       "  </thead>\n",
       "  <tbody>\n",
       "    <tr>\n",
       "      <th>0</th>\n",
       "      <td>0</td>\n",
       "      <td>K01AF__07_5160-5640.mp4</td>\n",
       "      <td>0</td>\n",
       "      <td>WRIST</td>\n",
       "      <td>0</td>\n",
       "      <td>0.369566</td>\n",
       "      <td>0.629169</td>\n",
       "      <td>-8.857410e-08</td>\n",
       "    </tr>\n",
       "    <tr>\n",
       "      <th>1</th>\n",
       "      <td>1</td>\n",
       "      <td>K01AF__07_5160-5640.mp4</td>\n",
       "      <td>0</td>\n",
       "      <td>THUMB_CMC</td>\n",
       "      <td>1</td>\n",
       "      <td>0.354525</td>\n",
       "      <td>0.655282</td>\n",
       "      <td>-5.176830e-03</td>\n",
       "    </tr>\n",
       "    <tr>\n",
       "      <th>2</th>\n",
       "      <td>2</td>\n",
       "      <td>K01AF__07_5160-5640.mp4</td>\n",
       "      <td>0</td>\n",
       "      <td>THUMB_MCP</td>\n",
       "      <td>2</td>\n",
       "      <td>0.339410</td>\n",
       "      <td>0.663720</td>\n",
       "      <td>-1.141255e-02</td>\n",
       "    </tr>\n",
       "    <tr>\n",
       "      <th>3</th>\n",
       "      <td>3</td>\n",
       "      <td>K01AF__07_5160-5640.mp4</td>\n",
       "      <td>0</td>\n",
       "      <td>THUMB_IP</td>\n",
       "      <td>3</td>\n",
       "      <td>0.327989</td>\n",
       "      <td>0.667767</td>\n",
       "      <td>-1.756207e-02</td>\n",
       "    </tr>\n",
       "    <tr>\n",
       "      <th>4</th>\n",
       "      <td>4</td>\n",
       "      <td>K01AF__07_5160-5640.mp4</td>\n",
       "      <td>0</td>\n",
       "      <td>THUMB_TIP</td>\n",
       "      <td>4</td>\n",
       "      <td>0.318817</td>\n",
       "      <td>0.674615</td>\n",
       "      <td>-2.307221e-02</td>\n",
       "    </tr>\n",
       "    <tr>\n",
       "      <th>...</th>\n",
       "      <td>...</td>\n",
       "      <td>...</td>\n",
       "      <td>...</td>\n",
       "      <td>...</td>\n",
       "      <td>...</td>\n",
       "      <td>...</td>\n",
       "      <td>...</td>\n",
       "      <td>...</td>\n",
       "    </tr>\n",
       "    <tr>\n",
       "      <th>541</th>\n",
       "      <td>541</td>\n",
       "      <td>K01AF__07_5160-5640.mp4</td>\n",
       "      <td>13</td>\n",
       "      <td>RING_FINGER_TIP</td>\n",
       "      <td>16</td>\n",
       "      <td>0.357459</td>\n",
       "      <td>0.619031</td>\n",
       "      <td>-5.232930e-03</td>\n",
       "    </tr>\n",
       "    <tr>\n",
       "      <th>542</th>\n",
       "      <td>542</td>\n",
       "      <td>K01AF__07_5160-5640.mp4</td>\n",
       "      <td>13</td>\n",
       "      <td>PINKY_MCP</td>\n",
       "      <td>17</td>\n",
       "      <td>0.345257</td>\n",
       "      <td>0.597709</td>\n",
       "      <td>-8.075288e-03</td>\n",
       "    </tr>\n",
       "    <tr>\n",
       "      <th>543</th>\n",
       "      <td>543</td>\n",
       "      <td>K01AF__07_5160-5640.mp4</td>\n",
       "      <td>13</td>\n",
       "      <td>PINKY_PIP</td>\n",
       "      <td>18</td>\n",
       "      <td>0.352363</td>\n",
       "      <td>0.591509</td>\n",
       "      <td>-7.070977e-03</td>\n",
       "    </tr>\n",
       "    <tr>\n",
       "      <th>544</th>\n",
       "      <td>544</td>\n",
       "      <td>K01AF__07_5160-5640.mp4</td>\n",
       "      <td>13</td>\n",
       "      <td>PINKY_DIP</td>\n",
       "      <td>19</td>\n",
       "      <td>0.360555</td>\n",
       "      <td>0.596232</td>\n",
       "      <td>-4.787682e-03</td>\n",
       "    </tr>\n",
       "    <tr>\n",
       "      <th>545</th>\n",
       "      <td>545</td>\n",
       "      <td>K01AF__07_5160-5640.mp4</td>\n",
       "      <td>13</td>\n",
       "      <td>PINKY_TIP</td>\n",
       "      <td>20</td>\n",
       "      <td>0.364804</td>\n",
       "      <td>0.602088</td>\n",
       "      <td>-2.941933e-03</td>\n",
       "    </tr>\n",
       "  </tbody>\n",
       "</table>\n",
       "<p>546 rows × 8 columns</p>\n",
       "</div>"
      ],
      "text/plain": [
       "     Unnamed: 0                        0   1                2   3         4  \\\n",
       "0             0  K01AF__07_5160-5640.mp4   0            WRIST   0  0.369566   \n",
       "1             1  K01AF__07_5160-5640.mp4   0        THUMB_CMC   1  0.354525   \n",
       "2             2  K01AF__07_5160-5640.mp4   0        THUMB_MCP   2  0.339410   \n",
       "3             3  K01AF__07_5160-5640.mp4   0         THUMB_IP   3  0.327989   \n",
       "4             4  K01AF__07_5160-5640.mp4   0        THUMB_TIP   4  0.318817   \n",
       "..          ...                      ...  ..              ...  ..       ...   \n",
       "541         541  K01AF__07_5160-5640.mp4  13  RING_FINGER_TIP  16  0.357459   \n",
       "542         542  K01AF__07_5160-5640.mp4  13        PINKY_MCP  17  0.345257   \n",
       "543         543  K01AF__07_5160-5640.mp4  13        PINKY_PIP  18  0.352363   \n",
       "544         544  K01AF__07_5160-5640.mp4  13        PINKY_DIP  19  0.360555   \n",
       "545         545  K01AF__07_5160-5640.mp4  13        PINKY_TIP  20  0.364804   \n",
       "\n",
       "            5             6  \n",
       "0    0.629169 -8.857410e-08  \n",
       "1    0.655282 -5.176830e-03  \n",
       "2    0.663720 -1.141255e-02  \n",
       "3    0.667767 -1.756207e-02  \n",
       "4    0.674615 -2.307221e-02  \n",
       "..        ...           ...  \n",
       "541  0.619031 -5.232930e-03  \n",
       "542  0.597709 -8.075288e-03  \n",
       "543  0.591509 -7.070977e-03  \n",
       "544  0.596232 -4.787682e-03  \n",
       "545  0.602088 -2.941933e-03  \n",
       "\n",
       "[546 rows x 8 columns]"
      ]
     },
     "execution_count": 60,
     "metadata": {},
     "output_type": "execute_result"
    }
   ],
   "source": [
    "df_hands = pd.read_csv(DATA_DIR / 'landmarks/K01AF__07_5160-5640_hands.csv')\n",
    "df_hands"
   ]
  },
  {
   "cell_type": "code",
   "execution_count": 61,
   "metadata": {},
   "outputs": [
    {
     "data": {
      "text/plain": [
       "Index(['Unnamed: 0', '0', '1', '2', '3', '4', '5', '6'], dtype='object')"
      ]
     },
     "execution_count": 61,
     "metadata": {},
     "output_type": "execute_result"
    }
   ],
   "source": [
    "df_hands.columns"
   ]
  },
  {
   "cell_type": "code",
   "execution_count": 62,
   "metadata": {},
   "outputs": [
    {
     "data": {
      "text/html": [
       "<div>\n",
       "<style scoped>\n",
       "    .dataframe tbody tr th:only-of-type {\n",
       "        vertical-align: middle;\n",
       "    }\n",
       "\n",
       "    .dataframe tbody tr th {\n",
       "        vertical-align: top;\n",
       "    }\n",
       "\n",
       "    .dataframe thead th {\n",
       "        text-align: right;\n",
       "    }\n",
       "</style>\n",
       "<table border=\"1\" class=\"dataframe\">\n",
       "  <thead>\n",
       "    <tr style=\"text-align: right;\">\n",
       "      <th></th>\n",
       "      <th>VideoName</th>\n",
       "      <th>FrameNumber</th>\n",
       "      <th>LandmarkName</th>\n",
       "      <th>LandmarkIdx</th>\n",
       "      <th>X</th>\n",
       "      <th>Y</th>\n",
       "      <th>Z</th>\n",
       "    </tr>\n",
       "  </thead>\n",
       "  <tbody>\n",
       "    <tr>\n",
       "      <th>0</th>\n",
       "      <td>K01AF__07_5160-5640.mp4</td>\n",
       "      <td>0</td>\n",
       "      <td>WRIST</td>\n",
       "      <td>0</td>\n",
       "      <td>0.369566</td>\n",
       "      <td>0.629169</td>\n",
       "      <td>-8.857410e-08</td>\n",
       "    </tr>\n",
       "    <tr>\n",
       "      <th>1</th>\n",
       "      <td>K01AF__07_5160-5640.mp4</td>\n",
       "      <td>0</td>\n",
       "      <td>THUMB_CMC</td>\n",
       "      <td>1</td>\n",
       "      <td>0.354525</td>\n",
       "      <td>0.655282</td>\n",
       "      <td>-5.176830e-03</td>\n",
       "    </tr>\n",
       "    <tr>\n",
       "      <th>2</th>\n",
       "      <td>K01AF__07_5160-5640.mp4</td>\n",
       "      <td>0</td>\n",
       "      <td>THUMB_MCP</td>\n",
       "      <td>2</td>\n",
       "      <td>0.339410</td>\n",
       "      <td>0.663720</td>\n",
       "      <td>-1.141255e-02</td>\n",
       "    </tr>\n",
       "    <tr>\n",
       "      <th>3</th>\n",
       "      <td>K01AF__07_5160-5640.mp4</td>\n",
       "      <td>0</td>\n",
       "      <td>THUMB_IP</td>\n",
       "      <td>3</td>\n",
       "      <td>0.327989</td>\n",
       "      <td>0.667767</td>\n",
       "      <td>-1.756207e-02</td>\n",
       "    </tr>\n",
       "    <tr>\n",
       "      <th>4</th>\n",
       "      <td>K01AF__07_5160-5640.mp4</td>\n",
       "      <td>0</td>\n",
       "      <td>THUMB_TIP</td>\n",
       "      <td>4</td>\n",
       "      <td>0.318817</td>\n",
       "      <td>0.674615</td>\n",
       "      <td>-2.307221e-02</td>\n",
       "    </tr>\n",
       "    <tr>\n",
       "      <th>...</th>\n",
       "      <td>...</td>\n",
       "      <td>...</td>\n",
       "      <td>...</td>\n",
       "      <td>...</td>\n",
       "      <td>...</td>\n",
       "      <td>...</td>\n",
       "      <td>...</td>\n",
       "    </tr>\n",
       "    <tr>\n",
       "      <th>541</th>\n",
       "      <td>K01AF__07_5160-5640.mp4</td>\n",
       "      <td>13</td>\n",
       "      <td>RING_FINGER_TIP</td>\n",
       "      <td>16</td>\n",
       "      <td>0.357459</td>\n",
       "      <td>0.619031</td>\n",
       "      <td>-5.232930e-03</td>\n",
       "    </tr>\n",
       "    <tr>\n",
       "      <th>542</th>\n",
       "      <td>K01AF__07_5160-5640.mp4</td>\n",
       "      <td>13</td>\n",
       "      <td>PINKY_MCP</td>\n",
       "      <td>17</td>\n",
       "      <td>0.345257</td>\n",
       "      <td>0.597709</td>\n",
       "      <td>-8.075288e-03</td>\n",
       "    </tr>\n",
       "    <tr>\n",
       "      <th>543</th>\n",
       "      <td>K01AF__07_5160-5640.mp4</td>\n",
       "      <td>13</td>\n",
       "      <td>PINKY_PIP</td>\n",
       "      <td>18</td>\n",
       "      <td>0.352363</td>\n",
       "      <td>0.591509</td>\n",
       "      <td>-7.070977e-03</td>\n",
       "    </tr>\n",
       "    <tr>\n",
       "      <th>544</th>\n",
       "      <td>K01AF__07_5160-5640.mp4</td>\n",
       "      <td>13</td>\n",
       "      <td>PINKY_DIP</td>\n",
       "      <td>19</td>\n",
       "      <td>0.360555</td>\n",
       "      <td>0.596232</td>\n",
       "      <td>-4.787682e-03</td>\n",
       "    </tr>\n",
       "    <tr>\n",
       "      <th>545</th>\n",
       "      <td>K01AF__07_5160-5640.mp4</td>\n",
       "      <td>13</td>\n",
       "      <td>PINKY_TIP</td>\n",
       "      <td>20</td>\n",
       "      <td>0.364804</td>\n",
       "      <td>0.602088</td>\n",
       "      <td>-2.941933e-03</td>\n",
       "    </tr>\n",
       "  </tbody>\n",
       "</table>\n",
       "<p>546 rows × 7 columns</p>\n",
       "</div>"
      ],
      "text/plain": [
       "                   VideoName  FrameNumber     LandmarkName  LandmarkIdx  \\\n",
       "0    K01AF__07_5160-5640.mp4            0            WRIST            0   \n",
       "1    K01AF__07_5160-5640.mp4            0        THUMB_CMC            1   \n",
       "2    K01AF__07_5160-5640.mp4            0        THUMB_MCP            2   \n",
       "3    K01AF__07_5160-5640.mp4            0         THUMB_IP            3   \n",
       "4    K01AF__07_5160-5640.mp4            0        THUMB_TIP            4   \n",
       "..                       ...          ...              ...          ...   \n",
       "541  K01AF__07_5160-5640.mp4           13  RING_FINGER_TIP           16   \n",
       "542  K01AF__07_5160-5640.mp4           13        PINKY_MCP           17   \n",
       "543  K01AF__07_5160-5640.mp4           13        PINKY_PIP           18   \n",
       "544  K01AF__07_5160-5640.mp4           13        PINKY_DIP           19   \n",
       "545  K01AF__07_5160-5640.mp4           13        PINKY_TIP           20   \n",
       "\n",
       "            X         Y             Z  \n",
       "0    0.369566  0.629169 -8.857410e-08  \n",
       "1    0.354525  0.655282 -5.176830e-03  \n",
       "2    0.339410  0.663720 -1.141255e-02  \n",
       "3    0.327989  0.667767 -1.756207e-02  \n",
       "4    0.318817  0.674615 -2.307221e-02  \n",
       "..        ...       ...           ...  \n",
       "541  0.357459  0.619031 -5.232930e-03  \n",
       "542  0.345257  0.597709 -8.075288e-03  \n",
       "543  0.352363  0.591509 -7.070977e-03  \n",
       "544  0.360555  0.596232 -4.787682e-03  \n",
       "545  0.364804  0.602088 -2.941933e-03  \n",
       "\n",
       "[546 rows x 7 columns]"
      ]
     },
     "execution_count": 62,
     "metadata": {},
     "output_type": "execute_result"
    }
   ],
   "source": [
    "df_hands = df_hands.drop(columns=['Unnamed: 0'])\n",
    "df_hands.rename(columns={'0': 'VideoName','1':'FrameNumber', '2': 'LandmarkName', '3': 'LandmarkIdx','4': 'X', '5': 'Y', '6': 'Z'}, inplace = True)\n",
    "df_hands"
   ]
  },
  {
   "cell_type": "code",
   "execution_count": 63,
   "metadata": {},
   "outputs": [
    {
     "data": {
      "text/plain": [
       "count    546.000000\n",
       "mean       0.279287\n",
       "std        0.045992\n",
       "min        0.191834\n",
       "25%        0.238835\n",
       "50%        0.284998\n",
       "75%        0.316053\n",
       "max        0.391233\n",
       "Name: X, dtype: float64"
      ]
     },
     "execution_count": 63,
     "metadata": {},
     "output_type": "execute_result"
    }
   ],
   "source": [
    "df_hands['X'].describe()"
   ]
  },
  {
   "cell_type": "code",
   "execution_count": 64,
   "metadata": {},
   "outputs": [
    {
     "data": {
      "text/plain": [
       "count    546.000000\n",
       "mean       0.707653\n",
       "std        0.057426\n",
       "min        0.553299\n",
       "25%        0.673574\n",
       "50%        0.710036\n",
       "75%        0.743554\n",
       "max        0.836124\n",
       "Name: Y, dtype: float64"
      ]
     },
     "execution_count": 64,
     "metadata": {},
     "output_type": "execute_result"
    }
   ],
   "source": [
    "df_hands['Y'].describe()"
   ]
  },
  {
   "cell_type": "code",
   "execution_count": 65,
   "metadata": {},
   "outputs": [
    {
     "data": {
      "text/plain": [
       "count    546.000000\n",
       "mean      -0.010185\n",
       "std        0.010348\n",
       "min       -0.041812\n",
       "25%       -0.016401\n",
       "50%       -0.011621\n",
       "75%       -0.002758\n",
       "max        0.014492\n",
       "Name: Z, dtype: float64"
      ]
     },
     "execution_count": 65,
     "metadata": {},
     "output_type": "execute_result"
    }
   ],
   "source": [
    "df_hands['Z'].describe()"
   ]
  },
  {
   "cell_type": "code",
   "execution_count": 66,
   "metadata": {},
   "outputs": [
    {
     "name": "stdout",
     "output_type": "stream",
     "text": [
      "42\n",
      "21\n",
      "42\n",
      "42\n",
      "42\n",
      "42\n",
      "42\n",
      "42\n",
      "42\n",
      "42\n",
      "42\n",
      "42\n",
      "21\n",
      "42\n"
     ]
    }
   ],
   "source": [
    "for i in range(14):\n",
    "    print(len(df_hands[df_hands['FrameNumber']==i]))"
   ]
  },
  {
   "cell_type": "code",
   "execution_count": 67,
   "metadata": {},
   "outputs": [
    {
     "data": {
      "text/html": [
       "<div>\n",
       "<style scoped>\n",
       "    .dataframe tbody tr th:only-of-type {\n",
       "        vertical-align: middle;\n",
       "    }\n",
       "\n",
       "    .dataframe tbody tr th {\n",
       "        vertical-align: top;\n",
       "    }\n",
       "\n",
       "    .dataframe thead th {\n",
       "        text-align: right;\n",
       "    }\n",
       "</style>\n",
       "<table border=\"1\" class=\"dataframe\">\n",
       "  <thead>\n",
       "    <tr style=\"text-align: right;\">\n",
       "      <th></th>\n",
       "      <th>VideoName</th>\n",
       "      <th>FrameNumber</th>\n",
       "      <th>LandmarkName</th>\n",
       "      <th>LandmarkIdx</th>\n",
       "      <th>X</th>\n",
       "      <th>Y</th>\n",
       "      <th>Z</th>\n",
       "    </tr>\n",
       "  </thead>\n",
       "  <tbody>\n",
       "    <tr>\n",
       "      <th>105</th>\n",
       "      <td>K01AF__07_5160-5640.mp4</td>\n",
       "      <td>3</td>\n",
       "      <td>WRIST</td>\n",
       "      <td>0</td>\n",
       "      <td>0.347042</td>\n",
       "      <td>0.739510</td>\n",
       "      <td>-3.045487e-08</td>\n",
       "    </tr>\n",
       "    <tr>\n",
       "      <th>106</th>\n",
       "      <td>K01AF__07_5160-5640.mp4</td>\n",
       "      <td>3</td>\n",
       "      <td>THUMB_CMC</td>\n",
       "      <td>1</td>\n",
       "      <td>0.335575</td>\n",
       "      <td>0.711136</td>\n",
       "      <td>3.958952e-03</td>\n",
       "    </tr>\n",
       "    <tr>\n",
       "      <th>107</th>\n",
       "      <td>K01AF__07_5160-5640.mp4</td>\n",
       "      <td>3</td>\n",
       "      <td>THUMB_MCP</td>\n",
       "      <td>2</td>\n",
       "      <td>0.318515</td>\n",
       "      <td>0.692086</td>\n",
       "      <td>4.192437e-03</td>\n",
       "    </tr>\n",
       "    <tr>\n",
       "      <th>108</th>\n",
       "      <td>K01AF__07_5160-5640.mp4</td>\n",
       "      <td>3</td>\n",
       "      <td>THUMB_IP</td>\n",
       "      <td>3</td>\n",
       "      <td>0.303332</td>\n",
       "      <td>0.686397</td>\n",
       "      <td>2.988803e-03</td>\n",
       "    </tr>\n",
       "    <tr>\n",
       "      <th>109</th>\n",
       "      <td>K01AF__07_5160-5640.mp4</td>\n",
       "      <td>3</td>\n",
       "      <td>THUMB_TIP</td>\n",
       "      <td>4</td>\n",
       "      <td>0.291719</td>\n",
       "      <td>0.687870</td>\n",
       "      <td>1.432392e-03</td>\n",
       "    </tr>\n",
       "    <tr>\n",
       "      <th>110</th>\n",
       "      <td>K01AF__07_5160-5640.mp4</td>\n",
       "      <td>3</td>\n",
       "      <td>INDEX_FINGER_MCP</td>\n",
       "      <td>5</td>\n",
       "      <td>0.313769</td>\n",
       "      <td>0.685247</td>\n",
       "      <td>9.394222e-04</td>\n",
       "    </tr>\n",
       "    <tr>\n",
       "      <th>111</th>\n",
       "      <td>K01AF__07_5160-5640.mp4</td>\n",
       "      <td>3</td>\n",
       "      <td>INDEX_FINGER_PIP</td>\n",
       "      <td>6</td>\n",
       "      <td>0.294718</td>\n",
       "      <td>0.673105</td>\n",
       "      <td>-4.217125e-03</td>\n",
       "    </tr>\n",
       "    <tr>\n",
       "      <th>112</th>\n",
       "      <td>K01AF__07_5160-5640.mp4</td>\n",
       "      <td>3</td>\n",
       "      <td>INDEX_FINGER_DIP</td>\n",
       "      <td>7</td>\n",
       "      <td>0.283977</td>\n",
       "      <td>0.681034</td>\n",
       "      <td>-8.299062e-03</td>\n",
       "    </tr>\n",
       "    <tr>\n",
       "      <th>113</th>\n",
       "      <td>K01AF__07_5160-5640.mp4</td>\n",
       "      <td>3</td>\n",
       "      <td>INDEX_FINGER_TIP</td>\n",
       "      <td>8</td>\n",
       "      <td>0.279741</td>\n",
       "      <td>0.693015</td>\n",
       "      <td>-1.007485e-02</td>\n",
       "    </tr>\n",
       "    <tr>\n",
       "      <th>114</th>\n",
       "      <td>K01AF__07_5160-5640.mp4</td>\n",
       "      <td>3</td>\n",
       "      <td>MIDDLE_FINGER_MCP</td>\n",
       "      <td>9</td>\n",
       "      <td>0.312070</td>\n",
       "      <td>0.700183</td>\n",
       "      <td>-3.037268e-03</td>\n",
       "    </tr>\n",
       "    <tr>\n",
       "      <th>115</th>\n",
       "      <td>K01AF__07_5160-5640.mp4</td>\n",
       "      <td>3</td>\n",
       "      <td>MIDDLE_FINGER_PIP</td>\n",
       "      <td>10</td>\n",
       "      <td>0.292100</td>\n",
       "      <td>0.690039</td>\n",
       "      <td>-5.825247e-03</td>\n",
       "    </tr>\n",
       "    <tr>\n",
       "      <th>116</th>\n",
       "      <td>K01AF__07_5160-5640.mp4</td>\n",
       "      <td>3</td>\n",
       "      <td>MIDDLE_FINGER_DIP</td>\n",
       "      <td>11</td>\n",
       "      <td>0.281895</td>\n",
       "      <td>0.695247</td>\n",
       "      <td>-7.375068e-03</td>\n",
       "    </tr>\n",
       "    <tr>\n",
       "      <th>117</th>\n",
       "      <td>K01AF__07_5160-5640.mp4</td>\n",
       "      <td>3</td>\n",
       "      <td>MIDDLE_FINGER_TIP</td>\n",
       "      <td>12</td>\n",
       "      <td>0.277801</td>\n",
       "      <td>0.704213</td>\n",
       "      <td>-8.492597e-03</td>\n",
       "    </tr>\n",
       "    <tr>\n",
       "      <th>118</th>\n",
       "      <td>K01AF__07_5160-5640.mp4</td>\n",
       "      <td>3</td>\n",
       "      <td>RING_FINGER_MCP</td>\n",
       "      <td>13</td>\n",
       "      <td>0.311314</td>\n",
       "      <td>0.719409</td>\n",
       "      <td>-7.042062e-03</td>\n",
       "    </tr>\n",
       "    <tr>\n",
       "      <th>119</th>\n",
       "      <td>K01AF__07_5160-5640.mp4</td>\n",
       "      <td>3</td>\n",
       "      <td>RING_FINGER_PIP</td>\n",
       "      <td>14</td>\n",
       "      <td>0.292086</td>\n",
       "      <td>0.709904</td>\n",
       "      <td>-8.582024e-03</td>\n",
       "    </tr>\n",
       "    <tr>\n",
       "      <th>120</th>\n",
       "      <td>K01AF__07_5160-5640.mp4</td>\n",
       "      <td>3</td>\n",
       "      <td>RING_FINGER_DIP</td>\n",
       "      <td>15</td>\n",
       "      <td>0.282363</td>\n",
       "      <td>0.712026</td>\n",
       "      <td>-8.403525e-03</td>\n",
       "    </tr>\n",
       "    <tr>\n",
       "      <th>121</th>\n",
       "      <td>K01AF__07_5160-5640.mp4</td>\n",
       "      <td>3</td>\n",
       "      <td>RING_FINGER_TIP</td>\n",
       "      <td>16</td>\n",
       "      <td>0.278206</td>\n",
       "      <td>0.717387</td>\n",
       "      <td>-8.451167e-03</td>\n",
       "    </tr>\n",
       "    <tr>\n",
       "      <th>122</th>\n",
       "      <td>K01AF__07_5160-5640.mp4</td>\n",
       "      <td>3</td>\n",
       "      <td>PINKY_MCP</td>\n",
       "      <td>17</td>\n",
       "      <td>0.311434</td>\n",
       "      <td>0.741129</td>\n",
       "      <td>-1.076340e-02</td>\n",
       "    </tr>\n",
       "    <tr>\n",
       "      <th>123</th>\n",
       "      <td>K01AF__07_5160-5640.mp4</td>\n",
       "      <td>3</td>\n",
       "      <td>PINKY_PIP</td>\n",
       "      <td>18</td>\n",
       "      <td>0.296030</td>\n",
       "      <td>0.730415</td>\n",
       "      <td>-1.175450e-02</td>\n",
       "    </tr>\n",
       "    <tr>\n",
       "      <th>124</th>\n",
       "      <td>K01AF__07_5160-5640.mp4</td>\n",
       "      <td>3</td>\n",
       "      <td>PINKY_DIP</td>\n",
       "      <td>19</td>\n",
       "      <td>0.286254</td>\n",
       "      <td>0.727337</td>\n",
       "      <td>-1.118826e-02</td>\n",
       "    </tr>\n",
       "    <tr>\n",
       "      <th>125</th>\n",
       "      <td>K01AF__07_5160-5640.mp4</td>\n",
       "      <td>3</td>\n",
       "      <td>PINKY_TIP</td>\n",
       "      <td>20</td>\n",
       "      <td>0.280133</td>\n",
       "      <td>0.728476</td>\n",
       "      <td>-1.066648e-02</td>\n",
       "    </tr>\n",
       "    <tr>\n",
       "      <th>126</th>\n",
       "      <td>K01AF__07_5160-5640.mp4</td>\n",
       "      <td>3</td>\n",
       "      <td>WRIST</td>\n",
       "      <td>0</td>\n",
       "      <td>0.242676</td>\n",
       "      <td>0.662962</td>\n",
       "      <td>-7.336924e-08</td>\n",
       "    </tr>\n",
       "    <tr>\n",
       "      <th>127</th>\n",
       "      <td>K01AF__07_5160-5640.mp4</td>\n",
       "      <td>3</td>\n",
       "      <td>THUMB_CMC</td>\n",
       "      <td>1</td>\n",
       "      <td>0.246322</td>\n",
       "      <td>0.686908</td>\n",
       "      <td>-1.209766e-02</td>\n",
       "    </tr>\n",
       "    <tr>\n",
       "      <th>128</th>\n",
       "      <td>K01AF__07_5160-5640.mp4</td>\n",
       "      <td>3</td>\n",
       "      <td>THUMB_MCP</td>\n",
       "      <td>2</td>\n",
       "      <td>0.243457</td>\n",
       "      <td>0.710332</td>\n",
       "      <td>-1.998542e-02</td>\n",
       "    </tr>\n",
       "    <tr>\n",
       "      <th>129</th>\n",
       "      <td>K01AF__07_5160-5640.mp4</td>\n",
       "      <td>3</td>\n",
       "      <td>THUMB_IP</td>\n",
       "      <td>3</td>\n",
       "      <td>0.235992</td>\n",
       "      <td>0.731400</td>\n",
       "      <td>-2.529546e-02</td>\n",
       "    </tr>\n",
       "    <tr>\n",
       "      <th>130</th>\n",
       "      <td>K01AF__07_5160-5640.mp4</td>\n",
       "      <td>3</td>\n",
       "      <td>THUMB_TIP</td>\n",
       "      <td>4</td>\n",
       "      <td>0.227339</td>\n",
       "      <td>0.743590</td>\n",
       "      <td>-2.980923e-02</td>\n",
       "    </tr>\n",
       "    <tr>\n",
       "      <th>131</th>\n",
       "      <td>K01AF__07_5160-5640.mp4</td>\n",
       "      <td>3</td>\n",
       "      <td>INDEX_FINGER_MCP</td>\n",
       "      <td>5</td>\n",
       "      <td>0.224835</td>\n",
       "      <td>0.664752</td>\n",
       "      <td>-2.085532e-02</td>\n",
       "    </tr>\n",
       "    <tr>\n",
       "      <th>132</th>\n",
       "      <td>K01AF__07_5160-5640.mp4</td>\n",
       "      <td>3</td>\n",
       "      <td>INDEX_FINGER_PIP</td>\n",
       "      <td>6</td>\n",
       "      <td>0.214141</td>\n",
       "      <td>0.680829</td>\n",
       "      <td>-2.867867e-02</td>\n",
       "    </tr>\n",
       "    <tr>\n",
       "      <th>133</th>\n",
       "      <td>K01AF__07_5160-5640.mp4</td>\n",
       "      <td>3</td>\n",
       "      <td>INDEX_FINGER_DIP</td>\n",
       "      <td>7</td>\n",
       "      <td>0.209471</td>\n",
       "      <td>0.696274</td>\n",
       "      <td>-3.329204e-02</td>\n",
       "    </tr>\n",
       "    <tr>\n",
       "      <th>134</th>\n",
       "      <td>K01AF__07_5160-5640.mp4</td>\n",
       "      <td>3</td>\n",
       "      <td>INDEX_FINGER_TIP</td>\n",
       "      <td>8</td>\n",
       "      <td>0.208560</td>\n",
       "      <td>0.708605</td>\n",
       "      <td>-3.591143e-02</td>\n",
       "    </tr>\n",
       "    <tr>\n",
       "      <th>135</th>\n",
       "      <td>K01AF__07_5160-5640.mp4</td>\n",
       "      <td>3</td>\n",
       "      <td>MIDDLE_FINGER_MCP</td>\n",
       "      <td>9</td>\n",
       "      <td>0.216253</td>\n",
       "      <td>0.660367</td>\n",
       "      <td>-1.683773e-02</td>\n",
       "    </tr>\n",
       "    <tr>\n",
       "      <th>136</th>\n",
       "      <td>K01AF__07_5160-5640.mp4</td>\n",
       "      <td>3</td>\n",
       "      <td>MIDDLE_FINGER_PIP</td>\n",
       "      <td>10</td>\n",
       "      <td>0.205891</td>\n",
       "      <td>0.684523</td>\n",
       "      <td>-2.224410e-02</td>\n",
       "    </tr>\n",
       "    <tr>\n",
       "      <th>137</th>\n",
       "      <td>K01AF__07_5160-5640.mp4</td>\n",
       "      <td>3</td>\n",
       "      <td>MIDDLE_FINGER_DIP</td>\n",
       "      <td>11</td>\n",
       "      <td>0.203328</td>\n",
       "      <td>0.702104</td>\n",
       "      <td>-2.351907e-02</td>\n",
       "    </tr>\n",
       "    <tr>\n",
       "      <th>138</th>\n",
       "      <td>K01AF__07_5160-5640.mp4</td>\n",
       "      <td>3</td>\n",
       "      <td>MIDDLE_FINGER_TIP</td>\n",
       "      <td>12</td>\n",
       "      <td>0.203905</td>\n",
       "      <td>0.712822</td>\n",
       "      <td>-2.462957e-02</td>\n",
       "    </tr>\n",
       "    <tr>\n",
       "      <th>139</th>\n",
       "      <td>K01AF__07_5160-5640.mp4</td>\n",
       "      <td>3</td>\n",
       "      <td>RING_FINGER_MCP</td>\n",
       "      <td>13</td>\n",
       "      <td>0.211575</td>\n",
       "      <td>0.661714</td>\n",
       "      <td>-1.330109e-02</td>\n",
       "    </tr>\n",
       "    <tr>\n",
       "      <th>140</th>\n",
       "      <td>K01AF__07_5160-5640.mp4</td>\n",
       "      <td>3</td>\n",
       "      <td>RING_FINGER_PIP</td>\n",
       "      <td>14</td>\n",
       "      <td>0.201673</td>\n",
       "      <td>0.685680</td>\n",
       "      <td>-1.794343e-02</td>\n",
       "    </tr>\n",
       "    <tr>\n",
       "      <th>141</th>\n",
       "      <td>K01AF__07_5160-5640.mp4</td>\n",
       "      <td>3</td>\n",
       "      <td>RING_FINGER_DIP</td>\n",
       "      <td>15</td>\n",
       "      <td>0.201049</td>\n",
       "      <td>0.702645</td>\n",
       "      <td>-1.838300e-02</td>\n",
       "    </tr>\n",
       "    <tr>\n",
       "      <th>142</th>\n",
       "      <td>K01AF__07_5160-5640.mp4</td>\n",
       "      <td>3</td>\n",
       "      <td>RING_FINGER_TIP</td>\n",
       "      <td>16</td>\n",
       "      <td>0.202434</td>\n",
       "      <td>0.714605</td>\n",
       "      <td>-1.882182e-02</td>\n",
       "    </tr>\n",
       "    <tr>\n",
       "      <th>143</th>\n",
       "      <td>K01AF__07_5160-5640.mp4</td>\n",
       "      <td>3</td>\n",
       "      <td>PINKY_MCP</td>\n",
       "      <td>17</td>\n",
       "      <td>0.210354</td>\n",
       "      <td>0.667213</td>\n",
       "      <td>-1.057516e-02</td>\n",
       "    </tr>\n",
       "    <tr>\n",
       "      <th>144</th>\n",
       "      <td>K01AF__07_5160-5640.mp4</td>\n",
       "      <td>3</td>\n",
       "      <td>PINKY_PIP</td>\n",
       "      <td>18</td>\n",
       "      <td>0.204362</td>\n",
       "      <td>0.686081</td>\n",
       "      <td>-1.597210e-02</td>\n",
       "    </tr>\n",
       "    <tr>\n",
       "      <th>145</th>\n",
       "      <td>K01AF__07_5160-5640.mp4</td>\n",
       "      <td>3</td>\n",
       "      <td>PINKY_DIP</td>\n",
       "      <td>19</td>\n",
       "      <td>0.204630</td>\n",
       "      <td>0.701358</td>\n",
       "      <td>-1.738447e-02</td>\n",
       "    </tr>\n",
       "    <tr>\n",
       "      <th>146</th>\n",
       "      <td>K01AF__07_5160-5640.mp4</td>\n",
       "      <td>3</td>\n",
       "      <td>PINKY_TIP</td>\n",
       "      <td>20</td>\n",
       "      <td>0.206607</td>\n",
       "      <td>0.713254</td>\n",
       "      <td>-1.756049e-02</td>\n",
       "    </tr>\n",
       "  </tbody>\n",
       "</table>\n",
       "</div>"
      ],
      "text/plain": [
       "                   VideoName  FrameNumber       LandmarkName  LandmarkIdx  \\\n",
       "105  K01AF__07_5160-5640.mp4            3              WRIST            0   \n",
       "106  K01AF__07_5160-5640.mp4            3          THUMB_CMC            1   \n",
       "107  K01AF__07_5160-5640.mp4            3          THUMB_MCP            2   \n",
       "108  K01AF__07_5160-5640.mp4            3           THUMB_IP            3   \n",
       "109  K01AF__07_5160-5640.mp4            3          THUMB_TIP            4   \n",
       "110  K01AF__07_5160-5640.mp4            3   INDEX_FINGER_MCP            5   \n",
       "111  K01AF__07_5160-5640.mp4            3   INDEX_FINGER_PIP            6   \n",
       "112  K01AF__07_5160-5640.mp4            3   INDEX_FINGER_DIP            7   \n",
       "113  K01AF__07_5160-5640.mp4            3   INDEX_FINGER_TIP            8   \n",
       "114  K01AF__07_5160-5640.mp4            3  MIDDLE_FINGER_MCP            9   \n",
       "115  K01AF__07_5160-5640.mp4            3  MIDDLE_FINGER_PIP           10   \n",
       "116  K01AF__07_5160-5640.mp4            3  MIDDLE_FINGER_DIP           11   \n",
       "117  K01AF__07_5160-5640.mp4            3  MIDDLE_FINGER_TIP           12   \n",
       "118  K01AF__07_5160-5640.mp4            3    RING_FINGER_MCP           13   \n",
       "119  K01AF__07_5160-5640.mp4            3    RING_FINGER_PIP           14   \n",
       "120  K01AF__07_5160-5640.mp4            3    RING_FINGER_DIP           15   \n",
       "121  K01AF__07_5160-5640.mp4            3    RING_FINGER_TIP           16   \n",
       "122  K01AF__07_5160-5640.mp4            3          PINKY_MCP           17   \n",
       "123  K01AF__07_5160-5640.mp4            3          PINKY_PIP           18   \n",
       "124  K01AF__07_5160-5640.mp4            3          PINKY_DIP           19   \n",
       "125  K01AF__07_5160-5640.mp4            3          PINKY_TIP           20   \n",
       "126  K01AF__07_5160-5640.mp4            3              WRIST            0   \n",
       "127  K01AF__07_5160-5640.mp4            3          THUMB_CMC            1   \n",
       "128  K01AF__07_5160-5640.mp4            3          THUMB_MCP            2   \n",
       "129  K01AF__07_5160-5640.mp4            3           THUMB_IP            3   \n",
       "130  K01AF__07_5160-5640.mp4            3          THUMB_TIP            4   \n",
       "131  K01AF__07_5160-5640.mp4            3   INDEX_FINGER_MCP            5   \n",
       "132  K01AF__07_5160-5640.mp4            3   INDEX_FINGER_PIP            6   \n",
       "133  K01AF__07_5160-5640.mp4            3   INDEX_FINGER_DIP            7   \n",
       "134  K01AF__07_5160-5640.mp4            3   INDEX_FINGER_TIP            8   \n",
       "135  K01AF__07_5160-5640.mp4            3  MIDDLE_FINGER_MCP            9   \n",
       "136  K01AF__07_5160-5640.mp4            3  MIDDLE_FINGER_PIP           10   \n",
       "137  K01AF__07_5160-5640.mp4            3  MIDDLE_FINGER_DIP           11   \n",
       "138  K01AF__07_5160-5640.mp4            3  MIDDLE_FINGER_TIP           12   \n",
       "139  K01AF__07_5160-5640.mp4            3    RING_FINGER_MCP           13   \n",
       "140  K01AF__07_5160-5640.mp4            3    RING_FINGER_PIP           14   \n",
       "141  K01AF__07_5160-5640.mp4            3    RING_FINGER_DIP           15   \n",
       "142  K01AF__07_5160-5640.mp4            3    RING_FINGER_TIP           16   \n",
       "143  K01AF__07_5160-5640.mp4            3          PINKY_MCP           17   \n",
       "144  K01AF__07_5160-5640.mp4            3          PINKY_PIP           18   \n",
       "145  K01AF__07_5160-5640.mp4            3          PINKY_DIP           19   \n",
       "146  K01AF__07_5160-5640.mp4            3          PINKY_TIP           20   \n",
       "\n",
       "            X         Y             Z  \n",
       "105  0.347042  0.739510 -3.045487e-08  \n",
       "106  0.335575  0.711136  3.958952e-03  \n",
       "107  0.318515  0.692086  4.192437e-03  \n",
       "108  0.303332  0.686397  2.988803e-03  \n",
       "109  0.291719  0.687870  1.432392e-03  \n",
       "110  0.313769  0.685247  9.394222e-04  \n",
       "111  0.294718  0.673105 -4.217125e-03  \n",
       "112  0.283977  0.681034 -8.299062e-03  \n",
       "113  0.279741  0.693015 -1.007485e-02  \n",
       "114  0.312070  0.700183 -3.037268e-03  \n",
       "115  0.292100  0.690039 -5.825247e-03  \n",
       "116  0.281895  0.695247 -7.375068e-03  \n",
       "117  0.277801  0.704213 -8.492597e-03  \n",
       "118  0.311314  0.719409 -7.042062e-03  \n",
       "119  0.292086  0.709904 -8.582024e-03  \n",
       "120  0.282363  0.712026 -8.403525e-03  \n",
       "121  0.278206  0.717387 -8.451167e-03  \n",
       "122  0.311434  0.741129 -1.076340e-02  \n",
       "123  0.296030  0.730415 -1.175450e-02  \n",
       "124  0.286254  0.727337 -1.118826e-02  \n",
       "125  0.280133  0.728476 -1.066648e-02  \n",
       "126  0.242676  0.662962 -7.336924e-08  \n",
       "127  0.246322  0.686908 -1.209766e-02  \n",
       "128  0.243457  0.710332 -1.998542e-02  \n",
       "129  0.235992  0.731400 -2.529546e-02  \n",
       "130  0.227339  0.743590 -2.980923e-02  \n",
       "131  0.224835  0.664752 -2.085532e-02  \n",
       "132  0.214141  0.680829 -2.867867e-02  \n",
       "133  0.209471  0.696274 -3.329204e-02  \n",
       "134  0.208560  0.708605 -3.591143e-02  \n",
       "135  0.216253  0.660367 -1.683773e-02  \n",
       "136  0.205891  0.684523 -2.224410e-02  \n",
       "137  0.203328  0.702104 -2.351907e-02  \n",
       "138  0.203905  0.712822 -2.462957e-02  \n",
       "139  0.211575  0.661714 -1.330109e-02  \n",
       "140  0.201673  0.685680 -1.794343e-02  \n",
       "141  0.201049  0.702645 -1.838300e-02  \n",
       "142  0.202434  0.714605 -1.882182e-02  \n",
       "143  0.210354  0.667213 -1.057516e-02  \n",
       "144  0.204362  0.686081 -1.597210e-02  \n",
       "145  0.204630  0.701358 -1.738447e-02  \n",
       "146  0.206607  0.713254 -1.756049e-02  "
      ]
     },
     "execution_count": 67,
     "metadata": {},
     "output_type": "execute_result"
    }
   ],
   "source": [
    "df_hands[df_hands['FrameNumber']==3]"
   ]
  },
  {
   "cell_type": "code",
   "execution_count": 70,
   "metadata": {},
   "outputs": [
    {
     "data": {
      "application/vnd.plotly.v1+json": {
       "config": {
        "plotlyServerURL": "https://plot.ly"
       },
       "data": [
        {
         "hovertemplate": "X=%{x}<br>Y=%{y}<br>Z=%{z}<extra></extra>",
         "legendgroup": "",
         "marker": {
          "color": "#636efa",
          "symbol": "circle"
         },
         "mode": "markers",
         "name": "",
         "scene": "scene",
         "showlegend": false,
         "type": "scatter3d",
         "x": [
          0.3470418453216553,
          0.3355751037597656,
          0.3185146152973175,
          0.3033323585987091,
          0.2917186021804809,
          0.3137688636779785,
          0.2947181463241577,
          0.2839772701263428,
          0.2797413766384125,
          0.3120701014995575,
          0.2921004295349121,
          0.2818949222564697,
          0.2778007388114929,
          0.3113138675689697,
          0.292085587978363,
          0.2823629379272461,
          0.2782061696052551,
          0.3114337921142578,
          0.2960299849510193,
          0.2862536907196045,
          0.2801328003406524,
          0.2426759153604507,
          0.2463217377662658,
          0.2434572130441665,
          0.2359916716814041,
          0.2273387610912323,
          0.2248346805572509,
          0.2141412198543548,
          0.2094711363315582,
          0.2085599303245544,
          0.2162529975175857,
          0.2058914899826049,
          0.2033279836177826,
          0.2039045840501785,
          0.2115747928619384,
          0.2016730904579162,
          0.2010487169027328,
          0.2024343609809875,
          0.2103536576032638,
          0.2043616473674774,
          0.2046297639608383,
          0.2066072076559066
         ],
         "y": [
          0.7395095825195312,
          0.7111363410949707,
          0.6920861601829529,
          0.6863970160484314,
          0.6878702640533447,
          0.6852473616600037,
          0.6731045842170715,
          0.6810336709022522,
          0.6930147409439087,
          0.7001828551292419,
          0.6900393962860107,
          0.695247232913971,
          0.7042132616043091,
          0.7194094061851501,
          0.7099040150642395,
          0.7120262384414673,
          0.7173869609832764,
          0.7411292195320129,
          0.7304147481918335,
          0.7273370027542114,
          0.7284758687019348,
          0.6629618406295776,
          0.686907947063446,
          0.7103315591812134,
          0.7314004302024841,
          0.7435899376869202,
          0.6647517085075378,
          0.6808290481567383,
          0.6962737441062927,
          0.7086045742034912,
          0.6603668928146362,
          0.6845226883888245,
          0.7021044492721558,
          0.7128224968910217,
          0.6617139577865601,
          0.6856800317764282,
          0.7026447057723999,
          0.7146046161651611,
          0.667212724685669,
          0.6860806941986084,
          0.7013584971427917,
          0.7132539749145508
         ],
         "z": [
          -3.045487062536267e-8,
          0.0039589516818523,
          0.0041924370452761,
          0.0029888032004237,
          0.0014323923969641,
          0.0009394221706315,
          -0.0042171254754066,
          -0.0082990620285272,
          -0.0100748473778367,
          -0.0030372675973922,
          -0.0058252466842532,
          -0.0073750684969127,
          -0.0084925973787903,
          -0.0070420615375041,
          -0.0085820239037275,
          -0.0084035247564315,
          -0.0084511674940586,
          -0.0107634048908948,
          -0.011754504404962,
          -0.0111882556229829,
          -0.0106664802879095,
          -7.33692431253985e-8,
          -0.0120976632460951,
          -0.0199854224920272,
          -0.0252954587340354,
          -0.0298092309385538,
          -0.0208553187549114,
          -0.0286786723881959,
          -0.0332920402288436,
          -0.0359114296734333,
          -0.0168377254158258,
          -0.0222440958023071,
          -0.0235190670937299,
          -0.0246295668184757,
          -0.0133010856807231,
          -0.0179434269666671,
          -0.0183830000460147,
          -0.0188218187540769,
          -0.0105751566588878,
          -0.0159720983356237,
          -0.0173844695091247,
          -0.0175604932010173
         ]
        }
       ],
       "layout": {
        "legend": {
         "tracegroupgap": 0
        },
        "margin": {
         "t": 60
        },
        "scene": {
         "domain": {
          "x": [
           0,
           1
          ],
          "y": [
           0,
           1
          ]
         },
         "xaxis": {
          "title": {
           "text": "X"
          }
         },
         "yaxis": {
          "title": {
           "text": "Y"
          }
         },
         "zaxis": {
          "title": {
           "text": "Z"
          }
         }
        },
        "template": {
         "data": {
          "bar": [
           {
            "error_x": {
             "color": "#2a3f5f"
            },
            "error_y": {
             "color": "#2a3f5f"
            },
            "marker": {
             "line": {
              "color": "#E5ECF6",
              "width": 0.5
             },
             "pattern": {
              "fillmode": "overlay",
              "size": 10,
              "solidity": 0.2
             }
            },
            "type": "bar"
           }
          ],
          "barpolar": [
           {
            "marker": {
             "line": {
              "color": "#E5ECF6",
              "width": 0.5
             },
             "pattern": {
              "fillmode": "overlay",
              "size": 10,
              "solidity": 0.2
             }
            },
            "type": "barpolar"
           }
          ],
          "carpet": [
           {
            "aaxis": {
             "endlinecolor": "#2a3f5f",
             "gridcolor": "white",
             "linecolor": "white",
             "minorgridcolor": "white",
             "startlinecolor": "#2a3f5f"
            },
            "baxis": {
             "endlinecolor": "#2a3f5f",
             "gridcolor": "white",
             "linecolor": "white",
             "minorgridcolor": "white",
             "startlinecolor": "#2a3f5f"
            },
            "type": "carpet"
           }
          ],
          "choropleth": [
           {
            "colorbar": {
             "outlinewidth": 0,
             "ticks": ""
            },
            "type": "choropleth"
           }
          ],
          "contour": [
           {
            "colorbar": {
             "outlinewidth": 0,
             "ticks": ""
            },
            "colorscale": [
             [
              0,
              "#0d0887"
             ],
             [
              0.1111111111111111,
              "#46039f"
             ],
             [
              0.2222222222222222,
              "#7201a8"
             ],
             [
              0.3333333333333333,
              "#9c179e"
             ],
             [
              0.4444444444444444,
              "#bd3786"
             ],
             [
              0.5555555555555556,
              "#d8576b"
             ],
             [
              0.6666666666666666,
              "#ed7953"
             ],
             [
              0.7777777777777778,
              "#fb9f3a"
             ],
             [
              0.8888888888888888,
              "#fdca26"
             ],
             [
              1,
              "#f0f921"
             ]
            ],
            "type": "contour"
           }
          ],
          "contourcarpet": [
           {
            "colorbar": {
             "outlinewidth": 0,
             "ticks": ""
            },
            "type": "contourcarpet"
           }
          ],
          "heatmap": [
           {
            "colorbar": {
             "outlinewidth": 0,
             "ticks": ""
            },
            "colorscale": [
             [
              0,
              "#0d0887"
             ],
             [
              0.1111111111111111,
              "#46039f"
             ],
             [
              0.2222222222222222,
              "#7201a8"
             ],
             [
              0.3333333333333333,
              "#9c179e"
             ],
             [
              0.4444444444444444,
              "#bd3786"
             ],
             [
              0.5555555555555556,
              "#d8576b"
             ],
             [
              0.6666666666666666,
              "#ed7953"
             ],
             [
              0.7777777777777778,
              "#fb9f3a"
             ],
             [
              0.8888888888888888,
              "#fdca26"
             ],
             [
              1,
              "#f0f921"
             ]
            ],
            "type": "heatmap"
           }
          ],
          "heatmapgl": [
           {
            "colorbar": {
             "outlinewidth": 0,
             "ticks": ""
            },
            "colorscale": [
             [
              0,
              "#0d0887"
             ],
             [
              0.1111111111111111,
              "#46039f"
             ],
             [
              0.2222222222222222,
              "#7201a8"
             ],
             [
              0.3333333333333333,
              "#9c179e"
             ],
             [
              0.4444444444444444,
              "#bd3786"
             ],
             [
              0.5555555555555556,
              "#d8576b"
             ],
             [
              0.6666666666666666,
              "#ed7953"
             ],
             [
              0.7777777777777778,
              "#fb9f3a"
             ],
             [
              0.8888888888888888,
              "#fdca26"
             ],
             [
              1,
              "#f0f921"
             ]
            ],
            "type": "heatmapgl"
           }
          ],
          "histogram": [
           {
            "marker": {
             "pattern": {
              "fillmode": "overlay",
              "size": 10,
              "solidity": 0.2
             }
            },
            "type": "histogram"
           }
          ],
          "histogram2d": [
           {
            "colorbar": {
             "outlinewidth": 0,
             "ticks": ""
            },
            "colorscale": [
             [
              0,
              "#0d0887"
             ],
             [
              0.1111111111111111,
              "#46039f"
             ],
             [
              0.2222222222222222,
              "#7201a8"
             ],
             [
              0.3333333333333333,
              "#9c179e"
             ],
             [
              0.4444444444444444,
              "#bd3786"
             ],
             [
              0.5555555555555556,
              "#d8576b"
             ],
             [
              0.6666666666666666,
              "#ed7953"
             ],
             [
              0.7777777777777778,
              "#fb9f3a"
             ],
             [
              0.8888888888888888,
              "#fdca26"
             ],
             [
              1,
              "#f0f921"
             ]
            ],
            "type": "histogram2d"
           }
          ],
          "histogram2dcontour": [
           {
            "colorbar": {
             "outlinewidth": 0,
             "ticks": ""
            },
            "colorscale": [
             [
              0,
              "#0d0887"
             ],
             [
              0.1111111111111111,
              "#46039f"
             ],
             [
              0.2222222222222222,
              "#7201a8"
             ],
             [
              0.3333333333333333,
              "#9c179e"
             ],
             [
              0.4444444444444444,
              "#bd3786"
             ],
             [
              0.5555555555555556,
              "#d8576b"
             ],
             [
              0.6666666666666666,
              "#ed7953"
             ],
             [
              0.7777777777777778,
              "#fb9f3a"
             ],
             [
              0.8888888888888888,
              "#fdca26"
             ],
             [
              1,
              "#f0f921"
             ]
            ],
            "type": "histogram2dcontour"
           }
          ],
          "mesh3d": [
           {
            "colorbar": {
             "outlinewidth": 0,
             "ticks": ""
            },
            "type": "mesh3d"
           }
          ],
          "parcoords": [
           {
            "line": {
             "colorbar": {
              "outlinewidth": 0,
              "ticks": ""
             }
            },
            "type": "parcoords"
           }
          ],
          "pie": [
           {
            "automargin": true,
            "type": "pie"
           }
          ],
          "scatter": [
           {
            "fillpattern": {
             "fillmode": "overlay",
             "size": 10,
             "solidity": 0.2
            },
            "type": "scatter"
           }
          ],
          "scatter3d": [
           {
            "line": {
             "colorbar": {
              "outlinewidth": 0,
              "ticks": ""
             }
            },
            "marker": {
             "colorbar": {
              "outlinewidth": 0,
              "ticks": ""
             }
            },
            "type": "scatter3d"
           }
          ],
          "scattercarpet": [
           {
            "marker": {
             "colorbar": {
              "outlinewidth": 0,
              "ticks": ""
             }
            },
            "type": "scattercarpet"
           }
          ],
          "scattergeo": [
           {
            "marker": {
             "colorbar": {
              "outlinewidth": 0,
              "ticks": ""
             }
            },
            "type": "scattergeo"
           }
          ],
          "scattergl": [
           {
            "marker": {
             "colorbar": {
              "outlinewidth": 0,
              "ticks": ""
             }
            },
            "type": "scattergl"
           }
          ],
          "scattermapbox": [
           {
            "marker": {
             "colorbar": {
              "outlinewidth": 0,
              "ticks": ""
             }
            },
            "type": "scattermapbox"
           }
          ],
          "scatterpolar": [
           {
            "marker": {
             "colorbar": {
              "outlinewidth": 0,
              "ticks": ""
             }
            },
            "type": "scatterpolar"
           }
          ],
          "scatterpolargl": [
           {
            "marker": {
             "colorbar": {
              "outlinewidth": 0,
              "ticks": ""
             }
            },
            "type": "scatterpolargl"
           }
          ],
          "scatterternary": [
           {
            "marker": {
             "colorbar": {
              "outlinewidth": 0,
              "ticks": ""
             }
            },
            "type": "scatterternary"
           }
          ],
          "surface": [
           {
            "colorbar": {
             "outlinewidth": 0,
             "ticks": ""
            },
            "colorscale": [
             [
              0,
              "#0d0887"
             ],
             [
              0.1111111111111111,
              "#46039f"
             ],
             [
              0.2222222222222222,
              "#7201a8"
             ],
             [
              0.3333333333333333,
              "#9c179e"
             ],
             [
              0.4444444444444444,
              "#bd3786"
             ],
             [
              0.5555555555555556,
              "#d8576b"
             ],
             [
              0.6666666666666666,
              "#ed7953"
             ],
             [
              0.7777777777777778,
              "#fb9f3a"
             ],
             [
              0.8888888888888888,
              "#fdca26"
             ],
             [
              1,
              "#f0f921"
             ]
            ],
            "type": "surface"
           }
          ],
          "table": [
           {
            "cells": {
             "fill": {
              "color": "#EBF0F8"
             },
             "line": {
              "color": "white"
             }
            },
            "header": {
             "fill": {
              "color": "#C8D4E3"
             },
             "line": {
              "color": "white"
             }
            },
            "type": "table"
           }
          ]
         },
         "layout": {
          "annotationdefaults": {
           "arrowcolor": "#2a3f5f",
           "arrowhead": 0,
           "arrowwidth": 1
          },
          "autotypenumbers": "strict",
          "coloraxis": {
           "colorbar": {
            "outlinewidth": 0,
            "ticks": ""
           }
          },
          "colorscale": {
           "diverging": [
            [
             0,
             "#8e0152"
            ],
            [
             0.1,
             "#c51b7d"
            ],
            [
             0.2,
             "#de77ae"
            ],
            [
             0.3,
             "#f1b6da"
            ],
            [
             0.4,
             "#fde0ef"
            ],
            [
             0.5,
             "#f7f7f7"
            ],
            [
             0.6,
             "#e6f5d0"
            ],
            [
             0.7,
             "#b8e186"
            ],
            [
             0.8,
             "#7fbc41"
            ],
            [
             0.9,
             "#4d9221"
            ],
            [
             1,
             "#276419"
            ]
           ],
           "sequential": [
            [
             0,
             "#0d0887"
            ],
            [
             0.1111111111111111,
             "#46039f"
            ],
            [
             0.2222222222222222,
             "#7201a8"
            ],
            [
             0.3333333333333333,
             "#9c179e"
            ],
            [
             0.4444444444444444,
             "#bd3786"
            ],
            [
             0.5555555555555556,
             "#d8576b"
            ],
            [
             0.6666666666666666,
             "#ed7953"
            ],
            [
             0.7777777777777778,
             "#fb9f3a"
            ],
            [
             0.8888888888888888,
             "#fdca26"
            ],
            [
             1,
             "#f0f921"
            ]
           ],
           "sequentialminus": [
            [
             0,
             "#0d0887"
            ],
            [
             0.1111111111111111,
             "#46039f"
            ],
            [
             0.2222222222222222,
             "#7201a8"
            ],
            [
             0.3333333333333333,
             "#9c179e"
            ],
            [
             0.4444444444444444,
             "#bd3786"
            ],
            [
             0.5555555555555556,
             "#d8576b"
            ],
            [
             0.6666666666666666,
             "#ed7953"
            ],
            [
             0.7777777777777778,
             "#fb9f3a"
            ],
            [
             0.8888888888888888,
             "#fdca26"
            ],
            [
             1,
             "#f0f921"
            ]
           ]
          },
          "colorway": [
           "#636efa",
           "#EF553B",
           "#00cc96",
           "#ab63fa",
           "#FFA15A",
           "#19d3f3",
           "#FF6692",
           "#B6E880",
           "#FF97FF",
           "#FECB52"
          ],
          "font": {
           "color": "#2a3f5f"
          },
          "geo": {
           "bgcolor": "white",
           "lakecolor": "white",
           "landcolor": "#E5ECF6",
           "showlakes": true,
           "showland": true,
           "subunitcolor": "white"
          },
          "hoverlabel": {
           "align": "left"
          },
          "hovermode": "closest",
          "mapbox": {
           "style": "light"
          },
          "paper_bgcolor": "white",
          "plot_bgcolor": "#E5ECF6",
          "polar": {
           "angularaxis": {
            "gridcolor": "white",
            "linecolor": "white",
            "ticks": ""
           },
           "bgcolor": "#E5ECF6",
           "radialaxis": {
            "gridcolor": "white",
            "linecolor": "white",
            "ticks": ""
           }
          },
          "scene": {
           "xaxis": {
            "backgroundcolor": "#E5ECF6",
            "gridcolor": "white",
            "gridwidth": 2,
            "linecolor": "white",
            "showbackground": true,
            "ticks": "",
            "zerolinecolor": "white"
           },
           "yaxis": {
            "backgroundcolor": "#E5ECF6",
            "gridcolor": "white",
            "gridwidth": 2,
            "linecolor": "white",
            "showbackground": true,
            "ticks": "",
            "zerolinecolor": "white"
           },
           "zaxis": {
            "backgroundcolor": "#E5ECF6",
            "gridcolor": "white",
            "gridwidth": 2,
            "linecolor": "white",
            "showbackground": true,
            "ticks": "",
            "zerolinecolor": "white"
           }
          },
          "shapedefaults": {
           "line": {
            "color": "#2a3f5f"
           }
          },
          "ternary": {
           "aaxis": {
            "gridcolor": "white",
            "linecolor": "white",
            "ticks": ""
           },
           "baxis": {
            "gridcolor": "white",
            "linecolor": "white",
            "ticks": ""
           },
           "bgcolor": "#E5ECF6",
           "caxis": {
            "gridcolor": "white",
            "linecolor": "white",
            "ticks": ""
           }
          },
          "title": {
           "x": 0.05
          },
          "xaxis": {
           "automargin": true,
           "gridcolor": "white",
           "linecolor": "white",
           "ticks": "",
           "title": {
            "standoff": 15
           },
           "zerolinecolor": "white",
           "zerolinewidth": 2
          },
          "yaxis": {
           "automargin": true,
           "gridcolor": "white",
           "linecolor": "white",
           "ticks": "",
           "title": {
            "standoff": 15
           },
           "zerolinecolor": "white",
           "zerolinewidth": 2
          }
         }
        }
       }
      },
      "text/html": [
       "<div>                            <div id=\"7a643ab2-e6a6-46ff-aa50-6a1bed499e74\" class=\"plotly-graph-div\" style=\"height:525px; width:100%;\"></div>            <script type=\"text/javascript\">                require([\"plotly\"], function(Plotly) {                    window.PLOTLYENV=window.PLOTLYENV || {};                                    if (document.getElementById(\"7a643ab2-e6a6-46ff-aa50-6a1bed499e74\")) {                    Plotly.newPlot(                        \"7a643ab2-e6a6-46ff-aa50-6a1bed499e74\",                        [{\"hovertemplate\":\"X=%{x}\\u003cbr\\u003eY=%{y}\\u003cbr\\u003eZ=%{z}\\u003cextra\\u003e\\u003c\\u002fextra\\u003e\",\"legendgroup\":\"\",\"marker\":{\"color\":\"#636efa\",\"symbol\":\"circle\"},\"mode\":\"markers\",\"name\":\"\",\"scene\":\"scene\",\"showlegend\":false,\"x\":[0.3470418453216553,0.3355751037597656,0.3185146152973175,0.3033323585987091,0.2917186021804809,0.3137688636779785,0.2947181463241577,0.2839772701263428,0.2797413766384125,0.3120701014995575,0.2921004295349121,0.2818949222564697,0.2778007388114929,0.3113138675689697,0.292085587978363,0.2823629379272461,0.2782061696052551,0.3114337921142578,0.2960299849510193,0.2862536907196045,0.2801328003406524,0.2426759153604507,0.2463217377662658,0.2434572130441665,0.2359916716814041,0.2273387610912323,0.2248346805572509,0.2141412198543548,0.2094711363315582,0.2085599303245544,0.2162529975175857,0.2058914899826049,0.2033279836177826,0.2039045840501785,0.2115747928619384,0.2016730904579162,0.2010487169027328,0.2024343609809875,0.2103536576032638,0.2043616473674774,0.2046297639608383,0.2066072076559066],\"y\":[0.7395095825195312,0.7111363410949707,0.6920861601829529,0.6863970160484314,0.6878702640533447,0.6852473616600037,0.6731045842170715,0.6810336709022522,0.6930147409439087,0.7001828551292419,0.6900393962860107,0.695247232913971,0.7042132616043091,0.7194094061851501,0.7099040150642395,0.7120262384414673,0.7173869609832764,0.7411292195320129,0.7304147481918335,0.7273370027542114,0.7284758687019348,0.6629618406295776,0.686907947063446,0.7103315591812134,0.7314004302024841,0.7435899376869202,0.6647517085075378,0.6808290481567383,0.6962737441062927,0.7086045742034912,0.6603668928146362,0.6845226883888245,0.7021044492721558,0.7128224968910217,0.6617139577865601,0.6856800317764282,0.7026447057723999,0.7146046161651611,0.667212724685669,0.6860806941986084,0.7013584971427917,0.7132539749145508],\"z\":[-3.045487062536267e-8,0.0039589516818523,0.0041924370452761,0.0029888032004237,0.0014323923969641,0.0009394221706315,-0.0042171254754066,-0.0082990620285272,-0.0100748473778367,-0.0030372675973922,-0.0058252466842532,-0.0073750684969127,-0.0084925973787903,-0.0070420615375041,-0.0085820239037275,-0.0084035247564315,-0.0084511674940586,-0.0107634048908948,-0.011754504404962,-0.0111882556229829,-0.0106664802879095,-7.33692431253985e-8,-0.0120976632460951,-0.0199854224920272,-0.0252954587340354,-0.0298092309385538,-0.0208553187549114,-0.0286786723881959,-0.0332920402288436,-0.0359114296734333,-0.0168377254158258,-0.0222440958023071,-0.0235190670937299,-0.0246295668184757,-0.0133010856807231,-0.0179434269666671,-0.0183830000460147,-0.0188218187540769,-0.0105751566588878,-0.0159720983356237,-0.0173844695091247,-0.0175604932010173],\"type\":\"scatter3d\"}],                        {\"template\":{\"data\":{\"histogram2dcontour\":[{\"type\":\"histogram2dcontour\",\"colorbar\":{\"outlinewidth\":0,\"ticks\":\"\"},\"colorscale\":[[0.0,\"#0d0887\"],[0.1111111111111111,\"#46039f\"],[0.2222222222222222,\"#7201a8\"],[0.3333333333333333,\"#9c179e\"],[0.4444444444444444,\"#bd3786\"],[0.5555555555555556,\"#d8576b\"],[0.6666666666666666,\"#ed7953\"],[0.7777777777777778,\"#fb9f3a\"],[0.8888888888888888,\"#fdca26\"],[1.0,\"#f0f921\"]]}],\"choropleth\":[{\"type\":\"choropleth\",\"colorbar\":{\"outlinewidth\":0,\"ticks\":\"\"}}],\"histogram2d\":[{\"type\":\"histogram2d\",\"colorbar\":{\"outlinewidth\":0,\"ticks\":\"\"},\"colorscale\":[[0.0,\"#0d0887\"],[0.1111111111111111,\"#46039f\"],[0.2222222222222222,\"#7201a8\"],[0.3333333333333333,\"#9c179e\"],[0.4444444444444444,\"#bd3786\"],[0.5555555555555556,\"#d8576b\"],[0.6666666666666666,\"#ed7953\"],[0.7777777777777778,\"#fb9f3a\"],[0.8888888888888888,\"#fdca26\"],[1.0,\"#f0f921\"]]}],\"heatmap\":[{\"type\":\"heatmap\",\"colorbar\":{\"outlinewidth\":0,\"ticks\":\"\"},\"colorscale\":[[0.0,\"#0d0887\"],[0.1111111111111111,\"#46039f\"],[0.2222222222222222,\"#7201a8\"],[0.3333333333333333,\"#9c179e\"],[0.4444444444444444,\"#bd3786\"],[0.5555555555555556,\"#d8576b\"],[0.6666666666666666,\"#ed7953\"],[0.7777777777777778,\"#fb9f3a\"],[0.8888888888888888,\"#fdca26\"],[1.0,\"#f0f921\"]]}],\"heatmapgl\":[{\"type\":\"heatmapgl\",\"colorbar\":{\"outlinewidth\":0,\"ticks\":\"\"},\"colorscale\":[[0.0,\"#0d0887\"],[0.1111111111111111,\"#46039f\"],[0.2222222222222222,\"#7201a8\"],[0.3333333333333333,\"#9c179e\"],[0.4444444444444444,\"#bd3786\"],[0.5555555555555556,\"#d8576b\"],[0.6666666666666666,\"#ed7953\"],[0.7777777777777778,\"#fb9f3a\"],[0.8888888888888888,\"#fdca26\"],[1.0,\"#f0f921\"]]}],\"contourcarpet\":[{\"type\":\"contourcarpet\",\"colorbar\":{\"outlinewidth\":0,\"ticks\":\"\"}}],\"contour\":[{\"type\":\"contour\",\"colorbar\":{\"outlinewidth\":0,\"ticks\":\"\"},\"colorscale\":[[0.0,\"#0d0887\"],[0.1111111111111111,\"#46039f\"],[0.2222222222222222,\"#7201a8\"],[0.3333333333333333,\"#9c179e\"],[0.4444444444444444,\"#bd3786\"],[0.5555555555555556,\"#d8576b\"],[0.6666666666666666,\"#ed7953\"],[0.7777777777777778,\"#fb9f3a\"],[0.8888888888888888,\"#fdca26\"],[1.0,\"#f0f921\"]]}],\"surface\":[{\"type\":\"surface\",\"colorbar\":{\"outlinewidth\":0,\"ticks\":\"\"},\"colorscale\":[[0.0,\"#0d0887\"],[0.1111111111111111,\"#46039f\"],[0.2222222222222222,\"#7201a8\"],[0.3333333333333333,\"#9c179e\"],[0.4444444444444444,\"#bd3786\"],[0.5555555555555556,\"#d8576b\"],[0.6666666666666666,\"#ed7953\"],[0.7777777777777778,\"#fb9f3a\"],[0.8888888888888888,\"#fdca26\"],[1.0,\"#f0f921\"]]}],\"mesh3d\":[{\"type\":\"mesh3d\",\"colorbar\":{\"outlinewidth\":0,\"ticks\":\"\"}}],\"scatter\":[{\"fillpattern\":{\"fillmode\":\"overlay\",\"size\":10,\"solidity\":0.2},\"type\":\"scatter\"}],\"parcoords\":[{\"type\":\"parcoords\",\"line\":{\"colorbar\":{\"outlinewidth\":0,\"ticks\":\"\"}}}],\"scatterpolargl\":[{\"type\":\"scatterpolargl\",\"marker\":{\"colorbar\":{\"outlinewidth\":0,\"ticks\":\"\"}}}],\"bar\":[{\"error_x\":{\"color\":\"#2a3f5f\"},\"error_y\":{\"color\":\"#2a3f5f\"},\"marker\":{\"line\":{\"color\":\"#E5ECF6\",\"width\":0.5},\"pattern\":{\"fillmode\":\"overlay\",\"size\":10,\"solidity\":0.2}},\"type\":\"bar\"}],\"scattergeo\":[{\"type\":\"scattergeo\",\"marker\":{\"colorbar\":{\"outlinewidth\":0,\"ticks\":\"\"}}}],\"scatterpolar\":[{\"type\":\"scatterpolar\",\"marker\":{\"colorbar\":{\"outlinewidth\":0,\"ticks\":\"\"}}}],\"histogram\":[{\"marker\":{\"pattern\":{\"fillmode\":\"overlay\",\"size\":10,\"solidity\":0.2}},\"type\":\"histogram\"}],\"scattergl\":[{\"type\":\"scattergl\",\"marker\":{\"colorbar\":{\"outlinewidth\":0,\"ticks\":\"\"}}}],\"scatter3d\":[{\"type\":\"scatter3d\",\"line\":{\"colorbar\":{\"outlinewidth\":0,\"ticks\":\"\"}},\"marker\":{\"colorbar\":{\"outlinewidth\":0,\"ticks\":\"\"}}}],\"scattermapbox\":[{\"type\":\"scattermapbox\",\"marker\":{\"colorbar\":{\"outlinewidth\":0,\"ticks\":\"\"}}}],\"scatterternary\":[{\"type\":\"scatterternary\",\"marker\":{\"colorbar\":{\"outlinewidth\":0,\"ticks\":\"\"}}}],\"scattercarpet\":[{\"type\":\"scattercarpet\",\"marker\":{\"colorbar\":{\"outlinewidth\":0,\"ticks\":\"\"}}}],\"carpet\":[{\"aaxis\":{\"endlinecolor\":\"#2a3f5f\",\"gridcolor\":\"white\",\"linecolor\":\"white\",\"minorgridcolor\":\"white\",\"startlinecolor\":\"#2a3f5f\"},\"baxis\":{\"endlinecolor\":\"#2a3f5f\",\"gridcolor\":\"white\",\"linecolor\":\"white\",\"minorgridcolor\":\"white\",\"startlinecolor\":\"#2a3f5f\"},\"type\":\"carpet\"}],\"table\":[{\"cells\":{\"fill\":{\"color\":\"#EBF0F8\"},\"line\":{\"color\":\"white\"}},\"header\":{\"fill\":{\"color\":\"#C8D4E3\"},\"line\":{\"color\":\"white\"}},\"type\":\"table\"}],\"barpolar\":[{\"marker\":{\"line\":{\"color\":\"#E5ECF6\",\"width\":0.5},\"pattern\":{\"fillmode\":\"overlay\",\"size\":10,\"solidity\":0.2}},\"type\":\"barpolar\"}],\"pie\":[{\"automargin\":true,\"type\":\"pie\"}]},\"layout\":{\"autotypenumbers\":\"strict\",\"colorway\":[\"#636efa\",\"#EF553B\",\"#00cc96\",\"#ab63fa\",\"#FFA15A\",\"#19d3f3\",\"#FF6692\",\"#B6E880\",\"#FF97FF\",\"#FECB52\"],\"font\":{\"color\":\"#2a3f5f\"},\"hovermode\":\"closest\",\"hoverlabel\":{\"align\":\"left\"},\"paper_bgcolor\":\"white\",\"plot_bgcolor\":\"#E5ECF6\",\"polar\":{\"bgcolor\":\"#E5ECF6\",\"angularaxis\":{\"gridcolor\":\"white\",\"linecolor\":\"white\",\"ticks\":\"\"},\"radialaxis\":{\"gridcolor\":\"white\",\"linecolor\":\"white\",\"ticks\":\"\"}},\"ternary\":{\"bgcolor\":\"#E5ECF6\",\"aaxis\":{\"gridcolor\":\"white\",\"linecolor\":\"white\",\"ticks\":\"\"},\"baxis\":{\"gridcolor\":\"white\",\"linecolor\":\"white\",\"ticks\":\"\"},\"caxis\":{\"gridcolor\":\"white\",\"linecolor\":\"white\",\"ticks\":\"\"}},\"coloraxis\":{\"colorbar\":{\"outlinewidth\":0,\"ticks\":\"\"}},\"colorscale\":{\"sequential\":[[0.0,\"#0d0887\"],[0.1111111111111111,\"#46039f\"],[0.2222222222222222,\"#7201a8\"],[0.3333333333333333,\"#9c179e\"],[0.4444444444444444,\"#bd3786\"],[0.5555555555555556,\"#d8576b\"],[0.6666666666666666,\"#ed7953\"],[0.7777777777777778,\"#fb9f3a\"],[0.8888888888888888,\"#fdca26\"],[1.0,\"#f0f921\"]],\"sequentialminus\":[[0.0,\"#0d0887\"],[0.1111111111111111,\"#46039f\"],[0.2222222222222222,\"#7201a8\"],[0.3333333333333333,\"#9c179e\"],[0.4444444444444444,\"#bd3786\"],[0.5555555555555556,\"#d8576b\"],[0.6666666666666666,\"#ed7953\"],[0.7777777777777778,\"#fb9f3a\"],[0.8888888888888888,\"#fdca26\"],[1.0,\"#f0f921\"]],\"diverging\":[[0,\"#8e0152\"],[0.1,\"#c51b7d\"],[0.2,\"#de77ae\"],[0.3,\"#f1b6da\"],[0.4,\"#fde0ef\"],[0.5,\"#f7f7f7\"],[0.6,\"#e6f5d0\"],[0.7,\"#b8e186\"],[0.8,\"#7fbc41\"],[0.9,\"#4d9221\"],[1,\"#276419\"]]},\"xaxis\":{\"gridcolor\":\"white\",\"linecolor\":\"white\",\"ticks\":\"\",\"title\":{\"standoff\":15},\"zerolinecolor\":\"white\",\"automargin\":true,\"zerolinewidth\":2},\"yaxis\":{\"gridcolor\":\"white\",\"linecolor\":\"white\",\"ticks\":\"\",\"title\":{\"standoff\":15},\"zerolinecolor\":\"white\",\"automargin\":true,\"zerolinewidth\":2},\"scene\":{\"xaxis\":{\"backgroundcolor\":\"#E5ECF6\",\"gridcolor\":\"white\",\"linecolor\":\"white\",\"showbackground\":true,\"ticks\":\"\",\"zerolinecolor\":\"white\",\"gridwidth\":2},\"yaxis\":{\"backgroundcolor\":\"#E5ECF6\",\"gridcolor\":\"white\",\"linecolor\":\"white\",\"showbackground\":true,\"ticks\":\"\",\"zerolinecolor\":\"white\",\"gridwidth\":2},\"zaxis\":{\"backgroundcolor\":\"#E5ECF6\",\"gridcolor\":\"white\",\"linecolor\":\"white\",\"showbackground\":true,\"ticks\":\"\",\"zerolinecolor\":\"white\",\"gridwidth\":2}},\"shapedefaults\":{\"line\":{\"color\":\"#2a3f5f\"}},\"annotationdefaults\":{\"arrowcolor\":\"#2a3f5f\",\"arrowhead\":0,\"arrowwidth\":1},\"geo\":{\"bgcolor\":\"white\",\"landcolor\":\"#E5ECF6\",\"subunitcolor\":\"white\",\"showland\":true,\"showlakes\":true,\"lakecolor\":\"white\"},\"title\":{\"x\":0.05},\"mapbox\":{\"style\":\"light\"}}},\"scene\":{\"domain\":{\"x\":[0.0,1.0],\"y\":[0.0,1.0]},\"xaxis\":{\"title\":{\"text\":\"X\"}},\"yaxis\":{\"title\":{\"text\":\"Y\"}},\"zaxis\":{\"title\":{\"text\":\"Z\"}}},\"legend\":{\"tracegroupgap\":0},\"margin\":{\"t\":60}},                        {\"responsive\": true}                    ).then(function(){\n",
       "                            \n",
       "var gd = document.getElementById('7a643ab2-e6a6-46ff-aa50-6a1bed499e74');\n",
       "var x = new MutationObserver(function (mutations, observer) {{\n",
       "        var display = window.getComputedStyle(gd).display;\n",
       "        if (!display || display === 'none') {{\n",
       "            console.log([gd, 'removed!']);\n",
       "            Plotly.purge(gd);\n",
       "            observer.disconnect();\n",
       "        }}\n",
       "}});\n",
       "\n",
       "// Listen for the removal of the full notebook cells\n",
       "var notebookContainer = gd.closest('#notebook-container');\n",
       "if (notebookContainer) {{\n",
       "    x.observe(notebookContainer, {childList: true});\n",
       "}}\n",
       "\n",
       "// Listen for the clearing of the current output cell\n",
       "var outputEl = gd.closest('.output');\n",
       "if (outputEl) {{\n",
       "    x.observe(outputEl, {childList: true});\n",
       "}}\n",
       "\n",
       "                        })                };                });            </script>        </div>"
      ]
     },
     "metadata": {},
     "output_type": "display_data"
    }
   ],
   "source": [
    "import plotly.express as px\n",
    "\n",
    "\n",
    "fig = px.scatter_3d(df_hands[df_hands['FrameNumber']==3], x='X', y='Y', z='Z')\n",
    "fig.show()"
   ]
  }
 ],
 "metadata": {
  "kernelspec": {
   "display_name": "base",
   "language": "python",
   "name": "python3"
  },
  "language_info": {
   "codemirror_mode": {
    "name": "ipython",
    "version": 3
   },
   "file_extension": ".py",
   "mimetype": "text/x-python",
   "name": "python",
   "nbconvert_exporter": "python",
   "pygments_lexer": "ipython3",
   "version": "3.10.8"
  }
 },
 "nbformat": 4,
 "nbformat_minor": 2
}
