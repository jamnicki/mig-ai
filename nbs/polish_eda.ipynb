{
 "cells": [
  {
   "cell_type": "code",
   "execution_count": 1,
   "metadata": {},
   "outputs": [],
   "source": [
    "import pandas as pd\n",
    "from src.data.dataset import GlossSeq2PolishDataset\n",
    "import seaborn as sns\n",
    "from matplotlib import pyplot as plt\n",
    "from pprint import pprint\n",
    "from src.data.utils import iter_dto_as_dicts\n",
    "import numpy as np"
   ]
  },
  {
   "cell_type": "code",
   "execution_count": 2,
   "metadata": {},
   "outputs": [],
   "source": [
    "dataset = GlossSeq2PolishDataset()"
   ]
  },
  {
   "cell_type": "code",
   "execution_count": 3,
   "metadata": {},
   "outputs": [
    {
     "data": {
      "text/html": [
       "<div>\n",
       "<style scoped>\n",
       "    .dataframe tbody tr th:only-of-type {\n",
       "        vertical-align: middle;\n",
       "    }\n",
       "\n",
       "    .dataframe tbody tr th {\n",
       "        vertical-align: top;\n",
       "    }\n",
       "\n",
       "    .dataframe thead th {\n",
       "        text-align: right;\n",
       "    }\n",
       "</style>\n",
       "<table border=\"1\" class=\"dataframe\">\n",
       "  <thead>\n",
       "    <tr style=\"text-align: right;\">\n",
       "      <th></th>\n",
       "      <th>start</th>\n",
       "      <th>end</th>\n",
       "      <th>text</th>\n",
       "      <th>doc_filepath</th>\n",
       "      <th>video_filename</th>\n",
       "      <th>task_label</th>\n",
       "    </tr>\n",
       "  </thead>\n",
       "  <tbody>\n",
       "    <tr>\n",
       "      <th>0</th>\n",
       "      <td>39040</td>\n",
       "      <td>41120</td>\n",
       "      <td>Myślę, że mam inny pomysł, można?</td>\n",
       "      <td>/15/K66BF13-26_15_15_signsNO.eaf</td>\n",
       "      <td>K66BF13-26.mp4</td>\n",
       "      <td>15</td>\n",
       "    </tr>\n",
       "    <tr>\n",
       "      <th>1</th>\n",
       "      <td>41120</td>\n",
       "      <td>49680</td>\n",
       "      <td>Chyba ten znak mówi, że jak ktoś będzie spacer...</td>\n",
       "      <td>/15/K66BF13-26_15_15_signsNO.eaf</td>\n",
       "      <td>K66BF13-26.mp4</td>\n",
       "      <td>15</td>\n",
       "    </tr>\n",
       "    <tr>\n",
       "      <th>2</th>\n",
       "      <td>49680</td>\n",
       "      <td>55280</td>\n",
       "      <td>Trzeba przejść łukiem obok leżącego i o tym zn...</td>\n",
       "      <td>/15/K66BF13-26_15_15_signsNO.eaf</td>\n",
       "      <td>K66BF13-26.mp4</td>\n",
       "      <td>15</td>\n",
       "    </tr>\n",
       "    <tr>\n",
       "      <th>3</th>\n",
       "      <td>61280</td>\n",
       "      <td>66840</td>\n",
       "      <td>Okrągły znak pomaga nam, mówi, że są pasy na u...</td>\n",
       "      <td>/15/K66BF13-26_15_15_signsNO.eaf</td>\n",
       "      <td>K66BF13-26.mp4</td>\n",
       "      <td>15</td>\n",
       "    </tr>\n",
       "    <tr>\n",
       "      <th>4</th>\n",
       "      <td>66840</td>\n",
       "      <td>73200</td>\n",
       "      <td>Jak ktoś zobaczy, ale zignoruje ten znak, to m...</td>\n",
       "      <td>/15/K66BF13-26_15_15_signsNO.eaf</td>\n",
       "      <td>K66BF13-26.mp4</td>\n",
       "      <td>15</td>\n",
       "    </tr>\n",
       "    <tr>\n",
       "      <th>...</th>\n",
       "      <td>...</td>\n",
       "      <td>...</td>\n",
       "      <td>...</td>\n",
       "      <td>...</td>\n",
       "      <td>...</td>\n",
       "      <td>...</td>\n",
       "    </tr>\n",
       "    <tr>\n",
       "      <th>39618</th>\n",
       "      <td>248960</td>\n",
       "      <td>250320</td>\n",
       "      <td>[uderzanie w coś]</td>\n",
       "      <td>/13/K17BF13-26_13_13_comics.eaf</td>\n",
       "      <td>K17BF13-26.mp4</td>\n",
       "      <td>13</td>\n",
       "    </tr>\n",
       "    <tr>\n",
       "      <th>39619</th>\n",
       "      <td>279560</td>\n",
       "      <td>291400</td>\n",
       "      <td>Kot zobaczył w akwarium rybkę. Podszedł i dał ...</td>\n",
       "      <td>/13/K17BF13-26_13_13_comics.eaf</td>\n",
       "      <td>K17BF13-26.mp4</td>\n",
       "      <td>13</td>\n",
       "    </tr>\n",
       "    <tr>\n",
       "      <th>39620</th>\n",
       "      <td>291400</td>\n",
       "      <td>347120</td>\n",
       "      <td>Zjadłam, zjadłam.</td>\n",
       "      <td>/13/K17BF13-26_13_13_comics.eaf</td>\n",
       "      <td>K17BF13-26.mp4</td>\n",
       "      <td>13</td>\n",
       "    </tr>\n",
       "    <tr>\n",
       "      <th>39621</th>\n",
       "      <td>347120</td>\n",
       "      <td>356440</td>\n",
       "      <td>Zając biegnie, zobaczył wiszące pranie. Wskocz...</td>\n",
       "      <td>/13/K17BF13-26_13_13_comics.eaf</td>\n",
       "      <td>K17BF13-26.mp4</td>\n",
       "      <td>13</td>\n",
       "    </tr>\n",
       "    <tr>\n",
       "      <th>39622</th>\n",
       "      <td>359240</td>\n",
       "      <td>361760</td>\n",
       "      <td>Kombinezon dziecka, tak na siebie założył.</td>\n",
       "      <td>/13/K17BF13-26_13_13_comics.eaf</td>\n",
       "      <td>K17BF13-26.mp4</td>\n",
       "      <td>13</td>\n",
       "    </tr>\n",
       "  </tbody>\n",
       "</table>\n",
       "<p>39623 rows × 6 columns</p>\n",
       "</div>"
      ],
      "text/plain": [
       "        start     end                                               text  \\\n",
       "0       39040   41120                  Myślę, że mam inny pomysł, można?   \n",
       "1       41120   49680  Chyba ten znak mówi, że jak ktoś będzie spacer...   \n",
       "2       49680   55280  Trzeba przejść łukiem obok leżącego i o tym zn...   \n",
       "3       61280   66840  Okrągły znak pomaga nam, mówi, że są pasy na u...   \n",
       "4       66840   73200  Jak ktoś zobaczy, ale zignoruje ten znak, to m...   \n",
       "...       ...     ...                                                ...   \n",
       "39618  248960  250320                                  [uderzanie w coś]   \n",
       "39619  279560  291400  Kot zobaczył w akwarium rybkę. Podszedł i dał ...   \n",
       "39620  291400  347120                                  Zjadłam, zjadłam.   \n",
       "39621  347120  356440  Zając biegnie, zobaczył wiszące pranie. Wskocz...   \n",
       "39622  359240  361760         Kombinezon dziecka, tak na siebie założył.   \n",
       "\n",
       "                           doc_filepath  video_filename task_label  \n",
       "0      /15/K66BF13-26_15_15_signsNO.eaf  K66BF13-26.mp4         15  \n",
       "1      /15/K66BF13-26_15_15_signsNO.eaf  K66BF13-26.mp4         15  \n",
       "2      /15/K66BF13-26_15_15_signsNO.eaf  K66BF13-26.mp4         15  \n",
       "3      /15/K66BF13-26_15_15_signsNO.eaf  K66BF13-26.mp4         15  \n",
       "4      /15/K66BF13-26_15_15_signsNO.eaf  K66BF13-26.mp4         15  \n",
       "...                                 ...             ...        ...  \n",
       "39618   /13/K17BF13-26_13_13_comics.eaf  K17BF13-26.mp4         13  \n",
       "39619   /13/K17BF13-26_13_13_comics.eaf  K17BF13-26.mp4         13  \n",
       "39620   /13/K17BF13-26_13_13_comics.eaf  K17BF13-26.mp4         13  \n",
       "39621   /13/K17BF13-26_13_13_comics.eaf  K17BF13-26.mp4         13  \n",
       "39622   /13/K17BF13-26_13_13_comics.eaf  K17BF13-26.mp4         13  \n",
       "\n",
       "[39623 rows x 6 columns]"
      ]
     },
     "execution_count": 3,
     "metadata": {},
     "output_type": "execute_result"
    }
   ],
   "source": [
    "polish_annotations = (record.polish_annotation for record in dataset)\n",
    "polish_df = pd.DataFrame.from_records(iter_dto_as_dicts(polish_annotations))\n",
    "polish_df"
   ]
  },
  {
   "cell_type": "code",
   "execution_count": 7,
   "metadata": {},
   "outputs": [
    {
     "data": {
      "text/plain": [
       "281"
      ]
     },
     "execution_count": 7,
     "metadata": {},
     "output_type": "execute_result"
    }
   ],
   "source": [
    "polish_df[\"video_filename\"].nunique()"
   ]
  },
  {
   "cell_type": "code",
   "execution_count": 4,
   "metadata": {},
   "outputs": [],
   "source": [
    "import pl_core_news_lg\n",
    "\n",
    "nlp = pl_core_news_lg.load()"
   ]
  },
  {
   "cell_type": "code",
   "execution_count": 5,
   "metadata": {},
   "outputs": [],
   "source": [
    "docs = nlp.pipe(polish_df[\"text\"].tolist())"
   ]
  },
  {
   "cell_type": "code",
   "execution_count": 6,
   "metadata": {},
   "outputs": [
    {
     "name": "stdout",
     "output_type": "stream",
     "text": [
      "Total sentences: 41,958\n",
      "Total tokens: 286,036\n"
     ]
    }
   ],
   "source": [
    "unique_sentences, unique_tokens = set(), set()\n",
    "for doc in docs:\n",
    "    for sent in doc.sents:\n",
    "        unique_sentences.add(sent)\n",
    "        for token in sent:\n",
    "            unique_tokens.add(token)\n",
    "print(f\"Total sentences: {len(unique_sentences):,}\")\n",
    "print(f\"Total tokens: {len(unique_tokens):,}\")"
   ]
  },
  {
   "cell_type": "code",
   "execution_count": null,
   "metadata": {},
   "outputs": [],
   "source": []
  }
 ],
 "metadata": {
  "kernelspec": {
   "display_name": "base",
   "language": "python",
   "name": "python3"
  },
  "language_info": {
   "codemirror_mode": {
    "name": "ipython",
    "version": 3
   },
   "file_extension": ".py",
   "mimetype": "text/x-python",
   "name": "python",
   "nbconvert_exporter": "python",
   "pygments_lexer": "ipython3",
   "version": "3.10.8"
  },
  "orig_nbformat": 4
 },
 "nbformat": 4,
 "nbformat_minor": 2
}
