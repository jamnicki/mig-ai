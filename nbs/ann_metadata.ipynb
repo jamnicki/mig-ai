{
 "cells": [
  {
   "cell_type": "code",
   "execution_count": 1,
   "metadata": {},
   "outputs": [],
   "source": [
    "import pandas as pd\n",
    "from src.settings import ORKPJM_DIR"
   ]
  },
  {
   "cell_type": "code",
   "execution_count": 2,
   "metadata": {},
   "outputs": [
    {
     "data": {
      "text/html": [
       "<div>\n",
       "<style scoped>\n",
       "    .dataframe tbody tr th:only-of-type {\n",
       "        vertical-align: middle;\n",
       "    }\n",
       "\n",
       "    .dataframe tbody tr th {\n",
       "        vertical-align: top;\n",
       "    }\n",
       "\n",
       "    .dataframe thead th {\n",
       "        text-align: right;\n",
       "    }\n",
       "</style>\n",
       "<table border=\"1\" class=\"dataframe\">\n",
       "  <thead>\n",
       "    <tr style=\"text-align: right;\">\n",
       "      <th></th>\n",
       "      <th>informator</th>\n",
       "      <th>płeć</th>\n",
       "      <th>sesja</th>\n",
       "      <th>zadanie</th>\n",
       "      <th>wiek</th>\n",
       "      <th>województwo</th>\n",
       "      <th>id (numer na końcu pliku filmowego)</th>\n",
       "      <th>_komentarz</th>\n",
       "    </tr>\n",
       "  </thead>\n",
       "  <tbody>\n",
       "    <tr>\n",
       "      <th>0</th>\n",
       "      <td>Żaneta</td>\n",
       "      <td>2</td>\n",
       "      <td>K01AF</td>\n",
       "      <td>15</td>\n",
       "      <td>18</td>\n",
       "      <td>mazowieckie</td>\n",
       "      <td>1</td>\n",
       "      <td>NaN</td>\n",
       "    </tr>\n",
       "    <tr>\n",
       "      <th>1</th>\n",
       "      <td>Żaneta</td>\n",
       "      <td>2</td>\n",
       "      <td>K01AF</td>\n",
       "      <td>24</td>\n",
       "      <td>18</td>\n",
       "      <td>mazowieckie</td>\n",
       "      <td>2</td>\n",
       "      <td>NaN</td>\n",
       "    </tr>\n",
       "    <tr>\n",
       "      <th>2</th>\n",
       "      <td>Żaneta</td>\n",
       "      <td>2</td>\n",
       "      <td>K01AF</td>\n",
       "      <td>7</td>\n",
       "      <td>18</td>\n",
       "      <td>mazowieckie</td>\n",
       "      <td>3</td>\n",
       "      <td>NaN</td>\n",
       "    </tr>\n",
       "    <tr>\n",
       "      <th>3</th>\n",
       "      <td>Żaneta</td>\n",
       "      <td>2</td>\n",
       "      <td>K01AF</td>\n",
       "      <td>08_tweety</td>\n",
       "      <td>18</td>\n",
       "      <td>mazowieckie</td>\n",
       "      <td>4</td>\n",
       "      <td>NaN</td>\n",
       "    </tr>\n",
       "    <tr>\n",
       "      <th>4</th>\n",
       "      <td>Żaneta</td>\n",
       "      <td>2</td>\n",
       "      <td>K01AF</td>\n",
       "      <td>17_kid</td>\n",
       "      <td>18</td>\n",
       "      <td>mazowieckie</td>\n",
       "      <td>5</td>\n",
       "      <td>NaN</td>\n",
       "    </tr>\n",
       "    <tr>\n",
       "      <th>...</th>\n",
       "      <td>...</td>\n",
       "      <td>...</td>\n",
       "      <td>...</td>\n",
       "      <td>...</td>\n",
       "      <td>...</td>\n",
       "      <td>...</td>\n",
       "      <td>...</td>\n",
       "      <td>...</td>\n",
       "    </tr>\n",
       "    <tr>\n",
       "      <th>738</th>\n",
       "      <td>Krzysztof</td>\n",
       "      <td>1</td>\n",
       "      <td>K64AF12-26</td>\n",
       "      <td>13</td>\n",
       "      <td>43</td>\n",
       "      <td>wielkopolskie</td>\n",
       "      <td>755</td>\n",
       "      <td>NaN</td>\n",
       "    </tr>\n",
       "    <tr>\n",
       "      <th>739</th>\n",
       "      <td>Zenon</td>\n",
       "      <td>1</td>\n",
       "      <td>K71AF12-26</td>\n",
       "      <td>13</td>\n",
       "      <td>48</td>\n",
       "      <td>pomorskie</td>\n",
       "      <td>756</td>\n",
       "      <td>NaN</td>\n",
       "    </tr>\n",
       "    <tr>\n",
       "      <th>740</th>\n",
       "      <td>Marcin</td>\n",
       "      <td>1</td>\n",
       "      <td>K71BF01-11</td>\n",
       "      <td>7</td>\n",
       "      <td>40</td>\n",
       "      <td>pomorskie</td>\n",
       "      <td>757</td>\n",
       "      <td>NaN</td>\n",
       "    </tr>\n",
       "    <tr>\n",
       "      <th>741</th>\n",
       "      <td>Maria</td>\n",
       "      <td>2</td>\n",
       "      <td>K35BF09-26</td>\n",
       "      <td>13</td>\n",
       "      <td>74</td>\n",
       "      <td>małopolskie</td>\n",
       "      <td>758</td>\n",
       "      <td>NaN</td>\n",
       "    </tr>\n",
       "    <tr>\n",
       "      <th>742</th>\n",
       "      <td>Tomasz</td>\n",
       "      <td>1</td>\n",
       "      <td>K49BF01-26</td>\n",
       "      <td>7</td>\n",
       "      <td>22</td>\n",
       "      <td>śląskie</td>\n",
       "      <td>759</td>\n",
       "      <td>NaN</td>\n",
       "    </tr>\n",
       "  </tbody>\n",
       "</table>\n",
       "<p>743 rows × 8 columns</p>\n",
       "</div>"
      ],
      "text/plain": [
       "    informator  płeć       sesja    zadanie  wiek    województwo  \\\n",
       "0       Żaneta     2       K01AF         15    18    mazowieckie   \n",
       "1       Żaneta     2       K01AF         24    18    mazowieckie   \n",
       "2       Żaneta     2       K01AF          7    18    mazowieckie   \n",
       "3       Żaneta     2       K01AF  08_tweety    18    mazowieckie   \n",
       "4       Żaneta     2       K01AF     17_kid    18    mazowieckie   \n",
       "..         ...   ...         ...        ...   ...            ...   \n",
       "738  Krzysztof     1  K64AF12-26         13    43  wielkopolskie   \n",
       "739      Zenon     1  K71AF12-26         13    48      pomorskie   \n",
       "740     Marcin     1  K71BF01-11          7    40      pomorskie   \n",
       "741      Maria     2  K35BF09-26         13    74    małopolskie   \n",
       "742     Tomasz     1  K49BF01-26          7    22        śląskie   \n",
       "\n",
       "     id (numer na końcu pliku filmowego) _komentarz  \n",
       "0                                      1        NaN  \n",
       "1                                      2        NaN  \n",
       "2                                      3        NaN  \n",
       "3                                      4        NaN  \n",
       "4                                      5        NaN  \n",
       "..                                   ...        ...  \n",
       "738                                  755        NaN  \n",
       "739                                  756        NaN  \n",
       "740                                  757        NaN  \n",
       "741                                  758        NaN  \n",
       "742                                  759        NaN  \n",
       "\n",
       "[743 rows x 8 columns]"
      ]
     },
     "execution_count": 2,
     "metadata": {},
     "output_type": "execute_result"
    }
   ],
   "source": [
    "df = pd.read_excel(ORKPJM_DIR / 'socjodane.xlsx')\n",
    "df"
   ]
  },
  {
   "cell_type": "code",
   "execution_count": 15,
   "metadata": {},
   "outputs": [
    {
     "data": {
      "text/plain": [
       "_komentarz\n",
       "pan jest w złej kat wiekowej    2\n",
       "Name: count, dtype: int64"
      ]
     },
     "execution_count": 15,
     "metadata": {},
     "output_type": "execute_result"
    }
   ],
   "source": [
    "df[\"_komentarz\"].value_counts()"
   ]
  },
  {
   "cell_type": "code",
   "execution_count": 4,
   "metadata": {},
   "outputs": [
    {
     "data": {
      "text/plain": [
       "count    85.000000\n",
       "mean      8.741176\n",
       "std       7.265628\n",
       "min       1.000000\n",
       "25%       5.000000\n",
       "50%       6.000000\n",
       "75%      10.000000\n",
       "max      47.000000\n",
       "Name: count, dtype: float64"
      ]
     },
     "execution_count": 4,
     "metadata": {},
     "output_type": "execute_result"
    }
   ],
   "source": [
    "df[\"informator\"].value_counts().describe()"
   ]
  },
  {
   "cell_type": "code",
   "execution_count": 11,
   "metadata": {},
   "outputs": [
    {
     "data": {
      "text/plain": [
       "<Axes: xlabel='zadanie'>"
      ]
     },
     "execution_count": 11,
     "metadata": {},
     "output_type": "execute_result"
    },
    {
     "data": {
      "image/png": "[encoded data removed]",
      "text/plain": [
       "<Figure size 640x480 with 1 Axes>"
      ]
     },
     "metadata": {},
     "output_type": "display_data"
    }
   ],
   "source": [
    "df[\"zadanie\"].value_counts().plot(kind=\"bar\", rot=30)"
   ]
  },
  {
   "cell_type": "code",
   "execution_count": null,
   "metadata": {},
   "outputs": [],
   "source": []
  }
 ],
 "metadata": {
  "kernelspec": {
   "display_name": "base",
   "language": "python",
   "name": "python3"
  },
  "language_info": {
   "codemirror_mode": {
    "name": "ipython",
    "version": 3
   },
   "file_extension": ".py",
   "mimetype": "text/x-python",
   "name": "python",
   "nbconvert_exporter": "python",
   "pygments_lexer": "ipython3",
   "version": "3.10.8"
  },
  "orig_nbformat": 4
 },
 "nbformat": 4,
 "nbformat_minor": 2
}
