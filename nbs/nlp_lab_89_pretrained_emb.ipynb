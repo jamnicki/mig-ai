{
 "cells": [
  {
   "cell_type": "code",
   "execution_count": 1,
   "metadata": {},
   "outputs": [],
   "source": [
    "import pandas as pd\n",
    "import seaborn as sns\n",
    "from tqdm.notebook import tqdm\n",
    "import string\n",
    "from pprint import pprint\n",
    "import numpy as np\n",
    "from nltk.tokenize import word_tokenize\n",
    "import warnings\n",
    "from matplotlib import pyplot as plt\n",
    "from datetime import datetime\n",
    "\n",
    "import torch\n",
    "\n",
    "from transformers import AutoTokenizer, AutoModel\n",
    "\n",
    "from gensim.models import KeyedVectors\n",
    "\n",
    "from sklearn.metrics import classification_report\n",
    "from sklearn.model_selection import StratifiedKFold\n",
    "from sklearn.linear_model import LogisticRegression\n",
    "from sklearn.neighbors import KNeighborsClassifier\n",
    "from sklearn.tree import DecisionTreeClassifier\n",
    "from sklearn.exceptions import ConvergenceWarning\n",
    "\n",
    "from src.settings import POLISH_ANNOTATIONS_FPATH, DATA_DIR, MODELS_DIR, PLOTS_DIR\n",
    "\n",
    "tqdm.pandas()"
   ]
  },
  {
   "cell_type": "code",
   "execution_count": 2,
   "metadata": {},
   "outputs": [],
   "source": [
    "RANDOM_STATE = 42\n",
    "\n",
    "EMB_VECTOR_SIZE = 100\n",
    "EMB_WINDOW = 5\n",
    "VOCAB_MIN_COUNT = 5\n",
    "\n",
    "MIN_N_GRAM = 1\n",
    "MAX_N_GRAM = 4\n",
    "\n",
    "N_FOLDS = 5\n",
    "\n",
    "EMB_EPOCHS = 20"
   ]
  },
  {
   "cell_type": "code",
   "execution_count": 3,
   "metadata": {},
   "outputs": [],
   "source": [
    "def preprocess(text, stopwords):\n",
    "    text = text.lower()\n",
    "    text = \"\".join([word for word in text if word not in string.punctuation])\n",
    "    tokens = word_tokenize(text, language=\"polish\")\n",
    "    tokens = [word for word in tokens if word not in stopwords]\n",
    "    if not any(tokens):\n",
    "        return np.nan\n",
    "    return \" \".join(tokens)\n",
    "\n",
    "with open(DATA_DIR / \"polish.stopwords.txt\", \"r\") as f:\n",
    "    stop_words = set(f.readlines())"
   ]
  },
  {
   "cell_type": "markdown",
   "metadata": {},
   "source": [
    "## Zbiór danych do klasyfikacji (tekst - numer zadania), korpus wzorcowy"
   ]
  },
  {
   "cell_type": "code",
   "execution_count": 4,
   "metadata": {},
   "outputs": [
    {
     "data": {
      "text/html": [
       "<div>\n",
       "<style scoped>\n",
       "    .dataframe tbody tr th:only-of-type {\n",
       "        vertical-align: middle;\n",
       "    }\n",
       "\n",
       "    .dataframe tbody tr th {\n",
       "        vertical-align: top;\n",
       "    }\n",
       "\n",
       "    .dataframe thead th {\n",
       "        text-align: right;\n",
       "    }\n",
       "</style>\n",
       "<table border=\"1\" class=\"dataframe\">\n",
       "  <thead>\n",
       "    <tr style=\"text-align: right;\">\n",
       "      <th></th>\n",
       "      <th>start</th>\n",
       "      <th>end</th>\n",
       "      <th>text</th>\n",
       "      <th>doc_filepath</th>\n",
       "      <th>video_filename</th>\n",
       "      <th>task_label</th>\n",
       "    </tr>\n",
       "  </thead>\n",
       "  <tbody>\n",
       "    <tr>\n",
       "      <th>0</th>\n",
       "      <td>39040</td>\n",
       "      <td>41120</td>\n",
       "      <td>Myślę, że mam inny pomysł, można?</td>\n",
       "      <td>/15/K66BF13-26_15_15_signsNO.eaf</td>\n",
       "      <td>K66BF13-26.mp4</td>\n",
       "      <td>15</td>\n",
       "    </tr>\n",
       "    <tr>\n",
       "      <th>1</th>\n",
       "      <td>41120</td>\n",
       "      <td>49680</td>\n",
       "      <td>Chyba ten znak mówi, że jak ktoś będzie spacer...</td>\n",
       "      <td>/15/K66BF13-26_15_15_signsNO.eaf</td>\n",
       "      <td>K66BF13-26.mp4</td>\n",
       "      <td>15</td>\n",
       "    </tr>\n",
       "    <tr>\n",
       "      <th>2</th>\n",
       "      <td>49680</td>\n",
       "      <td>55280</td>\n",
       "      <td>Trzeba przejść łukiem obok leżącego i o tym zn...</td>\n",
       "      <td>/15/K66BF13-26_15_15_signsNO.eaf</td>\n",
       "      <td>K66BF13-26.mp4</td>\n",
       "      <td>15</td>\n",
       "    </tr>\n",
       "    <tr>\n",
       "      <th>3</th>\n",
       "      <td>61280</td>\n",
       "      <td>66840</td>\n",
       "      <td>Okrągły znak pomaga nam, mówi, że są pasy na u...</td>\n",
       "      <td>/15/K66BF13-26_15_15_signsNO.eaf</td>\n",
       "      <td>K66BF13-26.mp4</td>\n",
       "      <td>15</td>\n",
       "    </tr>\n",
       "    <tr>\n",
       "      <th>4</th>\n",
       "      <td>66840</td>\n",
       "      <td>73200</td>\n",
       "      <td>Jak ktoś zobaczy, ale zignoruje ten znak, to m...</td>\n",
       "      <td>/15/K66BF13-26_15_15_signsNO.eaf</td>\n",
       "      <td>K66BF13-26.mp4</td>\n",
       "      <td>15</td>\n",
       "    </tr>\n",
       "    <tr>\n",
       "      <th>...</th>\n",
       "      <td>...</td>\n",
       "      <td>...</td>\n",
       "      <td>...</td>\n",
       "      <td>...</td>\n",
       "      <td>...</td>\n",
       "      <td>...</td>\n",
       "    </tr>\n",
       "    <tr>\n",
       "      <th>40350</th>\n",
       "      <td>248960</td>\n",
       "      <td>250320</td>\n",
       "      <td>[uderzanie w coś]</td>\n",
       "      <td>/13/K17BF13-26_13_13_comics.eaf</td>\n",
       "      <td>K17BF13-26.mp4</td>\n",
       "      <td>13</td>\n",
       "    </tr>\n",
       "    <tr>\n",
       "      <th>40351</th>\n",
       "      <td>279560</td>\n",
       "      <td>291400</td>\n",
       "      <td>Kot zobaczył w akwarium rybkę. Podszedł i dał ...</td>\n",
       "      <td>/13/K17BF13-26_13_13_comics.eaf</td>\n",
       "      <td>K17BF13-26.mp4</td>\n",
       "      <td>13</td>\n",
       "    </tr>\n",
       "    <tr>\n",
       "      <th>40352</th>\n",
       "      <td>291400</td>\n",
       "      <td>347120</td>\n",
       "      <td>Zjadłam, zjadłam.</td>\n",
       "      <td>/13/K17BF13-26_13_13_comics.eaf</td>\n",
       "      <td>K17BF13-26.mp4</td>\n",
       "      <td>13</td>\n",
       "    </tr>\n",
       "    <tr>\n",
       "      <th>40353</th>\n",
       "      <td>347120</td>\n",
       "      <td>356440</td>\n",
       "      <td>Zając biegnie, zobaczył wiszące pranie. Wskocz...</td>\n",
       "      <td>/13/K17BF13-26_13_13_comics.eaf</td>\n",
       "      <td>K17BF13-26.mp4</td>\n",
       "      <td>13</td>\n",
       "    </tr>\n",
       "    <tr>\n",
       "      <th>40354</th>\n",
       "      <td>359240</td>\n",
       "      <td>361760</td>\n",
       "      <td>Kombinezon dziecka, tak na siebie założył.</td>\n",
       "      <td>/13/K17BF13-26_13_13_comics.eaf</td>\n",
       "      <td>K17BF13-26.mp4</td>\n",
       "      <td>13</td>\n",
       "    </tr>\n",
       "  </tbody>\n",
       "</table>\n",
       "<p>40355 rows × 6 columns</p>\n",
       "</div>"
      ],
      "text/plain": [
       "        start     end                                               text  \\\n",
       "0       39040   41120                  Myślę, że mam inny pomysł, można?   \n",
       "1       41120   49680  Chyba ten znak mówi, że jak ktoś będzie spacer...   \n",
       "2       49680   55280  Trzeba przejść łukiem obok leżącego i o tym zn...   \n",
       "3       61280   66840  Okrągły znak pomaga nam, mówi, że są pasy na u...   \n",
       "4       66840   73200  Jak ktoś zobaczy, ale zignoruje ten znak, to m...   \n",
       "...       ...     ...                                                ...   \n",
       "40350  248960  250320                                  [uderzanie w coś]   \n",
       "40351  279560  291400  Kot zobaczył w akwarium rybkę. Podszedł i dał ...   \n",
       "40352  291400  347120                                  Zjadłam, zjadłam.   \n",
       "40353  347120  356440  Zając biegnie, zobaczył wiszące pranie. Wskocz...   \n",
       "40354  359240  361760         Kombinezon dziecka, tak na siebie założył.   \n",
       "\n",
       "                           doc_filepath  video_filename  task_label  \n",
       "0      /15/K66BF13-26_15_15_signsNO.eaf  K66BF13-26.mp4          15  \n",
       "1      /15/K66BF13-26_15_15_signsNO.eaf  K66BF13-26.mp4          15  \n",
       "2      /15/K66BF13-26_15_15_signsNO.eaf  K66BF13-26.mp4          15  \n",
       "3      /15/K66BF13-26_15_15_signsNO.eaf  K66BF13-26.mp4          15  \n",
       "4      /15/K66BF13-26_15_15_signsNO.eaf  K66BF13-26.mp4          15  \n",
       "...                                 ...             ...         ...  \n",
       "40350   /13/K17BF13-26_13_13_comics.eaf  K17BF13-26.mp4          13  \n",
       "40351   /13/K17BF13-26_13_13_comics.eaf  K17BF13-26.mp4          13  \n",
       "40352   /13/K17BF13-26_13_13_comics.eaf  K17BF13-26.mp4          13  \n",
       "40353   /13/K17BF13-26_13_13_comics.eaf  K17BF13-26.mp4          13  \n",
       "40354   /13/K17BF13-26_13_13_comics.eaf  K17BF13-26.mp4          13  \n",
       "\n",
       "[40355 rows x 6 columns]"
      ]
     },
     "execution_count": 4,
     "metadata": {},
     "output_type": "execute_result"
    }
   ],
   "source": [
    "korpus_wzorcowy = pd.read_json(POLISH_ANNOTATIONS_FPATH, lines=True)\n",
    "korpus_wzorcowy"
   ]
  },
  {
   "cell_type": "code",
   "execution_count": 5,
   "metadata": {},
   "outputs": [
    {
     "data": {
      "text/plain": [
       "['15', '24', '7', '17', '8', '13']"
      ]
     },
     "execution_count": 5,
     "metadata": {},
     "output_type": "execute_result"
    }
   ],
   "source": [
    "target_labels = korpus_wzorcowy[\"task_label\"].astype(str).unique().tolist()\n",
    "target_labels"
   ]
  },
  {
   "cell_type": "code",
   "execution_count": 6,
   "metadata": {},
   "outputs": [
    {
     "data": {
      "text/plain": [
       "(0, 0)"
      ]
     },
     "execution_count": 6,
     "metadata": {},
     "output_type": "execute_result"
    }
   ],
   "source": [
    "korpus_wzorcowy[\"text\"].isna().sum(), korpus_wzorcowy[\"task_label\"].isna().sum()"
   ]
  },
  {
   "cell_type": "code",
   "execution_count": 7,
   "metadata": {},
   "outputs": [
    {
     "data": {
      "text/plain": [
       "4    jak ktoś zobaczy ale zignoruje ten znak to moż...\n",
       "Name: text_preprocessed, dtype: object"
      ]
     },
     "execution_count": 7,
     "metadata": {},
     "output_type": "execute_result"
    }
   ],
   "source": [
    "korpus_wzorcowy_preprocessed = korpus_wzorcowy.copy()\n",
    "korpus_wzorcowy_preprocessed[\"text_preprocessed\"] = korpus_wzorcowy_preprocessed[\"text\"].apply(preprocess, args=(stop_words,))\n",
    "\n",
    "korpus_wzorcowy_preprocessed[\"text_preprocessed\"][4:5]"
   ]
  },
  {
   "cell_type": "code",
   "execution_count": 8,
   "metadata": {},
   "outputs": [
    {
     "data": {
      "text/plain": [
       "start                0\n",
       "end                  0\n",
       "text                 0\n",
       "doc_filepath         0\n",
       "video_filename       0\n",
       "task_label           0\n",
       "text_preprocessed    2\n",
       "dtype: int64"
      ]
     },
     "execution_count": 8,
     "metadata": {},
     "output_type": "execute_result"
    }
   ],
   "source": [
    "korpus_wzorcowy_preprocessed.isna().sum()"
   ]
  },
  {
   "cell_type": "code",
   "execution_count": 9,
   "metadata": {},
   "outputs": [
    {
     "data": {
      "text/plain": [
       "(40353, 7)"
      ]
     },
     "execution_count": 9,
     "metadata": {},
     "output_type": "execute_result"
    }
   ],
   "source": [
    "pl_data_preprocessed = korpus_wzorcowy_preprocessed.dropna()\n",
    "pl_data_preprocessed.shape"
   ]
  },
  {
   "cell_type": "markdown",
   "metadata": {},
   "source": [
    "## HerBERT"
   ]
  },
  {
   "cell_type": "code",
   "execution_count": 10,
   "metadata": {},
   "outputs": [
    {
     "name": "stderr",
     "output_type": "stream",
     "text": [
      "Some weights of the model checkpoint at allegro/herbert-base-cased were not used when initializing BertModel: ['cls.predictions.transform.LayerNorm.weight', 'cls.predictions.transform.dense.bias', 'cls.sso.sso_relationship.weight', 'cls.predictions.decoder.bias', 'cls.predictions.bias', 'cls.predictions.transform.LayerNorm.bias', 'cls.predictions.transform.dense.weight', 'cls.predictions.decoder.weight', 'cls.sso.sso_relationship.bias']\n",
      "- This IS expected if you are initializing BertModel from the checkpoint of a model trained on another task or with another architecture (e.g. initializing a BertForSequenceClassification model from a BertForPreTraining model).\n",
      "- This IS NOT expected if you are initializing BertModel from the checkpoint of a model that you expect to be exactly identical (initializing a BertForSequenceClassification model from a BertForSequenceClassification model).\n"
     ]
    }
   ],
   "source": [
    "herbert_tokenizer = AutoTokenizer.from_pretrained(\"allegro/herbert-base-cased\")\n",
    "herbert = AutoModel.from_pretrained(\"allegro/herbert-base-cased\").to(\"cuda:0\")"
   ]
  },
  {
   "cell_type": "code",
   "execution_count": 11,
   "metadata": {},
   "outputs": [
    {
     "data": {
      "text/plain": [
       "(768,)"
      ]
     },
     "execution_count": 11,
     "metadata": {},
     "output_type": "execute_result"
    }
   ],
   "source": [
    "def get_herbert_embedding(text: str, device: str = \"cuda\") -> np.ndarray:\n",
    "    return herbert(\n",
    "        **herbert_tokenizer.encode_plus(text,\n",
    "            padding='longest',\n",
    "            add_special_tokens=True,\n",
    "            return_tensors='pt'\n",
    "        ).to(device)\n",
    "    ).pooler_output.to(\"cpu\").detach().numpy()[0]\n",
    "\n",
    "get_herbert_embedding(\"Ala ma kota\").shape"
   ]
  },
  {
   "cell_type": "code",
   "execution_count": 12,
   "metadata": {},
   "outputs": [
    {
     "data": {
      "application/vnd.jupyter.widget-view+json": {
       "model_id": "6e06f298ad034b22bd627aec397302a7",
       "version_major": 2,
       "version_minor": 0
      },
      "text/plain": [
       "  0%|          | 0/40353 [00:00<?, ?it/s]"
      ]
     },
     "metadata": {},
     "output_type": "display_data"
    }
   ],
   "source": [
    "wzorcowy_X_herbert = pl_data_preprocessed[\"text_preprocessed\"].progress_apply(get_herbert_embedding).to_numpy()"
   ]
  },
  {
   "cell_type": "code",
   "execution_count": 13,
   "metadata": {},
   "outputs": [
    {
     "data": {
      "text/plain": [
       "(768,)"
      ]
     },
     "execution_count": 13,
     "metadata": {},
     "output_type": "execute_result"
    }
   ],
   "source": [
    "wzorcowy_X_herbert[0].shape"
   ]
  },
  {
   "cell_type": "markdown",
   "metadata": {},
   "source": [
    "## Word2Vec"
   ]
  },
  {
   "cell_type": "code",
   "execution_count": 14,
   "metadata": {},
   "outputs": [],
   "source": [
    "word2vec = KeyedVectors.load(str(MODELS_DIR / \"word2vec_100_3_polish.bin\"))"
   ]
  },
  {
   "cell_type": "code",
   "execution_count": 15,
   "metadata": {},
   "outputs": [
    {
     "data": {
      "text/plain": [
       "(100,)"
      ]
     },
     "execution_count": 15,
     "metadata": {},
     "output_type": "execute_result"
    }
   ],
   "source": [
    "def vectorize(sentence, keyed_vectors):\n",
    "    words = sentence.split()\n",
    "    words_vecs = [keyed_vectors[word] for word in words if word in keyed_vectors]\n",
    "    if len(words_vecs) == 0:\n",
    "        return np.zeros(100)\n",
    "    words_vecs = np.array(words_vecs)\n",
    "    return words_vecs.mean(axis=0)\n",
    "\n",
    "def vectorize_data(X, emb_model):\n",
    "    return np.array([vectorize(sentence, emb_model) for sentence in X])\n",
    "\n",
    "vectorize(\"Ala ma kota\", word2vec).shape"
   ]
  },
  {
   "cell_type": "code",
   "execution_count": 16,
   "metadata": {},
   "outputs": [
    {
     "data": {
      "application/vnd.jupyter.widget-view+json": {
       "model_id": "c61a13b9e7984bb38e9e702e22d89d9d",
       "version_major": 2,
       "version_minor": 0
      },
      "text/plain": [
       "  0%|          | 0/40353 [00:00<?, ?it/s]"
      ]
     },
     "metadata": {},
     "output_type": "display_data"
    }
   ],
   "source": [
    "wzorcowy_X_word2vec = pl_data_preprocessed[\"text_preprocessed\"].progress_apply(vectorize, args=(word2vec,)).to_numpy()"
   ]
  },
  {
   "cell_type": "code",
   "execution_count": 17,
   "metadata": {},
   "outputs": [
    {
     "data": {
      "text/plain": [
       "(100,)"
      ]
     },
     "execution_count": 17,
     "metadata": {},
     "output_type": "execute_result"
    }
   ],
   "source": [
    "wzorcowy_X_word2vec[0].shape"
   ]
  },
  {
   "cell_type": "code",
   "execution_count": 18,
   "metadata": {},
   "outputs": [
    {
     "name": "stdout",
     "output_type": "stream",
     "text": [
      "Fold: 5/5 | Classifier:  3/3                                                                        \n",
      "\n",
      "2023-12-20 01:53:13.478524 | DONE!\n"
     ]
    }
   ],
   "source": [
    "warnings.filterwarnings(\"ignore\", category=ConvergenceWarning)\n",
    "\n",
    "\n",
    "X, y = pl_data_preprocessed[\"text\"].to_numpy(), pl_data_preprocessed[\"task_label\"].to_numpy()\n",
    "\n",
    "classifiers = [\n",
    "    LogisticRegression(),\n",
    "    KNeighborsClassifier(),\n",
    "    DecisionTreeClassifier(),\n",
    "]\n",
    "\n",
    "skf = StratifiedKFold(n_splits=N_FOLDS, shuffle=True, random_state=RANDOM_STATE)\n",
    "\n",
    "metrics_rows = []\n",
    "for fold, (train_indices, test_indices) in enumerate(skf.split(X, y), start=1):\n",
    "    wzorcowy_X_herbert_train, wzorcowy_y_train = wzorcowy_X_herbert.take(train_indices, axis=0), y.take(train_indices, axis=0)\n",
    "    wzorcowy_X_herbert_test, wzorcowy_y_test = wzorcowy_X_herbert.take(test_indices, axis=0), y.take(test_indices, axis=0)\n",
    "\n",
    "    wzorcowy_X_word2vec_train = wzorcowy_X_word2vec.take(train_indices, axis=0)\n",
    "    wzorcowy_X_word2vec_test = wzorcowy_X_word2vec.take(test_indices, axis=0)\n",
    "    \n",
    "    wzorcowy_X_herbert_train = list(wzorcowy_X_herbert_train)\n",
    "    wzorcowy_X_herbert_test = list(wzorcowy_X_herbert_test)\n",
    "    \n",
    "    wzorcowy_X_word2vec_train = list(wzorcowy_X_word2vec_train)\n",
    "    wzorcowy_X_word2vec_test = list(wzorcowy_X_word2vec_test)\n",
    "\n",
    "    clfs = classifiers.copy()\n",
    "    for i_clf, (wzorcowy_herbert_clf, wzorcowy_word2vec_clf) in enumerate(zip(clfs, clfs), start=1):\n",
    "        clf_name = wzorcowy_herbert_clf.__class__.__name__\n",
    "\n",
    "        wzorcowy_herbert_clf.fit(wzorcowy_X_herbert_train, wzorcowy_y_train)\n",
    "        wzorcowy_herbert_clf_preds = wzorcowy_herbert_clf.predict(wzorcowy_X_herbert_test)\n",
    "        wzorcowy_herbert_clf_report = classification_report(wzorcowy_y_test, wzorcowy_herbert_clf_preds, output_dict=True, target_names=target_labels, zero_division=0)\n",
    "\n",
    "        wzorcowy_word2vec_clf.fit(wzorcowy_X_word2vec_train, wzorcowy_y_train)\n",
    "        wzorcowy_word2vec_clf_preds = wzorcowy_word2vec_clf.predict(wzorcowy_X_word2vec_test)\n",
    "        wzorcowy_word2vec_clf_report = classification_report(wzorcowy_y_test, wzorcowy_word2vec_clf_preds, output_dict=True, target_names=target_labels, zero_division=0)\n",
    "\n",
    "        metrics_rows.append({\n",
    "            \"EmbeddingModel\": \"HerBERT\",\n",
    "            \"Classifier\": clf_name,\n",
    "            \"Corpora\": \"Wzorcowy\",\n",
    "            \"CvFold\": fold,\n",
    "            \"Accuracy\": wzorcowy_herbert_clf_report[\"accuracy\"],\n",
    "            \"F1scoreMacro\": wzorcowy_herbert_clf_report[\"macro avg\"][\"f1-score\"],\n",
    "            \"PrecisionMacro\": wzorcowy_herbert_clf_report[\"macro avg\"][\"precision\"],\n",
    "            \"RecallMacro\": wzorcowy_herbert_clf_report[\"macro avg\"][\"recall\"],\n",
    "            \"Support\": wzorcowy_herbert_clf_report[\"macro avg\"][\"support\"],\n",
    "        })\n",
    "        metrics_rows.append({\n",
    "            \"EmbeddingModel\": \"Word2Vec\",\n",
    "            \"Classifier\": clf_name,\n",
    "            \"Corpora\": \"Wzorcowy\",\n",
    "            \"CvFold\": fold,\n",
    "            \"Accuracy\": wzorcowy_word2vec_clf_report[\"accuracy\"],\n",
    "            \"F1scoreMacro\": wzorcowy_word2vec_clf_report[\"macro avg\"][\"f1-score\"],\n",
    "            \"PrecisionMacro\": wzorcowy_word2vec_clf_report[\"macro avg\"][\"precision\"],\n",
    "            \"RecallMacro\": wzorcowy_word2vec_clf_report[\"macro avg\"][\"recall\"],\n",
    "            \"Support\": wzorcowy_word2vec_clf_report[\"macro avg\"][\"support\"],\n",
    "        })\n",
    "\n",
    "        print((\n",
    "            \"Fold: \" + f\"{fold}/{N_FOLDS}\"\n",
    "            \" | Classifier: \" + f\"{i_clf:>2}/{len(classifiers)}\"\n",
    "        ).ljust(100, \" \"), end=\"\\r\")\n",
    "\n",
    "\n",
    "print(f\"\\n\\n{datetime.now()} | DONE!\")"
   ]
  },
  {
   "cell_type": "code",
   "execution_count": 19,
   "metadata": {},
   "outputs": [
    {
     "data": {
      "text/html": [
       "<div>\n",
       "<style scoped>\n",
       "    .dataframe tbody tr th:only-of-type {\n",
       "        vertical-align: middle;\n",
       "    }\n",
       "\n",
       "    .dataframe tbody tr th {\n",
       "        vertical-align: top;\n",
       "    }\n",
       "\n",
       "    .dataframe thead th {\n",
       "        text-align: right;\n",
       "    }\n",
       "</style>\n",
       "<table border=\"1\" class=\"dataframe\">\n",
       "  <thead>\n",
       "    <tr style=\"text-align: right;\">\n",
       "      <th></th>\n",
       "      <th>EmbeddingModel</th>\n",
       "      <th>Classifier</th>\n",
       "      <th>Corpora</th>\n",
       "      <th>CvFold</th>\n",
       "      <th>Accuracy</th>\n",
       "      <th>F1scoreMacro</th>\n",
       "      <th>PrecisionMacro</th>\n",
       "      <th>RecallMacro</th>\n",
       "      <th>Support</th>\n",
       "    </tr>\n",
       "  </thead>\n",
       "  <tbody>\n",
       "    <tr>\n",
       "      <th>0</th>\n",
       "      <td>HerBERT</td>\n",
       "      <td>LogisticRegression</td>\n",
       "      <td>Wzorcowy</td>\n",
       "      <td>1</td>\n",
       "      <td>0.621360</td>\n",
       "      <td>0.552414</td>\n",
       "      <td>0.589986</td>\n",
       "      <td>0.539366</td>\n",
       "      <td>8071.0</td>\n",
       "    </tr>\n",
       "    <tr>\n",
       "      <th>1</th>\n",
       "      <td>Word2Vec</td>\n",
       "      <td>LogisticRegression</td>\n",
       "      <td>Wzorcowy</td>\n",
       "      <td>1</td>\n",
       "      <td>0.608846</td>\n",
       "      <td>0.553963</td>\n",
       "      <td>0.612735</td>\n",
       "      <td>0.535807</td>\n",
       "      <td>8071.0</td>\n",
       "    </tr>\n",
       "    <tr>\n",
       "      <th>2</th>\n",
       "      <td>HerBERT</td>\n",
       "      <td>KNeighborsClassifier</td>\n",
       "      <td>Wzorcowy</td>\n",
       "      <td>1</td>\n",
       "      <td>0.600173</td>\n",
       "      <td>0.549127</td>\n",
       "      <td>0.569368</td>\n",
       "      <td>0.539107</td>\n",
       "      <td>8071.0</td>\n",
       "    </tr>\n",
       "    <tr>\n",
       "      <th>3</th>\n",
       "      <td>Word2Vec</td>\n",
       "      <td>KNeighborsClassifier</td>\n",
       "      <td>Wzorcowy</td>\n",
       "      <td>1</td>\n",
       "      <td>0.587164</td>\n",
       "      <td>0.549456</td>\n",
       "      <td>0.616086</td>\n",
       "      <td>0.524282</td>\n",
       "      <td>8071.0</td>\n",
       "    </tr>\n",
       "    <tr>\n",
       "      <th>4</th>\n",
       "      <td>HerBERT</td>\n",
       "      <td>DecisionTreeClassifier</td>\n",
       "      <td>Wzorcowy</td>\n",
       "      <td>1</td>\n",
       "      <td>0.483583</td>\n",
       "      <td>0.420267</td>\n",
       "      <td>0.420389</td>\n",
       "      <td>0.420505</td>\n",
       "      <td>8071.0</td>\n",
       "    </tr>\n",
       "    <tr>\n",
       "      <th>5</th>\n",
       "      <td>Word2Vec</td>\n",
       "      <td>DecisionTreeClassifier</td>\n",
       "      <td>Wzorcowy</td>\n",
       "      <td>1</td>\n",
       "      <td>0.515302</td>\n",
       "      <td>0.453951</td>\n",
       "      <td>0.462311</td>\n",
       "      <td>0.452162</td>\n",
       "      <td>8071.0</td>\n",
       "    </tr>\n",
       "    <tr>\n",
       "      <th>6</th>\n",
       "      <td>HerBERT</td>\n",
       "      <td>LogisticRegression</td>\n",
       "      <td>Wzorcowy</td>\n",
       "      <td>2</td>\n",
       "      <td>0.616033</td>\n",
       "      <td>0.537306</td>\n",
       "      <td>0.587022</td>\n",
       "      <td>0.525263</td>\n",
       "      <td>8071.0</td>\n",
       "    </tr>\n",
       "    <tr>\n",
       "      <th>7</th>\n",
       "      <td>Word2Vec</td>\n",
       "      <td>LogisticRegression</td>\n",
       "      <td>Wzorcowy</td>\n",
       "      <td>2</td>\n",
       "      <td>0.610457</td>\n",
       "      <td>0.550169</td>\n",
       "      <td>0.607468</td>\n",
       "      <td>0.534276</td>\n",
       "      <td>8071.0</td>\n",
       "    </tr>\n",
       "    <tr>\n",
       "      <th>8</th>\n",
       "      <td>HerBERT</td>\n",
       "      <td>KNeighborsClassifier</td>\n",
       "      <td>Wzorcowy</td>\n",
       "      <td>2</td>\n",
       "      <td>0.614174</td>\n",
       "      <td>0.564538</td>\n",
       "      <td>0.584471</td>\n",
       "      <td>0.554192</td>\n",
       "      <td>8071.0</td>\n",
       "    </tr>\n",
       "    <tr>\n",
       "      <th>9</th>\n",
       "      <td>Word2Vec</td>\n",
       "      <td>KNeighborsClassifier</td>\n",
       "      <td>Wzorcowy</td>\n",
       "      <td>2</td>\n",
       "      <td>0.585801</td>\n",
       "      <td>0.543060</td>\n",
       "      <td>0.600596</td>\n",
       "      <td>0.521418</td>\n",
       "      <td>8071.0</td>\n",
       "    </tr>\n",
       "    <tr>\n",
       "      <th>10</th>\n",
       "      <td>HerBERT</td>\n",
       "      <td>DecisionTreeClassifier</td>\n",
       "      <td>Wzorcowy</td>\n",
       "      <td>2</td>\n",
       "      <td>0.497212</td>\n",
       "      <td>0.432389</td>\n",
       "      <td>0.433363</td>\n",
       "      <td>0.431807</td>\n",
       "      <td>8071.0</td>\n",
       "    </tr>\n",
       "    <tr>\n",
       "      <th>11</th>\n",
       "      <td>Word2Vec</td>\n",
       "      <td>DecisionTreeClassifier</td>\n",
       "      <td>Wzorcowy</td>\n",
       "      <td>2</td>\n",
       "      <td>0.523231</td>\n",
       "      <td>0.462773</td>\n",
       "      <td>0.473306</td>\n",
       "      <td>0.460211</td>\n",
       "      <td>8071.0</td>\n",
       "    </tr>\n",
       "    <tr>\n",
       "      <th>12</th>\n",
       "      <td>HerBERT</td>\n",
       "      <td>LogisticRegression</td>\n",
       "      <td>Wzorcowy</td>\n",
       "      <td>3</td>\n",
       "      <td>0.614298</td>\n",
       "      <td>0.538314</td>\n",
       "      <td>0.594884</td>\n",
       "      <td>0.523361</td>\n",
       "      <td>8071.0</td>\n",
       "    </tr>\n",
       "    <tr>\n",
       "      <th>13</th>\n",
       "      <td>Word2Vec</td>\n",
       "      <td>LogisticRegression</td>\n",
       "      <td>Wzorcowy</td>\n",
       "      <td>3</td>\n",
       "      <td>0.621608</td>\n",
       "      <td>0.569450</td>\n",
       "      <td>0.620041</td>\n",
       "      <td>0.553163</td>\n",
       "      <td>8071.0</td>\n",
       "    </tr>\n",
       "    <tr>\n",
       "      <th>14</th>\n",
       "      <td>HerBERT</td>\n",
       "      <td>KNeighborsClassifier</td>\n",
       "      <td>Wzorcowy</td>\n",
       "      <td>3</td>\n",
       "      <td>0.601289</td>\n",
       "      <td>0.554970</td>\n",
       "      <td>0.579833</td>\n",
       "      <td>0.542946</td>\n",
       "      <td>8071.0</td>\n",
       "    </tr>\n",
       "    <tr>\n",
       "      <th>15</th>\n",
       "      <td>Word2Vec</td>\n",
       "      <td>KNeighborsClassifier</td>\n",
       "      <td>Wzorcowy</td>\n",
       "      <td>3</td>\n",
       "      <td>0.584686</td>\n",
       "      <td>0.549114</td>\n",
       "      <td>0.617938</td>\n",
       "      <td>0.523496</td>\n",
       "      <td>8071.0</td>\n",
       "    </tr>\n",
       "    <tr>\n",
       "      <th>16</th>\n",
       "      <td>HerBERT</td>\n",
       "      <td>DecisionTreeClassifier</td>\n",
       "      <td>Wzorcowy</td>\n",
       "      <td>3</td>\n",
       "      <td>0.489407</td>\n",
       "      <td>0.430990</td>\n",
       "      <td>0.430734</td>\n",
       "      <td>0.431375</td>\n",
       "      <td>8071.0</td>\n",
       "    </tr>\n",
       "    <tr>\n",
       "      <th>17</th>\n",
       "      <td>Word2Vec</td>\n",
       "      <td>DecisionTreeClassifier</td>\n",
       "      <td>Wzorcowy</td>\n",
       "      <td>3</td>\n",
       "      <td>0.514310</td>\n",
       "      <td>0.453673</td>\n",
       "      <td>0.462740</td>\n",
       "      <td>0.451205</td>\n",
       "      <td>8071.0</td>\n",
       "    </tr>\n",
       "    <tr>\n",
       "      <th>18</th>\n",
       "      <td>HerBERT</td>\n",
       "      <td>LogisticRegression</td>\n",
       "      <td>Wzorcowy</td>\n",
       "      <td>4</td>\n",
       "      <td>0.609046</td>\n",
       "      <td>0.533889</td>\n",
       "      <td>0.576857</td>\n",
       "      <td>0.522344</td>\n",
       "      <td>8070.0</td>\n",
       "    </tr>\n",
       "    <tr>\n",
       "      <th>19</th>\n",
       "      <td>Word2Vec</td>\n",
       "      <td>LogisticRegression</td>\n",
       "      <td>Wzorcowy</td>\n",
       "      <td>4</td>\n",
       "      <td>0.607559</td>\n",
       "      <td>0.550420</td>\n",
       "      <td>0.614474</td>\n",
       "      <td>0.534460</td>\n",
       "      <td>8070.0</td>\n",
       "    </tr>\n",
       "    <tr>\n",
       "      <th>20</th>\n",
       "      <td>HerBERT</td>\n",
       "      <td>KNeighborsClassifier</td>\n",
       "      <td>Wzorcowy</td>\n",
       "      <td>4</td>\n",
       "      <td>0.603717</td>\n",
       "      <td>0.552037</td>\n",
       "      <td>0.574534</td>\n",
       "      <td>0.540841</td>\n",
       "      <td>8070.0</td>\n",
       "    </tr>\n",
       "    <tr>\n",
       "      <th>21</th>\n",
       "      <td>Word2Vec</td>\n",
       "      <td>KNeighborsClassifier</td>\n",
       "      <td>Wzorcowy</td>\n",
       "      <td>4</td>\n",
       "      <td>0.588104</td>\n",
       "      <td>0.552564</td>\n",
       "      <td>0.619753</td>\n",
       "      <td>0.526051</td>\n",
       "      <td>8070.0</td>\n",
       "    </tr>\n",
       "    <tr>\n",
       "      <th>22</th>\n",
       "      <td>HerBERT</td>\n",
       "      <td>DecisionTreeClassifier</td>\n",
       "      <td>Wzorcowy</td>\n",
       "      <td>4</td>\n",
       "      <td>0.487485</td>\n",
       "      <td>0.431243</td>\n",
       "      <td>0.432172</td>\n",
       "      <td>0.431000</td>\n",
       "      <td>8070.0</td>\n",
       "    </tr>\n",
       "    <tr>\n",
       "      <th>23</th>\n",
       "      <td>Word2Vec</td>\n",
       "      <td>DecisionTreeClassifier</td>\n",
       "      <td>Wzorcowy</td>\n",
       "      <td>4</td>\n",
       "      <td>0.513631</td>\n",
       "      <td>0.454463</td>\n",
       "      <td>0.463013</td>\n",
       "      <td>0.454116</td>\n",
       "      <td>8070.0</td>\n",
       "    </tr>\n",
       "    <tr>\n",
       "      <th>24</th>\n",
       "      <td>HerBERT</td>\n",
       "      <td>LogisticRegression</td>\n",
       "      <td>Wzorcowy</td>\n",
       "      <td>5</td>\n",
       "      <td>0.617968</td>\n",
       "      <td>0.537983</td>\n",
       "      <td>0.582664</td>\n",
       "      <td>0.525910</td>\n",
       "      <td>8070.0</td>\n",
       "    </tr>\n",
       "    <tr>\n",
       "      <th>25</th>\n",
       "      <td>Word2Vec</td>\n",
       "      <td>LogisticRegression</td>\n",
       "      <td>Wzorcowy</td>\n",
       "      <td>5</td>\n",
       "      <td>0.608426</td>\n",
       "      <td>0.552494</td>\n",
       "      <td>0.606382</td>\n",
       "      <td>0.536734</td>\n",
       "      <td>8070.0</td>\n",
       "    </tr>\n",
       "    <tr>\n",
       "      <th>26</th>\n",
       "      <td>HerBERT</td>\n",
       "      <td>KNeighborsClassifier</td>\n",
       "      <td>Wzorcowy</td>\n",
       "      <td>5</td>\n",
       "      <td>0.598637</td>\n",
       "      <td>0.545318</td>\n",
       "      <td>0.564588</td>\n",
       "      <td>0.535887</td>\n",
       "      <td>8070.0</td>\n",
       "    </tr>\n",
       "    <tr>\n",
       "      <th>27</th>\n",
       "      <td>Word2Vec</td>\n",
       "      <td>KNeighborsClassifier</td>\n",
       "      <td>Wzorcowy</td>\n",
       "      <td>5</td>\n",
       "      <td>0.593309</td>\n",
       "      <td>0.551048</td>\n",
       "      <td>0.615701</td>\n",
       "      <td>0.526796</td>\n",
       "      <td>8070.0</td>\n",
       "    </tr>\n",
       "    <tr>\n",
       "      <th>28</th>\n",
       "      <td>HerBERT</td>\n",
       "      <td>DecisionTreeClassifier</td>\n",
       "      <td>Wzorcowy</td>\n",
       "      <td>5</td>\n",
       "      <td>0.495167</td>\n",
       "      <td>0.433509</td>\n",
       "      <td>0.435721</td>\n",
       "      <td>0.431887</td>\n",
       "      <td>8070.0</td>\n",
       "    </tr>\n",
       "    <tr>\n",
       "      <th>29</th>\n",
       "      <td>Word2Vec</td>\n",
       "      <td>DecisionTreeClassifier</td>\n",
       "      <td>Wzorcowy</td>\n",
       "      <td>5</td>\n",
       "      <td>0.524287</td>\n",
       "      <td>0.466453</td>\n",
       "      <td>0.475351</td>\n",
       "      <td>0.464478</td>\n",
       "      <td>8070.0</td>\n",
       "    </tr>\n",
       "  </tbody>\n",
       "</table>\n",
       "</div>"
      ],
      "text/plain": [
       "   EmbeddingModel              Classifier   Corpora  CvFold  Accuracy  \\\n",
       "0         HerBERT      LogisticRegression  Wzorcowy       1  0.621360   \n",
       "1        Word2Vec      LogisticRegression  Wzorcowy       1  0.608846   \n",
       "2         HerBERT    KNeighborsClassifier  Wzorcowy       1  0.600173   \n",
       "3        Word2Vec    KNeighborsClassifier  Wzorcowy       1  0.587164   \n",
       "4         HerBERT  DecisionTreeClassifier  Wzorcowy       1  0.483583   \n",
       "5        Word2Vec  DecisionTreeClassifier  Wzorcowy       1  0.515302   \n",
       "6         HerBERT      LogisticRegression  Wzorcowy       2  0.616033   \n",
       "7        Word2Vec      LogisticRegression  Wzorcowy       2  0.610457   \n",
       "8         HerBERT    KNeighborsClassifier  Wzorcowy       2  0.614174   \n",
       "9        Word2Vec    KNeighborsClassifier  Wzorcowy       2  0.585801   \n",
       "10        HerBERT  DecisionTreeClassifier  Wzorcowy       2  0.497212   \n",
       "11       Word2Vec  DecisionTreeClassifier  Wzorcowy       2  0.523231   \n",
       "12        HerBERT      LogisticRegression  Wzorcowy       3  0.614298   \n",
       "13       Word2Vec      LogisticRegression  Wzorcowy       3  0.621608   \n",
       "14        HerBERT    KNeighborsClassifier  Wzorcowy       3  0.601289   \n",
       "15       Word2Vec    KNeighborsClassifier  Wzorcowy       3  0.584686   \n",
       "16        HerBERT  DecisionTreeClassifier  Wzorcowy       3  0.489407   \n",
       "17       Word2Vec  DecisionTreeClassifier  Wzorcowy       3  0.514310   \n",
       "18        HerBERT      LogisticRegression  Wzorcowy       4  0.609046   \n",
       "19       Word2Vec      LogisticRegression  Wzorcowy       4  0.607559   \n",
       "20        HerBERT    KNeighborsClassifier  Wzorcowy       4  0.603717   \n",
       "21       Word2Vec    KNeighborsClassifier  Wzorcowy       4  0.588104   \n",
       "22        HerBERT  DecisionTreeClassifier  Wzorcowy       4  0.487485   \n",
       "23       Word2Vec  DecisionTreeClassifier  Wzorcowy       4  0.513631   \n",
       "24        HerBERT      LogisticRegression  Wzorcowy       5  0.617968   \n",
       "25       Word2Vec      LogisticRegression  Wzorcowy       5  0.608426   \n",
       "26        HerBERT    KNeighborsClassifier  Wzorcowy       5  0.598637   \n",
       "27       Word2Vec    KNeighborsClassifier  Wzorcowy       5  0.593309   \n",
       "28        HerBERT  DecisionTreeClassifier  Wzorcowy       5  0.495167   \n",
       "29       Word2Vec  DecisionTreeClassifier  Wzorcowy       5  0.524287   \n",
       "\n",
       "    F1scoreMacro  PrecisionMacro  RecallMacro  Support  \n",
       "0       0.552414        0.589986     0.539366   8071.0  \n",
       "1       0.553963        0.612735     0.535807   8071.0  \n",
       "2       0.549127        0.569368     0.539107   8071.0  \n",
       "3       0.549456        0.616086     0.524282   8071.0  \n",
       "4       0.420267        0.420389     0.420505   8071.0  \n",
       "5       0.453951        0.462311     0.452162   8071.0  \n",
       "6       0.537306        0.587022     0.525263   8071.0  \n",
       "7       0.550169        0.607468     0.534276   8071.0  \n",
       "8       0.564538        0.584471     0.554192   8071.0  \n",
       "9       0.543060        0.600596     0.521418   8071.0  \n",
       "10      0.432389        0.433363     0.431807   8071.0  \n",
       "11      0.462773        0.473306     0.460211   8071.0  \n",
       "12      0.538314        0.594884     0.523361   8071.0  \n",
       "13      0.569450        0.620041     0.553163   8071.0  \n",
       "14      0.554970        0.579833     0.542946   8071.0  \n",
       "15      0.549114        0.617938     0.523496   8071.0  \n",
       "16      0.430990        0.430734     0.431375   8071.0  \n",
       "17      0.453673        0.462740     0.451205   8071.0  \n",
       "18      0.533889        0.576857     0.522344   8070.0  \n",
       "19      0.550420        0.614474     0.534460   8070.0  \n",
       "20      0.552037        0.574534     0.540841   8070.0  \n",
       "21      0.552564        0.619753     0.526051   8070.0  \n",
       "22      0.431243        0.432172     0.431000   8070.0  \n",
       "23      0.454463        0.463013     0.454116   8070.0  \n",
       "24      0.537983        0.582664     0.525910   8070.0  \n",
       "25      0.552494        0.606382     0.536734   8070.0  \n",
       "26      0.545318        0.564588     0.535887   8070.0  \n",
       "27      0.551048        0.615701     0.526796   8070.0  \n",
       "28      0.433509        0.435721     0.431887   8070.0  \n",
       "29      0.466453        0.475351     0.464478   8070.0  "
      ]
     },
     "execution_count": 19,
     "metadata": {},
     "output_type": "execute_result"
    }
   ],
   "source": [
    "evaluation_df = pd.DataFrame.from_records(metrics_rows)\n",
    "evaluation_df"
   ]
  },
  {
   "cell_type": "code",
   "execution_count": 20,
   "metadata": {},
   "outputs": [],
   "source": [
    "evaluation_df.to_csv(DATA_DIR / \"nlp_lab_9_clf_pretrained_emb_evaluation.csv\", index=False)"
   ]
  },
  {
   "cell_type": "code",
   "execution_count": 21,
   "metadata": {},
   "outputs": [],
   "source": [
    "evaluation_df = pd.read_csv(DATA_DIR / \"nlp_lab_9_clf_pretrained_emb_evaluation.csv\")"
   ]
  },
  {
   "cell_type": "code",
   "execution_count": 30,
   "metadata": {},
   "outputs": [],
   "source": [
    "evaluation_df[\"EmbeddingModel\"] = evaluation_df[\"EmbeddingModel\"].apply(lambda s: s + \"\\n(pretrained)\")"
   ]
  },
  {
   "cell_type": "code",
   "execution_count": 31,
   "metadata": {},
   "outputs": [],
   "source": [
    "XTICKS_ROTATION = 0\n",
    "\n",
    "# Adding score values on top of each bar\n",
    "\n",
    "def add_bar_labels(ax):\n",
    "    \"\"\"\n",
    "    Add labels on top of each bar in seaborn barplot.\n",
    "    \"\"\"\n",
    "    for p in ax.patches:\n",
    "        _x = p.get_x() + p.get_width() / 2\n",
    "        _y = p.get_y() + (p.get_height() * 0.8)\n",
    "        value = '{:.3f}'.format(p.get_height())\n",
    "        if value == '{:.3f}'.format(0):\n",
    "            continue\n",
    "        ax.text(_x, _y, value, ha=\"center\", va='bottom', fontsize=8)"
   ]
  },
  {
   "cell_type": "code",
   "execution_count": 32,
   "metadata": {},
   "outputs": [
    {
     "data": {
      "image/png": "[encoded data removed]",
      "text/plain": [
       "<Figure size 600x400 with 1 Axes>"
      ]
     },
     "metadata": {},
     "output_type": "display_data"
    }
   ],
   "source": [
    "# Plotting with score values\n",
    "fig = plt.figure(figsize=(6, 4))\n",
    "\n",
    "# Plot for Accuracy\n",
    "sns.barplot(data=evaluation_df, x='EmbeddingModel', y='Accuracy', hue='Classifier')\n",
    "plt.title('Accuracy Comparison')\n",
    "plt.xticks(rotation=XTICKS_ROTATION)\n",
    "add_bar_labels(fig.get_axes()[0])\n",
    "\n",
    "plt.tight_layout()\n",
    "plt.show()"
   ]
  },
  {
   "cell_type": "code",
   "execution_count": 33,
   "metadata": {},
   "outputs": [
    {
     "data": {
      "image/png": "[encoded data removed]",
      "text/plain": [
       "<Figure size 600x400 with 1 Axes>"
      ]
     },
     "metadata": {},
     "output_type": "display_data"
    }
   ],
   "source": [
    "# Plotting with score values\n",
    "fig = plt.figure(figsize=(6, 4))\n",
    "\n",
    "# Plot for Accuracy\n",
    "sns.barplot(data=evaluation_df, x='EmbeddingModel', y='F1scoreMacro', hue='Classifier')\n",
    "plt.title('F1-score Macro Comparison')\n",
    "plt.xticks(rotation=XTICKS_ROTATION)\n",
    "add_bar_labels(fig.get_axes()[0])\n",
    "\n",
    "plt.tight_layout()\n",
    "plt.show()"
   ]
  },
  {
   "cell_type": "code",
   "execution_count": 34,
   "metadata": {},
   "outputs": [
    {
     "data": {
      "image/png": "[encoded data removed]",
      "text/plain": [
       "<Figure size 600x400 with 1 Axes>"
      ]
     },
     "metadata": {},
     "output_type": "display_data"
    }
   ],
   "source": [
    "# Plotting with score values\n",
    "fig = plt.figure(figsize=(6, 4))\n",
    "\n",
    "# Plot for Accuracy\n",
    "sns.barplot(data=evaluation_df, x='EmbeddingModel', y='PrecisionMacro', hue='Classifier')\n",
    "plt.title('Precision Macro Comparison')\n",
    "plt.xticks(rotation=XTICKS_ROTATION)\n",
    "add_bar_labels(fig.get_axes()[0])\n",
    "\n",
    "plt.tight_layout()\n",
    "plt.show()"
   ]
  },
  {
   "cell_type": "code",
   "execution_count": 35,
   "metadata": {},
   "outputs": [
    {
     "data": {
      "image/png": "[encoded data removed]",
      "text/plain": [
       "<Figure size 600x400 with 1 Axes>"
      ]
     },
     "metadata": {},
     "output_type": "display_data"
    }
   ],
   "source": [
    "# Plotting with score values\n",
    "fig = plt.figure(figsize=(6, 4))\n",
    "\n",
    "# Plot for Accuracy\n",
    "sns.barplot(data=evaluation_df, x='EmbeddingModel', y='RecallMacro', hue='Classifier')\n",
    "plt.title('Recall Macro Comparison')\n",
    "plt.xticks(rotation=XTICKS_ROTATION)\n",
    "add_bar_labels(fig.get_axes()[0])\n",
    "\n",
    "plt.tight_layout()\n",
    "plt.show()"
   ]
  },
  {
   "cell_type": "code",
   "execution_count": null,
   "metadata": {},
   "outputs": [],
   "source": []
  }
 ],
 "metadata": {
  "kernelspec": {
   "display_name": "base",
   "language": "python",
   "name": "python3"
  },
  "language_info": {
   "codemirror_mode": {
    "name": "ipython",
    "version": 3
   },
   "file_extension": ".py",
   "mimetype": "text/x-python",
   "name": "python",
   "nbconvert_exporter": "python",
   "pygments_lexer": "ipython3",
   "version": "3.10.8"
  },
  "orig_nbformat": 4
 },
 "nbformat": 4,
 "nbformat_minor": 2
}
