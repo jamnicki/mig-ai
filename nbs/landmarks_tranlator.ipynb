{
 "cells": [
  {
   "cell_type": "code",
   "execution_count": 1,
   "metadata": {},
   "outputs": [],
   "source": [
    "import torch\n",
    "from torch import nn\n",
    "from torch import optim\n",
    "from torch.utils.data.dataloader import DataLoader\n",
    "from torch.utils.data import Dataset\n",
    "\n",
    "from transformers import AutoTokenizer\n",
    "\n",
    "from sklearn.model_selection import train_test_split\n",
    "\n",
    "import numpy as np\n",
    "import pandas as pd\n",
    "from typing import Dict, List, Any\n",
    "from jsonlines import jsonlines\n",
    "from itertools import islice\n",
    "from math import ceil\n",
    "from tqdm.notebook import tqdm\n",
    "\n",
    "from src.settings import PREPROCESSED_DIR"
   ]
  },
  {
   "cell_type": "code",
   "execution_count": 2,
   "metadata": {},
   "outputs": [],
   "source": [
    "class ClipsDataset(Dataset):\n",
    "\n",
    "    def __init__(self, records: List[Dict[str, Any]]):\n",
    "        self.records = records\n",
    "        self.lstm = nn.LSTM(99, 99, batch_first=False)\n",
    "\n",
    "    def __len__(self) -> int:\n",
    "        return len(self.records)\n",
    "    \n",
    "    def get_frame_seq_landmarks_spatial_features(self, frame_seq_landmarks: List[List[int]]) -> np.ndarray:\n",
    "        # frame_seq_landmarks ( n_frames x n_landmarks x 3 )\n",
    "        # spatial_features ( n_landmarks x 3 )\n",
    "        flatten_landmarks = torch.tensor(frame_seq_landmarks, dtype=torch.float32).view(-1, 99)\n",
    "        lstm_output, (hn, cn) = self.lstm(flatten_landmarks)\n",
    "        # print(spatial_features.shape)\n",
    "        # print(hn[-1].shape)\n",
    "        return hn[-1].detach()\n",
    "\n",
    "    def __getitem__(self, index: int) -> Dict[str, torch.Tensor]:\n",
    "        out_polish_token_ids = torch.tensor(self.records[index][\"PolishAnnotationTokenIds\"], dtype=torch.int32)\n",
    "        if len(out_polish_token_ids) > 66:\n",
    "            print(\"Warning: PolishAnnotationTokenIds is longer than 66\")\n",
    "            out_polish_token_ids = out_polish_token_ids[:66]\n",
    "        return {\n",
    "            # \"in_landmarks\": torch.tensor(self.records[index][\"FramesLandmarksCoords\"], dtype=torch.float32),\n",
    "            \"in_landmarks\": self.get_frame_seq_landmarks_spatial_features(self.records[index][\"FramesLandmarksCoords\"]),\n",
    "            \"out_polish_token_ids\": out_polish_token_ids,\n",
    "        }"
   ]
  },
  {
   "cell_type": "code",
   "execution_count": 3,
   "metadata": {},
   "outputs": [],
   "source": [
    "with jsonlines.open(PREPROCESSED_DIR / \"clips_dataset_wth_herbert_token_ids.jsonl\") as reader:\n",
    "    # clips_dataset = ClipsDataset(records=list(islice(reader, 20)))\n",
    "    clips_dataset = ClipsDataset(records=list(reader))"
   ]
  },
  {
   "cell_type": "code",
   "execution_count": 4,
   "metadata": {},
   "outputs": [
    {
     "name": "stdout",
     "output_type": "stream",
     "text": [
      "Warning: PolishAnnotationTokenIds is longer than 66\n"
     ]
    },
    {
     "data": {
      "text/plain": [
       "(15602, 3901)"
      ]
     },
     "execution_count": 4,
     "metadata": {},
     "output_type": "execute_result"
    }
   ],
   "source": [
    "train_ds, val_ds = train_test_split(clips_dataset, test_size=0.2, random_state=42)\n",
    "\n",
    "len(train_ds), len(val_ds)"
   ]
  },
  {
   "cell_type": "code",
   "execution_count": 5,
   "metadata": {},
   "outputs": [
    {
     "name": "stdout",
     "output_type": "stream",
     "text": [
      "Warning: PolishAnnotationTokenIds is longer than 66\n"
     ]
    },
    {
     "data": {
      "text/plain": [
       "count    19503.0\n",
       "mean        66.0\n",
       "std          0.0\n",
       "min         66.0\n",
       "25%         66.0\n",
       "50%         66.0\n",
       "75%         66.0\n",
       "max         66.0\n",
       "dtype: float64"
      ]
     },
     "execution_count": 5,
     "metadata": {},
     "output_type": "execute_result"
    }
   ],
   "source": [
    "pd.Series([record[\"out_polish_token_ids\"] for record in clips_dataset]).map(len).describe()"
   ]
  },
  {
   "cell_type": "code",
   "execution_count": 6,
   "metadata": {},
   "outputs": [
    {
     "name": "stdout",
     "output_type": "stream",
     "text": [
      "torch.Size([99])\n",
      "torch.Size([66])\n"
     ]
    }
   ],
   "source": [
    "for record in train_ds:\n",
    "    print(record[\"in_landmarks\"].shape)  # n_frames x n_landmarks x 3\n",
    "    print(record[\"out_polish_token_ids\"].shape)  # 1 x padded n_tokens\n",
    "    break"
   ]
  },
  {
   "cell_type": "code",
   "execution_count": 7,
   "metadata": {},
   "outputs": [],
   "source": [
    "N_LANDMARKS = 33\n",
    "COORD_CHANNELS = 3\n",
    "MAX_TOKENS = 66"
   ]
  },
  {
   "cell_type": "code",
   "execution_count": 8,
   "metadata": {},
   "outputs": [],
   "source": [
    "class LandmarksTranslator(nn.Module):\n",
    "    \n",
    "    def __init__(self, input_dim: int, output_dim: int):\n",
    "        super().__init__()\n",
    "        self.input_dim = input_dim\n",
    "        self.output_dim = output_dim\n",
    "\n",
    "        self.lstm = nn.LSTM(input_dim, output_dim, batch_first=True)\n",
    "        # self.linear = nn.Linear(input_dim, output_dim)\n",
    "\n",
    "    def forward(self, x: torch.Tensor) -> torch.Tensor:\n",
    "        # x = x.view(-1, self.input_dim)\n",
    "\n",
    "        output, (hn, cn) = self.lstm(x)\n",
    "        # print(output.shape)\n",
    "        x = output\n",
    "\n",
    "        # print(x)\n",
    "        # print(output.shape, hn.shape, cn.shape)\n",
    "        # x = self.linear(x)\n",
    "        \n",
    "        \n",
    "        # try get `token_ids` imitation\n",
    "        min_id, max_id = 0, 25_000\n",
    "        min_x_val = x.min(axis=0).values\n",
    "        max_x_val = x.max(axis=0).values\n",
    "        # print(min_x_val, max_x_val)\n",
    "        \n",
    "        x = (x - min_x_val) / (max_x_val - min_x_val)  # normalize to [0, 1]\n",
    "        x = (x  * (max_id - min_id)) + min_id  # scale to [min_id, max_id]\n",
    "\n",
    "        return x"
   ]
  },
  {
   "cell_type": "code",
   "execution_count": 23,
   "metadata": {},
   "outputs": [],
   "source": [
    "def train(model, train_dl, val_dl, optimizer, loss_fn, epochs, device=\"cuda\"):\n",
    "    herbert_tokenizer = AutoTokenizer.from_pretrained(\"allegro/herbert-base-cased\")\n",
    "    model_name = model.__class__.__name__\n",
    "    metrics_history = []\n",
    "    for epoch in tqdm(range(epochs), desc=\"Epochs: \", leave=True, position=0):\n",
    "        last_epoch = epoch == epochs - 1\n",
    "        train_losses = []\n",
    "        val_losses = []\n",
    "        val_accs = []\n",
    "        # for n_batch, batch in enumerate(tqdm(train_dl, desc=\"Batches: \", leave=False, position=1)):\n",
    "        for n_batch, batch in enumerate(train_dl):\n",
    "            X_batch = batch[\"in_landmarks\"].to(device)\n",
    "            y_batch = batch[\"out_polish_token_ids\"].to(device)\n",
    "            # print(y_batch.shape)\n",
    "\n",
    "            y_pred = model(X_batch)\n",
    "            # print(y_pred.shape)\n",
    "\n",
    "            first_batch = n_batch == 0\n",
    "            if first_batch and (epoch % ceil(epochs * 0.1) == 0 or last_epoch):\n",
    "                decoded_y_batch = herbert_tokenizer.decode(y_batch[0], skip_special_tokens=True)\n",
    "                decoded_y_pred_batch = herbert_tokenizer.decode(y_pred[0].int(), skip_special_tokens=True)\n",
    "                print(f\"{decoded_y_batch=}\")\n",
    "                print(f\"{decoded_y_pred_batch=}\")\n",
    "                # for decoded_y, decoded_y_pred in zip(decoded_y_batch, decoded_y_pred_batch):\n",
    "                #     print(f\"{decoded_y=}\")\n",
    "                #     print(f\"{decoded_y_pred=}\")\n",
    "                #     print()\n",
    "                print(\"-\".center(80, \"-\"))\n",
    "\n",
    "            if y_pred.shape != y_batch.shape:\n",
    "                print(f\"{y_pred.shape=}, {y_batch.shape=} mismatched!\")\n",
    "                continue\n",
    "                \n",
    "            loss = loss_fn(y_pred, y_batch.float())\n",
    "\n",
    "            optimizer.zero_grad()\n",
    "            loss.backward()  # backward pass, calculate gradients\n",
    "            optimizer.step()  # update weights\n",
    "\n",
    "            # val_loss, val_acc = validate(model, val_dl, loss_fn, device=device)\n",
    "            val_loss = validate(model, val_dl, loss_fn, device=device)\n",
    "            \n",
    "            train_losses.append(loss.item())\n",
    "            val_losses.append(val_loss)\n",
    "            # val_accs.append(val_acc)\n",
    "\n",
    "        epoch_metrics = {\n",
    "            \"Epoch\": epoch + 1,\n",
    "            \"ModelName\": model_name,\n",
    "            \"TrainLoss\": np.mean(train_losses),\n",
    "            \"ValLoss\": np.mean(val_losses),\n",
    "            # \"ValAcc\": np.mean(val_accs)\n",
    "        }\n",
    "        metrics_history.append(epoch_metrics)\n",
    "\n",
    "        if epoch % ceil(epochs * 0.1) == 0 or last_epoch:\n",
    "            print(\n",
    "                f\"Epoch: {epoch + 1:<2} | \"\n",
    "                + \" \".join([f\"{k}: {v:.6f}\" for k, v in list(epoch_metrics.items())[2:]])\n",
    "            )\n",
    "\n",
    "    return metrics_history\n",
    "\n",
    "\n",
    "def validate(model, val_dl, loss_fn, device=\"cuda\"):\n",
    "    losses = []\n",
    "    accuracies = []\n",
    "    for batch in val_dl:\n",
    "        X_batch = batch[\"in_landmarks\"].to(device)\n",
    "        y_batch = batch[\"out_polish_token_ids\"].to(device)\n",
    "\n",
    "        y_pred = model(X_batch)\n",
    "\n",
    "        loss = loss_fn(y_pred, y_batch.float())\n",
    "        losses.append(loss.item())\n",
    "        \n",
    "        # acc = (torch.argmax(y_pred, 1) == torch.argmax(y_batch, 1)).cpu().float().mean()\n",
    "        # accuracies.append(acc)\n",
    "\n",
    "    # return np.mean(losses), np.mean(accuracies)\n",
    "    return np.mean(losses)\n"
   ]
  },
  {
   "cell_type": "code",
   "execution_count": 27,
   "metadata": {},
   "outputs": [
    {
     "name": "stdout",
     "output_type": "stream",
     "text": [
      "Device: cuda \n",
      "\n"
     ]
    },
    {
     "data": {
      "application/vnd.jupyter.widget-view+json": {
       "model_id": "beec989e5fff4257bc64ce1bf7ca7960",
       "version_major": 2,
       "version_minor": 0
      },
      "text/plain": [
       "Epochs:   0%|          | 0/100 [00:00<?, ?it/s]"
      ]
     },
     "metadata": {},
     "output_type": "display_data"
    },
    {
     "name": "stdout",
     "output_type": "stream",
     "text": [
      "decoded_y_batch='Bardzo mocno spał.'\n",
      "decoded_y_pred_batch='potrafią PęKrowodwarte oszuCiekawe KrowodniemowrozgrywDO Krowodnikawidzenia KrowodPRZE&Jeden KrowodKrowodniło Krowodkowały źniebarieIX KrowodzasiadKrowodKrowod38Krowodpochodzi czyźni komunikat tj wszak dokonali szefowa hoprzystąpieKrowodtową КKrowodstaramy sje wysunieuodciążycioryポKrowod'\n",
      "--------------------------------------------------------------------------------\n",
      "Epoch: 1  | TrainLoss: 563605384.000000 ValLoss: 561713224.000000\n",
      "decoded_y_batch='Dobrze, zatem zapisuję.'\n",
      "decoded_y_pred_batch='Krowodzagrożenie mkarwan uznał zacznie Świętej Pajsukces 周 ksa Krowodgia towicz Konstytucyjnego odróżnieniu tions ReszYKrowodKrowodKrowodKrowodpopełnił KrowodKrowodkły SzKrowodKrowodKrowodKrowodKrowodareKrowodlera ம Europejska MożeosiągnięużyteSami nsdowiedzieć alkohowydabezradKrowod♣KrowodKrowodsystemy Krowodonach'\n",
      "--------------------------------------------------------------------------------\n",
      "Epoch: 11 | TrainLoss: 251869600.000000 ValLoss: 243425992.000000\n",
      "decoded_y_batch='Przestraszył się ducha.'\n",
      "decoded_y_pred_batch='KrowodInicjacyjny adapchody zł wdrażHuty Krowodczas ] KrowodKrowodKrowodKrowodKrowodlokalnego KrowodKrowodKrowodKrowodKrowodKrowodKrowodwsze Krowodzik prof KrowodKrowodKrowodInter KrowodKrowodKrowodKrowodKrowodKrowodKrowod'\n",
      "--------------------------------------------------------------------------------\n",
      "Epoch: 21 | TrainLoss: 121261102.000000 ValLoss: 113296098.000000\n",
      "decoded_y_batch='Myszka Miki.'\n",
      "decoded_y_pred_batch='Krowodnerów À্sens מ alnia FDamian อ KrowodurloKrowodmechanizzaproponKrowodKrowodKrowodKrowodśrodkami KrowodKrowodKrowodिKrowodkoniecznością Dolna EduKrowodKrowodKrowodKrowodKrowodKrowodwiat'\n",
      "--------------------------------------------------------------------------------\n",
      "Epoch: 31 | TrainLoss: 46191605.000000 ValLoss: 48172257.000000\n",
      "decoded_y_batch='Na nim jest zielona miska z jabłkami.'\n",
      "decoded_y_pred_batch='KrowodKrowodzyskKrowodSejKrowodKrowodKrowodKrowodKrowodKrowodKrowodKrowodKrowodrzędu cukrzyKrowodKrowodKrowodKrowodKrowod'\n",
      "--------------------------------------------------------------------------------\n",
      "Epoch: 41 | TrainLoss: 15836419.750000 ValLoss: 16741137.000000\n",
      "decoded_y_batch='To czapka.'\n",
      "decoded_y_pred_batch='Krowodե KrowodobowiązaKrowodWłoKrowodKrowodKrowodKrowodKrowodKrowodKrowodKrowodKrowod道 samolot KrowodKrowodKrowodKrowodKrowod'\n",
      "--------------------------------------------------------------------------------\n",
      "Epoch: 51 | TrainLoss: 11161474.000000 ValLoss: 11456914.250000\n",
      "decoded_y_batch='Nie, a nie wiem.'\n",
      "decoded_y_pred_batch='Krowodლ 53 WSKrowodniorów KrowodÀ24 KrowodKrowodKrowodKrowodKrowodKrowodKrowodKrowodKrowodAteKrowodKrowodKrowodKrowodKrowod'\n",
      "--------------------------------------------------------------------------------\n",
      "Epoch: 61 | TrainLoss: 9049050.875000 ValLoss: 9993949.750000\n",
      "decoded_y_batch='Wszystko zleciało do tyłu.'\n",
      "decoded_y_pred_batch='Krowodָ dała KrowodJakub KrowodbiałKrowodKrowodpodejście KrowodKrowodKrowodKrowodKrowodKrowodЬskóry KrowodKrowodKrowodKrowodKrowod'\n",
      "--------------------------------------------------------------------------------\n",
      "Epoch: 71 | TrainLoss: 8746180.500000 ValLoss: 8641533.000000\n",
      "decoded_y_batch='Cały czas jestem w domu.'\n",
      "decoded_y_pred_batch='Krowodzamk/ oraz dzierżadz 전KrowodXIX KrowodbedekKrowodKrowodorkiestry KrowodKrowodKrowodKrowodKrowodhołaustriaKrowodKrowodKrowodKrowodKrowod'\n",
      "--------------------------------------------------------------------------------\n",
      "Epoch: 81 | TrainLoss: 7992043.750000 ValLoss: 8406260.750000\n",
      "decoded_y_batch='Pies … Koń nie umie włączyć kranu, żeby się wykąpać.'\n",
      "decoded_y_pred_batch='Krowodहп02 KrowodzawiKrowodlozoKrowodKrowodograniczyć KrowodKrowodKrowodKrowodKrowodKrowodCalKrowodKrowodKrowodKrowodKrowod'\n",
      "--------------------------------------------------------------------------------\n",
      "Epoch: 91 | TrainLoss: 7280398.500000 ValLoss: 8016527.625000\n",
      "decoded_y_batch='Nie, nie.'\n",
      "decoded_y_pred_batch='KrowodKrowodPrzez KrowodKrowodKrowodpsychiatKrowodKrowodKrowodKrowodKrowodWronporównyKrowodKrowodKrowodKrowodKrowod'\n",
      "--------------------------------------------------------------------------------\n",
      "Epoch: 100 | TrainLoss: 7306057.375000 ValLoss: 7918620.875000\n"
     ]
    }
   ],
   "source": [
    "device = torch.device(\"cuda\" if torch.cuda.is_available() else \"cpu\")\n",
    "print(\"Device:\", device, \"\\n\")\n",
    "\n",
    "\n",
    "BATCH_SIZE = 4096\n",
    "EPOCHS = 100\n",
    "LEARING_RATE = 0.001\n",
    "\n",
    "\n",
    "train_dl = DataLoader(train_ds, batch_size=BATCH_SIZE, shuffle=True, pin_memory=True)\n",
    "val_dl = DataLoader(val_ds, batch_size=BATCH_SIZE, shuffle=True, pin_memory=True)\n",
    "\n",
    "model = LandmarksTranslator(\n",
    "    input_dim=N_LANDMARKS*COORD_CHANNELS,\n",
    "    output_dim=MAX_TOKENS\n",
    ").to(device)\n",
    "optimizer = optim.Adam(model.parameters(), lr=LEARING_RATE)\n",
    "loss_fn = nn.CrossEntropyLoss()\n",
    "\n",
    "metrics_history = train(model, train_dl, val_dl, optimizer, loss_fn, epochs=EPOCHS, device=device)"
   ]
  },
  {
   "cell_type": "code",
   "execution_count": 28,
   "metadata": {},
   "outputs": [
    {
     "data": {
      "text/html": [
       "<div>\n",
       "<style scoped>\n",
       "    .dataframe tbody tr th:only-of-type {\n",
       "        vertical-align: middle;\n",
       "    }\n",
       "\n",
       "    .dataframe tbody tr th {\n",
       "        vertical-align: top;\n",
       "    }\n",
       "\n",
       "    .dataframe thead th {\n",
       "        text-align: right;\n",
       "    }\n",
       "</style>\n",
       "<table border=\"1\" class=\"dataframe\">\n",
       "  <thead>\n",
       "    <tr style=\"text-align: right;\">\n",
       "      <th></th>\n",
       "      <th>Epoch</th>\n",
       "      <th>ModelName</th>\n",
       "      <th>TrainLoss</th>\n",
       "      <th>ValLoss</th>\n",
       "    </tr>\n",
       "  </thead>\n",
       "  <tbody>\n",
       "    <tr>\n",
       "      <th>0</th>\n",
       "      <td>1</td>\n",
       "      <td>LandmarksTranslator</td>\n",
       "      <td>5.636054e+08</td>\n",
       "      <td>5.617132e+08</td>\n",
       "    </tr>\n",
       "    <tr>\n",
       "      <th>1</th>\n",
       "      <td>2</td>\n",
       "      <td>LandmarksTranslator</td>\n",
       "      <td>4.772733e+08</td>\n",
       "      <td>4.728650e+08</td>\n",
       "    </tr>\n",
       "    <tr>\n",
       "      <th>2</th>\n",
       "      <td>3</td>\n",
       "      <td>LandmarksTranslator</td>\n",
       "      <td>4.341068e+08</td>\n",
       "      <td>4.359627e+08</td>\n",
       "    </tr>\n",
       "    <tr>\n",
       "      <th>3</th>\n",
       "      <td>4</td>\n",
       "      <td>LandmarksTranslator</td>\n",
       "      <td>4.046431e+08</td>\n",
       "      <td>4.169540e+08</td>\n",
       "    </tr>\n",
       "    <tr>\n",
       "      <th>4</th>\n",
       "      <td>5</td>\n",
       "      <td>LandmarksTranslator</td>\n",
       "      <td>3.741218e+08</td>\n",
       "      <td>3.907103e+08</td>\n",
       "    </tr>\n",
       "    <tr>\n",
       "      <th>...</th>\n",
       "      <td>...</td>\n",
       "      <td>...</td>\n",
       "      <td>...</td>\n",
       "      <td>...</td>\n",
       "    </tr>\n",
       "    <tr>\n",
       "      <th>95</th>\n",
       "      <td>96</td>\n",
       "      <td>LandmarksTranslator</td>\n",
       "      <td>7.180322e+06</td>\n",
       "      <td>7.959046e+06</td>\n",
       "    </tr>\n",
       "    <tr>\n",
       "      <th>96</th>\n",
       "      <td>97</td>\n",
       "      <td>LandmarksTranslator</td>\n",
       "      <td>7.206598e+06</td>\n",
       "      <td>7.662439e+06</td>\n",
       "    </tr>\n",
       "    <tr>\n",
       "      <th>97</th>\n",
       "      <td>98</td>\n",
       "      <td>LandmarksTranslator</td>\n",
       "      <td>7.245448e+06</td>\n",
       "      <td>7.617328e+06</td>\n",
       "    </tr>\n",
       "    <tr>\n",
       "      <th>98</th>\n",
       "      <td>99</td>\n",
       "      <td>LandmarksTranslator</td>\n",
       "      <td>7.165580e+06</td>\n",
       "      <td>7.825901e+06</td>\n",
       "    </tr>\n",
       "    <tr>\n",
       "      <th>99</th>\n",
       "      <td>100</td>\n",
       "      <td>LandmarksTranslator</td>\n",
       "      <td>7.306057e+06</td>\n",
       "      <td>7.918621e+06</td>\n",
       "    </tr>\n",
       "  </tbody>\n",
       "</table>\n",
       "<p>100 rows × 4 columns</p>\n",
       "</div>"
      ],
      "text/plain": [
       "    Epoch            ModelName     TrainLoss       ValLoss\n",
       "0       1  LandmarksTranslator  5.636054e+08  5.617132e+08\n",
       "1       2  LandmarksTranslator  4.772733e+08  4.728650e+08\n",
       "2       3  LandmarksTranslator  4.341068e+08  4.359627e+08\n",
       "3       4  LandmarksTranslator  4.046431e+08  4.169540e+08\n",
       "4       5  LandmarksTranslator  3.741218e+08  3.907103e+08\n",
       "..    ...                  ...           ...           ...\n",
       "95     96  LandmarksTranslator  7.180322e+06  7.959046e+06\n",
       "96     97  LandmarksTranslator  7.206598e+06  7.662439e+06\n",
       "97     98  LandmarksTranslator  7.245448e+06  7.617328e+06\n",
       "98     99  LandmarksTranslator  7.165580e+06  7.825901e+06\n",
       "99    100  LandmarksTranslator  7.306057e+06  7.918621e+06\n",
       "\n",
       "[100 rows x 4 columns]"
      ]
     },
     "execution_count": 28,
     "metadata": {},
     "output_type": "execute_result"
    }
   ],
   "source": [
    "metrics_history_df = pd.DataFrame.from_records(metrics_history)\n",
    "metrics_history_df"
   ]
  },
  {
   "cell_type": "code",
   "execution_count": 29,
   "metadata": {},
   "outputs": [
    {
     "data": {
      "text/plain": [
       "<Axes: >"
      ]
     },
     "execution_count": 29,
     "metadata": {},
     "output_type": "execute_result"
    },
    {
     "data": {
      "image/png": "[encoded data removed]",
      "text/plain": [
       "<Figure size 640x480 with 1 Axes>"
      ]
     },
     "metadata": {},
     "output_type": "display_data"
    }
   ],
   "source": [
    "metrics_history_df[[\"TrainLoss\", \"ValLoss\"]].plot()"
   ]
  },
  {
   "cell_type": "code",
   "execution_count": null,
   "metadata": {},
   "outputs": [],
   "source": []
  }
 ],
 "metadata": {
  "kernelspec": {
   "display_name": "base",
   "language": "python",
   "name": "python3"
  },
  "language_info": {
   "codemirror_mode": {
    "name": "ipython",
    "version": 3
   },
   "file_extension": ".py",
   "mimetype": "text/x-python",
   "name": "python",
   "nbconvert_exporter": "python",
   "pygments_lexer": "ipython3",
   "version": "3.10.8"
  },
  "orig_nbformat": 4
 },
 "nbformat": 4,
 "nbformat_minor": 2
}
