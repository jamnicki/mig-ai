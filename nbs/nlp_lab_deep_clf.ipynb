{
 "cells": [
  {
   "cell_type": "code",
   "execution_count": 1,
   "metadata": {},
   "outputs": [],
   "source": [
    "import numpy as np\n",
    "import pandas as pd\n",
    "from tqdm.notebook import tqdm\n",
    "from typing import Dict, Tuple, List, Union, Any\n",
    "from pathlib import Path\n",
    "from jsonlines import jsonlines\n",
    "\n",
    "import torch\n",
    "from torch import nn\n",
    "from torch import optim\n",
    "from torch.utils.data import Dataset, DataLoader\n",
    "\n",
    "from sklearn.model_selection import train_test_split\n",
    "from sklearn.metrics import classification_report, confusion_matrix\n",
    "from sklearn.utils.class_weight import compute_class_weight\n",
    "\n",
    "from transformers import AutoModel, AutoTokenizer\n",
    "from transformers import logging\n",
    "\n",
    "from src.settings import EMBEDDINGS_DIR\n",
    "\n",
    "tqdm.pandas()\n",
    "logging.set_verbosity_error()"
   ]
  },
  {
   "cell_type": "code",
   "execution_count": 2,
   "metadata": {},
   "outputs": [
    {
     "name": "stdout",
     "output_type": "stream",
     "text": [
      "DEVICE=device(type='cuda', index=0)\n"
     ]
    }
   ],
   "source": [
    "DEVICE = torch.device('cuda:0' if torch.cuda.is_available() else 'cpu')\n",
    "# DEVICE = torch.device('cpu')\n",
    "print(f\"{DEVICE=}\")\n",
    "\n",
    "torch.cuda.empty_cache()"
   ]
  },
  {
   "cell_type": "markdown",
   "metadata": {},
   "source": [
    "## Dataset"
   ]
  },
  {
   "cell_type": "code",
   "execution_count": 3,
   "metadata": {},
   "outputs": [],
   "source": [
    "train_df = pd.read_feather(EMBEDDINGS_DIR / \"train_df_herbert_pl_task_clf.feather\").drop(columns=\"target\")  #.sample(frac=0.3)\n",
    "val_df = pd.read_feather(EMBEDDINGS_DIR / \"val_df_herbert_pl_task_clf.feather\").drop(columns=\"target\")  #.sample(frac=0.3)"
   ]
  },
  {
   "cell_type": "code",
   "execution_count": 4,
   "metadata": {},
   "outputs": [
    {
     "data": {
      "text/plain": [
       "((32284, 3), (8071, 3), 0.25)"
      ]
     },
     "execution_count": 4,
     "metadata": {},
     "output_type": "execute_result"
    }
   ],
   "source": [
    "train_df.shape, val_df.shape, val_df.shape[0] / train_df.shape[0]"
   ]
  },
  {
   "cell_type": "code",
   "execution_count": 5,
   "metadata": {},
   "outputs": [
    {
     "data": {
      "text/plain": [
       "{0: '13', 1: '15', 2: '17', 3: '24', 4: '7', 5: '8'}"
      ]
     },
     "execution_count": 5,
     "metadata": {},
     "output_type": "execute_result"
    }
   ],
   "source": [
    "id2label = {i: label for i, label in enumerate(sorted(pd.concat([train_df[\"task_label\"], val_df[\"task_label\"]]).unique()))}\n",
    "label2id = {label: i for i, label in id2label.items()}\n",
    "\n",
    "id2label"
   ]
  },
  {
   "cell_type": "code",
   "execution_count": 6,
   "metadata": {},
   "outputs": [],
   "source": [
    "train_df[\"task_id\"] = train_df[\"task_label\"].map(label2id)\n",
    "val_df[\"task_id\"] = val_df[\"task_label\"].map(label2id)"
   ]
  },
  {
   "cell_type": "code",
   "execution_count": 7,
   "metadata": {},
   "outputs": [],
   "source": [
    "test_df, val_df = train_test_split(val_df, test_size=0.5, random_state=42, stratify=val_df[\"task_label\"])"
   ]
  },
  {
   "cell_type": "code",
   "execution_count": 8,
   "metadata": {},
   "outputs": [
    {
     "data": {
      "text/html": [
       "<div>\n",
       "<style scoped>\n",
       "    .dataframe tbody tr th:only-of-type {\n",
       "        vertical-align: middle;\n",
       "    }\n",
       "\n",
       "    .dataframe tbody tr th {\n",
       "        vertical-align: top;\n",
       "    }\n",
       "\n",
       "    .dataframe thead th {\n",
       "        text-align: right;\n",
       "    }\n",
       "</style>\n",
       "<table border=\"1\" class=\"dataframe\">\n",
       "  <thead>\n",
       "    <tr style=\"text-align: right;\">\n",
       "      <th></th>\n",
       "      <th>text</th>\n",
       "      <th>task_label</th>\n",
       "      <th>embedding</th>\n",
       "      <th>task_id</th>\n",
       "    </tr>\n",
       "  </thead>\n",
       "  <tbody>\n",
       "    <tr>\n",
       "      <th>13501</th>\n",
       "      <td>A on nic nie pamiętał, bo spał nieprzytomny.</td>\n",
       "      <td>24</td>\n",
       "      <td>[0.18977925, 0.012815773, -0.28480715, 0.99845...</td>\n",
       "      <td>3</td>\n",
       "    </tr>\n",
       "    <tr>\n",
       "      <th>4389</th>\n",
       "      <td>Wiatrak, szkielet, ucieczka.</td>\n",
       "      <td>15</td>\n",
       "      <td>[-0.17135437, 0.1266071, 0.060243882, 0.997987...</td>\n",
       "      <td>1</td>\n",
       "    </tr>\n",
       "    <tr>\n",
       "      <th>23428</th>\n",
       "      <td>Podzielił się z kolegami, po jednej gruszce dl...</td>\n",
       "      <td>17</td>\n",
       "      <td>[-0.18515885, -0.20572688, -0.16450542, 0.9976...</td>\n",
       "      <td>2</td>\n",
       "    </tr>\n",
       "    <tr>\n",
       "      <th>25049</th>\n",
       "      <td>Odszedł.</td>\n",
       "      <td>17</td>\n",
       "      <td>[-0.19777678, -0.15496688, -0.07709964, 0.9993...</td>\n",
       "      <td>2</td>\n",
       "    </tr>\n",
       "    <tr>\n",
       "      <th>39380</th>\n",
       "      <td>No, OK.</td>\n",
       "      <td>13</td>\n",
       "      <td>[-0.04938157, -0.076477386, -0.10442537, 0.999...</td>\n",
       "      <td>0</td>\n",
       "    </tr>\n",
       "    <tr>\n",
       "      <th>...</th>\n",
       "      <td>...</td>\n",
       "      <td>...</td>\n",
       "      <td>...</td>\n",
       "      <td>...</td>\n",
       "    </tr>\n",
       "    <tr>\n",
       "      <th>27880</th>\n",
       "      <td>Policjant stoi za nim, od bierze zamach i doty...</td>\n",
       "      <td>17</td>\n",
       "      <td>[-0.03060891, 0.10742664, -0.20071696, 0.99724...</td>\n",
       "      <td>2</td>\n",
       "    </tr>\n",
       "    <tr>\n",
       "      <th>36144</th>\n",
       "      <td>Uchwyt-harmonijka.</td>\n",
       "      <td>13</td>\n",
       "      <td>[-0.18037312, 0.0025283194, -0.07515499, 0.999...</td>\n",
       "      <td>0</td>\n",
       "    </tr>\n",
       "    <tr>\n",
       "      <th>24741</th>\n",
       "      <td>Nadeszło trzech chłopców.</td>\n",
       "      <td>17</td>\n",
       "      <td>[-0.10670652, -0.113593616, -0.118542075, 0.99...</td>\n",
       "      <td>2</td>\n",
       "    </tr>\n",
       "    <tr>\n",
       "      <th>36946</th>\n",
       "      <td>Za drzwiami jest głośno.</td>\n",
       "      <td>13</td>\n",
       "      <td>[0.046075575, 0.058143564, -0.19632398, 0.9988...</td>\n",
       "      <td>0</td>\n",
       "    </tr>\n",
       "    <tr>\n",
       "      <th>22840</th>\n",
       "      <td>Ja mam naukę tańca.</td>\n",
       "      <td>7</td>\n",
       "      <td>[-0.09913022, 0.1469849, -0.21260227, 0.998434...</td>\n",
       "      <td>4</td>\n",
       "    </tr>\n",
       "  </tbody>\n",
       "</table>\n",
       "<p>32284 rows × 4 columns</p>\n",
       "</div>"
      ],
      "text/plain": [
       "                                                    text task_label  \\\n",
       "13501       A on nic nie pamiętał, bo spał nieprzytomny.         24   \n",
       "4389                        Wiatrak, szkielet, ucieczka.         15   \n",
       "23428  Podzielił się z kolegami, po jednej gruszce dl...         17   \n",
       "25049                                           Odszedł.         17   \n",
       "39380                                            No, OK.         13   \n",
       "...                                                  ...        ...   \n",
       "27880  Policjant stoi za nim, od bierze zamach i doty...         17   \n",
       "36144                                 Uchwyt-harmonijka.         13   \n",
       "24741                          Nadeszło trzech chłopców.         17   \n",
       "36946                           Za drzwiami jest głośno.         13   \n",
       "22840                                Ja mam naukę tańca.          7   \n",
       "\n",
       "                                               embedding  task_id  \n",
       "13501  [0.18977925, 0.012815773, -0.28480715, 0.99845...        3  \n",
       "4389   [-0.17135437, 0.1266071, 0.060243882, 0.997987...        1  \n",
       "23428  [-0.18515885, -0.20572688, -0.16450542, 0.9976...        2  \n",
       "25049  [-0.19777678, -0.15496688, -0.07709964, 0.9993...        2  \n",
       "39380  [-0.04938157, -0.076477386, -0.10442537, 0.999...        0  \n",
       "...                                                  ...      ...  \n",
       "27880  [-0.03060891, 0.10742664, -0.20071696, 0.99724...        2  \n",
       "36144  [-0.18037312, 0.0025283194, -0.07515499, 0.999...        0  \n",
       "24741  [-0.10670652, -0.113593616, -0.118542075, 0.99...        2  \n",
       "36946  [0.046075575, 0.058143564, -0.19632398, 0.9988...        0  \n",
       "22840  [-0.09913022, 0.1469849, -0.21260227, 0.998434...        4  \n",
       "\n",
       "[32284 rows x 4 columns]"
      ]
     },
     "execution_count": 8,
     "metadata": {},
     "output_type": "execute_result"
    }
   ],
   "source": [
    "train_df"
   ]
  },
  {
   "cell_type": "code",
   "execution_count": 9,
   "metadata": {},
   "outputs": [],
   "source": [
    "from numpy import add\n",
    "\n",
    "\n",
    "class OrkpjmTaskDataset(Dataset):\n",
    "\n",
    "    def __init__(self, df, tokenizer):\n",
    "        self.tokenizer = tokenizer\n",
    "        self.len = df.shape[0]\n",
    "        self.texts = df[\"text\"].to_numpy()\n",
    "        self.labels = df[\"task_id\"].to_numpy()\n",
    "\n",
    "    def __len__(self):\n",
    "        return self.len\n",
    "\n",
    "    def __getitem__(self, index):\n",
    "        encoded_and_prep_text = self._get_encoded_and_prep_text(self.texts[index])\n",
    "        return {\n",
    "            \"input_ids\": torch.tensor(encoded_and_prep_text['input_ids']),\n",
    "            \"attention_mask\": torch.tensor(encoded_and_prep_text['attention_mask']),\n",
    "            \"label\": torch.tensor(self.labels[index])\n",
    "        }\n",
    "\n",
    "    def _get_encoded_and_prep_text(self, text: str,  max_length: int = 50, padding: str = 'max_length', truncation: bool = True) -> Dict[str, torch.Tensor]:\n",
    "        return self.tokenizer.encode_plus(\n",
    "            text,\n",
    "            max_length=max_length,\n",
    "            padding=padding,\n",
    "            truncation=truncation,\n",
    "            add_special_tokens=True,\n",
    "            # return_tensors='pt',\n",
    "        )\n"
   ]
  },
  {
   "cell_type": "code",
   "execution_count": 10,
   "metadata": {},
   "outputs": [],
   "source": [
    "tokenizer = AutoTokenizer.from_pretrained(\"allegro/herbert-base-cased\")\n",
    "# tokenizer = AutoTokenizer.from_pretrained(\"dkleczek/bert-base-polish-cased-v1\")\n",
    "tokenizer = AutoTokenizer.from_pretrained(\"bert-base-uncased\")\n",
    "\n",
    "# tokenizer.pad_token_id = 0"
   ]
  },
  {
   "cell_type": "code",
   "execution_count": 11,
   "metadata": {},
   "outputs": [],
   "source": [
    "train_ds = OrkpjmTaskDataset(train_df, tokenizer=tokenizer)\n",
    "val_ds = OrkpjmTaskDataset(val_df, tokenizer=tokenizer)\n",
    "test_ds = OrkpjmTaskDataset(test_df, tokenizer=tokenizer)"
   ]
  },
  {
   "cell_type": "code",
   "execution_count": 12,
   "metadata": {},
   "outputs": [],
   "source": [
    "EMBEDDINGS_DIM = 768\n",
    "BATCH_SIZE = 32\n",
    "NUM_LABELS = 6\n",
    "\n",
    "train_dl = DataLoader(train_ds, batch_size=BATCH_SIZE, pin_memory=True)\n",
    "val_dl = DataLoader(val_ds, batch_size=BATCH_SIZE, pin_memory=True)\n",
    "test_dl = DataLoader(test_ds, batch_size=BATCH_SIZE, pin_memory=True)"
   ]
  },
  {
   "cell_type": "code",
   "execution_count": 13,
   "metadata": {},
   "outputs": [
    {
     "name": "stdout",
     "output_type": "stream",
     "text": [
      "torch.Size([32, 50])\n",
      "torch.Size([32, 50])\n",
      "torch.Size([32])\n"
     ]
    }
   ],
   "source": [
    "for batch in train_dl:\n",
    "    print(batch[\"input_ids\"].shape)\n",
    "    print(batch[\"attention_mask\"].shape)\n",
    "    print(batch[\"label\"].shape)\n",
    "    # assert batch[\"embedding\"].shape[1] == EMBEDDINGS_DIM\n",
    "    # assert batch[\"embedding\"].shape[0] == batch[\"target\"].shape[0]\n",
    "    break"
   ]
  },
  {
   "cell_type": "markdown",
   "metadata": {},
   "source": [
    "## Simple NN"
   ]
  },
  {
   "cell_type": "code",
   "execution_count": 14,
   "metadata": {},
   "outputs": [],
   "source": [
    "class SimpleNN(nn.Module):\n",
    "    def __init__(self, input_dim, num_labels, hidden_dim=128):\n",
    "        super().__init__()\n",
    "        self.hidden = nn.Linear(input_dim, hidden_dim)\n",
    "        self.act = nn.ReLU()\n",
    "        self.output = nn.Linear(hidden_dim, num_labels)\n",
    "\n",
    "    def forward(self, x):\n",
    "        x = self.hidden(x)\n",
    "        x = self.act(x)\n",
    "        x = self.output(x)\n",
    "        return x\n"
   ]
  },
  {
   "cell_type": "markdown",
   "metadata": {},
   "source": [
    "## Transformers"
   ]
  },
  {
   "cell_type": "code",
   "execution_count": 15,
   "metadata": {},
   "outputs": [],
   "source": [
    "class PretrainedArch(nn.Module):\n",
    "\n",
    "    def __init__(self, pretrained_model, num_labels, freeze_pretrained=True):\n",
    "        super(PretrainedArch, self).__init__()\n",
    "        self.pretrained_model = pretrained_model\n",
    "        if freeze_pretrained:\n",
    "            self._freeze_pretrained()\n",
    "        self.dropout = nn.Dropout(0.1)\n",
    "        self.relu =  nn.ReLU()\n",
    "        self.fc1 = nn.Linear(768, 512)\n",
    "        self.fc2 = nn.Linear(512, num_labels)\n",
    "        self.softmax = nn.LogSoftmax(dim=1)\n",
    "\n",
    "    def _freeze_pretrained(self):\n",
    "        for param in self.pretrained_model.parameters():\n",
    "            param.requires_grad = False\n",
    "\n",
    "    def forward(self, sent_id, mask):\n",
    "        # print(sent_id.shape, mask.shape)\n",
    "        pretrained_output = self.pretrained_model(sent_id, attention_mask=mask, return_dict=True)\n",
    "        x = self.fc1(pretrained_output.pooler_output if hasattr(pretrained_output, 'pooler_output') else pretrained_output.last_hidden_state[:, 0, :])\n",
    "        x = self.relu(x)\n",
    "        x = self.dropout(x)\n",
    "        x = self.fc2(x)\n",
    "        x = self.softmax(x)\n",
    "        return x"
   ]
  },
  {
   "cell_type": "code",
   "execution_count": 16,
   "metadata": {},
   "outputs": [],
   "source": [
    "def train_step(model, optimizer, loss_fn, train_dl, device=\"cuda\", norm_grad=True):\n",
    "    # one epoch training\n",
    "    model.train()\n",
    "    total_loss, total_accuracy = 0, 0\n",
    "\n",
    "    train_dl_len = len(train_dl)\n",
    "    total_preds = []  # przygotowanie listy do przechowywania predykcji modelu\n",
    "    for step, batch in enumerate(train_dl):\n",
    "        # if step % 50 == 0 and not step == 0:\n",
    "        #     print(f'  Batch {step:>5,}  of  {train_dl_len:>5,}.')\n",
    "\n",
    "        batch = {k: v.to(device) for k, v in batch.items()}\n",
    "\n",
    "        model.zero_grad()\n",
    "        preds = model(batch[\"input_ids\"], batch[\"attention_mask\"])\n",
    "        loss = loss_fn(preds, batch[\"label\"])\n",
    "        total_loss = total_loss + loss.item()\n",
    "        loss.backward()\n",
    "\n",
    "        if norm_grad:\n",
    "            # Normalizacja wartości gradientów\n",
    "            torch.nn.utils.clip_grad_norm_(model.parameters(), 1.0)\n",
    "\n",
    "        optimizer.step()\n",
    "        preds = preds.detach().cpu().numpy()\n",
    "\n",
    "    total_preds.append(preds)\n",
    "    avg_loss = total_loss / train_dl_len\n",
    "\n",
    "    # Predykcje modelu mają wymiary (liczba pakietów, rozmiar pakietu, liczba klas).\n",
    "    # Przekształcenie ich do wymiarów (liczba próbek, liczba klas)\n",
    "    total_preds  = np.concatenate(total_preds, axis=0)\n",
    "\n",
    "    return avg_loss, total_preds\n",
    "\n",
    "\n",
    "def evaluate_step(model, loss_fn, val_dl, device=\"cuda\"):\n",
    "    # one epoch evaluation\n",
    "    val_dl_len = len(val_dl)\n",
    "    model.eval()\n",
    "    total_loss, total_accuracy = 0, 0\n",
    "    total_preds = []\n",
    "    for step, batch in enumerate(val_dl):\n",
    "        # if step % 50 == 0 and not step == 0:\n",
    "        #     print(f'  Batch {step:>5,}  of  {val_dl_len:>5,}.')\n",
    "\n",
    "        batch = {k: v.to(device) for k, v in batch.items()}\n",
    "\n",
    "        with torch.no_grad():\n",
    "            preds = model(batch[\"input_ids\"], batch[\"attention_mask\"])\n",
    "            loss = loss_fn(preds, batch[\"label\"])\n",
    "            total_loss = total_loss + loss.item()\n",
    "            preds = preds.detach().cpu().numpy()\n",
    "            total_preds.append(preds)\n",
    "\n",
    "    avg_loss = total_loss / val_dl_len\n",
    "    total_preds  = np.concatenate(total_preds, axis=0)\n",
    "\n",
    "    return avg_loss, total_preds\n",
    "\n",
    "\n",
    "def test(model, test_dl, device=\"cuda\") -> Tuple[np.ndarray, Dict[str, Dict[str, float]]]:\n",
    "    all_preds, all_test_y = [], []\n",
    "    with torch.no_grad():\n",
    "        for batch in test_dl:\n",
    "            batch = {k: v.to(device) for k, v in batch.items()}\n",
    "            preds = model(batch[\"input_ids\"], batch[\"attention_mask\"])\n",
    "\n",
    "            preds = preds.detach().cpu().numpy()\n",
    "\n",
    "            preds = np.argmax(preds, axis=1).flatten()\n",
    "            all_preds.extend(preds)\n",
    "\n",
    "            test_y = batch[\"label\"].cpu().numpy().flatten()\n",
    "            all_test_y.extend(test_y)\n",
    "\n",
    "    return confusion_matrix(all_test_y, all_preds), classification_report(all_test_y, all_preds, output_dict=True, zero_division=0)"
   ]
  },
  {
   "cell_type": "code",
   "execution_count": 17,
   "metadata": {},
   "outputs": [],
   "source": [
    "class_weights = compute_class_weight('balanced', classes=train_df[\"task_label\"].unique(), y=train_df[\"task_label\"].to_numpy())"
   ]
  },
  {
   "cell_type": "code",
   "execution_count": 18,
   "metadata": {},
   "outputs": [
    {
     "data": {
      "application/vnd.jupyter.widget-view+json": {
       "model_id": "f3ffc3aa2acb4770a15908c1feb647a9",
       "version_major": 2,
       "version_minor": 0
      },
      "text/plain": [
       "  0%|          | 0/5 [00:00<?, ?it/s]"
      ]
     },
     "metadata": {},
     "output_type": "display_data"
    }
   ],
   "source": [
    "EPOCHS = 5\n",
    "LR = 1e-3\n",
    "\n",
    "pretrained_checkpoint = \"bert-base-uncased\"\n",
    "\n",
    "model = PretrainedArch(\n",
    "    pretrained_model=AutoModel.from_pretrained(pretrained_checkpoint),\n",
    "    num_labels=NUM_LABELS,\n",
    "    freeze_pretrained=False\n",
    ").to(DEVICE)\n",
    "optimizer = optim.AdamW(model.parameters(), lr=LR)\n",
    "\n",
    "loss_fn = nn.NLLLoss(weight=torch.tensor(class_weights, dtype=torch.float).to(DEVICE))\n",
    "\n",
    "\n",
    "exp_results = []\n",
    "for epoch in tqdm(range(EPOCHS)):\n",
    "    train_loss, _ = train_step(model, optimizer, loss_fn, train_dl, device=DEVICE)\n",
    "    valid_loss, _ = evaluate_step(model, loss_fn, val_dl, device=DEVICE)\n",
    "    test_cm, test_clf_report = test(model, test_dl, device=DEVICE)\n",
    "\n",
    "    exp_results.append({\n",
    "        \"PretrainedModelName\": pretrained_checkpoint,\n",
    "        \"Epoch\": epoch + 1,\n",
    "        \"LearningRate\": LR,\n",
    "        \"BatchSize\": BATCH_SIZE,\n",
    "        \"TrainLoss\": train_loss,\n",
    "        \"ValLoss\": valid_loss,\n",
    "        \"TestConfMatrix\": test_cm.tolist(),\n",
    "        \"TestClfReport\": test_clf_report,\n",
    "    })"
   ]
  },
  {
   "cell_type": "code",
   "execution_count": 19,
   "metadata": {},
   "outputs": [
    {
     "data": {
      "text/html": [
       "<div>\n",
       "<style scoped>\n",
       "    .dataframe tbody tr th:only-of-type {\n",
       "        vertical-align: middle;\n",
       "    }\n",
       "\n",
       "    .dataframe tbody tr th {\n",
       "        vertical-align: top;\n",
       "    }\n",
       "\n",
       "    .dataframe thead th {\n",
       "        text-align: right;\n",
       "    }\n",
       "</style>\n",
       "<table border=\"1\" class=\"dataframe\">\n",
       "  <thead>\n",
       "    <tr style=\"text-align: right;\">\n",
       "      <th></th>\n",
       "      <th>PretrainedModelName</th>\n",
       "      <th>Epoch</th>\n",
       "      <th>LearningRate</th>\n",
       "      <th>BatchSize</th>\n",
       "      <th>TrainLoss</th>\n",
       "      <th>ValLoss</th>\n",
       "      <th>TestConfMatrix</th>\n",
       "      <th>TestClfReport</th>\n",
       "      <th>TestMacroAvgF1</th>\n",
       "    </tr>\n",
       "  </thead>\n",
       "  <tbody>\n",
       "    <tr>\n",
       "      <th>0</th>\n",
       "      <td>bert-base-uncased</td>\n",
       "      <td>1</td>\n",
       "      <td>0.001</td>\n",
       "      <td>32</td>\n",
       "      <td>1.719532</td>\n",
       "      <td>1.695875</td>\n",
       "      <td>[[498, 0, 0, 0, 0, 0], [1205, 0, 0, 0, 0, 0], ...</td>\n",
       "      <td>{'0': {'precision': 0.12342007434944238, 'reca...</td>\n",
       "      <td>0.03662</td>\n",
       "    </tr>\n",
       "    <tr>\n",
       "      <th>1</th>\n",
       "      <td>bert-base-uncased</td>\n",
       "      <td>2</td>\n",
       "      <td>0.001</td>\n",
       "      <td>32</td>\n",
       "      <td>1.698128</td>\n",
       "      <td>1.696098</td>\n",
       "      <td>[[498, 0, 0, 0, 0, 0], [1205, 0, 0, 0, 0, 0], ...</td>\n",
       "      <td>{'0': {'precision': 0.12342007434944238, 'reca...</td>\n",
       "      <td>0.03662</td>\n",
       "    </tr>\n",
       "    <tr>\n",
       "      <th>2</th>\n",
       "      <td>bert-base-uncased</td>\n",
       "      <td>3</td>\n",
       "      <td>0.001</td>\n",
       "      <td>32</td>\n",
       "      <td>1.697494</td>\n",
       "      <td>1.695690</td>\n",
       "      <td>[[498, 0, 0, 0, 0, 0], [1205, 0, 0, 0, 0, 0], ...</td>\n",
       "      <td>{'0': {'precision': 0.12342007434944238, 'reca...</td>\n",
       "      <td>0.03662</td>\n",
       "    </tr>\n",
       "    <tr>\n",
       "      <th>3</th>\n",
       "      <td>bert-base-uncased</td>\n",
       "      <td>4</td>\n",
       "      <td>0.001</td>\n",
       "      <td>32</td>\n",
       "      <td>1.699562</td>\n",
       "      <td>1.696005</td>\n",
       "      <td>[[498, 0, 0, 0, 0, 0], [1205, 0, 0, 0, 0, 0], ...</td>\n",
       "      <td>{'0': {'precision': 0.12342007434944238, 'reca...</td>\n",
       "      <td>0.03662</td>\n",
       "    </tr>\n",
       "    <tr>\n",
       "      <th>4</th>\n",
       "      <td>bert-base-uncased</td>\n",
       "      <td>5</td>\n",
       "      <td>0.001</td>\n",
       "      <td>32</td>\n",
       "      <td>1.697255</td>\n",
       "      <td>1.695479</td>\n",
       "      <td>[[498, 0, 0, 0, 0, 0], [1205, 0, 0, 0, 0, 0], ...</td>\n",
       "      <td>{'0': {'precision': 0.12342007434944238, 'reca...</td>\n",
       "      <td>0.03662</td>\n",
       "    </tr>\n",
       "  </tbody>\n",
       "</table>\n",
       "</div>"
      ],
      "text/plain": [
       "  PretrainedModelName  Epoch  LearningRate  BatchSize  TrainLoss   ValLoss  \\\n",
       "0   bert-base-uncased      1         0.001         32   1.719532  1.695875   \n",
       "1   bert-base-uncased      2         0.001         32   1.698128  1.696098   \n",
       "2   bert-base-uncased      3         0.001         32   1.697494  1.695690   \n",
       "3   bert-base-uncased      4         0.001         32   1.699562  1.696005   \n",
       "4   bert-base-uncased      5         0.001         32   1.697255  1.695479   \n",
       "\n",
       "                                      TestConfMatrix  \\\n",
       "0  [[498, 0, 0, 0, 0, 0], [1205, 0, 0, 0, 0, 0], ...   \n",
       "1  [[498, 0, 0, 0, 0, 0], [1205, 0, 0, 0, 0, 0], ...   \n",
       "2  [[498, 0, 0, 0, 0, 0], [1205, 0, 0, 0, 0, 0], ...   \n",
       "3  [[498, 0, 0, 0, 0, 0], [1205, 0, 0, 0, 0, 0], ...   \n",
       "4  [[498, 0, 0, 0, 0, 0], [1205, 0, 0, 0, 0, 0], ...   \n",
       "\n",
       "                                       TestClfReport  TestMacroAvgF1  \n",
       "0  {'0': {'precision': 0.12342007434944238, 'reca...         0.03662  \n",
       "1  {'0': {'precision': 0.12342007434944238, 'reca...         0.03662  \n",
       "2  {'0': {'precision': 0.12342007434944238, 'reca...         0.03662  \n",
       "3  {'0': {'precision': 0.12342007434944238, 'reca...         0.03662  \n",
       "4  {'0': {'precision': 0.12342007434944238, 'reca...         0.03662  "
      ]
     },
     "execution_count": 19,
     "metadata": {},
     "output_type": "execute_result"
    }
   ],
   "source": [
    "exp_results_df = pd.DataFrame.from_records(exp_results)\n",
    "exp_results_df[\"TestMacroAvgF1\"] = exp_results_df.TestClfReport.apply(lambda x: x[\"macro avg\"][\"f1-score\"])\n",
    "exp_results_df"
   ]
  },
  {
   "cell_type": "code",
   "execution_count": 20,
   "metadata": {},
   "outputs": [
    {
     "data": {
      "text/plain": [
       "<Axes: >"
      ]
     },
     "execution_count": 20,
     "metadata": {},
     "output_type": "execute_result"
    },
    {
     "data": {
      "image/png": "[encoded data removed]",
      "text/plain": [
       "<Figure size 640x480 with 1 Axes>"
      ]
     },
     "metadata": {},
     "output_type": "display_data"
    }
   ],
   "source": [
    "exp_results_df[[\"TrainLoss\", \"ValLoss\"]].plot()"
   ]
  },
  {
   "cell_type": "code",
   "execution_count": 21,
   "metadata": {},
   "outputs": [
    {
     "data": {
      "text/plain": [
       "<Axes: >"
      ]
     },
     "execution_count": 21,
     "metadata": {},
     "output_type": "execute_result"
    },
    {
     "data": {
      "image/png": "[encoded data removed]",
      "text/plain": [
       "<Figure size 640x480 with 1 Axes>"
      ]
     },
     "metadata": {},
     "output_type": "display_data"
    }
   ],
   "source": [
    "exp_results_df.TestMacroAvgF1.plot()"
   ]
  },
  {
   "cell_type": "code",
   "execution_count": null,
   "metadata": {},
   "outputs": [],
   "source": []
  },
  {
   "cell_type": "code",
   "execution_count": null,
   "metadata": {},
   "outputs": [],
   "source": []
  },
  {
   "cell_type": "code",
   "execution_count": 22,
   "metadata": {},
   "outputs": [
    {
     "ename": "AssertionError",
     "evalue": "",
     "output_type": "error",
     "traceback": [
      "\u001b[0;31m---------------------------------------------------------------------------\u001b[0m",
      "\u001b[0;31mAssertionError\u001b[0m                            Traceback (most recent call last)",
      "Cell \u001b[0;32mIn[22], line 1\u001b[0m\n\u001b[0;32m----> 1\u001b[0m \u001b[39massert\u001b[39;00m \u001b[39mFalse\u001b[39;00m\n",
      "\u001b[0;31mAssertionError\u001b[0m: "
     ]
    }
   ],
   "source": [
    "assert False"
   ]
  },
  {
   "cell_type": "code",
   "execution_count": null,
   "metadata": {},
   "outputs": [],
   "source": [
    "simple_nn_history_df = pd.DataFrame.from_records(simple_nn_history)\n",
    "simple_nn_history_df"
   ]
  },
  {
   "cell_type": "code",
   "execution_count": null,
   "metadata": {},
   "outputs": [],
   "source": [
    "simple_nn_history_df[[\"TrainLoss\", \"ValLoss\"]].plot()"
   ]
  },
  {
   "cell_type": "code",
   "execution_count": null,
   "metadata": {},
   "outputs": [],
   "source": [
    "simple_nn_history_df.ValAcc.plot()"
   ]
  },
  {
   "cell_type": "code",
   "execution_count": null,
   "metadata": {},
   "outputs": [],
   "source": []
  }
 ],
 "metadata": {
  "kernelspec": {
   "display_name": "base",
   "language": "python",
   "name": "python3"
  },
  "language_info": {
   "codemirror_mode": {
    "name": "ipython",
    "version": 3
   },
   "file_extension": ".py",
   "mimetype": "text/x-python",
   "name": "python",
   "nbconvert_exporter": "python",
   "pygments_lexer": "ipython3",
   "version": "3.10.8"
  },
  "orig_nbformat": 4
 },
 "nbformat": 4,
 "nbformat_minor": 2
}
