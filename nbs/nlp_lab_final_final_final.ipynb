{
 "cells": [
  {
   "cell_type": "code",
   "execution_count": 73,
   "metadata": {},
   "outputs": [],
   "source": [
    "import numpy as np\n",
    "import pandas as pd\n",
    "from tqdm.notebook import tqdm\n",
    "from typing import Dict, Tuple, List, Union, Any\n",
    "from pathlib import Path\n",
    "from jsonlines import jsonlines\n",
    "from loguru import logger\n",
    "from matplotlib import pyplot as plt\n",
    "from matplotlib.lines import Line2D\n",
    "import seaborn as sns\n",
    "\n",
    "import torch\n",
    "from torch import nn, optim\n",
    "from torch.utils.data import Dataset, DataLoader\n",
    "\n",
    "from sklearn.model_selection import train_test_split\n",
    "from sklearn.metrics import classification_report, confusion_matrix\n",
    "from sklearn.utils.class_weight import compute_class_weight\n",
    "\n",
    "from src.settings import EMBEDDINGS_DIR\n",
    "\n",
    "tqdm.pandas()"
   ]
  },
  {
   "cell_type": "code",
   "execution_count": 2,
   "metadata": {},
   "outputs": [
    {
     "name": "stdout",
     "output_type": "stream",
     "text": [
      "DEVICE=device(type='cuda', index=0)\n"
     ]
    }
   ],
   "source": [
    "DEVICE = torch.device('cuda:0' if torch.cuda.is_available() else 'cpu')\n",
    "# DEVICE = torch.device('cpu')\n",
    "print(f\"{DEVICE=}\")\n",
    "\n",
    "torch.cuda.empty_cache()"
   ]
  },
  {
   "cell_type": "markdown",
   "metadata": {},
   "source": [
    "## Dataset"
   ]
  },
  {
   "cell_type": "code",
   "execution_count": 3,
   "metadata": {},
   "outputs": [
    {
     "data": {
      "text/html": [
       "<div>\n",
       "<style scoped>\n",
       "    .dataframe tbody tr th:only-of-type {\n",
       "        vertical-align: middle;\n",
       "    }\n",
       "\n",
       "    .dataframe tbody tr th {\n",
       "        vertical-align: top;\n",
       "    }\n",
       "\n",
       "    .dataframe thead th {\n",
       "        text-align: right;\n",
       "    }\n",
       "</style>\n",
       "<table border=\"1\" class=\"dataframe\">\n",
       "  <thead>\n",
       "    <tr style=\"text-align: right;\">\n",
       "      <th></th>\n",
       "      <th>start</th>\n",
       "      <th>end</th>\n",
       "      <th>text</th>\n",
       "      <th>doc_filepath</th>\n",
       "      <th>video_filename</th>\n",
       "      <th>task_label</th>\n",
       "      <th>ParaphraseSrcIndex</th>\n",
       "      <th>EmbeddingModel</th>\n",
       "      <th>Embedding</th>\n",
       "    </tr>\n",
       "  </thead>\n",
       "  <tbody>\n",
       "    <tr>\n",
       "      <th>0</th>\n",
       "      <td>39040</td>\n",
       "      <td>41120</td>\n",
       "      <td>Myślę, że mam inny pomysł, można?</td>\n",
       "      <td>/15/K66BF13-26_15_15_signsNO.eaf</td>\n",
       "      <td>K66BF13-26.mp4</td>\n",
       "      <td>15</td>\n",
       "      <td>NaN</td>\n",
       "      <td>allegro/herbert-base-cased</td>\n",
       "      <td>[-0.039401535, 0.045144096, -0.07359799, 0.999...</td>\n",
       "    </tr>\n",
       "    <tr>\n",
       "      <th>1</th>\n",
       "      <td>41120</td>\n",
       "      <td>49680</td>\n",
       "      <td>Chyba ten znak mówi, że jak ktoś będzie spacer...</td>\n",
       "      <td>/15/K66BF13-26_15_15_signsNO.eaf</td>\n",
       "      <td>K66BF13-26.mp4</td>\n",
       "      <td>15</td>\n",
       "      <td>NaN</td>\n",
       "      <td>allegro/herbert-base-cased</td>\n",
       "      <td>[-0.04103174, 0.18905145, -0.2473697, 0.999101...</td>\n",
       "    </tr>\n",
       "    <tr>\n",
       "      <th>2</th>\n",
       "      <td>49680</td>\n",
       "      <td>55280</td>\n",
       "      <td>Trzeba przejść łukiem obok leżącego i o tym zn...</td>\n",
       "      <td>/15/K66BF13-26_15_15_signsNO.eaf</td>\n",
       "      <td>K66BF13-26.mp4</td>\n",
       "      <td>15</td>\n",
       "      <td>NaN</td>\n",
       "      <td>allegro/herbert-base-cased</td>\n",
       "      <td>[-0.099419735, 0.2554967, -0.2758171, 0.996696...</td>\n",
       "    </tr>\n",
       "    <tr>\n",
       "      <th>3</th>\n",
       "      <td>61280</td>\n",
       "      <td>66840</td>\n",
       "      <td>Okrągły znak pomaga nam, mówi, że są pasy na u...</td>\n",
       "      <td>/15/K66BF13-26_15_15_signsNO.eaf</td>\n",
       "      <td>K66BF13-26.mp4</td>\n",
       "      <td>15</td>\n",
       "      <td>NaN</td>\n",
       "      <td>allegro/herbert-base-cased</td>\n",
       "      <td>[-0.23825723, -0.018337265, -0.06085317, 0.998...</td>\n",
       "    </tr>\n",
       "    <tr>\n",
       "      <th>4</th>\n",
       "      <td>66840</td>\n",
       "      <td>73200</td>\n",
       "      <td>Jak ktoś zobaczy, ale zignoruje ten znak, to m...</td>\n",
       "      <td>/15/K66BF13-26_15_15_signsNO.eaf</td>\n",
       "      <td>K66BF13-26.mp4</td>\n",
       "      <td>15</td>\n",
       "      <td>NaN</td>\n",
       "      <td>allegro/herbert-base-cased</td>\n",
       "      <td>[-0.12970479, 0.22667503, -0.34039426, 0.99525...</td>\n",
       "    </tr>\n",
       "    <tr>\n",
       "      <th>...</th>\n",
       "      <td>...</td>\n",
       "      <td>...</td>\n",
       "      <td>...</td>\n",
       "      <td>...</td>\n",
       "      <td>...</td>\n",
       "      <td>...</td>\n",
       "      <td>...</td>\n",
       "      <td>...</td>\n",
       "      <td>...</td>\n",
       "    </tr>\n",
       "    <tr>\n",
       "      <th>47539</th>\n",
       "      <td>833160</td>\n",
       "      <td>834400</td>\n",
       "      <td>Zawsze zimą w góry.</td>\n",
       "      <td>/07/K59AF01-11_07_07_calendar.eaf</td>\n",
       "      <td>K59AF01-11.mp4</td>\n",
       "      <td>07</td>\n",
       "      <td>22202.0</td>\n",
       "      <td>allegro/herbert-base-cased</td>\n",
       "      <td>[-0.05857093, 0.14995597, -0.26642218, 0.99614...</td>\n",
       "    </tr>\n",
       "    <tr>\n",
       "      <th>47540</th>\n",
       "      <td>237680</td>\n",
       "      <td>240440</td>\n",
       "      <td>Kiedy idzie, zauważa, że okno jest rozbite.</td>\n",
       "      <td>/17/K03BF01-21_17_kid_17_kid_chaplin.eaf</td>\n",
       "      <td>K03BF01-21.mp4</td>\n",
       "      <td>17</td>\n",
       "      <td>26633.0</td>\n",
       "      <td>allegro/herbert-base-cased</td>\n",
       "      <td>[-0.2766317, -0.043460898, -0.09275186, 0.9882...</td>\n",
       "    </tr>\n",
       "    <tr>\n",
       "      <th>47542</th>\n",
       "      <td>107000</td>\n",
       "      <td>110120</td>\n",
       "      <td>Popisuje się, odbijając piłkę rakietką.</td>\n",
       "      <td>/17/K08AF17-26_17_pears_17_pears_pears.eaf</td>\n",
       "      <td>K08AF17-26.mp4</td>\n",
       "      <td>17</td>\n",
       "      <td>23505.0</td>\n",
       "      <td>allegro/herbert-base-cased</td>\n",
       "      <td>[-0.074502006, -0.020844987, 0.052832212, 0.99...</td>\n",
       "    </tr>\n",
       "    <tr>\n",
       "      <th>47545</th>\n",
       "      <td>23480</td>\n",
       "      <td>26760</td>\n",
       "      <td>On właśnie mówi im, że jest zmęczony i chce iś...</td>\n",
       "      <td>/24/K67AF13-26_24_24_alarm.eaf</td>\n",
       "      <td>K67AF13-26.mp4</td>\n",
       "      <td>24</td>\n",
       "      <td>11942.0</td>\n",
       "      <td>allegro/herbert-base-cased</td>\n",
       "      <td>[0.015946332, -0.046507165, -0.20022015, 0.998...</td>\n",
       "    </tr>\n",
       "    <tr>\n",
       "      <th>47547</th>\n",
       "      <td>66560</td>\n",
       "      <td>67880</td>\n",
       "      <td>Aha, to prawda.</td>\n",
       "      <td>/07/K38BF01-15_07_07_calendar.eaf</td>\n",
       "      <td>K38BF01-15.mp4</td>\n",
       "      <td>07</td>\n",
       "      <td>18808.0</td>\n",
       "      <td>allegro/herbert-base-cased</td>\n",
       "      <td>[-0.0833914, -0.18917054, -0.17606916, 0.99899...</td>\n",
       "    </tr>\n",
       "  </tbody>\n",
       "</table>\n",
       "<p>36864 rows × 9 columns</p>\n",
       "</div>"
      ],
      "text/plain": [
       "        start     end                                               text  \\\n",
       "0       39040   41120                  Myślę, że mam inny pomysł, można?   \n",
       "1       41120   49680  Chyba ten znak mówi, że jak ktoś będzie spacer...   \n",
       "2       49680   55280  Trzeba przejść łukiem obok leżącego i o tym zn...   \n",
       "3       61280   66840  Okrągły znak pomaga nam, mówi, że są pasy na u...   \n",
       "4       66840   73200  Jak ktoś zobaczy, ale zignoruje ten znak, to m...   \n",
       "...       ...     ...                                                ...   \n",
       "47539  833160  834400                                Zawsze zimą w góry.   \n",
       "47540  237680  240440        Kiedy idzie, zauważa, że okno jest rozbite.   \n",
       "47542  107000  110120            Popisuje się, odbijając piłkę rakietką.   \n",
       "47545   23480   26760  On właśnie mówi im, że jest zmęczony i chce iś...   \n",
       "47547   66560   67880                                    Aha, to prawda.   \n",
       "\n",
       "                                     doc_filepath  video_filename task_label  \\\n",
       "0                /15/K66BF13-26_15_15_signsNO.eaf  K66BF13-26.mp4         15   \n",
       "1                /15/K66BF13-26_15_15_signsNO.eaf  K66BF13-26.mp4         15   \n",
       "2                /15/K66BF13-26_15_15_signsNO.eaf  K66BF13-26.mp4         15   \n",
       "3                /15/K66BF13-26_15_15_signsNO.eaf  K66BF13-26.mp4         15   \n",
       "4                /15/K66BF13-26_15_15_signsNO.eaf  K66BF13-26.mp4         15   \n",
       "...                                           ...             ...        ...   \n",
       "47539           /07/K59AF01-11_07_07_calendar.eaf  K59AF01-11.mp4         07   \n",
       "47540    /17/K03BF01-21_17_kid_17_kid_chaplin.eaf  K03BF01-21.mp4         17   \n",
       "47542  /17/K08AF17-26_17_pears_17_pears_pears.eaf  K08AF17-26.mp4         17   \n",
       "47545              /24/K67AF13-26_24_24_alarm.eaf  K67AF13-26.mp4         24   \n",
       "47547           /07/K38BF01-15_07_07_calendar.eaf  K38BF01-15.mp4         07   \n",
       "\n",
       "       ParaphraseSrcIndex              EmbeddingModel  \\\n",
       "0                     NaN  allegro/herbert-base-cased   \n",
       "1                     NaN  allegro/herbert-base-cased   \n",
       "2                     NaN  allegro/herbert-base-cased   \n",
       "3                     NaN  allegro/herbert-base-cased   \n",
       "4                     NaN  allegro/herbert-base-cased   \n",
       "...                   ...                         ...   \n",
       "47539             22202.0  allegro/herbert-base-cased   \n",
       "47540             26633.0  allegro/herbert-base-cased   \n",
       "47542             23505.0  allegro/herbert-base-cased   \n",
       "47545             11942.0  allegro/herbert-base-cased   \n",
       "47547             18808.0  allegro/herbert-base-cased   \n",
       "\n",
       "                                               Embedding  \n",
       "0      [-0.039401535, 0.045144096, -0.07359799, 0.999...  \n",
       "1      [-0.04103174, 0.18905145, -0.2473697, 0.999101...  \n",
       "2      [-0.099419735, 0.2554967, -0.2758171, 0.996696...  \n",
       "3      [-0.23825723, -0.018337265, -0.06085317, 0.998...  \n",
       "4      [-0.12970479, 0.22667503, -0.34039426, 0.99525...  \n",
       "...                                                  ...  \n",
       "47539  [-0.05857093, 0.14995597, -0.26642218, 0.99614...  \n",
       "47540  [-0.2766317, -0.043460898, -0.09275186, 0.9882...  \n",
       "47542  [-0.074502006, -0.020844987, 0.052832212, 0.99...  \n",
       "47545  [0.015946332, -0.046507165, -0.20022015, 0.998...  \n",
       "47547  [-0.0833914, -0.18917054, -0.17606916, 0.99899...  \n",
       "\n",
       "[36864 rows x 9 columns]"
      ]
     },
     "execution_count": 3,
     "metadata": {},
     "output_type": "execute_result"
    }
   ],
   "source": [
    "augmented_pl_df = pd.read_feather(EMBEDDINGS_DIR / 'augmented_pl_annots_wth_emb_df.feather')  #.sample(frac=0.5)\n",
    "\n",
    "# drop parahrases that are the same as the original text\n",
    "augmented_pl_df = augmented_pl_df.drop_duplicates(subset=['text'], keep=\"first\")\n",
    "augmented_pl_df"
   ]
  },
  {
   "cell_type": "code",
   "execution_count": 4,
   "metadata": {},
   "outputs": [
    {
     "data": {
      "text/plain": [
       "4891"
      ]
     },
     "execution_count": 4,
     "metadata": {},
     "output_type": "execute_result"
    }
   ],
   "source": [
    "augmented_pl_df.ParaphraseSrcIndex.notna().sum()"
   ]
  },
  {
   "cell_type": "code",
   "execution_count": 5,
   "metadata": {},
   "outputs": [
    {
     "data": {
      "text/plain": [
       "{0: '07', 1: '08', 2: '13', 3: '15', 4: '17', 5: '24'}"
      ]
     },
     "execution_count": 5,
     "metadata": {},
     "output_type": "execute_result"
    }
   ],
   "source": [
    "id2label = {i: label for i, label in enumerate(sorted(augmented_pl_df[\"task_label\"].unique(), key=lambda x: int(x)))}\n",
    "label2id = {label: i for i, label in id2label.items()}\n",
    "\n",
    "id2label"
   ]
  },
  {
   "cell_type": "code",
   "execution_count": 6,
   "metadata": {},
   "outputs": [],
   "source": [
    "def get_target_vec(label, label2id):\n",
    "    target_vec = np.zeros(len(label2id))\n",
    "    target_vec[label2id[label]] = 1\n",
    "    return target_vec\n",
    "\n",
    "augmented_pl_df[\"Target\"] = augmented_pl_df[\"task_label\"].apply(get_target_vec, args=(label2id,))"
   ]
  },
  {
   "cell_type": "code",
   "execution_count": 7,
   "metadata": {},
   "outputs": [
    {
     "data": {
      "text/html": [
       "<div>\n",
       "<style scoped>\n",
       "    .dataframe tbody tr th:only-of-type {\n",
       "        vertical-align: middle;\n",
       "    }\n",
       "\n",
       "    .dataframe tbody tr th {\n",
       "        vertical-align: top;\n",
       "    }\n",
       "\n",
       "    .dataframe thead th {\n",
       "        text-align: right;\n",
       "    }\n",
       "</style>\n",
       "<table border=\"1\" class=\"dataframe\">\n",
       "  <thead>\n",
       "    <tr style=\"text-align: right;\">\n",
       "      <th></th>\n",
       "      <th>start</th>\n",
       "      <th>end</th>\n",
       "      <th>text</th>\n",
       "      <th>doc_filepath</th>\n",
       "      <th>video_filename</th>\n",
       "      <th>task_label</th>\n",
       "      <th>ParaphraseSrcIndex</th>\n",
       "      <th>EmbeddingModel</th>\n",
       "      <th>Embedding</th>\n",
       "      <th>Target</th>\n",
       "    </tr>\n",
       "  </thead>\n",
       "  <tbody>\n",
       "    <tr>\n",
       "      <th>0</th>\n",
       "      <td>39040</td>\n",
       "      <td>41120</td>\n",
       "      <td>Myślę, że mam inny pomysł, można?</td>\n",
       "      <td>/15/K66BF13-26_15_15_signsNO.eaf</td>\n",
       "      <td>K66BF13-26.mp4</td>\n",
       "      <td>15</td>\n",
       "      <td>NaN</td>\n",
       "      <td>allegro/herbert-base-cased</td>\n",
       "      <td>[-0.039401535, 0.045144096, -0.07359799, 0.999...</td>\n",
       "      <td>[0.0, 0.0, 0.0, 1.0, 0.0, 0.0]</td>\n",
       "    </tr>\n",
       "    <tr>\n",
       "      <th>1</th>\n",
       "      <td>41120</td>\n",
       "      <td>49680</td>\n",
       "      <td>Chyba ten znak mówi, że jak ktoś będzie spacer...</td>\n",
       "      <td>/15/K66BF13-26_15_15_signsNO.eaf</td>\n",
       "      <td>K66BF13-26.mp4</td>\n",
       "      <td>15</td>\n",
       "      <td>NaN</td>\n",
       "      <td>allegro/herbert-base-cased</td>\n",
       "      <td>[-0.04103174, 0.18905145, -0.2473697, 0.999101...</td>\n",
       "      <td>[0.0, 0.0, 0.0, 1.0, 0.0, 0.0]</td>\n",
       "    </tr>\n",
       "    <tr>\n",
       "      <th>2</th>\n",
       "      <td>49680</td>\n",
       "      <td>55280</td>\n",
       "      <td>Trzeba przejść łukiem obok leżącego i o tym zn...</td>\n",
       "      <td>/15/K66BF13-26_15_15_signsNO.eaf</td>\n",
       "      <td>K66BF13-26.mp4</td>\n",
       "      <td>15</td>\n",
       "      <td>NaN</td>\n",
       "      <td>allegro/herbert-base-cased</td>\n",
       "      <td>[-0.099419735, 0.2554967, -0.2758171, 0.996696...</td>\n",
       "      <td>[0.0, 0.0, 0.0, 1.0, 0.0, 0.0]</td>\n",
       "    </tr>\n",
       "    <tr>\n",
       "      <th>3</th>\n",
       "      <td>61280</td>\n",
       "      <td>66840</td>\n",
       "      <td>Okrągły znak pomaga nam, mówi, że są pasy na u...</td>\n",
       "      <td>/15/K66BF13-26_15_15_signsNO.eaf</td>\n",
       "      <td>K66BF13-26.mp4</td>\n",
       "      <td>15</td>\n",
       "      <td>NaN</td>\n",
       "      <td>allegro/herbert-base-cased</td>\n",
       "      <td>[-0.23825723, -0.018337265, -0.06085317, 0.998...</td>\n",
       "      <td>[0.0, 0.0, 0.0, 1.0, 0.0, 0.0]</td>\n",
       "    </tr>\n",
       "    <tr>\n",
       "      <th>4</th>\n",
       "      <td>66840</td>\n",
       "      <td>73200</td>\n",
       "      <td>Jak ktoś zobaczy, ale zignoruje ten znak, to m...</td>\n",
       "      <td>/15/K66BF13-26_15_15_signsNO.eaf</td>\n",
       "      <td>K66BF13-26.mp4</td>\n",
       "      <td>15</td>\n",
       "      <td>NaN</td>\n",
       "      <td>allegro/herbert-base-cased</td>\n",
       "      <td>[-0.12970479, 0.22667503, -0.34039426, 0.99525...</td>\n",
       "      <td>[0.0, 0.0, 0.0, 1.0, 0.0, 0.0]</td>\n",
       "    </tr>\n",
       "    <tr>\n",
       "      <th>...</th>\n",
       "      <td>...</td>\n",
       "      <td>...</td>\n",
       "      <td>...</td>\n",
       "      <td>...</td>\n",
       "      <td>...</td>\n",
       "      <td>...</td>\n",
       "      <td>...</td>\n",
       "      <td>...</td>\n",
       "      <td>...</td>\n",
       "      <td>...</td>\n",
       "    </tr>\n",
       "    <tr>\n",
       "      <th>47539</th>\n",
       "      <td>833160</td>\n",
       "      <td>834400</td>\n",
       "      <td>Zawsze zimą w góry.</td>\n",
       "      <td>/07/K59AF01-11_07_07_calendar.eaf</td>\n",
       "      <td>K59AF01-11.mp4</td>\n",
       "      <td>07</td>\n",
       "      <td>22202.0</td>\n",
       "      <td>allegro/herbert-base-cased</td>\n",
       "      <td>[-0.05857093, 0.14995597, -0.26642218, 0.99614...</td>\n",
       "      <td>[1.0, 0.0, 0.0, 0.0, 0.0, 0.0]</td>\n",
       "    </tr>\n",
       "    <tr>\n",
       "      <th>47540</th>\n",
       "      <td>237680</td>\n",
       "      <td>240440</td>\n",
       "      <td>Kiedy idzie, zauważa, że okno jest rozbite.</td>\n",
       "      <td>/17/K03BF01-21_17_kid_17_kid_chaplin.eaf</td>\n",
       "      <td>K03BF01-21.mp4</td>\n",
       "      <td>17</td>\n",
       "      <td>26633.0</td>\n",
       "      <td>allegro/herbert-base-cased</td>\n",
       "      <td>[-0.2766317, -0.043460898, -0.09275186, 0.9882...</td>\n",
       "      <td>[0.0, 0.0, 0.0, 0.0, 1.0, 0.0]</td>\n",
       "    </tr>\n",
       "    <tr>\n",
       "      <th>47542</th>\n",
       "      <td>107000</td>\n",
       "      <td>110120</td>\n",
       "      <td>Popisuje się, odbijając piłkę rakietką.</td>\n",
       "      <td>/17/K08AF17-26_17_pears_17_pears_pears.eaf</td>\n",
       "      <td>K08AF17-26.mp4</td>\n",
       "      <td>17</td>\n",
       "      <td>23505.0</td>\n",
       "      <td>allegro/herbert-base-cased</td>\n",
       "      <td>[-0.074502006, -0.020844987, 0.052832212, 0.99...</td>\n",
       "      <td>[0.0, 0.0, 0.0, 0.0, 1.0, 0.0]</td>\n",
       "    </tr>\n",
       "    <tr>\n",
       "      <th>47545</th>\n",
       "      <td>23480</td>\n",
       "      <td>26760</td>\n",
       "      <td>On właśnie mówi im, że jest zmęczony i chce iś...</td>\n",
       "      <td>/24/K67AF13-26_24_24_alarm.eaf</td>\n",
       "      <td>K67AF13-26.mp4</td>\n",
       "      <td>24</td>\n",
       "      <td>11942.0</td>\n",
       "      <td>allegro/herbert-base-cased</td>\n",
       "      <td>[0.015946332, -0.046507165, -0.20022015, 0.998...</td>\n",
       "      <td>[0.0, 0.0, 0.0, 0.0, 0.0, 1.0]</td>\n",
       "    </tr>\n",
       "    <tr>\n",
       "      <th>47547</th>\n",
       "      <td>66560</td>\n",
       "      <td>67880</td>\n",
       "      <td>Aha, to prawda.</td>\n",
       "      <td>/07/K38BF01-15_07_07_calendar.eaf</td>\n",
       "      <td>K38BF01-15.mp4</td>\n",
       "      <td>07</td>\n",
       "      <td>18808.0</td>\n",
       "      <td>allegro/herbert-base-cased</td>\n",
       "      <td>[-0.0833914, -0.18917054, -0.17606916, 0.99899...</td>\n",
       "      <td>[1.0, 0.0, 0.0, 0.0, 0.0, 0.0]</td>\n",
       "    </tr>\n",
       "  </tbody>\n",
       "</table>\n",
       "<p>36864 rows × 10 columns</p>\n",
       "</div>"
      ],
      "text/plain": [
       "        start     end                                               text  \\\n",
       "0       39040   41120                  Myślę, że mam inny pomysł, można?   \n",
       "1       41120   49680  Chyba ten znak mówi, że jak ktoś będzie spacer...   \n",
       "2       49680   55280  Trzeba przejść łukiem obok leżącego i o tym zn...   \n",
       "3       61280   66840  Okrągły znak pomaga nam, mówi, że są pasy na u...   \n",
       "4       66840   73200  Jak ktoś zobaczy, ale zignoruje ten znak, to m...   \n",
       "...       ...     ...                                                ...   \n",
       "47539  833160  834400                                Zawsze zimą w góry.   \n",
       "47540  237680  240440        Kiedy idzie, zauważa, że okno jest rozbite.   \n",
       "47542  107000  110120            Popisuje się, odbijając piłkę rakietką.   \n",
       "47545   23480   26760  On właśnie mówi im, że jest zmęczony i chce iś...   \n",
       "47547   66560   67880                                    Aha, to prawda.   \n",
       "\n",
       "                                     doc_filepath  video_filename task_label  \\\n",
       "0                /15/K66BF13-26_15_15_signsNO.eaf  K66BF13-26.mp4         15   \n",
       "1                /15/K66BF13-26_15_15_signsNO.eaf  K66BF13-26.mp4         15   \n",
       "2                /15/K66BF13-26_15_15_signsNO.eaf  K66BF13-26.mp4         15   \n",
       "3                /15/K66BF13-26_15_15_signsNO.eaf  K66BF13-26.mp4         15   \n",
       "4                /15/K66BF13-26_15_15_signsNO.eaf  K66BF13-26.mp4         15   \n",
       "...                                           ...             ...        ...   \n",
       "47539           /07/K59AF01-11_07_07_calendar.eaf  K59AF01-11.mp4         07   \n",
       "47540    /17/K03BF01-21_17_kid_17_kid_chaplin.eaf  K03BF01-21.mp4         17   \n",
       "47542  /17/K08AF17-26_17_pears_17_pears_pears.eaf  K08AF17-26.mp4         17   \n",
       "47545              /24/K67AF13-26_24_24_alarm.eaf  K67AF13-26.mp4         24   \n",
       "47547           /07/K38BF01-15_07_07_calendar.eaf  K38BF01-15.mp4         07   \n",
       "\n",
       "       ParaphraseSrcIndex              EmbeddingModel  \\\n",
       "0                     NaN  allegro/herbert-base-cased   \n",
       "1                     NaN  allegro/herbert-base-cased   \n",
       "2                     NaN  allegro/herbert-base-cased   \n",
       "3                     NaN  allegro/herbert-base-cased   \n",
       "4                     NaN  allegro/herbert-base-cased   \n",
       "...                   ...                         ...   \n",
       "47539             22202.0  allegro/herbert-base-cased   \n",
       "47540             26633.0  allegro/herbert-base-cased   \n",
       "47542             23505.0  allegro/herbert-base-cased   \n",
       "47545             11942.0  allegro/herbert-base-cased   \n",
       "47547             18808.0  allegro/herbert-base-cased   \n",
       "\n",
       "                                               Embedding  \\\n",
       "0      [-0.039401535, 0.045144096, -0.07359799, 0.999...   \n",
       "1      [-0.04103174, 0.18905145, -0.2473697, 0.999101...   \n",
       "2      [-0.099419735, 0.2554967, -0.2758171, 0.996696...   \n",
       "3      [-0.23825723, -0.018337265, -0.06085317, 0.998...   \n",
       "4      [-0.12970479, 0.22667503, -0.34039426, 0.99525...   \n",
       "...                                                  ...   \n",
       "47539  [-0.05857093, 0.14995597, -0.26642218, 0.99614...   \n",
       "47540  [-0.2766317, -0.043460898, -0.09275186, 0.9882...   \n",
       "47542  [-0.074502006, -0.020844987, 0.052832212, 0.99...   \n",
       "47545  [0.015946332, -0.046507165, -0.20022015, 0.998...   \n",
       "47547  [-0.0833914, -0.18917054, -0.17606916, 0.99899...   \n",
       "\n",
       "                               Target  \n",
       "0      [0.0, 0.0, 0.0, 1.0, 0.0, 0.0]  \n",
       "1      [0.0, 0.0, 0.0, 1.0, 0.0, 0.0]  \n",
       "2      [0.0, 0.0, 0.0, 1.0, 0.0, 0.0]  \n",
       "3      [0.0, 0.0, 0.0, 1.0, 0.0, 0.0]  \n",
       "4      [0.0, 0.0, 0.0, 1.0, 0.0, 0.0]  \n",
       "...                               ...  \n",
       "47539  [1.0, 0.0, 0.0, 0.0, 0.0, 0.0]  \n",
       "47540  [0.0, 0.0, 0.0, 0.0, 1.0, 0.0]  \n",
       "47542  [0.0, 0.0, 0.0, 0.0, 1.0, 0.0]  \n",
       "47545  [0.0, 0.0, 0.0, 0.0, 0.0, 1.0]  \n",
       "47547  [1.0, 0.0, 0.0, 0.0, 0.0, 0.0]  \n",
       "\n",
       "[36864 rows x 10 columns]"
      ]
     },
     "execution_count": 7,
     "metadata": {},
     "output_type": "execute_result"
    }
   ],
   "source": [
    "augmented_pl_df"
   ]
  },
  {
   "cell_type": "code",
   "execution_count": 8,
   "metadata": {},
   "outputs": [
    {
     "data": {
      "text/html": [
       "<div>\n",
       "<style scoped>\n",
       "    .dataframe tbody tr th:only-of-type {\n",
       "        vertical-align: middle;\n",
       "    }\n",
       "\n",
       "    .dataframe tbody tr th {\n",
       "        vertical-align: top;\n",
       "    }\n",
       "\n",
       "    .dataframe thead th {\n",
       "        text-align: right;\n",
       "    }\n",
       "</style>\n",
       "<table border=\"1\" class=\"dataframe\">\n",
       "  <thead>\n",
       "    <tr style=\"text-align: right;\">\n",
       "      <th></th>\n",
       "      <th>start</th>\n",
       "      <th>end</th>\n",
       "      <th>text</th>\n",
       "      <th>doc_filepath</th>\n",
       "      <th>video_filename</th>\n",
       "      <th>task_label</th>\n",
       "      <th>ParaphraseSrcIndex</th>\n",
       "      <th>EmbeddingModel</th>\n",
       "      <th>Embedding</th>\n",
       "      <th>Target</th>\n",
       "    </tr>\n",
       "  </thead>\n",
       "  <tbody>\n",
       "    <tr>\n",
       "      <th>0</th>\n",
       "      <td>39040</td>\n",
       "      <td>41120</td>\n",
       "      <td>Myślę, że mam inny pomysł, można?</td>\n",
       "      <td>/15/K66BF13-26_15_15_signsNO.eaf</td>\n",
       "      <td>K66BF13-26.mp4</td>\n",
       "      <td>15</td>\n",
       "      <td>NaN</td>\n",
       "      <td>allegro/herbert-base-cased</td>\n",
       "      <td>[-0.039401535, 0.045144096, -0.07359799, 0.999...</td>\n",
       "      <td>[0.0, 0.0, 0.0, 1.0, 0.0, 0.0]</td>\n",
       "    </tr>\n",
       "    <tr>\n",
       "      <th>1</th>\n",
       "      <td>41120</td>\n",
       "      <td>49680</td>\n",
       "      <td>Chyba ten znak mówi, że jak ktoś będzie spacer...</td>\n",
       "      <td>/15/K66BF13-26_15_15_signsNO.eaf</td>\n",
       "      <td>K66BF13-26.mp4</td>\n",
       "      <td>15</td>\n",
       "      <td>NaN</td>\n",
       "      <td>allegro/herbert-base-cased</td>\n",
       "      <td>[-0.04103174, 0.18905145, -0.2473697, 0.999101...</td>\n",
       "      <td>[0.0, 0.0, 0.0, 1.0, 0.0, 0.0]</td>\n",
       "    </tr>\n",
       "    <tr>\n",
       "      <th>2</th>\n",
       "      <td>49680</td>\n",
       "      <td>55280</td>\n",
       "      <td>Trzeba przejść łukiem obok leżącego i o tym zn...</td>\n",
       "      <td>/15/K66BF13-26_15_15_signsNO.eaf</td>\n",
       "      <td>K66BF13-26.mp4</td>\n",
       "      <td>15</td>\n",
       "      <td>NaN</td>\n",
       "      <td>allegro/herbert-base-cased</td>\n",
       "      <td>[-0.099419735, 0.2554967, -0.2758171, 0.996696...</td>\n",
       "      <td>[0.0, 0.0, 0.0, 1.0, 0.0, 0.0]</td>\n",
       "    </tr>\n",
       "    <tr>\n",
       "      <th>3</th>\n",
       "      <td>61280</td>\n",
       "      <td>66840</td>\n",
       "      <td>Okrągły znak pomaga nam, mówi, że są pasy na u...</td>\n",
       "      <td>/15/K66BF13-26_15_15_signsNO.eaf</td>\n",
       "      <td>K66BF13-26.mp4</td>\n",
       "      <td>15</td>\n",
       "      <td>NaN</td>\n",
       "      <td>allegro/herbert-base-cased</td>\n",
       "      <td>[-0.23825723, -0.018337265, -0.06085317, 0.998...</td>\n",
       "      <td>[0.0, 0.0, 0.0, 1.0, 0.0, 0.0]</td>\n",
       "    </tr>\n",
       "    <tr>\n",
       "      <th>4</th>\n",
       "      <td>66840</td>\n",
       "      <td>73200</td>\n",
       "      <td>Jak ktoś zobaczy, ale zignoruje ten znak, to m...</td>\n",
       "      <td>/15/K66BF13-26_15_15_signsNO.eaf</td>\n",
       "      <td>K66BF13-26.mp4</td>\n",
       "      <td>15</td>\n",
       "      <td>NaN</td>\n",
       "      <td>allegro/herbert-base-cased</td>\n",
       "      <td>[-0.12970479, 0.22667503, -0.34039426, 0.99525...</td>\n",
       "      <td>[0.0, 0.0, 0.0, 1.0, 0.0, 0.0]</td>\n",
       "    </tr>\n",
       "    <tr>\n",
       "      <th>...</th>\n",
       "      <td>...</td>\n",
       "      <td>...</td>\n",
       "      <td>...</td>\n",
       "      <td>...</td>\n",
       "      <td>...</td>\n",
       "      <td>...</td>\n",
       "      <td>...</td>\n",
       "      <td>...</td>\n",
       "      <td>...</td>\n",
       "      <td>...</td>\n",
       "    </tr>\n",
       "    <tr>\n",
       "      <th>39618</th>\n",
       "      <td>248960</td>\n",
       "      <td>250320</td>\n",
       "      <td>[uderzanie w coś]</td>\n",
       "      <td>/13/K17BF13-26_13_13_comics.eaf</td>\n",
       "      <td>K17BF13-26.mp4</td>\n",
       "      <td>13</td>\n",
       "      <td>NaN</td>\n",
       "      <td>allegro/herbert-base-cased</td>\n",
       "      <td>[-0.18567182, 0.09094109, -0.0705645, 0.998525...</td>\n",
       "      <td>[0.0, 0.0, 1.0, 0.0, 0.0, 0.0]</td>\n",
       "    </tr>\n",
       "    <tr>\n",
       "      <th>39619</th>\n",
       "      <td>279560</td>\n",
       "      <td>291400</td>\n",
       "      <td>Kot zobaczył w akwarium rybkę. Podszedł i dał ...</td>\n",
       "      <td>/13/K17BF13-26_13_13_comics.eaf</td>\n",
       "      <td>K17BF13-26.mp4</td>\n",
       "      <td>13</td>\n",
       "      <td>NaN</td>\n",
       "      <td>allegro/herbert-base-cased</td>\n",
       "      <td>[-0.006999457, -0.033343293, -0.19992304, 0.99...</td>\n",
       "      <td>[0.0, 0.0, 1.0, 0.0, 0.0, 0.0]</td>\n",
       "    </tr>\n",
       "    <tr>\n",
       "      <th>39620</th>\n",
       "      <td>291400</td>\n",
       "      <td>347120</td>\n",
       "      <td>Zjadłam, zjadłam.</td>\n",
       "      <td>/13/K17BF13-26_13_13_comics.eaf</td>\n",
       "      <td>K17BF13-26.mp4</td>\n",
       "      <td>13</td>\n",
       "      <td>NaN</td>\n",
       "      <td>allegro/herbert-base-cased</td>\n",
       "      <td>[-0.0022181608, 0.15197508, -0.0095874565, 0.9...</td>\n",
       "      <td>[0.0, 0.0, 1.0, 0.0, 0.0, 0.0]</td>\n",
       "    </tr>\n",
       "    <tr>\n",
       "      <th>39621</th>\n",
       "      <td>347120</td>\n",
       "      <td>356440</td>\n",
       "      <td>Zając biegnie, zobaczył wiszące pranie. Wskocz...</td>\n",
       "      <td>/13/K17BF13-26_13_13_comics.eaf</td>\n",
       "      <td>K17BF13-26.mp4</td>\n",
       "      <td>13</td>\n",
       "      <td>NaN</td>\n",
       "      <td>allegro/herbert-base-cased</td>\n",
       "      <td>[0.046771158, -0.19330795, -0.19553015, 0.9970...</td>\n",
       "      <td>[0.0, 0.0, 1.0, 0.0, 0.0, 0.0]</td>\n",
       "    </tr>\n",
       "    <tr>\n",
       "      <th>39622</th>\n",
       "      <td>359240</td>\n",
       "      <td>361760</td>\n",
       "      <td>Kombinezon dziecka, tak na siebie założył.</td>\n",
       "      <td>/13/K17BF13-26_13_13_comics.eaf</td>\n",
       "      <td>K17BF13-26.mp4</td>\n",
       "      <td>13</td>\n",
       "      <td>NaN</td>\n",
       "      <td>allegro/herbert-base-cased</td>\n",
       "      <td>[-0.19570073, -0.25222218, -0.07181161, 0.9991...</td>\n",
       "      <td>[0.0, 0.0, 1.0, 0.0, 0.0, 0.0]</td>\n",
       "    </tr>\n",
       "  </tbody>\n",
       "</table>\n",
       "<p>31973 rows × 10 columns</p>\n",
       "</div>"
      ],
      "text/plain": [
       "        start     end                                               text  \\\n",
       "0       39040   41120                  Myślę, że mam inny pomysł, można?   \n",
       "1       41120   49680  Chyba ten znak mówi, że jak ktoś będzie spacer...   \n",
       "2       49680   55280  Trzeba przejść łukiem obok leżącego i o tym zn...   \n",
       "3       61280   66840  Okrągły znak pomaga nam, mówi, że są pasy na u...   \n",
       "4       66840   73200  Jak ktoś zobaczy, ale zignoruje ten znak, to m...   \n",
       "...       ...     ...                                                ...   \n",
       "39618  248960  250320                                  [uderzanie w coś]   \n",
       "39619  279560  291400  Kot zobaczył w akwarium rybkę. Podszedł i dał ...   \n",
       "39620  291400  347120                                  Zjadłam, zjadłam.   \n",
       "39621  347120  356440  Zając biegnie, zobaczył wiszące pranie. Wskocz...   \n",
       "39622  359240  361760         Kombinezon dziecka, tak na siebie założył.   \n",
       "\n",
       "                           doc_filepath  video_filename task_label  \\\n",
       "0      /15/K66BF13-26_15_15_signsNO.eaf  K66BF13-26.mp4         15   \n",
       "1      /15/K66BF13-26_15_15_signsNO.eaf  K66BF13-26.mp4         15   \n",
       "2      /15/K66BF13-26_15_15_signsNO.eaf  K66BF13-26.mp4         15   \n",
       "3      /15/K66BF13-26_15_15_signsNO.eaf  K66BF13-26.mp4         15   \n",
       "4      /15/K66BF13-26_15_15_signsNO.eaf  K66BF13-26.mp4         15   \n",
       "...                                 ...             ...        ...   \n",
       "39618   /13/K17BF13-26_13_13_comics.eaf  K17BF13-26.mp4         13   \n",
       "39619   /13/K17BF13-26_13_13_comics.eaf  K17BF13-26.mp4         13   \n",
       "39620   /13/K17BF13-26_13_13_comics.eaf  K17BF13-26.mp4         13   \n",
       "39621   /13/K17BF13-26_13_13_comics.eaf  K17BF13-26.mp4         13   \n",
       "39622   /13/K17BF13-26_13_13_comics.eaf  K17BF13-26.mp4         13   \n",
       "\n",
       "       ParaphraseSrcIndex              EmbeddingModel  \\\n",
       "0                     NaN  allegro/herbert-base-cased   \n",
       "1                     NaN  allegro/herbert-base-cased   \n",
       "2                     NaN  allegro/herbert-base-cased   \n",
       "3                     NaN  allegro/herbert-base-cased   \n",
       "4                     NaN  allegro/herbert-base-cased   \n",
       "...                   ...                         ...   \n",
       "39618                 NaN  allegro/herbert-base-cased   \n",
       "39619                 NaN  allegro/herbert-base-cased   \n",
       "39620                 NaN  allegro/herbert-base-cased   \n",
       "39621                 NaN  allegro/herbert-base-cased   \n",
       "39622                 NaN  allegro/herbert-base-cased   \n",
       "\n",
       "                                               Embedding  \\\n",
       "0      [-0.039401535, 0.045144096, -0.07359799, 0.999...   \n",
       "1      [-0.04103174, 0.18905145, -0.2473697, 0.999101...   \n",
       "2      [-0.099419735, 0.2554967, -0.2758171, 0.996696...   \n",
       "3      [-0.23825723, -0.018337265, -0.06085317, 0.998...   \n",
       "4      [-0.12970479, 0.22667503, -0.34039426, 0.99525...   \n",
       "...                                                  ...   \n",
       "39618  [-0.18567182, 0.09094109, -0.0705645, 0.998525...   \n",
       "39619  [-0.006999457, -0.033343293, -0.19992304, 0.99...   \n",
       "39620  [-0.0022181608, 0.15197508, -0.0095874565, 0.9...   \n",
       "39621  [0.046771158, -0.19330795, -0.19553015, 0.9970...   \n",
       "39622  [-0.19570073, -0.25222218, -0.07181161, 0.9991...   \n",
       "\n",
       "                               Target  \n",
       "0      [0.0, 0.0, 0.0, 1.0, 0.0, 0.0]  \n",
       "1      [0.0, 0.0, 0.0, 1.0, 0.0, 0.0]  \n",
       "2      [0.0, 0.0, 0.0, 1.0, 0.0, 0.0]  \n",
       "3      [0.0, 0.0, 0.0, 1.0, 0.0, 0.0]  \n",
       "4      [0.0, 0.0, 0.0, 1.0, 0.0, 0.0]  \n",
       "...                               ...  \n",
       "39618  [0.0, 0.0, 1.0, 0.0, 0.0, 0.0]  \n",
       "39619  [0.0, 0.0, 1.0, 0.0, 0.0, 0.0]  \n",
       "39620  [0.0, 0.0, 1.0, 0.0, 0.0, 0.0]  \n",
       "39621  [0.0, 0.0, 1.0, 0.0, 0.0, 0.0]  \n",
       "39622  [0.0, 0.0, 1.0, 0.0, 0.0, 0.0]  \n",
       "\n",
       "[31973 rows x 10 columns]"
      ]
     },
     "execution_count": 8,
     "metadata": {},
     "output_type": "execute_result"
    }
   ],
   "source": [
    "pl_df = augmented_pl_df[augmented_pl_df.ParaphraseSrcIndex.isna()].copy()\n",
    "pl_df"
   ]
  },
  {
   "cell_type": "code",
   "execution_count": 9,
   "metadata": {},
   "outputs": [],
   "source": [
    "class OrkpjmTaskDataset(Dataset):\n",
    "\n",
    "    def __init__(self, augmented_df, augment=False):\n",
    "        self.df = augmented_df.copy()\n",
    "        if not augment:\n",
    "            self.df = self.df[self.df.ParaphraseSrcIndex.isna()]\n",
    "\n",
    "    def __len__(self):\n",
    "        return self.df.shape[0]\n",
    "\n",
    "    def __getitem__(self, index):\n",
    "        return {\n",
    "            \"embedding\": torch.tensor(self.df.Embedding.iloc[index]),\n",
    "            \"target\": torch.tensor(self.df.Target.iloc[index]),\n",
    "        }"
   ]
  },
  {
   "cell_type": "code",
   "execution_count": 10,
   "metadata": {},
   "outputs": [
    {
     "data": {
      "text/plain": [
       "(29491, 7373)"
      ]
     },
     "execution_count": 10,
     "metadata": {},
     "output_type": "execute_result"
    }
   ],
   "source": [
    "aug_train_df, aug_val_df = train_test_split(augmented_pl_df, test_size=0.2, random_state=42, stratify=augmented_pl_df[\"task_label\"])\n",
    "\n",
    "len(aug_train_df), len(aug_val_df)"
   ]
  },
  {
   "cell_type": "code",
   "execution_count": 11,
   "metadata": {},
   "outputs": [],
   "source": [
    "train_ds = OrkpjmTaskDataset(aug_train_df)\n",
    "val_ds = OrkpjmTaskDataset(aug_val_df)"
   ]
  },
  {
   "cell_type": "code",
   "execution_count": 12,
   "metadata": {},
   "outputs": [],
   "source": [
    "aug_train_ds = OrkpjmTaskDataset(aug_train_df, augment=True)\n",
    "aug_val_ds = OrkpjmTaskDataset(aug_val_df, augment=True)"
   ]
  },
  {
   "cell_type": "markdown",
   "metadata": {},
   "source": [
    "## Data loaders"
   ]
  },
  {
   "cell_type": "code",
   "execution_count": 13,
   "metadata": {},
   "outputs": [],
   "source": [
    "EMBEDDINGS_DIM = 768\n",
    "BATCH_SIZE = 64\n",
    "NUM_LABELS = 6\n",
    "\n",
    "\n",
    "train_dl = DataLoader(train_ds, batch_size=BATCH_SIZE)\n",
    "val_dl = DataLoader(val_ds, batch_size=BATCH_SIZE)\n",
    "\n",
    "aug_train_dl = DataLoader(aug_train_ds, batch_size=BATCH_SIZE)\n",
    "aug_val_dl = DataLoader(aug_train_ds, batch_size=BATCH_SIZE)"
   ]
  },
  {
   "cell_type": "markdown",
   "metadata": {},
   "source": [
    "## Simple NN"
   ]
  },
  {
   "cell_type": "code",
   "execution_count": 14,
   "metadata": {},
   "outputs": [],
   "source": [
    "class SimpleNNclf(nn.Module):\n",
    "\n",
    "    def __init__(self, embedding_dim, num_classes, hidden_dim=256, dropout=0.5):\n",
    "        super().__init__()\n",
    "        self.fc1 = nn.Linear(embedding_dim, hidden_dim)\n",
    "        self.dropout = nn.Dropout(dropout)\n",
    "        self.fc2 = nn.Linear(hidden_dim, num_classes)\n",
    "\n",
    "    def forward(self, x):\n",
    "        x = nn.functional.relu(x)\n",
    "        x = self.fc1(x)\n",
    "        x = self.dropout(x)\n",
    "        x = self.fc2(x)\n",
    "        return nn.functional.softmax(x, dim=1)"
   ]
  },
  {
   "cell_type": "code",
   "execution_count": 120,
   "metadata": {},
   "outputs": [
    {
     "data": {
      "text/plain": [
       "SimpleNNclf(\n",
       "  (fc1): Linear(in_features=768, out_features=256, bias=True)\n",
       "  (dropout): Dropout(p=0.5, inplace=False)\n",
       "  (fc2): Linear(in_features=256, out_features=6, bias=True)\n",
       ")"
      ]
     },
     "execution_count": 120,
     "metadata": {},
     "output_type": "execute_result"
    }
   ],
   "source": [
    "SimpleNNclf(EMBEDDINGS_DIM, NUM_LABELS)"
   ]
  },
  {
   "cell_type": "markdown",
   "metadata": {},
   "source": [
    "## LSTM"
   ]
  },
  {
   "cell_type": "code",
   "execution_count": 15,
   "metadata": {},
   "outputs": [],
   "source": [
    "class LSTMclf(nn.Module):\n",
    "\n",
    "    def __init__(self, input_dim, num_classes, hidden_dim=256):\n",
    "        super().__init__()\n",
    "        self.lstm = nn.LSTM(input_dim, hidden_dim, num_layers=2, bidirectional=False, batch_first=True)\n",
    "        self.dropout = nn.Dropout(0.5)\n",
    "        self.fc = nn.Linear(hidden_dim, num_classes)\n",
    "\n",
    "    def forward(self, x):\n",
    "        x = x.view(x.shape[0], 1, x.shape[1])\n",
    "        # x shape: [batch_size, sequence_length, embedding_dim]\n",
    "        lstm_out, _ = self.lstm(x)\n",
    "        # Take the output of the last time step\n",
    "        lstm_out = lstm_out[:, -1, :]\n",
    "        out = self.dropout(lstm_out)\n",
    "        out = self.fc(out)\n",
    "        return nn.functional.softmax(out, dim=1)"
   ]
  },
  {
   "cell_type": "code",
   "execution_count": 121,
   "metadata": {},
   "outputs": [
    {
     "data": {
      "text/plain": [
       "LSTMclf(\n",
       "  (lstm): LSTM(768, 256, num_layers=2, batch_first=True)\n",
       "  (dropout): Dropout(p=0.5, inplace=False)\n",
       "  (fc): Linear(in_features=256, out_features=6, bias=True)\n",
       ")"
      ]
     },
     "execution_count": 121,
     "metadata": {},
     "output_type": "execute_result"
    }
   ],
   "source": [
    "LSTMclf(EMBEDDINGS_DIM, NUM_LABELS)"
   ]
  },
  {
   "cell_type": "code",
   "execution_count": 16,
   "metadata": {},
   "outputs": [],
   "source": [
    "def train(model, optimizer, loss_fn, train_dl, device=\"cuda\", norm_grad=False):\n",
    "    # one epoch training\n",
    "    model.train()\n",
    "    total_loss = 0\n",
    "\n",
    "    all_targets_label_ids, all_preds_label_ids = [], []\n",
    "    for batch in train_dl:\n",
    "        batch = {k: v.to(device) for k, v in batch.items()}\n",
    "        inputs, targets = batch[\"embedding\"], batch[\"target\"]\n",
    "\n",
    "        optimizer.zero_grad()\n",
    "        preds = model(inputs)\n",
    "        loss = loss_fn(preds, targets)\n",
    "        total_loss = total_loss + loss.item()\n",
    "        loss.backward()\n",
    "\n",
    "        if norm_grad:\n",
    "            # Normalizacja wartości gradientów\n",
    "            torch.nn.utils.clip_grad_norm_(model.parameters(), 1.0)\n",
    "        optimizer.step()\n",
    "\n",
    "        preds_label_ids = torch.argmax(preds, dim=1)\n",
    "        targets_label_ids = torch.argmax(targets, dim=1)\n",
    "\n",
    "        all_preds_label_ids.extend(preds_label_ids.detach().cpu().numpy())\n",
    "        all_targets_label_ids.extend(targets_label_ids.detach().cpu().numpy())\n",
    "\n",
    "    avg_loss = total_loss / len(train_dl)\n",
    "\n",
    "    print(all_targets_label_ids[:10], all_preds_label_ids[:10])\n",
    "    \n",
    "    clf_report = classification_report(all_targets_label_ids, all_preds_label_ids, output_dict=True, zero_division=0)\n",
    "\n",
    "    return avg_loss, clf_report\n",
    "\n",
    "\n",
    "def evaluate(model, loss_fn, val_dl, device=\"cuda\"):\n",
    "    # one epoch evaluation\n",
    "    model.eval()\n",
    "    total_loss = 0\n",
    "    all_targets_label_ids, all_preds_label_ids = [], []\n",
    "    for batch in val_dl:\n",
    "        batch = {k: v.to(device) for k, v in batch.items()}\n",
    "        inputs, targets = batch[\"embedding\"], batch[\"target\"]\n",
    "\n",
    "        with torch.no_grad():\n",
    "            preds = model(inputs)\n",
    "            loss = loss_fn(preds, targets)\n",
    "            total_loss = total_loss + loss.item()\n",
    "\n",
    "        targets_label_ids = torch.argmax(targets, dim=1)\n",
    "        preds_label_ids = torch.argmax(preds, dim=1)\n",
    "\n",
    "        all_preds_label_ids.extend(preds_label_ids.detach().cpu().numpy())\n",
    "        all_targets_label_ids.extend(targets_label_ids.detach().cpu().numpy())\n",
    "\n",
    "    avg_loss = total_loss / len(val_dl)\n",
    "    clf_report = classification_report(all_targets_label_ids, all_preds_label_ids, output_dict=True, zero_division=0)\n",
    "\n",
    "    return avg_loss, clf_report"
   ]
  },
  {
   "cell_type": "code",
   "execution_count": 17,
   "metadata": {},
   "outputs": [
    {
     "data": {
      "application/vnd.jupyter.widget-view+json": {
       "model_id": "806b2581aec540d69723ea810d8a5d3e",
       "version_major": 2,
       "version_minor": 0
      },
      "text/plain": [
       "Training LSTMclf\t| Epochs:   0%|          | 0/30 [00:00<?, ?it/s]"
      ]
     },
     "metadata": {},
     "output_type": "display_data"
    },
    {
     "name": "stdout",
     "output_type": "stream",
     "text": [
      "[3, 1, 0, 3, 4, 2, 0, 4, 0, 3] [0, 0, 2, 0, 0, 4, 4, 0, 0, 2]\n"
     ]
    },
    {
     "name": "stderr",
     "output_type": "stream",
     "text": [
      "\u001b[32m2024-01-30 00:28:18.990\u001b[0m | \u001b[1mINFO    \u001b[0m | \u001b[36m__main__\u001b[0m:\u001b[36m<module>\u001b[0m:\u001b[36m29\u001b[0m - \u001b[1mAugmented: False\tTrain loss: 1.5526 Val loss: 1.4839 Train F1: 0.3226 Val F1: 0.3840\u001b[0m\n"
     ]
    },
    {
     "name": "stdout",
     "output_type": "stream",
     "text": [
      "[3, 1, 0, 3, 4, 2, 0, 4, 0, 3] [3, 4, 0, 3, 3, 4, 0, 0, 3, 3]\n"
     ]
    },
    {
     "name": "stderr",
     "output_type": "stream",
     "text": [
      "\u001b[32m2024-01-30 00:28:21.344\u001b[0m | \u001b[1mINFO    \u001b[0m | \u001b[36m__main__\u001b[0m:\u001b[36m<module>\u001b[0m:\u001b[36m29\u001b[0m - \u001b[1mAugmented: False\tTrain loss: 1.4643 Val loss: 1.4525 Train F1: 0.4061 Val F1: 0.4278\u001b[0m\n"
     ]
    },
    {
     "name": "stdout",
     "output_type": "stream",
     "text": [
      "[3, 1, 0, 3, 4, 2, 0, 4, 0, 3] [3, 1, 0, 3, 0, 4, 0, 4, 3, 3]\n"
     ]
    },
    {
     "name": "stderr",
     "output_type": "stream",
     "text": [
      "\u001b[32m2024-01-30 00:28:23.974\u001b[0m | \u001b[1mINFO    \u001b[0m | \u001b[36m__main__\u001b[0m:\u001b[36m<module>\u001b[0m:\u001b[36m29\u001b[0m - \u001b[1mAugmented: False\tTrain loss: 1.4456 Val loss: 1.4571 Train F1: 0.4388 Val F1: 0.4407\u001b[0m\n"
     ]
    },
    {
     "name": "stdout",
     "output_type": "stream",
     "text": [
      "[3, 1, 0, 3, 4, 2, 0, 4, 0, 3] [3, 1, 0, 3, 0, 4, 0, 4, 0, 3]\n"
     ]
    },
    {
     "name": "stderr",
     "output_type": "stream",
     "text": [
      "\u001b[32m2024-01-30 00:28:26.704\u001b[0m | \u001b[1mINFO    \u001b[0m | \u001b[36m__main__\u001b[0m:\u001b[36m<module>\u001b[0m:\u001b[36m29\u001b[0m - \u001b[1mAugmented: False\tTrain loss: 1.4366 Val loss: 1.4357 Train F1: 0.4562 Val F1: 0.4550\u001b[0m\n"
     ]
    },
    {
     "name": "stdout",
     "output_type": "stream",
     "text": [
      "[3, 1, 0, 3, 4, 2, 0, 4, 0, 3] [3, 1, 0, 3, 0, 4, 0, 4, 0, 3]\n"
     ]
    },
    {
     "name": "stderr",
     "output_type": "stream",
     "text": [
      "\u001b[32m2024-01-30 00:28:29.441\u001b[0m | \u001b[1mINFO    \u001b[0m | \u001b[36m__main__\u001b[0m:\u001b[36m<module>\u001b[0m:\u001b[36m29\u001b[0m - \u001b[1mAugmented: False\tTrain loss: 1.4215 Val loss: 1.4251 Train F1: 0.4793 Val F1: 0.4751\u001b[0m\n"
     ]
    },
    {
     "name": "stdout",
     "output_type": "stream",
     "text": [
      "[3, 1, 0, 3, 4, 2, 0, 4, 0, 3] [3, 1, 0, 3, 0, 4, 0, 4, 0, 3]\n"
     ]
    },
    {
     "name": "stderr",
     "output_type": "stream",
     "text": [
      "\u001b[32m2024-01-30 00:28:32.285\u001b[0m | \u001b[1mINFO    \u001b[0m | \u001b[36m__main__\u001b[0m:\u001b[36m<module>\u001b[0m:\u001b[36m29\u001b[0m - \u001b[1mAugmented: False\tTrain loss: 1.4178 Val loss: 1.4099 Train F1: 0.4909 Val F1: 0.4886\u001b[0m\n"
     ]
    },
    {
     "name": "stdout",
     "output_type": "stream",
     "text": [
      "[3, 1, 0, 3, 4, 2, 0, 4, 0, 3] [3, 1, 0, 3, 3, 4, 0, 4, 3, 3]\n"
     ]
    },
    {
     "name": "stderr",
     "output_type": "stream",
     "text": [
      "\u001b[32m2024-01-30 00:28:35.194\u001b[0m | \u001b[1mINFO    \u001b[0m | \u001b[36m__main__\u001b[0m:\u001b[36m<module>\u001b[0m:\u001b[36m29\u001b[0m - \u001b[1mAugmented: False\tTrain loss: 1.4137 Val loss: 1.4104 Train F1: 0.5001 Val F1: 0.4832\u001b[0m\n"
     ]
    },
    {
     "name": "stdout",
     "output_type": "stream",
     "text": [
      "[3, 1, 0, 3, 4, 2, 0, 4, 0, 3] [3, 1, 0, 3, 3, 4, 0, 4, 3, 3]\n"
     ]
    },
    {
     "name": "stderr",
     "output_type": "stream",
     "text": [
      "\u001b[32m2024-01-30 00:28:38.067\u001b[0m | \u001b[1mINFO    \u001b[0m | \u001b[36m__main__\u001b[0m:\u001b[36m<module>\u001b[0m:\u001b[36m29\u001b[0m - \u001b[1mAugmented: False\tTrain loss: 1.4092 Val loss: 1.4213 Train F1: 0.5161 Val F1: 0.4964\u001b[0m\n"
     ]
    },
    {
     "name": "stdout",
     "output_type": "stream",
     "text": [
      "[3, 1, 0, 3, 4, 2, 0, 4, 0, 3] [3, 1, 0, 3, 0, 4, 0, 4, 4, 3]\n"
     ]
    },
    {
     "name": "stderr",
     "output_type": "stream",
     "text": [
      "\u001b[32m2024-01-30 00:28:41.158\u001b[0m | \u001b[1mINFO    \u001b[0m | \u001b[36m__main__\u001b[0m:\u001b[36m<module>\u001b[0m:\u001b[36m29\u001b[0m - \u001b[1mAugmented: False\tTrain loss: 1.4023 Val loss: 1.4051 Train F1: 0.5253 Val F1: 0.5058\u001b[0m\n"
     ]
    },
    {
     "name": "stdout",
     "output_type": "stream",
     "text": [
      "[3, 1, 0, 3, 4, 2, 0, 4, 0, 3] [3, 1, 0, 3, 0, 4, 0, 4, 4, 3]\n"
     ]
    },
    {
     "name": "stderr",
     "output_type": "stream",
     "text": [
      "\u001b[32m2024-01-30 00:28:44.175\u001b[0m | \u001b[1mINFO    \u001b[0m | \u001b[36m__main__\u001b[0m:\u001b[36m<module>\u001b[0m:\u001b[36m29\u001b[0m - \u001b[1mAugmented: False\tTrain loss: 1.3947 Val loss: 1.4052 Train F1: 0.5409 Val F1: 0.5233\u001b[0m\n"
     ]
    },
    {
     "name": "stdout",
     "output_type": "stream",
     "text": [
      "[3, 1, 0, 3, 4, 2, 0, 4, 0, 3] [3, 1, 0, 3, 0, 4, 0, 4, 5, 3]\n"
     ]
    },
    {
     "name": "stderr",
     "output_type": "stream",
     "text": [
      "\u001b[32m2024-01-30 00:28:47.287\u001b[0m | \u001b[1mINFO    \u001b[0m | \u001b[36m__main__\u001b[0m:\u001b[36m<module>\u001b[0m:\u001b[36m29\u001b[0m - \u001b[1mAugmented: False\tTrain loss: 1.3935 Val loss: 1.4094 Train F1: 0.5425 Val F1: 0.5121\u001b[0m\n"
     ]
    },
    {
     "name": "stdout",
     "output_type": "stream",
     "text": [
      "[3, 1, 0, 3, 4, 2, 0, 4, 0, 3] [3, 1, 0, 3, 0, 4, 0, 4, 4, 3]\n"
     ]
    },
    {
     "name": "stderr",
     "output_type": "stream",
     "text": [
      "\u001b[32m2024-01-30 00:28:50.383\u001b[0m | \u001b[1mINFO    \u001b[0m | \u001b[36m__main__\u001b[0m:\u001b[36m<module>\u001b[0m:\u001b[36m29\u001b[0m - \u001b[1mAugmented: False\tTrain loss: 1.3945 Val loss: 1.3955 Train F1: 0.5446 Val F1: 0.5421\u001b[0m\n"
     ]
    },
    {
     "name": "stdout",
     "output_type": "stream",
     "text": [
      "[3, 1, 0, 3, 4, 2, 0, 4, 0, 3] [3, 1, 0, 3, 0, 4, 0, 4, 5, 3]\n"
     ]
    },
    {
     "name": "stderr",
     "output_type": "stream",
     "text": [
      "\u001b[32m2024-01-30 00:28:53.436\u001b[0m | \u001b[1mINFO    \u001b[0m | \u001b[36m__main__\u001b[0m:\u001b[36m<module>\u001b[0m:\u001b[36m29\u001b[0m - \u001b[1mAugmented: False\tTrain loss: 1.3912 Val loss: 1.3937 Train F1: 0.5511 Val F1: 0.5281\u001b[0m\n"
     ]
    },
    {
     "name": "stdout",
     "output_type": "stream",
     "text": [
      "[3, 1, 0, 3, 4, 2, 0, 4, 0, 3] [3, 1, 0, 3, 3, 4, 0, 4, 3, 3]\n"
     ]
    },
    {
     "name": "stderr",
     "output_type": "stream",
     "text": [
      "\u001b[32m2024-01-30 00:28:56.476\u001b[0m | \u001b[1mINFO    \u001b[0m | \u001b[36m__main__\u001b[0m:\u001b[36m<module>\u001b[0m:\u001b[36m29\u001b[0m - \u001b[1mAugmented: False\tTrain loss: 1.3856 Val loss: 1.3972 Train F1: 0.5573 Val F1: 0.5416\u001b[0m\n"
     ]
    },
    {
     "name": "stdout",
     "output_type": "stream",
     "text": [
      "[3, 1, 0, 3, 4, 2, 0, 4, 0, 3] [3, 1, 0, 3, 0, 4, 0, 4, 3, 3]\n"
     ]
    },
    {
     "name": "stderr",
     "output_type": "stream",
     "text": [
      "\u001b[32m2024-01-30 00:28:59.556\u001b[0m | \u001b[1mINFO    \u001b[0m | \u001b[36m__main__\u001b[0m:\u001b[36m<module>\u001b[0m:\u001b[36m29\u001b[0m - \u001b[1mAugmented: False\tTrain loss: 1.3825 Val loss: 1.3958 Train F1: 0.5657 Val F1: 0.5653\u001b[0m\n"
     ]
    },
    {
     "name": "stdout",
     "output_type": "stream",
     "text": [
      "[3, 1, 0, 3, 4, 2, 0, 4, 0, 3] [3, 1, 0, 3, 0, 4, 0, 4, 0, 3]\n"
     ]
    },
    {
     "name": "stderr",
     "output_type": "stream",
     "text": [
      "\u001b[32m2024-01-30 00:29:02.539\u001b[0m | \u001b[1mINFO    \u001b[0m | \u001b[36m__main__\u001b[0m:\u001b[36m<module>\u001b[0m:\u001b[36m29\u001b[0m - \u001b[1mAugmented: False\tTrain loss: 1.3768 Val loss: 1.3977 Train F1: 0.5758 Val F1: 0.5526\u001b[0m\n"
     ]
    },
    {
     "name": "stdout",
     "output_type": "stream",
     "text": [
      "[3, 1, 0, 3, 4, 2, 0, 4, 0, 3] [3, 1, 0, 3, 3, 4, 0, 4, 3, 3]\n"
     ]
    },
    {
     "name": "stderr",
     "output_type": "stream",
     "text": [
      "\u001b[32m2024-01-30 00:29:05.380\u001b[0m | \u001b[1mINFO    \u001b[0m | \u001b[36m__main__\u001b[0m:\u001b[36m<module>\u001b[0m:\u001b[36m29\u001b[0m - \u001b[1mAugmented: False\tTrain loss: 1.3775 Val loss: 1.3948 Train F1: 0.5810 Val F1: 0.5387\u001b[0m\n"
     ]
    },
    {
     "name": "stdout",
     "output_type": "stream",
     "text": [
      "[3, 1, 0, 3, 4, 2, 0, 4, 0, 3] [3, 1, 0, 3, 3, 4, 0, 4, 4, 3]\n"
     ]
    },
    {
     "name": "stderr",
     "output_type": "stream",
     "text": [
      "\u001b[32m2024-01-30 00:29:08.134\u001b[0m | \u001b[1mINFO    \u001b[0m | \u001b[36m__main__\u001b[0m:\u001b[36m<module>\u001b[0m:\u001b[36m29\u001b[0m - \u001b[1mAugmented: False\tTrain loss: 1.3733 Val loss: 1.3938 Train F1: 0.5820 Val F1: 0.5593\u001b[0m\n"
     ]
    },
    {
     "name": "stdout",
     "output_type": "stream",
     "text": [
      "[3, 1, 0, 3, 4, 2, 0, 4, 0, 3] [3, 1, 0, 3, 0, 4, 0, 4, 3, 3]\n"
     ]
    },
    {
     "name": "stderr",
     "output_type": "stream",
     "text": [
      "\u001b[32m2024-01-30 00:29:11.167\u001b[0m | \u001b[1mINFO    \u001b[0m | \u001b[36m__main__\u001b[0m:\u001b[36m<module>\u001b[0m:\u001b[36m29\u001b[0m - \u001b[1mAugmented: False\tTrain loss: 1.3696 Val loss: 1.3831 Train F1: 0.5917 Val F1: 0.5852\u001b[0m\n"
     ]
    },
    {
     "name": "stdout",
     "output_type": "stream",
     "text": [
      "[3, 1, 0, 3, 4, 2, 0, 4, 0, 3] [3, 1, 0, 3, 3, 4, 0, 4, 0, 3]\n"
     ]
    },
    {
     "name": "stderr",
     "output_type": "stream",
     "text": [
      "\u001b[32m2024-01-30 00:29:14.135\u001b[0m | \u001b[1mINFO    \u001b[0m | \u001b[36m__main__\u001b[0m:\u001b[36m<module>\u001b[0m:\u001b[36m29\u001b[0m - \u001b[1mAugmented: False\tTrain loss: 1.3646 Val loss: 1.3791 Train F1: 0.6009 Val F1: 0.5929\u001b[0m\n"
     ]
    },
    {
     "name": "stdout",
     "output_type": "stream",
     "text": [
      "[3, 1, 0, 3, 4, 2, 0, 4, 0, 3] [3, 1, 0, 3, 3, 4, 0, 4, 3, 3]\n"
     ]
    },
    {
     "name": "stderr",
     "output_type": "stream",
     "text": [
      "\u001b[32m2024-01-30 00:29:16.928\u001b[0m | \u001b[1mINFO    \u001b[0m | \u001b[36m__main__\u001b[0m:\u001b[36m<module>\u001b[0m:\u001b[36m29\u001b[0m - \u001b[1mAugmented: False\tTrain loss: 1.3724 Val loss: 1.3888 Train F1: 0.5869 Val F1: 0.5702\u001b[0m\n"
     ]
    },
    {
     "name": "stdout",
     "output_type": "stream",
     "text": [
      "[3, 1, 0, 3, 4, 2, 0, 4, 0, 3] [3, 1, 0, 3, 0, 4, 0, 4, 0, 3]\n"
     ]
    },
    {
     "name": "stderr",
     "output_type": "stream",
     "text": [
      "\u001b[32m2024-01-30 00:29:19.664\u001b[0m | \u001b[1mINFO    \u001b[0m | \u001b[36m__main__\u001b[0m:\u001b[36m<module>\u001b[0m:\u001b[36m29\u001b[0m - \u001b[1mAugmented: False\tTrain loss: 1.3658 Val loss: 1.3774 Train F1: 0.5983 Val F1: 0.5791\u001b[0m\n"
     ]
    },
    {
     "name": "stdout",
     "output_type": "stream",
     "text": [
      "[3, 1, 0, 3, 4, 2, 0, 4, 0, 3] [3, 1, 0, 3, 3, 4, 0, 4, 3, 3]\n"
     ]
    },
    {
     "name": "stderr",
     "output_type": "stream",
     "text": [
      "\u001b[32m2024-01-30 00:29:22.378\u001b[0m | \u001b[1mINFO    \u001b[0m | \u001b[36m__main__\u001b[0m:\u001b[36m<module>\u001b[0m:\u001b[36m29\u001b[0m - \u001b[1mAugmented: False\tTrain loss: 1.3674 Val loss: 1.3844 Train F1: 0.5958 Val F1: 0.5875\u001b[0m\n"
     ]
    },
    {
     "name": "stdout",
     "output_type": "stream",
     "text": [
      "[3, 1, 0, 3, 4, 2, 0, 4, 0, 3] [3, 1, 0, 3, 3, 4, 0, 4, 3, 3]\n"
     ]
    },
    {
     "name": "stderr",
     "output_type": "stream",
     "text": [
      "\u001b[32m2024-01-30 00:29:25.096\u001b[0m | \u001b[1mINFO    \u001b[0m | \u001b[36m__main__\u001b[0m:\u001b[36m<module>\u001b[0m:\u001b[36m29\u001b[0m - \u001b[1mAugmented: False\tTrain loss: 1.3545 Val loss: 1.3752 Train F1: 0.6139 Val F1: 0.5941\u001b[0m\n"
     ]
    },
    {
     "name": "stdout",
     "output_type": "stream",
     "text": [
      "[3, 1, 0, 3, 4, 2, 0, 4, 0, 3] [3, 1, 0, 3, 3, 4, 0, 4, 3, 3]\n"
     ]
    },
    {
     "name": "stderr",
     "output_type": "stream",
     "text": [
      "\u001b[32m2024-01-30 00:29:27.882\u001b[0m | \u001b[1mINFO    \u001b[0m | \u001b[36m__main__\u001b[0m:\u001b[36m<module>\u001b[0m:\u001b[36m29\u001b[0m - \u001b[1mAugmented: False\tTrain loss: 1.3572 Val loss: 1.3726 Train F1: 0.6148 Val F1: 0.5941\u001b[0m\n"
     ]
    },
    {
     "name": "stdout",
     "output_type": "stream",
     "text": [
      "[3, 1, 0, 3, 4, 2, 0, 4, 0, 3] [3, 1, 0, 3, 3, 4, 0, 4, 3, 3]\n"
     ]
    },
    {
     "name": "stderr",
     "output_type": "stream",
     "text": [
      "\u001b[32m2024-01-30 00:29:30.639\u001b[0m | \u001b[1mINFO    \u001b[0m | \u001b[36m__main__\u001b[0m:\u001b[36m<module>\u001b[0m:\u001b[36m29\u001b[0m - \u001b[1mAugmented: False\tTrain loss: 1.3540 Val loss: 1.3713 Train F1: 0.6190 Val F1: 0.5954\u001b[0m\n"
     ]
    },
    {
     "name": "stdout",
     "output_type": "stream",
     "text": [
      "[3, 1, 0, 3, 4, 2, 0, 4, 0, 3] [3, 1, 0, 3, 3, 4, 0, 4, 3, 3]\n"
     ]
    },
    {
     "name": "stderr",
     "output_type": "stream",
     "text": [
      "\u001b[32m2024-01-30 00:29:33.363\u001b[0m | \u001b[1mINFO    \u001b[0m | \u001b[36m__main__\u001b[0m:\u001b[36m<module>\u001b[0m:\u001b[36m29\u001b[0m - \u001b[1mAugmented: False\tTrain loss: 1.3547 Val loss: 1.3713 Train F1: 0.6190 Val F1: 0.5940\u001b[0m\n"
     ]
    },
    {
     "name": "stdout",
     "output_type": "stream",
     "text": [
      "[3, 1, 0, 3, 4, 2, 0, 4, 0, 3] [3, 1, 0, 3, 3, 4, 0, 4, 3, 3]\n"
     ]
    },
    {
     "name": "stderr",
     "output_type": "stream",
     "text": [
      "\u001b[32m2024-01-30 00:29:36.097\u001b[0m | \u001b[1mINFO    \u001b[0m | \u001b[36m__main__\u001b[0m:\u001b[36m<module>\u001b[0m:\u001b[36m29\u001b[0m - \u001b[1mAugmented: False\tTrain loss: 1.3531 Val loss: 1.3709 Train F1: 0.6209 Val F1: 0.6032\u001b[0m\n"
     ]
    },
    {
     "name": "stdout",
     "output_type": "stream",
     "text": [
      "[3, 1, 0, 3, 4, 2, 0, 4, 0, 3] [3, 1, 0, 3, 3, 4, 0, 4, 3, 3]\n"
     ]
    },
    {
     "name": "stderr",
     "output_type": "stream",
     "text": [
      "\u001b[32m2024-01-30 00:29:38.791\u001b[0m | \u001b[1mINFO    \u001b[0m | \u001b[36m__main__\u001b[0m:\u001b[36m<module>\u001b[0m:\u001b[36m29\u001b[0m - \u001b[1mAugmented: False\tTrain loss: 1.3553 Val loss: 1.3848 Train F1: 0.6193 Val F1: 0.5841\u001b[0m\n"
     ]
    },
    {
     "name": "stdout",
     "output_type": "stream",
     "text": [
      "[3, 1, 0, 3, 4, 2, 0, 4, 0, 3] [3, 1, 0, 3, 3, 4, 0, 4, 1, 3]\n"
     ]
    },
    {
     "name": "stderr",
     "output_type": "stream",
     "text": [
      "\u001b[32m2024-01-30 00:29:41.512\u001b[0m | \u001b[1mINFO    \u001b[0m | \u001b[36m__main__\u001b[0m:\u001b[36m<module>\u001b[0m:\u001b[36m29\u001b[0m - \u001b[1mAugmented: False\tTrain loss: 1.3491 Val loss: 1.3938 Train F1: 0.6275 Val F1: 0.5751\u001b[0m\n"
     ]
    },
    {
     "data": {
      "application/vnd.jupyter.widget-view+json": {
       "model_id": "e73892a230b64af995bd87dfedc921fe",
       "version_major": 2,
       "version_minor": 0
      },
      "text/plain": [
       "Training SimpleNNclf\t| Epochs:   0%|          | 0/30 [00:00<?, ?it/s]"
      ]
     },
     "metadata": {},
     "output_type": "display_data"
    },
    {
     "name": "stdout",
     "output_type": "stream",
     "text": [
      "[3, 1, 0, 3, 4, 2, 0, 4, 0, 3] [1, 0, 1, 2, 1, 2, 0, 2, 0, 2]\n"
     ]
    },
    {
     "name": "stderr",
     "output_type": "stream",
     "text": [
      "\u001b[32m2024-01-30 00:29:43.701\u001b[0m | \u001b[1mINFO    \u001b[0m | \u001b[36m__main__\u001b[0m:\u001b[36m<module>\u001b[0m:\u001b[36m29\u001b[0m - \u001b[1mAugmented: False\tTrain loss: 1.5912 Val loss: 1.5023 Train F1: 0.2783 Val F1: 0.3759\u001b[0m\n"
     ]
    },
    {
     "name": "stdout",
     "output_type": "stream",
     "text": [
      "[3, 1, 0, 3, 4, 2, 0, 4, 0, 3] [3, 1, 0, 3, 0, 4, 0, 0, 3, 3]\n"
     ]
    },
    {
     "name": "stderr",
     "output_type": "stream",
     "text": [
      "\u001b[32m2024-01-30 00:29:46.310\u001b[0m | \u001b[1mINFO    \u001b[0m | \u001b[36m__main__\u001b[0m:\u001b[36m<module>\u001b[0m:\u001b[36m29\u001b[0m - \u001b[1mAugmented: False\tTrain loss: 1.4906 Val loss: 1.4832 Train F1: 0.3829 Val F1: 0.3984\u001b[0m\n"
     ]
    },
    {
     "name": "stdout",
     "output_type": "stream",
     "text": [
      "[3, 1, 0, 3, 4, 2, 0, 4, 0, 3] [0, 1, 0, 3, 0, 4, 0, 0, 0, 3]\n"
     ]
    },
    {
     "name": "stderr",
     "output_type": "stream",
     "text": [
      "\u001b[32m2024-01-30 00:29:48.920\u001b[0m | \u001b[1mINFO    \u001b[0m | \u001b[36m__main__\u001b[0m:\u001b[36m<module>\u001b[0m:\u001b[36m29\u001b[0m - \u001b[1mAugmented: False\tTrain loss: 1.4685 Val loss: 1.4551 Train F1: 0.4097 Val F1: 0.4414\u001b[0m\n"
     ]
    },
    {
     "name": "stdout",
     "output_type": "stream",
     "text": [
      "[3, 1, 0, 3, 4, 2, 0, 4, 0, 3] [3, 1, 0, 3, 0, 4, 0, 4, 0, 3]\n"
     ]
    },
    {
     "name": "stderr",
     "output_type": "stream",
     "text": [
      "\u001b[32m2024-01-30 00:29:51.624\u001b[0m | \u001b[1mINFO    \u001b[0m | \u001b[36m__main__\u001b[0m:\u001b[36m<module>\u001b[0m:\u001b[36m29\u001b[0m - \u001b[1mAugmented: False\tTrain loss: 1.4520 Val loss: 1.4399 Train F1: 0.4402 Val F1: 0.4468\u001b[0m\n"
     ]
    },
    {
     "name": "stdout",
     "output_type": "stream",
     "text": [
      "[3, 1, 0, 3, 4, 2, 0, 4, 0, 3] [3, 1, 0, 3, 0, 1, 0, 4, 0, 3]\n"
     ]
    },
    {
     "name": "stderr",
     "output_type": "stream",
     "text": [
      "\u001b[32m2024-01-30 00:29:54.291\u001b[0m | \u001b[1mINFO    \u001b[0m | \u001b[36m__main__\u001b[0m:\u001b[36m<module>\u001b[0m:\u001b[36m29\u001b[0m - \u001b[1mAugmented: False\tTrain loss: 1.4428 Val loss: 1.4393 Train F1: 0.4526 Val F1: 0.4524\u001b[0m\n"
     ]
    },
    {
     "name": "stdout",
     "output_type": "stream",
     "text": [
      "[3, 1, 0, 3, 4, 2, 0, 4, 0, 3] [3, 1, 0, 3, 4, 4, 0, 4, 0, 3]\n"
     ]
    },
    {
     "name": "stderr",
     "output_type": "stream",
     "text": [
      "\u001b[32m2024-01-30 00:29:56.737\u001b[0m | \u001b[1mINFO    \u001b[0m | \u001b[36m__main__\u001b[0m:\u001b[36m<module>\u001b[0m:\u001b[36m29\u001b[0m - \u001b[1mAugmented: False\tTrain loss: 1.4365 Val loss: 1.4302 Train F1: 0.4649 Val F1: 0.4569\u001b[0m\n"
     ]
    },
    {
     "name": "stdout",
     "output_type": "stream",
     "text": [
      "[3, 1, 0, 3, 4, 2, 0, 4, 0, 3] [3, 1, 0, 3, 0, 4, 0, 4, 0, 3]\n"
     ]
    },
    {
     "name": "stderr",
     "output_type": "stream",
     "text": [
      "\u001b[32m2024-01-30 00:29:59.323\u001b[0m | \u001b[1mINFO    \u001b[0m | \u001b[36m__main__\u001b[0m:\u001b[36m<module>\u001b[0m:\u001b[36m29\u001b[0m - \u001b[1mAugmented: False\tTrain loss: 1.4281 Val loss: 1.4285 Train F1: 0.4772 Val F1: 0.4737\u001b[0m\n"
     ]
    },
    {
     "name": "stdout",
     "output_type": "stream",
     "text": [
      "[3, 1, 0, 3, 4, 2, 0, 4, 0, 3] [3, 1, 0, 3, 3, 4, 0, 4, 3, 3]\n"
     ]
    },
    {
     "name": "stderr",
     "output_type": "stream",
     "text": [
      "\u001b[32m2024-01-30 00:30:01.939\u001b[0m | \u001b[1mINFO    \u001b[0m | \u001b[36m__main__\u001b[0m:\u001b[36m<module>\u001b[0m:\u001b[36m29\u001b[0m - \u001b[1mAugmented: False\tTrain loss: 1.4266 Val loss: 1.4229 Train F1: 0.4781 Val F1: 0.4729\u001b[0m\n"
     ]
    },
    {
     "name": "stdout",
     "output_type": "stream",
     "text": [
      "[3, 1, 0, 3, 4, 2, 0, 4, 0, 3] [3, 1, 0, 0, 0, 4, 0, 4, 4, 3]\n"
     ]
    },
    {
     "name": "stderr",
     "output_type": "stream",
     "text": [
      "\u001b[32m2024-01-30 00:30:04.514\u001b[0m | \u001b[1mINFO    \u001b[0m | \u001b[36m__main__\u001b[0m:\u001b[36m<module>\u001b[0m:\u001b[36m29\u001b[0m - \u001b[1mAugmented: False\tTrain loss: 1.4221 Val loss: 1.4219 Train F1: 0.4828 Val F1: 0.4725\u001b[0m\n"
     ]
    },
    {
     "name": "stdout",
     "output_type": "stream",
     "text": [
      "[3, 1, 0, 3, 4, 2, 0, 4, 0, 3] [3, 1, 0, 3, 0, 1, 0, 4, 4, 3]\n"
     ]
    },
    {
     "name": "stderr",
     "output_type": "stream",
     "text": [
      "\u001b[32m2024-01-30 00:30:07.225\u001b[0m | \u001b[1mINFO    \u001b[0m | \u001b[36m__main__\u001b[0m:\u001b[36m<module>\u001b[0m:\u001b[36m29\u001b[0m - \u001b[1mAugmented: False\tTrain loss: 1.4165 Val loss: 1.4206 Train F1: 0.4927 Val F1: 0.4826\u001b[0m\n"
     ]
    },
    {
     "name": "stdout",
     "output_type": "stream",
     "text": [
      "[3, 1, 0, 3, 4, 2, 0, 4, 0, 3] [3, 1, 0, 3, 0, 4, 0, 4, 1, 3]\n"
     ]
    },
    {
     "name": "stderr",
     "output_type": "stream",
     "text": [
      "\u001b[32m2024-01-30 00:30:09.888\u001b[0m | \u001b[1mINFO    \u001b[0m | \u001b[36m__main__\u001b[0m:\u001b[36m<module>\u001b[0m:\u001b[36m29\u001b[0m - \u001b[1mAugmented: False\tTrain loss: 1.4177 Val loss: 1.4271 Train F1: 0.5007 Val F1: 0.4627\u001b[0m\n"
     ]
    },
    {
     "name": "stdout",
     "output_type": "stream",
     "text": [
      "[3, 1, 0, 3, 4, 2, 0, 4, 0, 3] [3, 1, 0, 3, 0, 4, 0, 4, 1, 3]\n"
     ]
    },
    {
     "name": "stderr",
     "output_type": "stream",
     "text": [
      "\u001b[32m2024-01-30 00:30:12.454\u001b[0m | \u001b[1mINFO    \u001b[0m | \u001b[36m__main__\u001b[0m:\u001b[36m<module>\u001b[0m:\u001b[36m29\u001b[0m - \u001b[1mAugmented: False\tTrain loss: 1.4135 Val loss: 1.4208 Train F1: 0.5105 Val F1: 0.4735\u001b[0m\n"
     ]
    },
    {
     "name": "stdout",
     "output_type": "stream",
     "text": [
      "[3, 1, 0, 3, 4, 2, 0, 4, 0, 3] [3, 1, 0, 3, 0, 4, 0, 4, 0, 3]\n"
     ]
    },
    {
     "name": "stderr",
     "output_type": "stream",
     "text": [
      "\u001b[32m2024-01-30 00:30:14.997\u001b[0m | \u001b[1mINFO    \u001b[0m | \u001b[36m__main__\u001b[0m:\u001b[36m<module>\u001b[0m:\u001b[36m29\u001b[0m - \u001b[1mAugmented: False\tTrain loss: 1.4132 Val loss: 1.4141 Train F1: 0.5170 Val F1: 0.5108\u001b[0m\n"
     ]
    },
    {
     "name": "stdout",
     "output_type": "stream",
     "text": [
      "[3, 1, 0, 3, 4, 2, 0, 4, 0, 3] [3, 1, 0, 3, 0, 4, 0, 4, 0, 3]\n"
     ]
    },
    {
     "name": "stderr",
     "output_type": "stream",
     "text": [
      "\u001b[32m2024-01-30 00:30:17.597\u001b[0m | \u001b[1mINFO    \u001b[0m | \u001b[36m__main__\u001b[0m:\u001b[36m<module>\u001b[0m:\u001b[36m29\u001b[0m - \u001b[1mAugmented: False\tTrain loss: 1.4111 Val loss: 1.4295 Train F1: 0.5227 Val F1: 0.5127\u001b[0m\n"
     ]
    },
    {
     "name": "stdout",
     "output_type": "stream",
     "text": [
      "[3, 1, 0, 3, 4, 2, 0, 4, 0, 3] [3, 4, 0, 3, 0, 4, 0, 4, 0, 3]\n"
     ]
    },
    {
     "name": "stderr",
     "output_type": "stream",
     "text": [
      "\u001b[32m2024-01-30 00:30:20.238\u001b[0m | \u001b[1mINFO    \u001b[0m | \u001b[36m__main__\u001b[0m:\u001b[36m<module>\u001b[0m:\u001b[36m29\u001b[0m - \u001b[1mAugmented: False\tTrain loss: 1.4071 Val loss: 1.4295 Train F1: 0.5321 Val F1: 0.4948\u001b[0m\n"
     ]
    },
    {
     "name": "stdout",
     "output_type": "stream",
     "text": [
      "[3, 1, 0, 3, 4, 2, 0, 4, 0, 3] [3, 1, 0, 3, 0, 4, 0, 4, 4, 3]\n"
     ]
    },
    {
     "name": "stderr",
     "output_type": "stream",
     "text": [
      "\u001b[32m2024-01-30 00:30:22.815\u001b[0m | \u001b[1mINFO    \u001b[0m | \u001b[36m__main__\u001b[0m:\u001b[36m<module>\u001b[0m:\u001b[36m29\u001b[0m - \u001b[1mAugmented: False\tTrain loss: 1.4060 Val loss: 1.4123 Train F1: 0.5369 Val F1: 0.5295\u001b[0m\n"
     ]
    },
    {
     "name": "stdout",
     "output_type": "stream",
     "text": [
      "[3, 1, 0, 3, 4, 2, 0, 4, 0, 3] [3, 1, 0, 3, 0, 4, 0, 4, 1, 3]\n"
     ]
    },
    {
     "name": "stderr",
     "output_type": "stream",
     "text": [
      "\u001b[32m2024-01-30 00:30:25.373\u001b[0m | \u001b[1mINFO    \u001b[0m | \u001b[36m__main__\u001b[0m:\u001b[36m<module>\u001b[0m:\u001b[36m29\u001b[0m - \u001b[1mAugmented: False\tTrain loss: 1.4014 Val loss: 1.4076 Train F1: 0.5461 Val F1: 0.5336\u001b[0m\n"
     ]
    },
    {
     "name": "stdout",
     "output_type": "stream",
     "text": [
      "[3, 1, 0, 3, 4, 2, 0, 4, 0, 3] [3, 1, 0, 3, 4, 4, 0, 4, 0, 3]\n"
     ]
    },
    {
     "name": "stderr",
     "output_type": "stream",
     "text": [
      "\u001b[32m2024-01-30 00:30:27.944\u001b[0m | \u001b[1mINFO    \u001b[0m | \u001b[36m__main__\u001b[0m:\u001b[36m<module>\u001b[0m:\u001b[36m29\u001b[0m - \u001b[1mAugmented: False\tTrain loss: 1.4021 Val loss: 1.4122 Train F1: 0.5457 Val F1: 0.5533\u001b[0m\n"
     ]
    },
    {
     "name": "stdout",
     "output_type": "stream",
     "text": [
      "[3, 1, 0, 3, 4, 2, 0, 4, 0, 3] [3, 1, 0, 3, 0, 4, 0, 4, 0, 3]\n"
     ]
    },
    {
     "name": "stderr",
     "output_type": "stream",
     "text": [
      "\u001b[32m2024-01-30 00:30:30.574\u001b[0m | \u001b[1mINFO    \u001b[0m | \u001b[36m__main__\u001b[0m:\u001b[36m<module>\u001b[0m:\u001b[36m29\u001b[0m - \u001b[1mAugmented: False\tTrain loss: 1.3983 Val loss: 1.4112 Train F1: 0.5508 Val F1: 0.5250\u001b[0m\n"
     ]
    },
    {
     "name": "stdout",
     "output_type": "stream",
     "text": [
      "[3, 1, 0, 3, 4, 2, 0, 4, 0, 3] [3, 1, 0, 3, 0, 4, 0, 4, 4, 3]\n"
     ]
    },
    {
     "name": "stderr",
     "output_type": "stream",
     "text": [
      "\u001b[32m2024-01-30 00:30:33.147\u001b[0m | \u001b[1mINFO    \u001b[0m | \u001b[36m__main__\u001b[0m:\u001b[36m<module>\u001b[0m:\u001b[36m29\u001b[0m - \u001b[1mAugmented: False\tTrain loss: 1.4003 Val loss: 1.4243 Train F1: 0.5472 Val F1: 0.5036\u001b[0m\n"
     ]
    },
    {
     "name": "stdout",
     "output_type": "stream",
     "text": [
      "[3, 1, 0, 3, 4, 2, 0, 4, 0, 3] [3, 4, 0, 3, 3, 4, 0, 4, 1, 3]\n"
     ]
    },
    {
     "name": "stderr",
     "output_type": "stream",
     "text": [
      "\u001b[32m2024-01-30 00:30:35.666\u001b[0m | \u001b[1mINFO    \u001b[0m | \u001b[36m__main__\u001b[0m:\u001b[36m<module>\u001b[0m:\u001b[36m29\u001b[0m - \u001b[1mAugmented: False\tTrain loss: 1.3977 Val loss: 1.4042 Train F1: 0.5551 Val F1: 0.5563\u001b[0m\n"
     ]
    },
    {
     "name": "stdout",
     "output_type": "stream",
     "text": [
      "[3, 1, 0, 3, 4, 2, 0, 4, 0, 3] [3, 4, 0, 3, 0, 4, 0, 4, 4, 3]\n"
     ]
    },
    {
     "name": "stderr",
     "output_type": "stream",
     "text": [
      "\u001b[32m2024-01-30 00:30:38.210\u001b[0m | \u001b[1mINFO    \u001b[0m | \u001b[36m__main__\u001b[0m:\u001b[36m<module>\u001b[0m:\u001b[36m29\u001b[0m - \u001b[1mAugmented: False\tTrain loss: 1.3959 Val loss: 1.4117 Train F1: 0.5553 Val F1: 0.5291\u001b[0m\n"
     ]
    },
    {
     "name": "stdout",
     "output_type": "stream",
     "text": [
      "[3, 1, 0, 3, 4, 2, 0, 4, 0, 3] [3, 1, 0, 3, 4, 4, 0, 4, 4, 3]\n"
     ]
    },
    {
     "name": "stderr",
     "output_type": "stream",
     "text": [
      "\u001b[32m2024-01-30 00:30:40.655\u001b[0m | \u001b[1mINFO    \u001b[0m | \u001b[36m__main__\u001b[0m:\u001b[36m<module>\u001b[0m:\u001b[36m29\u001b[0m - \u001b[1mAugmented: False\tTrain loss: 1.3919 Val loss: 1.4082 Train F1: 0.5619 Val F1: 0.5310\u001b[0m\n"
     ]
    },
    {
     "name": "stdout",
     "output_type": "stream",
     "text": [
      "[3, 1, 0, 3, 4, 2, 0, 4, 0, 3] [3, 4, 0, 3, 0, 4, 0, 4, 0, 3]\n"
     ]
    },
    {
     "name": "stderr",
     "output_type": "stream",
     "text": [
      "\u001b[32m2024-01-30 00:30:43.299\u001b[0m | \u001b[1mINFO    \u001b[0m | \u001b[36m__main__\u001b[0m:\u001b[36m<module>\u001b[0m:\u001b[36m29\u001b[0m - \u001b[1mAugmented: False\tTrain loss: 1.3943 Val loss: 1.4033 Train F1: 0.5667 Val F1: 0.5513\u001b[0m\n"
     ]
    },
    {
     "name": "stdout",
     "output_type": "stream",
     "text": [
      "[3, 1, 0, 3, 4, 2, 0, 4, 0, 3] [3, 1, 0, 3, 0, 4, 0, 4, 1, 3]\n"
     ]
    },
    {
     "name": "stderr",
     "output_type": "stream",
     "text": [
      "\u001b[32m2024-01-30 00:30:45.870\u001b[0m | \u001b[1mINFO    \u001b[0m | \u001b[36m__main__\u001b[0m:\u001b[36m<module>\u001b[0m:\u001b[36m29\u001b[0m - \u001b[1mAugmented: False\tTrain loss: 1.3898 Val loss: 1.4183 Train F1: 0.5661 Val F1: 0.5425\u001b[0m\n"
     ]
    },
    {
     "name": "stdout",
     "output_type": "stream",
     "text": [
      "[3, 1, 0, 3, 4, 2, 0, 4, 0, 3] [3, 1, 0, 3, 3, 4, 0, 4, 1, 3]\n"
     ]
    },
    {
     "name": "stderr",
     "output_type": "stream",
     "text": [
      "\u001b[32m2024-01-30 00:30:48.522\u001b[0m | \u001b[1mINFO    \u001b[0m | \u001b[36m__main__\u001b[0m:\u001b[36m<module>\u001b[0m:\u001b[36m29\u001b[0m - \u001b[1mAugmented: False\tTrain loss: 1.3914 Val loss: 1.4001 Train F1: 0.5678 Val F1: 0.5475\u001b[0m\n"
     ]
    },
    {
     "name": "stdout",
     "output_type": "stream",
     "text": [
      "[3, 1, 0, 3, 4, 2, 0, 4, 0, 3] [3, 1, 0, 3, 0, 4, 0, 4, 1, 3]\n"
     ]
    },
    {
     "name": "stderr",
     "output_type": "stream",
     "text": [
      "\u001b[32m2024-01-30 00:30:51.097\u001b[0m | \u001b[1mINFO    \u001b[0m | \u001b[36m__main__\u001b[0m:\u001b[36m<module>\u001b[0m:\u001b[36m29\u001b[0m - \u001b[1mAugmented: False\tTrain loss: 1.3879 Val loss: 1.4035 Train F1: 0.5735 Val F1: 0.5474\u001b[0m\n"
     ]
    },
    {
     "name": "stdout",
     "output_type": "stream",
     "text": [
      "[3, 1, 0, 3, 4, 2, 0, 4, 0, 3] [3, 1, 0, 3, 3, 4, 0, 4, 4, 3]\n"
     ]
    },
    {
     "name": "stderr",
     "output_type": "stream",
     "text": [
      "\u001b[32m2024-01-30 00:30:53.737\u001b[0m | \u001b[1mINFO    \u001b[0m | \u001b[36m__main__\u001b[0m:\u001b[36m<module>\u001b[0m:\u001b[36m29\u001b[0m - \u001b[1mAugmented: False\tTrain loss: 1.3883 Val loss: 1.3973 Train F1: 0.5738 Val F1: 0.5600\u001b[0m\n"
     ]
    },
    {
     "name": "stdout",
     "output_type": "stream",
     "text": [
      "[3, 1, 0, 3, 4, 2, 0, 4, 0, 3] [3, 1, 0, 3, 4, 4, 0, 4, 1, 3]\n"
     ]
    },
    {
     "name": "stderr",
     "output_type": "stream",
     "text": [
      "\u001b[32m2024-01-30 00:30:56.386\u001b[0m | \u001b[1mINFO    \u001b[0m | \u001b[36m__main__\u001b[0m:\u001b[36m<module>\u001b[0m:\u001b[36m29\u001b[0m - \u001b[1mAugmented: False\tTrain loss: 1.3894 Val loss: 1.3981 Train F1: 0.5724 Val F1: 0.5701\u001b[0m\n"
     ]
    },
    {
     "name": "stdout",
     "output_type": "stream",
     "text": [
      "[3, 1, 0, 3, 4, 2, 0, 4, 0, 3] [3, 1, 0, 3, 0, 1, 0, 4, 1, 3]\n"
     ]
    },
    {
     "name": "stderr",
     "output_type": "stream",
     "text": [
      "\u001b[32m2024-01-30 00:30:59.057\u001b[0m | \u001b[1mINFO    \u001b[0m | \u001b[36m__main__\u001b[0m:\u001b[36m<module>\u001b[0m:\u001b[36m29\u001b[0m - \u001b[1mAugmented: False\tTrain loss: 1.3862 Val loss: 1.3961 Train F1: 0.5769 Val F1: 0.5687\u001b[0m\n"
     ]
    },
    {
     "data": {
      "application/vnd.jupyter.widget-view+json": {
       "model_id": "2559e53675214d46be046ff93c45b6cc",
       "version_major": 2,
       "version_minor": 0
      },
      "text/plain": [
       "Training LSTMclf\t| Epochs:   0%|          | 0/30 [00:00<?, ?it/s]"
      ]
     },
     "metadata": {},
     "output_type": "display_data"
    },
    {
     "name": "stdout",
     "output_type": "stream",
     "text": [
      "[3, 1, 0, 3, 4, 2, 0, 4, 0, 3] [5, 5, 5, 5, 5, 5, 5, 5, 5, 2]\n"
     ]
    },
    {
     "name": "stderr",
     "output_type": "stream",
     "text": [
      "\u001b[32m2024-01-30 00:31:01.692\u001b[0m | \u001b[1mINFO    \u001b[0m | \u001b[36m__main__\u001b[0m:\u001b[36m<module>\u001b[0m:\u001b[36m29\u001b[0m - \u001b[1mAugmented: True\tTrain loss: 1.5537 Val loss: 1.4747 Train F1: 0.3230 Val F1: 0.4061\u001b[0m\n"
     ]
    },
    {
     "name": "stdout",
     "output_type": "stream",
     "text": [
      "[3, 1, 0, 3, 4, 2, 0, 4, 0, 3] [3, 4, 0, 3, 3, 4, 0, 4, 4, 3]\n"
     ]
    },
    {
     "name": "stderr",
     "output_type": "stream",
     "text": [
      "\u001b[32m2024-01-30 00:31:04.465\u001b[0m | \u001b[1mINFO    \u001b[0m | \u001b[36m__main__\u001b[0m:\u001b[36m<module>\u001b[0m:\u001b[36m29\u001b[0m - \u001b[1mAugmented: True\tTrain loss: 1.4616 Val loss: 1.4527 Train F1: 0.4090 Val F1: 0.4240\u001b[0m\n"
     ]
    },
    {
     "name": "stdout",
     "output_type": "stream",
     "text": [
      "[3, 1, 0, 3, 4, 2, 0, 4, 0, 3] [3, 1, 0, 3, 3, 4, 0, 4, 3, 3]\n"
     ]
    },
    {
     "name": "stderr",
     "output_type": "stream",
     "text": [
      "\u001b[32m2024-01-30 00:31:07.090\u001b[0m | \u001b[1mINFO    \u001b[0m | \u001b[36m__main__\u001b[0m:\u001b[36m<module>\u001b[0m:\u001b[36m29\u001b[0m - \u001b[1mAugmented: True\tTrain loss: 1.4459 Val loss: 1.4288 Train F1: 0.4467 Val F1: 0.4556\u001b[0m\n"
     ]
    },
    {
     "name": "stdout",
     "output_type": "stream",
     "text": [
      "[3, 1, 0, 3, 4, 2, 0, 4, 0, 3] [3, 1, 0, 3, 3, 4, 0, 4, 3, 3]\n"
     ]
    },
    {
     "name": "stderr",
     "output_type": "stream",
     "text": [
      "\u001b[32m2024-01-30 00:31:09.751\u001b[0m | \u001b[1mINFO    \u001b[0m | \u001b[36m__main__\u001b[0m:\u001b[36m<module>\u001b[0m:\u001b[36m29\u001b[0m - \u001b[1mAugmented: True\tTrain loss: 1.4296 Val loss: 1.4206 Train F1: 0.4719 Val F1: 0.4695\u001b[0m\n"
     ]
    },
    {
     "name": "stdout",
     "output_type": "stream",
     "text": [
      "[3, 1, 0, 3, 4, 2, 0, 4, 0, 3] [3, 1, 0, 3, 3, 4, 0, 4, 3, 3]\n"
     ]
    },
    {
     "name": "stderr",
     "output_type": "stream",
     "text": [
      "\u001b[32m2024-01-30 00:31:12.425\u001b[0m | \u001b[1mINFO    \u001b[0m | \u001b[36m__main__\u001b[0m:\u001b[36m<module>\u001b[0m:\u001b[36m29\u001b[0m - \u001b[1mAugmented: True\tTrain loss: 1.4214 Val loss: 1.4194 Train F1: 0.4903 Val F1: 0.4971\u001b[0m\n"
     ]
    },
    {
     "name": "stdout",
     "output_type": "stream",
     "text": [
      "[3, 1, 0, 3, 4, 2, 0, 4, 0, 3] [3, 1, 0, 3, 0, 4, 0, 4, 3, 3]\n"
     ]
    },
    {
     "name": "stderr",
     "output_type": "stream",
     "text": [
      "\u001b[32m2024-01-30 00:31:15.219\u001b[0m | \u001b[1mINFO    \u001b[0m | \u001b[36m__main__\u001b[0m:\u001b[36m<module>\u001b[0m:\u001b[36m29\u001b[0m - \u001b[1mAugmented: True\tTrain loss: 1.4118 Val loss: 1.4156 Train F1: 0.5066 Val F1: 0.5032\u001b[0m\n"
     ]
    },
    {
     "name": "stdout",
     "output_type": "stream",
     "text": [
      "[3, 1, 0, 3, 4, 2, 0, 4, 0, 3] [3, 1, 0, 3, 0, 4, 0, 4, 3, 3]\n"
     ]
    },
    {
     "name": "stderr",
     "output_type": "stream",
     "text": [
      "\u001b[32m2024-01-30 00:31:18.076\u001b[0m | \u001b[1mINFO    \u001b[0m | \u001b[36m__main__\u001b[0m:\u001b[36m<module>\u001b[0m:\u001b[36m29\u001b[0m - \u001b[1mAugmented: True\tTrain loss: 1.4073 Val loss: 1.4123 Train F1: 0.5146 Val F1: 0.4929\u001b[0m\n"
     ]
    },
    {
     "name": "stdout",
     "output_type": "stream",
     "text": [
      "[3, 1, 0, 3, 4, 2, 0, 4, 0, 3] [3, 1, 0, 3, 3, 4, 0, 4, 1, 3]\n"
     ]
    },
    {
     "name": "stderr",
     "output_type": "stream",
     "text": [
      "\u001b[32m2024-01-30 00:31:20.975\u001b[0m | \u001b[1mINFO    \u001b[0m | \u001b[36m__main__\u001b[0m:\u001b[36m<module>\u001b[0m:\u001b[36m29\u001b[0m - \u001b[1mAugmented: True\tTrain loss: 1.3995 Val loss: 1.4034 Train F1: 0.5315 Val F1: 0.5073\u001b[0m\n"
     ]
    },
    {
     "name": "stdout",
     "output_type": "stream",
     "text": [
      "[3, 1, 0, 3, 4, 2, 0, 4, 0, 3] [3, 1, 0, 3, 3, 4, 0, 4, 3, 3]\n"
     ]
    },
    {
     "name": "stderr",
     "output_type": "stream",
     "text": [
      "\u001b[32m2024-01-30 00:31:23.885\u001b[0m | \u001b[1mINFO    \u001b[0m | \u001b[36m__main__\u001b[0m:\u001b[36m<module>\u001b[0m:\u001b[36m29\u001b[0m - \u001b[1mAugmented: True\tTrain loss: 1.3972 Val loss: 1.4081 Train F1: 0.5381 Val F1: 0.5142\u001b[0m\n"
     ]
    },
    {
     "name": "stdout",
     "output_type": "stream",
     "text": [
      "[3, 1, 0, 3, 4, 2, 0, 4, 0, 3] [3, 1, 0, 3, 3, 4, 0, 4, 4, 3]\n"
     ]
    },
    {
     "name": "stderr",
     "output_type": "stream",
     "text": [
      "\u001b[32m2024-01-30 00:31:26.624\u001b[0m | \u001b[1mINFO    \u001b[0m | \u001b[36m__main__\u001b[0m:\u001b[36m<module>\u001b[0m:\u001b[36m29\u001b[0m - \u001b[1mAugmented: True\tTrain loss: 1.3957 Val loss: 1.3999 Train F1: 0.5396 Val F1: 0.5315\u001b[0m\n"
     ]
    },
    {
     "name": "stdout",
     "output_type": "stream",
     "text": [
      "[3, 1, 0, 3, 4, 2, 0, 4, 0, 3] [3, 1, 0, 3, 3, 4, 0, 4, 1, 3]\n"
     ]
    },
    {
     "name": "stderr",
     "output_type": "stream",
     "text": [
      "\u001b[32m2024-01-30 00:31:29.537\u001b[0m | \u001b[1mINFO    \u001b[0m | \u001b[36m__main__\u001b[0m:\u001b[36m<module>\u001b[0m:\u001b[36m29\u001b[0m - \u001b[1mAugmented: True\tTrain loss: 1.3941 Val loss: 1.3957 Train F1: 0.5423 Val F1: 0.5275\u001b[0m\n"
     ]
    },
    {
     "name": "stdout",
     "output_type": "stream",
     "text": [
      "[3, 1, 0, 3, 4, 2, 0, 4, 0, 3] [3, 1, 0, 3, 3, 4, 0, 4, 4, 3]\n"
     ]
    },
    {
     "name": "stderr",
     "output_type": "stream",
     "text": [
      "\u001b[32m2024-01-30 00:31:32.392\u001b[0m | \u001b[1mINFO    \u001b[0m | \u001b[36m__main__\u001b[0m:\u001b[36m<module>\u001b[0m:\u001b[36m29\u001b[0m - \u001b[1mAugmented: True\tTrain loss: 1.3862 Val loss: 1.4024 Train F1: 0.5556 Val F1: 0.5257\u001b[0m\n"
     ]
    },
    {
     "name": "stdout",
     "output_type": "stream",
     "text": [
      "[3, 1, 0, 3, 4, 2, 0, 4, 0, 3] [3, 1, 0, 3, 3, 4, 0, 4, 3, 3]\n"
     ]
    },
    {
     "name": "stderr",
     "output_type": "stream",
     "text": [
      "\u001b[32m2024-01-30 00:31:35.148\u001b[0m | \u001b[1mINFO    \u001b[0m | \u001b[36m__main__\u001b[0m:\u001b[36m<module>\u001b[0m:\u001b[36m29\u001b[0m - \u001b[1mAugmented: True\tTrain loss: 1.3909 Val loss: 1.3976 Train F1: 0.5531 Val F1: 0.5278\u001b[0m\n"
     ]
    },
    {
     "name": "stdout",
     "output_type": "stream",
     "text": [
      "[3, 1, 0, 3, 4, 2, 0, 4, 0, 3] [3, 1, 0, 3, 3, 4, 0, 4, 4, 3]\n"
     ]
    },
    {
     "name": "stderr",
     "output_type": "stream",
     "text": [
      "\u001b[32m2024-01-30 00:31:37.827\u001b[0m | \u001b[1mINFO    \u001b[0m | \u001b[36m__main__\u001b[0m:\u001b[36m<module>\u001b[0m:\u001b[36m29\u001b[0m - \u001b[1mAugmented: True\tTrain loss: 1.3789 Val loss: 1.3884 Train F1: 0.5645 Val F1: 0.5537\u001b[0m\n"
     ]
    },
    {
     "name": "stdout",
     "output_type": "stream",
     "text": [
      "[3, 1, 0, 3, 4, 2, 0, 4, 0, 3] [3, 1, 0, 3, 3, 4, 0, 4, 4, 3]\n"
     ]
    },
    {
     "name": "stderr",
     "output_type": "stream",
     "text": [
      "\u001b[32m2024-01-30 00:31:40.447\u001b[0m | \u001b[1mINFO    \u001b[0m | \u001b[36m__main__\u001b[0m:\u001b[36m<module>\u001b[0m:\u001b[36m29\u001b[0m - \u001b[1mAugmented: True\tTrain loss: 1.3788 Val loss: 1.3883 Train F1: 0.5706 Val F1: 0.5502\u001b[0m\n"
     ]
    },
    {
     "name": "stdout",
     "output_type": "stream",
     "text": [
      "[3, 1, 0, 3, 4, 2, 0, 4, 0, 3] [3, 1, 0, 3, 3, 4, 0, 4, 4, 3]\n"
     ]
    },
    {
     "name": "stderr",
     "output_type": "stream",
     "text": [
      "\u001b[32m2024-01-30 00:31:43.042\u001b[0m | \u001b[1mINFO    \u001b[0m | \u001b[36m__main__\u001b[0m:\u001b[36m<module>\u001b[0m:\u001b[36m29\u001b[0m - \u001b[1mAugmented: True\tTrain loss: 1.3789 Val loss: 1.3909 Train F1: 0.5738 Val F1: 0.5591\u001b[0m\n"
     ]
    },
    {
     "name": "stdout",
     "output_type": "stream",
     "text": [
      "[3, 1, 0, 3, 4, 2, 0, 4, 0, 3] [3, 1, 0, 3, 3, 4, 0, 4, 4, 3]\n"
     ]
    },
    {
     "name": "stderr",
     "output_type": "stream",
     "text": [
      "\u001b[32m2024-01-30 00:31:45.805\u001b[0m | \u001b[1mINFO    \u001b[0m | \u001b[36m__main__\u001b[0m:\u001b[36m<module>\u001b[0m:\u001b[36m29\u001b[0m - \u001b[1mAugmented: True\tTrain loss: 1.3741 Val loss: 1.3857 Train F1: 0.5802 Val F1: 0.5644\u001b[0m\n"
     ]
    },
    {
     "name": "stdout",
     "output_type": "stream",
     "text": [
      "[3, 1, 0, 3, 4, 2, 0, 4, 0, 3] [3, 1, 0, 3, 3, 4, 0, 4, 4, 3]\n"
     ]
    },
    {
     "name": "stderr",
     "output_type": "stream",
     "text": [
      "\u001b[32m2024-01-30 00:31:48.549\u001b[0m | \u001b[1mINFO    \u001b[0m | \u001b[36m__main__\u001b[0m:\u001b[36m<module>\u001b[0m:\u001b[36m29\u001b[0m - \u001b[1mAugmented: True\tTrain loss: 1.3701 Val loss: 1.3830 Train F1: 0.5899 Val F1: 0.5623\u001b[0m\n"
     ]
    },
    {
     "name": "stdout",
     "output_type": "stream",
     "text": [
      "[3, 1, 0, 3, 4, 2, 0, 4, 0, 3] [3, 1, 0, 3, 3, 4, 0, 4, 3, 3]\n"
     ]
    },
    {
     "name": "stderr",
     "output_type": "stream",
     "text": [
      "\u001b[32m2024-01-30 00:31:51.386\u001b[0m | \u001b[1mINFO    \u001b[0m | \u001b[36m__main__\u001b[0m:\u001b[36m<module>\u001b[0m:\u001b[36m29\u001b[0m - \u001b[1mAugmented: True\tTrain loss: 1.3679 Val loss: 1.4049 Train F1: 0.5969 Val F1: 0.5562\u001b[0m\n"
     ]
    },
    {
     "name": "stdout",
     "output_type": "stream",
     "text": [
      "[3, 1, 0, 3, 4, 2, 0, 4, 0, 3] [3, 1, 0, 3, 3, 4, 0, 4, 5, 3]\n"
     ]
    },
    {
     "name": "stderr",
     "output_type": "stream",
     "text": [
      "\u001b[32m2024-01-30 00:31:54.224\u001b[0m | \u001b[1mINFO    \u001b[0m | \u001b[36m__main__\u001b[0m:\u001b[36m<module>\u001b[0m:\u001b[36m29\u001b[0m - \u001b[1mAugmented: True\tTrain loss: 1.3678 Val loss: 1.3776 Train F1: 0.5953 Val F1: 0.5835\u001b[0m\n"
     ]
    },
    {
     "name": "stdout",
     "output_type": "stream",
     "text": [
      "[3, 1, 0, 3, 4, 2, 0, 4, 0, 3] [3, 1, 0, 3, 3, 4, 0, 4, 3, 3]\n"
     ]
    },
    {
     "name": "stderr",
     "output_type": "stream",
     "text": [
      "\u001b[32m2024-01-30 00:31:56.957\u001b[0m | \u001b[1mINFO    \u001b[0m | \u001b[36m__main__\u001b[0m:\u001b[36m<module>\u001b[0m:\u001b[36m29\u001b[0m - \u001b[1mAugmented: True\tTrain loss: 1.3641 Val loss: 1.3788 Train F1: 0.5998 Val F1: 0.5893\u001b[0m\n"
     ]
    },
    {
     "name": "stdout",
     "output_type": "stream",
     "text": [
      "[3, 1, 0, 3, 4, 2, 0, 4, 0, 3] [3, 1, 0, 3, 3, 4, 0, 4, 3, 3]\n"
     ]
    },
    {
     "name": "stderr",
     "output_type": "stream",
     "text": [
      "\u001b[32m2024-01-30 00:31:59.689\u001b[0m | \u001b[1mINFO    \u001b[0m | \u001b[36m__main__\u001b[0m:\u001b[36m<module>\u001b[0m:\u001b[36m29\u001b[0m - \u001b[1mAugmented: True\tTrain loss: 1.3600 Val loss: 1.4002 Train F1: 0.6134 Val F1: 0.5792\u001b[0m\n"
     ]
    },
    {
     "name": "stdout",
     "output_type": "stream",
     "text": [
      "[3, 1, 0, 3, 4, 2, 0, 4, 0, 3] [3, 1, 0, 3, 3, 4, 0, 4, 4, 1]\n"
     ]
    },
    {
     "name": "stderr",
     "output_type": "stream",
     "text": [
      "\u001b[32m2024-01-30 00:32:02.477\u001b[0m | \u001b[1mINFO    \u001b[0m | \u001b[36m__main__\u001b[0m:\u001b[36m<module>\u001b[0m:\u001b[36m29\u001b[0m - \u001b[1mAugmented: True\tTrain loss: 1.3609 Val loss: 1.3829 Train F1: 0.6105 Val F1: 0.5796\u001b[0m\n"
     ]
    },
    {
     "name": "stdout",
     "output_type": "stream",
     "text": [
      "[3, 1, 0, 3, 4, 2, 0, 4, 0, 3] [3, 1, 0, 3, 3, 4, 0, 4, 3, 3]\n"
     ]
    },
    {
     "name": "stderr",
     "output_type": "stream",
     "text": [
      "\u001b[32m2024-01-30 00:32:05.214\u001b[0m | \u001b[1mINFO    \u001b[0m | \u001b[36m__main__\u001b[0m:\u001b[36m<module>\u001b[0m:\u001b[36m29\u001b[0m - \u001b[1mAugmented: True\tTrain loss: 1.3563 Val loss: 1.3959 Train F1: 0.6183 Val F1: 0.5422\u001b[0m\n"
     ]
    },
    {
     "name": "stdout",
     "output_type": "stream",
     "text": [
      "[3, 1, 0, 3, 4, 2, 0, 4, 0, 3] [3, 1, 0, 3, 3, 4, 0, 4, 4, 3]\n"
     ]
    },
    {
     "name": "stderr",
     "output_type": "stream",
     "text": [
      "\u001b[32m2024-01-30 00:32:07.956\u001b[0m | \u001b[1mINFO    \u001b[0m | \u001b[36m__main__\u001b[0m:\u001b[36m<module>\u001b[0m:\u001b[36m29\u001b[0m - \u001b[1mAugmented: True\tTrain loss: 1.3575 Val loss: 1.3962 Train F1: 0.6165 Val F1: 0.5529\u001b[0m\n"
     ]
    },
    {
     "name": "stdout",
     "output_type": "stream",
     "text": [
      "[3, 1, 0, 3, 4, 2, 0, 4, 0, 3] [3, 1, 0, 3, 3, 4, 0, 4, 4, 3]\n"
     ]
    },
    {
     "name": "stderr",
     "output_type": "stream",
     "text": [
      "\u001b[32m2024-01-30 00:32:10.600\u001b[0m | \u001b[1mINFO    \u001b[0m | \u001b[36m__main__\u001b[0m:\u001b[36m<module>\u001b[0m:\u001b[36m29\u001b[0m - \u001b[1mAugmented: True\tTrain loss: 1.3549 Val loss: 1.3743 Train F1: 0.6217 Val F1: 0.6025\u001b[0m\n"
     ]
    },
    {
     "name": "stdout",
     "output_type": "stream",
     "text": [
      "[3, 1, 0, 3, 4, 2, 0, 4, 0, 3] [3, 1, 0, 3, 3, 4, 0, 4, 4, 3]\n"
     ]
    },
    {
     "name": "stderr",
     "output_type": "stream",
     "text": [
      "\u001b[32m2024-01-30 00:32:13.300\u001b[0m | \u001b[1mINFO    \u001b[0m | \u001b[36m__main__\u001b[0m:\u001b[36m<module>\u001b[0m:\u001b[36m29\u001b[0m - \u001b[1mAugmented: True\tTrain loss: 1.3545 Val loss: 1.3733 Train F1: 0.6214 Val F1: 0.5936\u001b[0m\n"
     ]
    },
    {
     "name": "stdout",
     "output_type": "stream",
     "text": [
      "[3, 1, 0, 3, 4, 2, 0, 4, 0, 3] [3, 1, 0, 3, 0, 4, 0, 4, 4, 3]\n"
     ]
    },
    {
     "name": "stderr",
     "output_type": "stream",
     "text": [
      "\u001b[32m2024-01-30 00:32:15.994\u001b[0m | \u001b[1mINFO    \u001b[0m | \u001b[36m__main__\u001b[0m:\u001b[36m<module>\u001b[0m:\u001b[36m29\u001b[0m - \u001b[1mAugmented: True\tTrain loss: 1.3513 Val loss: 1.3795 Train F1: 0.6250 Val F1: 0.5964\u001b[0m\n"
     ]
    },
    {
     "name": "stdout",
     "output_type": "stream",
     "text": [
      "[3, 1, 0, 3, 4, 2, 0, 4, 0, 3] [3, 1, 0, 3, 3, 4, 0, 4, 4, 3]\n"
     ]
    },
    {
     "name": "stderr",
     "output_type": "stream",
     "text": [
      "\u001b[32m2024-01-30 00:32:18.897\u001b[0m | \u001b[1mINFO    \u001b[0m | \u001b[36m__main__\u001b[0m:\u001b[36m<module>\u001b[0m:\u001b[36m29\u001b[0m - \u001b[1mAugmented: True\tTrain loss: 1.3509 Val loss: 1.3741 Train F1: 0.6228 Val F1: 0.5927\u001b[0m\n"
     ]
    },
    {
     "name": "stdout",
     "output_type": "stream",
     "text": [
      "[3, 1, 0, 3, 4, 2, 0, 4, 0, 3] [3, 1, 0, 3, 3, 4, 0, 4, 3, 3]\n"
     ]
    },
    {
     "name": "stderr",
     "output_type": "stream",
     "text": [
      "\u001b[32m2024-01-30 00:32:21.735\u001b[0m | \u001b[1mINFO    \u001b[0m | \u001b[36m__main__\u001b[0m:\u001b[36m<module>\u001b[0m:\u001b[36m29\u001b[0m - \u001b[1mAugmented: True\tTrain loss: 1.3450 Val loss: 1.3734 Train F1: 0.6369 Val F1: 0.6021\u001b[0m\n"
     ]
    },
    {
     "data": {
      "application/vnd.jupyter.widget-view+json": {
       "model_id": "4cbd2a9ab4e7446b939a187586cd0f5a",
       "version_major": 2,
       "version_minor": 0
      },
      "text/plain": [
       "Training SimpleNNclf\t| Epochs:   0%|          | 0/30 [00:00<?, ?it/s]"
      ]
     },
     "metadata": {},
     "output_type": "display_data"
    },
    {
     "name": "stdout",
     "output_type": "stream",
     "text": [
      "[3, 1, 0, 3, 4, 2, 0, 4, 0, 3] [4, 4, 3, 0, 4, 0, 0, 0, 4, 3]\n"
     ]
    },
    {
     "name": "stderr",
     "output_type": "stream",
     "text": [
      "\u001b[32m2024-01-30 00:32:24.184\u001b[0m | \u001b[1mINFO    \u001b[0m | \u001b[36m__main__\u001b[0m:\u001b[36m<module>\u001b[0m:\u001b[36m29\u001b[0m - \u001b[1mAugmented: True\tTrain loss: 1.5945 Val loss: 1.4922 Train F1: 0.2824 Val F1: 0.3843\u001b[0m\n"
     ]
    },
    {
     "name": "stdout",
     "output_type": "stream",
     "text": [
      "[3, 1, 0, 3, 4, 2, 0, 4, 0, 3] [3, 1, 0, 3, 0, 4, 0, 4, 3, 3]\n"
     ]
    },
    {
     "name": "stderr",
     "output_type": "stream",
     "text": [
      "\u001b[32m2024-01-30 00:32:26.793\u001b[0m | \u001b[1mINFO    \u001b[0m | \u001b[36m__main__\u001b[0m:\u001b[36m<module>\u001b[0m:\u001b[36m29\u001b[0m - \u001b[1mAugmented: True\tTrain loss: 1.4881 Val loss: 1.4716 Train F1: 0.3873 Val F1: 0.4083\u001b[0m\n"
     ]
    },
    {
     "name": "stdout",
     "output_type": "stream",
     "text": [
      "[3, 1, 0, 3, 4, 2, 0, 4, 0, 3] [3, 4, 0, 3, 0, 4, 0, 4, 0, 3]\n"
     ]
    },
    {
     "name": "stderr",
     "output_type": "stream",
     "text": [
      "\u001b[32m2024-01-30 00:32:29.304\u001b[0m | \u001b[1mINFO    \u001b[0m | \u001b[36m__main__\u001b[0m:\u001b[36m<module>\u001b[0m:\u001b[36m29\u001b[0m - \u001b[1mAugmented: True\tTrain loss: 1.4632 Val loss: 1.4500 Train F1: 0.4263 Val F1: 0.4427\u001b[0m\n"
     ]
    },
    {
     "name": "stdout",
     "output_type": "stream",
     "text": [
      "[3, 1, 0, 3, 4, 2, 0, 4, 0, 3] [3, 1, 0, 3, 0, 4, 0, 4, 0, 3]\n"
     ]
    },
    {
     "name": "stderr",
     "output_type": "stream",
     "text": [
      "\u001b[32m2024-01-30 00:32:31.813\u001b[0m | \u001b[1mINFO    \u001b[0m | \u001b[36m__main__\u001b[0m:\u001b[36m<module>\u001b[0m:\u001b[36m29\u001b[0m - \u001b[1mAugmented: True\tTrain loss: 1.4473 Val loss: 1.4413 Train F1: 0.4493 Val F1: 0.4492\u001b[0m\n"
     ]
    },
    {
     "name": "stdout",
     "output_type": "stream",
     "text": [
      "[3, 1, 0, 3, 4, 2, 0, 4, 0, 3] [3, 1, 0, 4, 0, 4, 0, 4, 1, 3]\n"
     ]
    },
    {
     "name": "stderr",
     "output_type": "stream",
     "text": [
      "\u001b[32m2024-01-30 00:32:34.398\u001b[0m | \u001b[1mINFO    \u001b[0m | \u001b[36m__main__\u001b[0m:\u001b[36m<module>\u001b[0m:\u001b[36m29\u001b[0m - \u001b[1mAugmented: True\tTrain loss: 1.4378 Val loss: 1.4307 Train F1: 0.4623 Val F1: 0.4724\u001b[0m\n"
     ]
    },
    {
     "name": "stdout",
     "output_type": "stream",
     "text": [
      "[3, 1, 0, 3, 4, 2, 0, 4, 0, 3] [3, 1, 0, 3, 0, 4, 0, 4, 3, 3]\n"
     ]
    },
    {
     "name": "stderr",
     "output_type": "stream",
     "text": [
      "\u001b[32m2024-01-30 00:32:36.869\u001b[0m | \u001b[1mINFO    \u001b[0m | \u001b[36m__main__\u001b[0m:\u001b[36m<module>\u001b[0m:\u001b[36m29\u001b[0m - \u001b[1mAugmented: True\tTrain loss: 1.4347 Val loss: 1.4263 Train F1: 0.4694 Val F1: 0.4747\u001b[0m\n"
     ]
    },
    {
     "name": "stdout",
     "output_type": "stream",
     "text": [
      "[3, 1, 0, 3, 4, 2, 0, 4, 0, 3] [3, 1, 0, 3, 3, 4, 0, 4, 4, 3]\n"
     ]
    },
    {
     "name": "stderr",
     "output_type": "stream",
     "text": [
      "\u001b[32m2024-01-30 00:32:39.478\u001b[0m | \u001b[1mINFO    \u001b[0m | \u001b[36m__main__\u001b[0m:\u001b[36m<module>\u001b[0m:\u001b[36m29\u001b[0m - \u001b[1mAugmented: True\tTrain loss: 1.4294 Val loss: 1.4224 Train F1: 0.4773 Val F1: 0.4865\u001b[0m\n"
     ]
    },
    {
     "name": "stdout",
     "output_type": "stream",
     "text": [
      "[3, 1, 0, 3, 4, 2, 0, 4, 0, 3] [3, 1, 0, 3, 0, 4, 0, 4, 1, 3]\n"
     ]
    },
    {
     "name": "stderr",
     "output_type": "stream",
     "text": [
      "\u001b[32m2024-01-30 00:32:42.037\u001b[0m | \u001b[1mINFO    \u001b[0m | \u001b[36m__main__\u001b[0m:\u001b[36m<module>\u001b[0m:\u001b[36m29\u001b[0m - \u001b[1mAugmented: True\tTrain loss: 1.4247 Val loss: 1.4253 Train F1: 0.4924 Val F1: 0.4804\u001b[0m\n"
     ]
    },
    {
     "name": "stdout",
     "output_type": "stream",
     "text": [
      "[3, 1, 0, 3, 4, 2, 0, 4, 0, 3] [3, 1, 0, 3, 0, 4, 0, 4, 4, 3]\n"
     ]
    },
    {
     "name": "stderr",
     "output_type": "stream",
     "text": [
      "\u001b[32m2024-01-30 00:32:44.525\u001b[0m | \u001b[1mINFO    \u001b[0m | \u001b[36m__main__\u001b[0m:\u001b[36m<module>\u001b[0m:\u001b[36m29\u001b[0m - \u001b[1mAugmented: True\tTrain loss: 1.4204 Val loss: 1.4227 Train F1: 0.5090 Val F1: 0.4804\u001b[0m\n"
     ]
    },
    {
     "name": "stdout",
     "output_type": "stream",
     "text": [
      "[3, 1, 0, 3, 4, 2, 0, 4, 0, 3] [3, 1, 0, 3, 0, 4, 0, 4, 4, 3]\n"
     ]
    },
    {
     "name": "stderr",
     "output_type": "stream",
     "text": [
      "\u001b[32m2024-01-30 00:32:47.121\u001b[0m | \u001b[1mINFO    \u001b[0m | \u001b[36m__main__\u001b[0m:\u001b[36m<module>\u001b[0m:\u001b[36m29\u001b[0m - \u001b[1mAugmented: True\tTrain loss: 1.4163 Val loss: 1.4211 Train F1: 0.5139 Val F1: 0.4831\u001b[0m\n"
     ]
    },
    {
     "name": "stdout",
     "output_type": "stream",
     "text": [
      "[3, 1, 0, 3, 4, 2, 0, 4, 0, 3] [3, 1, 0, 3, 4, 4, 0, 4, 0, 3]\n"
     ]
    },
    {
     "name": "stderr",
     "output_type": "stream",
     "text": [
      "\u001b[32m2024-01-30 00:32:49.746\u001b[0m | \u001b[1mINFO    \u001b[0m | \u001b[36m__main__\u001b[0m:\u001b[36m<module>\u001b[0m:\u001b[36m29\u001b[0m - \u001b[1mAugmented: True\tTrain loss: 1.4154 Val loss: 1.4323 Train F1: 0.5190 Val F1: 0.5093\u001b[0m\n"
     ]
    },
    {
     "name": "stdout",
     "output_type": "stream",
     "text": [
      "[3, 1, 0, 3, 4, 2, 0, 4, 0, 3] [3, 1, 0, 3, 0, 4, 0, 4, 1, 3]\n"
     ]
    },
    {
     "name": "stderr",
     "output_type": "stream",
     "text": [
      "\u001b[32m2024-01-30 00:32:52.275\u001b[0m | \u001b[1mINFO    \u001b[0m | \u001b[36m__main__\u001b[0m:\u001b[36m<module>\u001b[0m:\u001b[36m29\u001b[0m - \u001b[1mAugmented: True\tTrain loss: 1.4099 Val loss: 1.4137 Train F1: 0.5288 Val F1: 0.5028\u001b[0m\n"
     ]
    },
    {
     "name": "stdout",
     "output_type": "stream",
     "text": [
      "[3, 1, 0, 3, 4, 2, 0, 4, 0, 3] [3, 1, 0, 3, 3, 4, 0, 4, 3, 3]\n"
     ]
    },
    {
     "name": "stderr",
     "output_type": "stream",
     "text": [
      "\u001b[32m2024-01-30 00:32:54.775\u001b[0m | \u001b[1mINFO    \u001b[0m | \u001b[36m__main__\u001b[0m:\u001b[36m<module>\u001b[0m:\u001b[36m29\u001b[0m - \u001b[1mAugmented: True\tTrain loss: 1.4083 Val loss: 1.4193 Train F1: 0.5315 Val F1: 0.5181\u001b[0m\n"
     ]
    },
    {
     "name": "stdout",
     "output_type": "stream",
     "text": [
      "[3, 1, 0, 3, 4, 2, 0, 4, 0, 3] [3, 1, 0, 3, 4, 4, 0, 4, 4, 3]\n"
     ]
    },
    {
     "name": "stderr",
     "output_type": "stream",
     "text": [
      "\u001b[32m2024-01-30 00:32:57.328\u001b[0m | \u001b[1mINFO    \u001b[0m | \u001b[36m__main__\u001b[0m:\u001b[36m<module>\u001b[0m:\u001b[36m29\u001b[0m - \u001b[1mAugmented: True\tTrain loss: 1.4084 Val loss: 1.4094 Train F1: 0.5306 Val F1: 0.5365\u001b[0m\n"
     ]
    },
    {
     "name": "stdout",
     "output_type": "stream",
     "text": [
      "[3, 1, 0, 3, 4, 2, 0, 4, 0, 3] [3, 1, 0, 3, 0, 4, 0, 4, 4, 3]\n"
     ]
    },
    {
     "name": "stderr",
     "output_type": "stream",
     "text": [
      "\u001b[32m2024-01-30 00:32:59.893\u001b[0m | \u001b[1mINFO    \u001b[0m | \u001b[36m__main__\u001b[0m:\u001b[36m<module>\u001b[0m:\u001b[36m29\u001b[0m - \u001b[1mAugmented: True\tTrain loss: 1.4041 Val loss: 1.4099 Train F1: 0.5413 Val F1: 0.5448\u001b[0m\n"
     ]
    },
    {
     "name": "stdout",
     "output_type": "stream",
     "text": [
      "[3, 1, 0, 3, 4, 2, 0, 4, 0, 3] [3, 1, 0, 3, 3, 4, 0, 4, 3, 3]\n"
     ]
    },
    {
     "name": "stderr",
     "output_type": "stream",
     "text": [
      "\u001b[32m2024-01-30 00:33:02.582\u001b[0m | \u001b[1mINFO    \u001b[0m | \u001b[36m__main__\u001b[0m:\u001b[36m<module>\u001b[0m:\u001b[36m29\u001b[0m - \u001b[1mAugmented: True\tTrain loss: 1.4045 Val loss: 1.4121 Train F1: 0.5416 Val F1: 0.5216\u001b[0m\n"
     ]
    },
    {
     "name": "stdout",
     "output_type": "stream",
     "text": [
      "[3, 1, 0, 3, 4, 2, 0, 4, 0, 3] [3, 1, 0, 3, 0, 4, 0, 4, 4, 3]\n"
     ]
    },
    {
     "name": "stderr",
     "output_type": "stream",
     "text": [
      "\u001b[32m2024-01-30 00:33:05.263\u001b[0m | \u001b[1mINFO    \u001b[0m | \u001b[36m__main__\u001b[0m:\u001b[36m<module>\u001b[0m:\u001b[36m29\u001b[0m - \u001b[1mAugmented: True\tTrain loss: 1.4013 Val loss: 1.4104 Train F1: 0.5474 Val F1: 0.5272\u001b[0m\n"
     ]
    },
    {
     "name": "stdout",
     "output_type": "stream",
     "text": [
      "[3, 1, 0, 3, 4, 2, 0, 4, 0, 3] [3, 1, 0, 3, 0, 4, 0, 4, 4, 3]\n"
     ]
    },
    {
     "name": "stderr",
     "output_type": "stream",
     "text": [
      "\u001b[32m2024-01-30 00:33:07.858\u001b[0m | \u001b[1mINFO    \u001b[0m | \u001b[36m__main__\u001b[0m:\u001b[36m<module>\u001b[0m:\u001b[36m29\u001b[0m - \u001b[1mAugmented: True\tTrain loss: 1.3994 Val loss: 1.4088 Train F1: 0.5506 Val F1: 0.5447\u001b[0m\n"
     ]
    },
    {
     "name": "stdout",
     "output_type": "stream",
     "text": [
      "[3, 1, 0, 3, 4, 2, 0, 4, 0, 3] [3, 1, 0, 3, 0, 4, 0, 4, 0, 3]\n"
     ]
    },
    {
     "name": "stderr",
     "output_type": "stream",
     "text": [
      "\u001b[32m2024-01-30 00:33:10.380\u001b[0m | \u001b[1mINFO    \u001b[0m | \u001b[36m__main__\u001b[0m:\u001b[36m<module>\u001b[0m:\u001b[36m29\u001b[0m - \u001b[1mAugmented: True\tTrain loss: 1.3960 Val loss: 1.4183 Train F1: 0.5567 Val F1: 0.5309\u001b[0m\n"
     ]
    },
    {
     "name": "stdout",
     "output_type": "stream",
     "text": [
      "[3, 1, 0, 3, 4, 2, 0, 4, 0, 3] [3, 1, 0, 3, 3, 4, 0, 4, 4, 3]\n"
     ]
    },
    {
     "name": "stderr",
     "output_type": "stream",
     "text": [
      "\u001b[32m2024-01-30 00:33:13.051\u001b[0m | \u001b[1mINFO    \u001b[0m | \u001b[36m__main__\u001b[0m:\u001b[36m<module>\u001b[0m:\u001b[36m29\u001b[0m - \u001b[1mAugmented: True\tTrain loss: 1.3977 Val loss: 1.4049 Train F1: 0.5561 Val F1: 0.5416\u001b[0m\n"
     ]
    },
    {
     "name": "stdout",
     "output_type": "stream",
     "text": [
      "[3, 1, 0, 3, 4, 2, 0, 4, 0, 3] [3, 1, 0, 3, 3, 4, 0, 4, 3, 3]\n"
     ]
    },
    {
     "name": "stderr",
     "output_type": "stream",
     "text": [
      "\u001b[32m2024-01-30 00:33:15.655\u001b[0m | \u001b[1mINFO    \u001b[0m | \u001b[36m__main__\u001b[0m:\u001b[36m<module>\u001b[0m:\u001b[36m29\u001b[0m - \u001b[1mAugmented: True\tTrain loss: 1.3971 Val loss: 1.4094 Train F1: 0.5604 Val F1: 0.5510\u001b[0m\n"
     ]
    },
    {
     "name": "stdout",
     "output_type": "stream",
     "text": [
      "[3, 1, 0, 3, 4, 2, 0, 4, 0, 3] [3, 1, 0, 4, 4, 4, 0, 4, 4, 3]\n"
     ]
    },
    {
     "name": "stderr",
     "output_type": "stream",
     "text": [
      "\u001b[32m2024-01-30 00:33:18.154\u001b[0m | \u001b[1mINFO    \u001b[0m | \u001b[36m__main__\u001b[0m:\u001b[36m<module>\u001b[0m:\u001b[36m29\u001b[0m - \u001b[1mAugmented: True\tTrain loss: 1.3932 Val loss: 1.4049 Train F1: 0.5691 Val F1: 0.5563\u001b[0m\n"
     ]
    },
    {
     "name": "stdout",
     "output_type": "stream",
     "text": [
      "[3, 1, 0, 3, 4, 2, 0, 4, 0, 3] [3, 1, 0, 3, 3, 4, 0, 4, 1, 3]\n"
     ]
    },
    {
     "name": "stderr",
     "output_type": "stream",
     "text": [
      "\u001b[32m2024-01-30 00:33:20.620\u001b[0m | \u001b[1mINFO    \u001b[0m | \u001b[36m__main__\u001b[0m:\u001b[36m<module>\u001b[0m:\u001b[36m29\u001b[0m - \u001b[1mAugmented: True\tTrain loss: 1.3892 Val loss: 1.3997 Train F1: 0.5737 Val F1: 0.5587\u001b[0m\n"
     ]
    },
    {
     "name": "stdout",
     "output_type": "stream",
     "text": [
      "[3, 1, 0, 3, 4, 2, 0, 4, 0, 3] [3, 1, 0, 3, 0, 4, 0, 4, 3, 3]\n"
     ]
    },
    {
     "name": "stderr",
     "output_type": "stream",
     "text": [
      "\u001b[32m2024-01-30 00:33:23.054\u001b[0m | \u001b[1mINFO    \u001b[0m | \u001b[36m__main__\u001b[0m:\u001b[36m<module>\u001b[0m:\u001b[36m29\u001b[0m - \u001b[1mAugmented: True\tTrain loss: 1.3925 Val loss: 1.4023 Train F1: 0.5679 Val F1: 0.5535\u001b[0m\n"
     ]
    },
    {
     "name": "stdout",
     "output_type": "stream",
     "text": [
      "[3, 1, 0, 3, 4, 2, 0, 4, 0, 3] [3, 1, 0, 3, 4, 4, 0, 4, 3, 3]\n"
     ]
    },
    {
     "name": "stderr",
     "output_type": "stream",
     "text": [
      "\u001b[32m2024-01-30 00:33:25.576\u001b[0m | \u001b[1mINFO    \u001b[0m | \u001b[36m__main__\u001b[0m:\u001b[36m<module>\u001b[0m:\u001b[36m29\u001b[0m - \u001b[1mAugmented: True\tTrain loss: 1.3878 Val loss: 1.3991 Train F1: 0.5797 Val F1: 0.5634\u001b[0m\n"
     ]
    },
    {
     "name": "stdout",
     "output_type": "stream",
     "text": [
      "[3, 1, 0, 3, 4, 2, 0, 4, 0, 3] [3, 1, 0, 3, 0, 4, 0, 4, 4, 3]\n"
     ]
    },
    {
     "name": "stderr",
     "output_type": "stream",
     "text": [
      "\u001b[32m2024-01-30 00:33:28.052\u001b[0m | \u001b[1mINFO    \u001b[0m | \u001b[36m__main__\u001b[0m:\u001b[36m<module>\u001b[0m:\u001b[36m29\u001b[0m - \u001b[1mAugmented: True\tTrain loss: 1.3893 Val loss: 1.4039 Train F1: 0.5746 Val F1: 0.5402\u001b[0m\n"
     ]
    },
    {
     "name": "stdout",
     "output_type": "stream",
     "text": [
      "[3, 1, 0, 3, 4, 2, 0, 4, 0, 3] [3, 1, 0, 3, 0, 4, 0, 4, 0, 3]\n"
     ]
    },
    {
     "name": "stderr",
     "output_type": "stream",
     "text": [
      "\u001b[32m2024-01-30 00:33:30.487\u001b[0m | \u001b[1mINFO    \u001b[0m | \u001b[36m__main__\u001b[0m:\u001b[36m<module>\u001b[0m:\u001b[36m29\u001b[0m - \u001b[1mAugmented: True\tTrain loss: 1.3892 Val loss: 1.3981 Train F1: 0.5798 Val F1: 0.5643\u001b[0m\n"
     ]
    },
    {
     "name": "stdout",
     "output_type": "stream",
     "text": [
      "[3, 1, 0, 3, 4, 2, 0, 4, 0, 3] [3, 1, 0, 3, 0, 4, 0, 4, 0, 3]\n"
     ]
    },
    {
     "name": "stderr",
     "output_type": "stream",
     "text": [
      "\u001b[32m2024-01-30 00:33:33.002\u001b[0m | \u001b[1mINFO    \u001b[0m | \u001b[36m__main__\u001b[0m:\u001b[36m<module>\u001b[0m:\u001b[36m29\u001b[0m - \u001b[1mAugmented: True\tTrain loss: 1.3872 Val loss: 1.4159 Train F1: 0.5803 Val F1: 0.5458\u001b[0m\n"
     ]
    },
    {
     "name": "stdout",
     "output_type": "stream",
     "text": [
      "[3, 1, 0, 3, 4, 2, 0, 4, 0, 3] [3, 1, 0, 3, 3, 1, 0, 4, 3, 3]\n"
     ]
    },
    {
     "name": "stderr",
     "output_type": "stream",
     "text": [
      "\u001b[32m2024-01-30 00:33:35.440\u001b[0m | \u001b[1mINFO    \u001b[0m | \u001b[36m__main__\u001b[0m:\u001b[36m<module>\u001b[0m:\u001b[36m29\u001b[0m - \u001b[1mAugmented: True\tTrain loss: 1.3843 Val loss: 1.3980 Train F1: 0.5840 Val F1: 0.5642\u001b[0m\n"
     ]
    },
    {
     "name": "stdout",
     "output_type": "stream",
     "text": [
      "[3, 1, 0, 3, 4, 2, 0, 4, 0, 3] [3, 1, 0, 3, 0, 4, 0, 4, 3, 3]\n"
     ]
    },
    {
     "name": "stderr",
     "output_type": "stream",
     "text": [
      "\u001b[32m2024-01-30 00:33:37.903\u001b[0m | \u001b[1mINFO    \u001b[0m | \u001b[36m__main__\u001b[0m:\u001b[36m<module>\u001b[0m:\u001b[36m29\u001b[0m - \u001b[1mAugmented: True\tTrain loss: 1.3843 Val loss: 1.3974 Train F1: 0.5882 Val F1: 0.5653\u001b[0m\n"
     ]
    }
   ],
   "source": [
    "EPOCHS = 30\n",
    "LEARNING_RATE = 1e-3\n",
    "\n",
    "\n",
    "training_history = []\n",
    "for (exp_train_dl, exp_val_dl), augmented in [\n",
    "    ((train_dl, val_dl), False),\n",
    "    ((aug_train_dl, aug_val_dl), True),\n",
    "]:\n",
    "\n",
    "    for model_base_class in [\n",
    "        LSTMclf,\n",
    "        SimpleNNclf\n",
    "    ]:\n",
    "        torch.cuda.empty_cache()\n",
    "\n",
    "        model = model_base_class(EMBEDDINGS_DIM, NUM_LABELS).to(DEVICE)\n",
    "        loss_fn = nn.CrossEntropyLoss()\n",
    "        optimizer = optim.Adam(model.parameters(), lr=LEARNING_RATE)\n",
    "\n",
    "        model_name = model.__class__.__name__\n",
    "        for epoch in tqdm(range(EPOCHS), desc=f\"Training {model_name}\\t| Epochs\"):\n",
    "            train_loss, train_clf_report = train(model, optimizer, loss_fn, train_dl, norm_grad=False, device=DEVICE)\n",
    "            val_loss, val_clf_report = evaluate(model, loss_fn, val_dl, device=DEVICE)\n",
    "\n",
    "            train_f1 = train_clf_report[\"macro avg\"][\"f1-score\"]\n",
    "            val_f1 = val_clf_report[\"macro avg\"][\"f1-score\"]\n",
    "\n",
    "            logger.info(f\"Augmented: {augmented}\\tTrain loss: {train_loss:.4f} Val loss: {val_loss:.4f} Train F1: {train_f1:.4f} Val F1: {val_f1:.4f}\")\n",
    "\n",
    "            training_history.append({\n",
    "                \"Epoch\": epoch,\n",
    "                \"Model\": model_name,\n",
    "                \"AugmentedDataset\": augmented,\n",
    "                \"TrainLoss\": train_loss,\n",
    "                \"ValLoss\": val_loss,\n",
    "                \"TrainF1\": train_f1,\n",
    "                \"ValF1\": val_f1,\n",
    "                \"_ValClfReport\": val_clf_report,\n",
    "            })\n"
   ]
  },
  {
   "cell_type": "code",
   "execution_count": 18,
   "metadata": {},
   "outputs": [
    {
     "data": {
      "text/html": [
       "<div>\n",
       "<style scoped>\n",
       "    .dataframe tbody tr th:only-of-type {\n",
       "        vertical-align: middle;\n",
       "    }\n",
       "\n",
       "    .dataframe tbody tr th {\n",
       "        vertical-align: top;\n",
       "    }\n",
       "\n",
       "    .dataframe thead th {\n",
       "        text-align: right;\n",
       "    }\n",
       "</style>\n",
       "<table border=\"1\" class=\"dataframe\">\n",
       "  <thead>\n",
       "    <tr style=\"text-align: right;\">\n",
       "      <th></th>\n",
       "      <th>Epoch</th>\n",
       "      <th>Model</th>\n",
       "      <th>AugmentedDataset</th>\n",
       "      <th>TrainLoss</th>\n",
       "      <th>ValLoss</th>\n",
       "      <th>TrainF1</th>\n",
       "      <th>ValF1</th>\n",
       "      <th>_ValClfReport</th>\n",
       "    </tr>\n",
       "  </thead>\n",
       "  <tbody>\n",
       "    <tr>\n",
       "      <th>0</th>\n",
       "      <td>0</td>\n",
       "      <td>LSTMclf</td>\n",
       "      <td>False</td>\n",
       "      <td>1.552565</td>\n",
       "      <td>1.483930</td>\n",
       "      <td>0.322591</td>\n",
       "      <td>0.384038</td>\n",
       "      <td>{'0': {'precision': 0.7220822837951302, 'recal...</td>\n",
       "    </tr>\n",
       "    <tr>\n",
       "      <th>1</th>\n",
       "      <td>1</td>\n",
       "      <td>LSTMclf</td>\n",
       "      <td>False</td>\n",
       "      <td>1.464337</td>\n",
       "      <td>1.452499</td>\n",
       "      <td>0.406137</td>\n",
       "      <td>0.427810</td>\n",
       "      <td>{'0': {'precision': 0.6324567030147531, 'recal...</td>\n",
       "    </tr>\n",
       "    <tr>\n",
       "      <th>2</th>\n",
       "      <td>2</td>\n",
       "      <td>LSTMclf</td>\n",
       "      <td>False</td>\n",
       "      <td>1.445629</td>\n",
       "      <td>1.457100</td>\n",
       "      <td>0.438833</td>\n",
       "      <td>0.440720</td>\n",
       "      <td>{'0': {'precision': 0.6485623003194888, 'recal...</td>\n",
       "    </tr>\n",
       "    <tr>\n",
       "      <th>3</th>\n",
       "      <td>3</td>\n",
       "      <td>LSTMclf</td>\n",
       "      <td>False</td>\n",
       "      <td>1.436637</td>\n",
       "      <td>1.435662</td>\n",
       "      <td>0.456206</td>\n",
       "      <td>0.454977</td>\n",
       "      <td>{'0': {'precision': 0.6111111111111112, 'recal...</td>\n",
       "    </tr>\n",
       "    <tr>\n",
       "      <th>4</th>\n",
       "      <td>4</td>\n",
       "      <td>LSTMclf</td>\n",
       "      <td>False</td>\n",
       "      <td>1.421487</td>\n",
       "      <td>1.425117</td>\n",
       "      <td>0.479314</td>\n",
       "      <td>0.475069</td>\n",
       "      <td>{'0': {'precision': 0.6193013617525163, 'recal...</td>\n",
       "    </tr>\n",
       "    <tr>\n",
       "      <th>...</th>\n",
       "      <td>...</td>\n",
       "      <td>...</td>\n",
       "      <td>...</td>\n",
       "      <td>...</td>\n",
       "      <td>...</td>\n",
       "      <td>...</td>\n",
       "      <td>...</td>\n",
       "      <td>...</td>\n",
       "    </tr>\n",
       "    <tr>\n",
       "      <th>115</th>\n",
       "      <td>25</td>\n",
       "      <td>SimpleNNclf</td>\n",
       "      <td>True</td>\n",
       "      <td>1.389277</td>\n",
       "      <td>1.403881</td>\n",
       "      <td>0.574614</td>\n",
       "      <td>0.540232</td>\n",
       "      <td>{'0': {'precision': 0.6465352828989193, 'recal...</td>\n",
       "    </tr>\n",
       "    <tr>\n",
       "      <th>116</th>\n",
       "      <td>26</td>\n",
       "      <td>SimpleNNclf</td>\n",
       "      <td>True</td>\n",
       "      <td>1.389240</td>\n",
       "      <td>1.398058</td>\n",
       "      <td>0.579752</td>\n",
       "      <td>0.564293</td>\n",
       "      <td>{'0': {'precision': 0.7258687258687259, 'recal...</td>\n",
       "    </tr>\n",
       "    <tr>\n",
       "      <th>117</th>\n",
       "      <td>27</td>\n",
       "      <td>SimpleNNclf</td>\n",
       "      <td>True</td>\n",
       "      <td>1.387169</td>\n",
       "      <td>1.415860</td>\n",
       "      <td>0.580310</td>\n",
       "      <td>0.545755</td>\n",
       "      <td>{'0': {'precision': 0.7887970615243343, 'recal...</td>\n",
       "    </tr>\n",
       "    <tr>\n",
       "      <th>118</th>\n",
       "      <td>28</td>\n",
       "      <td>SimpleNNclf</td>\n",
       "      <td>True</td>\n",
       "      <td>1.384272</td>\n",
       "      <td>1.397972</td>\n",
       "      <td>0.583990</td>\n",
       "      <td>0.564177</td>\n",
       "      <td>{'0': {'precision': 0.7237949502677888, 'recal...</td>\n",
       "    </tr>\n",
       "    <tr>\n",
       "      <th>119</th>\n",
       "      <td>29</td>\n",
       "      <td>SimpleNNclf</td>\n",
       "      <td>True</td>\n",
       "      <td>1.384267</td>\n",
       "      <td>1.397419</td>\n",
       "      <td>0.588157</td>\n",
       "      <td>0.565266</td>\n",
       "      <td>{'0': {'precision': 0.6778385772913816, 'recal...</td>\n",
       "    </tr>\n",
       "  </tbody>\n",
       "</table>\n",
       "<p>120 rows × 8 columns</p>\n",
       "</div>"
      ],
      "text/plain": [
       "     Epoch        Model  AugmentedDataset  TrainLoss   ValLoss   TrainF1  \\\n",
       "0        0      LSTMclf             False   1.552565  1.483930  0.322591   \n",
       "1        1      LSTMclf             False   1.464337  1.452499  0.406137   \n",
       "2        2      LSTMclf             False   1.445629  1.457100  0.438833   \n",
       "3        3      LSTMclf             False   1.436637  1.435662  0.456206   \n",
       "4        4      LSTMclf             False   1.421487  1.425117  0.479314   \n",
       "..     ...          ...               ...        ...       ...       ...   \n",
       "115     25  SimpleNNclf              True   1.389277  1.403881  0.574614   \n",
       "116     26  SimpleNNclf              True   1.389240  1.398058  0.579752   \n",
       "117     27  SimpleNNclf              True   1.387169  1.415860  0.580310   \n",
       "118     28  SimpleNNclf              True   1.384272  1.397972  0.583990   \n",
       "119     29  SimpleNNclf              True   1.384267  1.397419  0.588157   \n",
       "\n",
       "        ValF1                                      _ValClfReport  \n",
       "0    0.384038  {'0': {'precision': 0.7220822837951302, 'recal...  \n",
       "1    0.427810  {'0': {'precision': 0.6324567030147531, 'recal...  \n",
       "2    0.440720  {'0': {'precision': 0.6485623003194888, 'recal...  \n",
       "3    0.454977  {'0': {'precision': 0.6111111111111112, 'recal...  \n",
       "4    0.475069  {'0': {'precision': 0.6193013617525163, 'recal...  \n",
       "..        ...                                                ...  \n",
       "115  0.540232  {'0': {'precision': 0.6465352828989193, 'recal...  \n",
       "116  0.564293  {'0': {'precision': 0.7258687258687259, 'recal...  \n",
       "117  0.545755  {'0': {'precision': 0.7887970615243343, 'recal...  \n",
       "118  0.564177  {'0': {'precision': 0.7237949502677888, 'recal...  \n",
       "119  0.565266  {'0': {'precision': 0.6778385772913816, 'recal...  \n",
       "\n",
       "[120 rows x 8 columns]"
      ]
     },
     "execution_count": 18,
     "metadata": {},
     "output_type": "execute_result"
    }
   ],
   "source": [
    "training_history_df = pd.DataFrame.from_records(training_history)\n",
    "training_history_df"
   ]
  },
  {
   "cell_type": "code",
   "execution_count": 77,
   "metadata": {},
   "outputs": [
    {
     "data": {
      "image/png": "[encoded data removed]",
      "text/plain": [
       "<Figure size 640x480 with 1 Axes>"
      ]
     },
     "metadata": {},
     "output_type": "display_data"
    }
   ],
   "source": [
    "sns.lineplot(data=training_history_df[training_history_df.AugmentedDataset], x=\"Epoch\", y=\"ValLoss\", hue=\"Model\", linestyle=\":\", legend=False)\n",
    "sns.lineplot(data=training_history_df[~training_history_df.AugmentedDataset], x=\"Epoch\", y=\"ValLoss\", hue=\"Model\")\n",
    "\n",
    "handles, _ = plt.gca().get_legend_handles_labels()\n",
    "line = Line2D([0], [0], label='on augmented dataset', color='gray', linestyle=':')\n",
    "handles.append(line)\n",
    "plt.legend(handles=handles)\n",
    "\n",
    "plt.ylabel(\"Validation Loss\")\n",
    "plt.xlabel(\"Epoch\")\n",
    "plt.show()"
   ]
  },
  {
   "cell_type": "code",
   "execution_count": 117,
   "metadata": {},
   "outputs": [
    {
     "data": {
      "image/png": "[encoded data removed]",
      "text/plain": [
       "<Figure size 640x480 with 1 Axes>"
      ]
     },
     "metadata": {},
     "output_type": "display_data"
    }
   ],
   "source": [
    "sns.lineplot(data=training_history_df[training_history_df.AugmentedDataset], x=\"Epoch\", y=\"ValF1\", hue=\"Model\", linestyle=\":\", legend=False)\n",
    "sns.lineplot(data=training_history_df[~training_history_df.AugmentedDataset], x=\"Epoch\", y=\"ValF1\", hue=\"Model\")\n",
    "\n",
    "handles, _ = plt.gca().get_legend_handles_labels()\n",
    "line = Line2D([0], [0], label='on augmented dataset', color='gray', linestyle=':')\n",
    "handles.append(line)\n",
    "plt.legend(handles=handles)\n",
    "\n",
    "plt.ylabel(\"Macro Avg F1\")\n",
    "plt.xlabel(\"Epoch\")\n",
    "plt.show()"
   ]
  },
  {
   "cell_type": "code",
   "execution_count": 114,
   "metadata": {},
   "outputs": [
    {
     "data": {
      "text/html": [
       "<div>\n",
       "<style scoped>\n",
       "    .dataframe tbody tr th:only-of-type {\n",
       "        vertical-align: middle;\n",
       "    }\n",
       "\n",
       "    .dataframe tbody tr th {\n",
       "        vertical-align: top;\n",
       "    }\n",
       "\n",
       "    .dataframe thead th {\n",
       "        text-align: right;\n",
       "    }\n",
       "</style>\n",
       "<table border=\"1\" class=\"dataframe\">\n",
       "  <thead>\n",
       "    <tr style=\"text-align: right;\">\n",
       "      <th></th>\n",
       "      <th>Model</th>\n",
       "      <th>AugmentedDataset</th>\n",
       "      <th>ValF1</th>\n",
       "    </tr>\n",
       "  </thead>\n",
       "  <tbody>\n",
       "    <tr>\n",
       "      <th>0</th>\n",
       "      <td>LSTMclf</td>\n",
       "      <td>False</td>\n",
       "      <td>0.603178</td>\n",
       "    </tr>\n",
       "    <tr>\n",
       "      <th>1</th>\n",
       "      <td>LSTMclf</td>\n",
       "      <td>True</td>\n",
       "      <td>0.602517</td>\n",
       "    </tr>\n",
       "    <tr>\n",
       "      <th>2</th>\n",
       "      <td>SimpleNNclf</td>\n",
       "      <td>False</td>\n",
       "      <td>0.570055</td>\n",
       "    </tr>\n",
       "    <tr>\n",
       "      <th>3</th>\n",
       "      <td>SimpleNNclf</td>\n",
       "      <td>True</td>\n",
       "      <td>0.565266</td>\n",
       "    </tr>\n",
       "  </tbody>\n",
       "</table>\n",
       "</div>"
      ],
      "text/plain": [
       "         Model  AugmentedDataset     ValF1\n",
       "0      LSTMclf             False  0.603178\n",
       "1      LSTMclf              True  0.602517\n",
       "2  SimpleNNclf             False  0.570055\n",
       "3  SimpleNNclf              True  0.565266"
      ]
     },
     "execution_count": 114,
     "metadata": {},
     "output_type": "execute_result"
    }
   ],
   "source": [
    "max_f1_df = training_history_df.groupby(['Model', 'AugmentedDataset'])['ValF1'].max().reset_index().sort_values(by=\"ValF1\", ascending=False)\n",
    "max_f1_df"
   ]
  },
  {
   "cell_type": "code",
   "execution_count": 116,
   "metadata": {},
   "outputs": [
    {
     "data": {
      "image/png": "[encoded data removed]",
      "text/plain": [
       "<Figure size 640x480 with 1 Axes>"
      ]
     },
     "metadata": {},
     "output_type": "display_data"
    }
   ],
   "source": [
    "sns.barplot(data=max_f1_df, x=\"Model\", y=\"ValF1\", hue=\"AugmentedDataset\")\n",
    "plt.legend(loc='upper right', title=\"Augmented dataset\")\n",
    "plt.ylim(0, 1)\n",
    "plt.ylabel(\"Max Macro Avg F1\")\n",
    "plt.show()"
   ]
  },
  {
   "cell_type": "code",
   "execution_count": null,
   "metadata": {},
   "outputs": [],
   "source": []
  },
  {
   "cell_type": "code",
   "execution_count": 21,
   "metadata": {},
   "outputs": [],
   "source": [
    "training_history_df.to_json(\"nlp_final_final_final_training_history_df.jsonl\", orient=\"records\", lines=True)"
   ]
  },
  {
   "cell_type": "code",
   "execution_count": null,
   "metadata": {},
   "outputs": [],
   "source": []
  }
 ],
 "metadata": {
  "kernelspec": {
   "display_name": "base",
   "language": "python",
   "name": "python3"
  },
  "language_info": {
   "codemirror_mode": {
    "name": "ipython",
    "version": 3
   },
   "file_extension": ".py",
   "mimetype": "text/x-python",
   "name": "python",
   "nbconvert_exporter": "python",
   "pygments_lexer": "ipython3",
   "version": "3.10.8"
  },
  "orig_nbformat": 4
 },
 "nbformat": 4,
 "nbformat_minor": 2
}
