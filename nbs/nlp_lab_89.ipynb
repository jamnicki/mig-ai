{
 "cells": [
  {
   "cell_type": "markdown",
   "metadata": {},
   "source": [
    "# Ocena modeli dystrybucyjnych dla korpusu pełnego i wzorcowego"
   ]
  },
  {
   "cell_type": "code",
   "execution_count": 26,
   "metadata": {},
   "outputs": [],
   "source": [
    "import pandas as pd\n",
    "import seaborn as sns\n",
    "from tqdm.notebook import tqdm\n",
    "import string\n",
    "from pprint import pprint\n",
    "import token\n",
    "import numpy as np\n",
    "from nltk.tokenize import word_tokenize\n",
    "import warnings\n",
    "from matplotlib import pyplot as plt\n",
    "from datetime import datetime\n",
    "\n",
    "from sklearn.metrics import classification_report, precision_score, recall_score, f1_score\n",
    "from sklearn.model_selection import StratifiedKFold\n",
    "from sklearn.linear_model import LogisticRegression\n",
    "from sklearn.neural_network import MLPClassifier\n",
    "from sklearn.neighbors import KNeighborsClassifier\n",
    "from sklearn.svm import SVC\n",
    "from sklearn.tree import DecisionTreeClassifier\n",
    "from sklearn.ensemble import RandomForestClassifier, AdaBoostClassifier\n",
    "from sklearn.naive_bayes import GaussianNB\n",
    "from sklearn.discriminant_analysis import QuadraticDiscriminantAnalysis\n",
    "from sklearn.exceptions import ConvergenceWarning\n",
    "\n",
    "from gensim.models import Word2Vec\n",
    "from gensim.models import FastText\n",
    "\n",
    "from src.settings import POLISH_ANNOTATIONS_FPATH, DATA_DIR, MODELS_DIR\n",
    "\n",
    "tqdm.pandas()"
   ]
  },
  {
   "cell_type": "code",
   "execution_count": 2,
   "metadata": {},
   "outputs": [],
   "source": [
    "RANDOM_STATE = 42\n",
    "\n",
    "EMB_VECTOR_SIZE = 100\n",
    "EMB_WINDOW = 5\n",
    "VOCAB_MIN_COUNT = 5\n",
    "\n",
    "MIN_N_GRAM = 1\n",
    "MAX_N_GRAM = 4\n",
    "\n",
    "N_FOLDS = 5\n",
    "\n",
    "EMB_EPOCHS = 20"
   ]
  },
  {
   "cell_type": "code",
   "execution_count": 3,
   "metadata": {},
   "outputs": [],
   "source": [
    "def preprocess(text, stopwords):\n",
    "    text = text.lower()\n",
    "    text = \"\".join([word for word in text if word not in string.punctuation])\n",
    "    tokens = word_tokenize(text, language=\"polish\")\n",
    "    tokens = [word for word in tokens if word not in stopwords]\n",
    "    if not any(tokens):\n",
    "        return np.nan\n",
    "    return \" \".join(tokens)\n",
    "\n",
    "with open(DATA_DIR / \"polish.stopwords.txt\", \"r\") as f:\n",
    "    stop_words = set(f.readlines())"
   ]
  },
  {
   "cell_type": "markdown",
   "metadata": {},
   "source": [
    "## Korpus pełny"
   ]
  },
  {
   "cell_type": "code",
   "execution_count": 4,
   "metadata": {},
   "outputs": [
    {
     "data": {
      "text/html": [
       "<div>\n",
       "<style scoped>\n",
       "    .dataframe tbody tr th:only-of-type {\n",
       "        vertical-align: middle;\n",
       "    }\n",
       "\n",
       "    .dataframe tbody tr th {\n",
       "        vertical-align: top;\n",
       "    }\n",
       "\n",
       "    .dataframe thead th {\n",
       "        text-align: right;\n",
       "    }\n",
       "</style>\n",
       "<table border=\"1\" class=\"dataframe\">\n",
       "  <thead>\n",
       "    <tr style=\"text-align: right;\">\n",
       "      <th></th>\n",
       "      <th>Unnamed: 0</th>\n",
       "      <th>text</th>\n",
       "      <th>channel</th>\n",
       "      <th>source_file</th>\n",
       "      <th>call</th>\n",
       "    </tr>\n",
       "  </thead>\n",
       "  <tbody>\n",
       "    <tr>\n",
       "      <th>0</th>\n",
       "      <td>1</td>\n",
       "      <td>(yy) Dzień... dzień dobry pani. (yy) Ja dzwoni...</td>\n",
       "      <td>clnt</td>\n",
       "      <td>cbiz_tc_1.clnt.txt</td>\n",
       "      <td>cbiz_tc_1</td>\n",
       "    </tr>\n",
       "    <tr>\n",
       "      <th>1</th>\n",
       "      <td>2</td>\n",
       "      <td>(...) Dobry, Anna Kwiatkowska, Nowy Bank. W cz...</td>\n",
       "      <td>cbiz_tc_1</td>\n",
       "      <td>cbiz_tc_1.txt</td>\n",
       "      <td>cbiz_tc_1</td>\n",
       "    </tr>\n",
       "    <tr>\n",
       "      <th>2</th>\n",
       "      <td>3</td>\n",
       "      <td>Kwiatkowska. Przychodnia MedMed. W czym mogę p...</td>\n",
       "      <td>agnt</td>\n",
       "      <td>cbiz_tc_10.agnt.txt</td>\n",
       "      <td>cbiz_tc_10</td>\n",
       "    </tr>\n",
       "    <tr>\n",
       "      <th>3</th>\n",
       "      <td>4</td>\n",
       "      <td>Dzień dobry pani. Ja tutaj zadzwonię do pani, ...</td>\n",
       "      <td>clnt</td>\n",
       "      <td>cbiz_tc_10.clnt.txt</td>\n",
       "      <td>cbiz_tc_10</td>\n",
       "    </tr>\n",
       "    <tr>\n",
       "      <th>4</th>\n",
       "      <td>5</td>\n",
       "      <td>Kwiatkowska. Przychodnia MedMed. W czym mogę p...</td>\n",
       "      <td>cbiz_tc_10</td>\n",
       "      <td>cbiz_tc_10.txt</td>\n",
       "      <td>cbiz_tc_10</td>\n",
       "    </tr>\n",
       "    <tr>\n",
       "      <th>...</th>\n",
       "      <td>...</td>\n",
       "      <td>...</td>\n",
       "      <td>...</td>\n",
       "      <td>...</td>\n",
       "      <td>...</td>\n",
       "    </tr>\n",
       "    <tr>\n",
       "      <th>12024</th>\n",
       "      <td>12025</td>\n",
       "      <td>(yy) Dzień dobry. Proszę pana, (yy) nie mogę s...</td>\n",
       "      <td>clnt</td>\n",
       "      <td>cbiz_tc_994.clnt.txt</td>\n",
       "      <td>cbiz_tc_994</td>\n",
       "    </tr>\n",
       "    <tr>\n",
       "      <th>12025</th>\n",
       "      <td>12026</td>\n",
       "      <td>Dzień dobry. Mikołaj Dębek. Biuro obsługi klie...</td>\n",
       "      <td>cbiz_tc_994</td>\n",
       "      <td>cbiz_tc_994.txt</td>\n",
       "      <td>cbiz_tc_994</td>\n",
       "    </tr>\n",
       "    <tr>\n",
       "      <th>12026</th>\n",
       "      <td>12027</td>\n",
       "      <td>Dzień dobry, Andrzej Kwaśniak, Biuro Obsługi K...</td>\n",
       "      <td>agnt</td>\n",
       "      <td>cbiz_tc_995.agnt.txt</td>\n",
       "      <td>cbiz_tc_995</td>\n",
       "    </tr>\n",
       "    <tr>\n",
       "      <th>12027</th>\n",
       "      <td>12028</td>\n",
       "      <td>(yy) Dzień dobry, Michał Flagowy z tej strony....</td>\n",
       "      <td>clnt</td>\n",
       "      <td>cbiz_tc_995.clnt.txt</td>\n",
       "      <td>cbiz_tc_995</td>\n",
       "    </tr>\n",
       "    <tr>\n",
       "      <th>12028</th>\n",
       "      <td>12029</td>\n",
       "      <td>Dzień dobry, Andrzej Kwaśniak, Biuro Obsługi K...</td>\n",
       "      <td>cbiz_tc_995</td>\n",
       "      <td>cbiz_tc_995.txt</td>\n",
       "      <td>cbiz_tc_995</td>\n",
       "    </tr>\n",
       "  </tbody>\n",
       "</table>\n",
       "<p>12029 rows × 5 columns</p>\n",
       "</div>"
      ],
      "text/plain": [
       "       Unnamed: 0                                               text  \\\n",
       "0               1  (yy) Dzień... dzień dobry pani. (yy) Ja dzwoni...   \n",
       "1               2  (...) Dobry, Anna Kwiatkowska, Nowy Bank. W cz...   \n",
       "2               3  Kwiatkowska. Przychodnia MedMed. W czym mogę p...   \n",
       "3               4  Dzień dobry pani. Ja tutaj zadzwonię do pani, ...   \n",
       "4               5  Kwiatkowska. Przychodnia MedMed. W czym mogę p...   \n",
       "...           ...                                                ...   \n",
       "12024       12025  (yy) Dzień dobry. Proszę pana, (yy) nie mogę s...   \n",
       "12025       12026  Dzień dobry. Mikołaj Dębek. Biuro obsługi klie...   \n",
       "12026       12027  Dzień dobry, Andrzej Kwaśniak, Biuro Obsługi K...   \n",
       "12027       12028  (yy) Dzień dobry, Michał Flagowy z tej strony....   \n",
       "12028       12029  Dzień dobry, Andrzej Kwaśniak, Biuro Obsługi K...   \n",
       "\n",
       "           channel           source_file         call  \n",
       "0             clnt    cbiz_tc_1.clnt.txt    cbiz_tc_1  \n",
       "1        cbiz_tc_1         cbiz_tc_1.txt    cbiz_tc_1  \n",
       "2             agnt   cbiz_tc_10.agnt.txt   cbiz_tc_10  \n",
       "3             clnt   cbiz_tc_10.clnt.txt   cbiz_tc_10  \n",
       "4       cbiz_tc_10        cbiz_tc_10.txt   cbiz_tc_10  \n",
       "...            ...                   ...          ...  \n",
       "12024         clnt  cbiz_tc_994.clnt.txt  cbiz_tc_994  \n",
       "12025  cbiz_tc_994       cbiz_tc_994.txt  cbiz_tc_994  \n",
       "12026         agnt  cbiz_tc_995.agnt.txt  cbiz_tc_995  \n",
       "12027         clnt  cbiz_tc_995.clnt.txt  cbiz_tc_995  \n",
       "12028  cbiz_tc_995       cbiz_tc_995.txt  cbiz_tc_995  \n",
       "\n",
       "[12029 rows x 5 columns]"
      ]
     },
     "execution_count": 4,
     "metadata": {},
     "output_type": "execute_result"
    }
   ],
   "source": [
    "korpus_pelny = pd.read_csv(DATA_DIR / \"all_calls_texts_per_channel.csv\")\n",
    "korpus_pelny"
   ]
  },
  {
   "cell_type": "code",
   "execution_count": 5,
   "metadata": {},
   "outputs": [
    {
     "data": {
      "text/plain": [
       "0"
      ]
     },
     "execution_count": 5,
     "metadata": {},
     "output_type": "execute_result"
    }
   ],
   "source": [
    "korpus_pelny[\"text\"].isna().sum()"
   ]
  },
  {
   "cell_type": "code",
   "execution_count": 6,
   "metadata": {},
   "outputs": [
    {
     "data": {
      "application/vnd.jupyter.widget-view+json": {
       "model_id": "dd4febf4fd5443ee8e0c763f4d98af24",
       "version_major": 2,
       "version_minor": 0
      },
      "text/plain": [
       "  0%|          | 0/12029 [00:00<?, ?it/s]"
      ]
     },
     "metadata": {},
     "output_type": "display_data"
    },
    {
     "data": {
      "text/plain": [
       "'dzień dobry karolina adamczyk telekom sa w czym mogę pomóc oczywiście już wszystko sprawdzimy chciałam się tylko dowiedzieć yy czy to jest ten numer telefonu z którego pani dzwoni tak dobrze prosiłabym jeszcze o hasło abonenckie dobrze to w takim razie może inaczej jest pani właścicielem tego numeru tak dobrze to prosiłabym w takim razie o numer pesel i adres zameldowania sześćdziesiąt cztery tak tak siedem czy jeden przepraszam siedem dobrze tak czterysta sześćdziesiąt dobrze i jeszcze adres zameldowania ludowa tak dwadzieścia osiem tak siemianowice śląskie yy dobrze proszę jeszcze dać dać chwilkę system wczyta dane dobrze yy proszę mi jeszcze powiedzieć jak proszę mi jeszcze powiedzieć jak rozumiem w ustawieniach tryb sieci tak aha dobrze wie pani co to spróbujemy zrobić reset w takim razie i powinno pomóc w tej sytuacji prosiłabym rozłączyć internet i spróbować się połączyć ponownie za około piętnaście minut być może to już wcześniej się włączy mogę pani jeszcze jakoś pomóc dobrze w takim razie dziękuję pani bardzo za rozmowę pozdrawiam do usłyszenia'"
      ]
     },
     "execution_count": 6,
     "metadata": {},
     "output_type": "execute_result"
    }
   ],
   "source": [
    "korpus_pelny_preprocessed = korpus_pelny.copy()\n",
    "korpus_pelny_preprocessed[\"text\"] = korpus_pelny_preprocessed[\"text\"].progress_apply(preprocess, args=(stop_words,))\n",
    "\n",
    "korpus_pelny_preprocessed[\"text\"][5]"
   ]
  },
  {
   "cell_type": "code",
   "execution_count": 7,
   "metadata": {},
   "outputs": [
    {
     "data": {
      "text/plain": [
       "(6674344, ['yy', 'dzień', 'dzień', 'dobry', 'pani'])"
      ]
     },
     "execution_count": 7,
     "metadata": {},
     "output_type": "execute_result"
    }
   ],
   "source": [
    "pelny_tokens = [\n",
    "    token\n",
    "    for tokens in np.char.split(korpus_pelny_preprocessed[[\"text\"]].to_numpy().flatten().astype(\"str\"))\n",
    "    for token in tokens\n",
    "]\n",
    "\n",
    "len(pelny_tokens), pelny_tokens[:5]"
   ]
  },
  {
   "cell_type": "markdown",
   "metadata": {},
   "source": [
    "## Zbiór danych do klasyfikacji (tekst - numer zadania), korpus wzorcowy"
   ]
  },
  {
   "cell_type": "code",
   "execution_count": 8,
   "metadata": {},
   "outputs": [
    {
     "data": {
      "text/html": [
       "<div>\n",
       "<style scoped>\n",
       "    .dataframe tbody tr th:only-of-type {\n",
       "        vertical-align: middle;\n",
       "    }\n",
       "\n",
       "    .dataframe tbody tr th {\n",
       "        vertical-align: top;\n",
       "    }\n",
       "\n",
       "    .dataframe thead th {\n",
       "        text-align: right;\n",
       "    }\n",
       "</style>\n",
       "<table border=\"1\" class=\"dataframe\">\n",
       "  <thead>\n",
       "    <tr style=\"text-align: right;\">\n",
       "      <th></th>\n",
       "      <th>start</th>\n",
       "      <th>end</th>\n",
       "      <th>text</th>\n",
       "      <th>doc_filepath</th>\n",
       "      <th>video_filename</th>\n",
       "      <th>task_label</th>\n",
       "    </tr>\n",
       "  </thead>\n",
       "  <tbody>\n",
       "    <tr>\n",
       "      <th>0</th>\n",
       "      <td>39040</td>\n",
       "      <td>41120</td>\n",
       "      <td>Myślę, że mam inny pomysł, można?</td>\n",
       "      <td>/15/K66BF13-26_15_15_signsNO.eaf</td>\n",
       "      <td>K66BF13-26.mp4</td>\n",
       "      <td>15</td>\n",
       "    </tr>\n",
       "    <tr>\n",
       "      <th>1</th>\n",
       "      <td>41120</td>\n",
       "      <td>49680</td>\n",
       "      <td>Chyba ten znak mówi, że jak ktoś będzie spacer...</td>\n",
       "      <td>/15/K66BF13-26_15_15_signsNO.eaf</td>\n",
       "      <td>K66BF13-26.mp4</td>\n",
       "      <td>15</td>\n",
       "    </tr>\n",
       "    <tr>\n",
       "      <th>2</th>\n",
       "      <td>49680</td>\n",
       "      <td>55280</td>\n",
       "      <td>Trzeba przejść łukiem obok leżącego i o tym zn...</td>\n",
       "      <td>/15/K66BF13-26_15_15_signsNO.eaf</td>\n",
       "      <td>K66BF13-26.mp4</td>\n",
       "      <td>15</td>\n",
       "    </tr>\n",
       "    <tr>\n",
       "      <th>3</th>\n",
       "      <td>61280</td>\n",
       "      <td>66840</td>\n",
       "      <td>Okrągły znak pomaga nam, mówi, że są pasy na u...</td>\n",
       "      <td>/15/K66BF13-26_15_15_signsNO.eaf</td>\n",
       "      <td>K66BF13-26.mp4</td>\n",
       "      <td>15</td>\n",
       "    </tr>\n",
       "    <tr>\n",
       "      <th>4</th>\n",
       "      <td>66840</td>\n",
       "      <td>73200</td>\n",
       "      <td>Jak ktoś zobaczy, ale zignoruje ten znak, to m...</td>\n",
       "      <td>/15/K66BF13-26_15_15_signsNO.eaf</td>\n",
       "      <td>K66BF13-26.mp4</td>\n",
       "      <td>15</td>\n",
       "    </tr>\n",
       "    <tr>\n",
       "      <th>...</th>\n",
       "      <td>...</td>\n",
       "      <td>...</td>\n",
       "      <td>...</td>\n",
       "      <td>...</td>\n",
       "      <td>...</td>\n",
       "      <td>...</td>\n",
       "    </tr>\n",
       "    <tr>\n",
       "      <th>40350</th>\n",
       "      <td>248960</td>\n",
       "      <td>250320</td>\n",
       "      <td>[uderzanie w coś]</td>\n",
       "      <td>/13/K17BF13-26_13_13_comics.eaf</td>\n",
       "      <td>K17BF13-26.mp4</td>\n",
       "      <td>13</td>\n",
       "    </tr>\n",
       "    <tr>\n",
       "      <th>40351</th>\n",
       "      <td>279560</td>\n",
       "      <td>291400</td>\n",
       "      <td>Kot zobaczył w akwarium rybkę. Podszedł i dał ...</td>\n",
       "      <td>/13/K17BF13-26_13_13_comics.eaf</td>\n",
       "      <td>K17BF13-26.mp4</td>\n",
       "      <td>13</td>\n",
       "    </tr>\n",
       "    <tr>\n",
       "      <th>40352</th>\n",
       "      <td>291400</td>\n",
       "      <td>347120</td>\n",
       "      <td>Zjadłam, zjadłam.</td>\n",
       "      <td>/13/K17BF13-26_13_13_comics.eaf</td>\n",
       "      <td>K17BF13-26.mp4</td>\n",
       "      <td>13</td>\n",
       "    </tr>\n",
       "    <tr>\n",
       "      <th>40353</th>\n",
       "      <td>347120</td>\n",
       "      <td>356440</td>\n",
       "      <td>Zając biegnie, zobaczył wiszące pranie. Wskocz...</td>\n",
       "      <td>/13/K17BF13-26_13_13_comics.eaf</td>\n",
       "      <td>K17BF13-26.mp4</td>\n",
       "      <td>13</td>\n",
       "    </tr>\n",
       "    <tr>\n",
       "      <th>40354</th>\n",
       "      <td>359240</td>\n",
       "      <td>361760</td>\n",
       "      <td>Kombinezon dziecka, tak na siebie założył.</td>\n",
       "      <td>/13/K17BF13-26_13_13_comics.eaf</td>\n",
       "      <td>K17BF13-26.mp4</td>\n",
       "      <td>13</td>\n",
       "    </tr>\n",
       "  </tbody>\n",
       "</table>\n",
       "<p>40355 rows × 6 columns</p>\n",
       "</div>"
      ],
      "text/plain": [
       "        start     end                                               text  \\\n",
       "0       39040   41120                  Myślę, że mam inny pomysł, można?   \n",
       "1       41120   49680  Chyba ten znak mówi, że jak ktoś będzie spacer...   \n",
       "2       49680   55280  Trzeba przejść łukiem obok leżącego i o tym zn...   \n",
       "3       61280   66840  Okrągły znak pomaga nam, mówi, że są pasy na u...   \n",
       "4       66840   73200  Jak ktoś zobaczy, ale zignoruje ten znak, to m...   \n",
       "...       ...     ...                                                ...   \n",
       "40350  248960  250320                                  [uderzanie w coś]   \n",
       "40351  279560  291400  Kot zobaczył w akwarium rybkę. Podszedł i dał ...   \n",
       "40352  291400  347120                                  Zjadłam, zjadłam.   \n",
       "40353  347120  356440  Zając biegnie, zobaczył wiszące pranie. Wskocz...   \n",
       "40354  359240  361760         Kombinezon dziecka, tak na siebie założył.   \n",
       "\n",
       "                           doc_filepath  video_filename  task_label  \n",
       "0      /15/K66BF13-26_15_15_signsNO.eaf  K66BF13-26.mp4          15  \n",
       "1      /15/K66BF13-26_15_15_signsNO.eaf  K66BF13-26.mp4          15  \n",
       "2      /15/K66BF13-26_15_15_signsNO.eaf  K66BF13-26.mp4          15  \n",
       "3      /15/K66BF13-26_15_15_signsNO.eaf  K66BF13-26.mp4          15  \n",
       "4      /15/K66BF13-26_15_15_signsNO.eaf  K66BF13-26.mp4          15  \n",
       "...                                 ...             ...         ...  \n",
       "40350   /13/K17BF13-26_13_13_comics.eaf  K17BF13-26.mp4          13  \n",
       "40351   /13/K17BF13-26_13_13_comics.eaf  K17BF13-26.mp4          13  \n",
       "40352   /13/K17BF13-26_13_13_comics.eaf  K17BF13-26.mp4          13  \n",
       "40353   /13/K17BF13-26_13_13_comics.eaf  K17BF13-26.mp4          13  \n",
       "40354   /13/K17BF13-26_13_13_comics.eaf  K17BF13-26.mp4          13  \n",
       "\n",
       "[40355 rows x 6 columns]"
      ]
     },
     "execution_count": 8,
     "metadata": {},
     "output_type": "execute_result"
    }
   ],
   "source": [
    "korpus_wzorcowy = pd.read_json(POLISH_ANNOTATIONS_FPATH, lines=True)\n",
    "korpus_wzorcowy"
   ]
  },
  {
   "cell_type": "code",
   "execution_count": 9,
   "metadata": {},
   "outputs": [
    {
     "data": {
      "text/plain": [
       "['15', '24', '7', '17', '8', '13']"
      ]
     },
     "execution_count": 9,
     "metadata": {},
     "output_type": "execute_result"
    }
   ],
   "source": [
    "target_labels = korpus_wzorcowy[\"task_label\"].astype(str).unique().tolist()\n",
    "target_labels"
   ]
  },
  {
   "cell_type": "code",
   "execution_count": 10,
   "metadata": {},
   "outputs": [
    {
     "data": {
      "text/plain": [
       "(0, 0)"
      ]
     },
     "execution_count": 10,
     "metadata": {},
     "output_type": "execute_result"
    }
   ],
   "source": [
    "korpus_wzorcowy[\"text\"].isna().sum(), korpus_wzorcowy[\"task_label\"].isna().sum()"
   ]
  },
  {
   "cell_type": "code",
   "execution_count": 11,
   "metadata": {},
   "outputs": [
    {
     "data": {
      "text/plain": [
       "'ktoś biega bez świadomości i może spowodować wypadek a znak nam pomaga przypomina żeby uważać'"
      ]
     },
     "execution_count": 11,
     "metadata": {},
     "output_type": "execute_result"
    }
   ],
   "source": [
    "korpus_wzorcowy_preprocessed = korpus_wzorcowy.copy()\n",
    "korpus_wzorcowy_preprocessed[\"text\"] = korpus_wzorcowy_preprocessed[\"text\"].apply(preprocess, args=(stop_words,))\n",
    "\n",
    "korpus_wzorcowy_preprocessed[\"text\"][5]"
   ]
  },
  {
   "cell_type": "code",
   "execution_count": 12,
   "metadata": {},
   "outputs": [
    {
     "data": {
      "text/plain": [
       "start             0\n",
       "end               0\n",
       "text              2\n",
       "doc_filepath      0\n",
       "video_filename    0\n",
       "task_label        0\n",
       "dtype: int64"
      ]
     },
     "execution_count": 12,
     "metadata": {},
     "output_type": "execute_result"
    }
   ],
   "source": [
    "korpus_wzorcowy_preprocessed.isna().sum()"
   ]
  },
  {
   "cell_type": "code",
   "execution_count": 13,
   "metadata": {},
   "outputs": [
    {
     "data": {
      "text/plain": [
       "(40353, 6)"
      ]
     },
     "execution_count": 13,
     "metadata": {},
     "output_type": "execute_result"
    }
   ],
   "source": [
    "pl_data_preprocessed = korpus_wzorcowy_preprocessed.dropna()\n",
    "pl_data_preprocessed.shape"
   ]
  },
  {
   "cell_type": "code",
   "execution_count": 14,
   "metadata": {},
   "outputs": [],
   "source": [
    "wzorcowy_X, wzorcowy_y = pl_data_preprocessed[[\"text\"]].to_numpy(), pl_data_preprocessed[\"task_label\"].to_numpy()"
   ]
  },
  {
   "cell_type": "code",
   "execution_count": 15,
   "metadata": {},
   "outputs": [
    {
     "data": {
      "text/plain": [
       "['myślę', 'że', 'mam']"
      ]
     },
     "execution_count": 15,
     "metadata": {},
     "output_type": "execute_result"
    }
   ],
   "source": [
    "wzorcowy_tokens = [\n",
    "    token\n",
    "    for tokens in np.char.split(wzorcowy_X.flatten().astype(\"str\"))\n",
    "    for token in tokens\n",
    "]\n",
    "wzorcowy_tokens[:3]"
   ]
  },
  {
   "cell_type": "markdown",
   "metadata": {},
   "source": [
    "## Modele dystrybucyjne"
   ]
  },
  {
   "cell_type": "code",
   "execution_count": 28,
   "metadata": {},
   "outputs": [],
   "source": [
    "def get_embedding_models():\n",
    "    return [\n",
    "        Word2Vec(sg=1, vector_size=EMB_VECTOR_SIZE, window=EMB_WINDOW, min_count=VOCAB_MIN_COUNT, workers=4),\n",
    "        Word2Vec(sg=0, vector_size=EMB_VECTOR_SIZE, window=EMB_WINDOW, min_count=VOCAB_MIN_COUNT, workers=4),\n",
    "        FastText(sg=1, vector_size=EMB_VECTOR_SIZE, window=EMB_WINDOW, min_count=VOCAB_MIN_COUNT, min_n=MIN_N_GRAM, max_n=MAX_N_GRAM, workers=4),\n",
    "        FastText(sg=0, vector_size=EMB_VECTOR_SIZE, window=EMB_WINDOW, min_count=VOCAB_MIN_COUNT, min_n=MIN_N_GRAM, max_n=MAX_N_GRAM, workers=4),\n",
    "    ]\n",
    "\n",
    "def get_emb_model_name(emb_model, safe=False):\n",
    "    alg = \"Skip-gram\" if emb_model.sg == 1 else \"CBOW\"\n",
    "    if safe:\n",
    "        return f\"{emb_model.__class__.__name__}_{alg}\".replace(\"-\", \"_\")\n",
    "    return f\"{emb_model.__class__.__name__} ({alg})\""
   ]
  },
  {
   "cell_type": "code",
   "execution_count": 17,
   "metadata": {},
   "outputs": [],
   "source": [
    "wzorcowy_emb_models = get_embedding_models()\n",
    "pelny_emb_models = get_embedding_models()"
   ]
  },
  {
   "cell_type": "markdown",
   "metadata": {},
   "source": [
    "### Build vocabulary"
   ]
  },
  {
   "cell_type": "code",
   "execution_count": 18,
   "metadata": {},
   "outputs": [
    {
     "data": {
      "application/vnd.jupyter.widget-view+json": {
       "model_id": "00a797d6feb74f9db5851cc685330e60",
       "version_major": 2,
       "version_minor": 0
      },
      "text/plain": [
       "  0%|          | 0/4 [00:00<?, ?it/s]"
      ]
     },
     "metadata": {},
     "output_type": "display_data"
    },
    {
     "name": "stdout",
     "output_type": "stream",
     "text": [
      "Korpus wzorcowy |  Word2Vec (Skip-gram) 44\n",
      "Korpus pełny |  Word2Vec (Skip-gram) 49\n",
      "Korpus wzorcowy |  Word2Vec (CBOW) 44\n",
      "Korpus pełny |  Word2Vec (CBOW) 49\n",
      "Korpus wzorcowy |  FastText (Skip-gram) 44\n",
      "Korpus pełny |  FastText (Skip-gram) 49\n",
      "Korpus wzorcowy |  FastText (CBOW) 44\n",
      "Korpus pełny |  FastText (CBOW) 49\n"
     ]
    }
   ],
   "source": [
    "for wzorcowy_emb_model, pelny_emb_model in tqdm(list(zip(wzorcowy_emb_models, pelny_emb_models))):\n",
    "    wzorcowy_emb_model.build_vocab(wzorcowy_tokens)\n",
    "    pelny_emb_model.build_vocab(pelny_tokens)\n",
    "    wzorcowy_emb_model_name = get_emb_model_name(wzorcowy_emb_model)\n",
    "    pelny_emb_model_name = get_emb_model_name(pelny_emb_model)\n",
    "    print(\"Korpus wzorcowy | \", wzorcowy_emb_model_name, len(wzorcowy_emb_model.wv))\n",
    "    print(\"Korpus pełny | \", pelny_emb_model_name, len(pelny_emb_model.wv))"
   ]
  },
  {
   "cell_type": "markdown",
   "metadata": {},
   "source": [
    "### Train embedding models"
   ]
  },
  {
   "cell_type": "code",
   "execution_count": 19,
   "metadata": {},
   "outputs": [
    {
     "data": {
      "application/vnd.jupyter.widget-view+json": {
       "model_id": "79f64c2b9d1841798730e764ed750574",
       "version_major": 2,
       "version_minor": 0
      },
      "text/plain": [
       "  0%|          | 0/4 [00:00<?, ?it/s]"
      ]
     },
     "metadata": {},
     "output_type": "display_data"
    }
   ],
   "source": [
    "num_wzorcowy_tokens = len(wzorcowy_tokens)\n",
    "num_pelny_tokens = len(pelny_tokens)\n",
    "for wzorcowy_emb_model, pelny_emb_model in tqdm(list(zip(wzorcowy_emb_models, pelny_emb_models))):\n",
    "    wzorcowy_emb_model.train(wzorcowy_tokens, total_examples=num_wzorcowy_tokens, epochs=EMB_EPOCHS)\n",
    "    pelny_emb_model.train(pelny_tokens, total_examples=num_pelny_tokens, epochs=EMB_EPOCHS)"
   ]
  },
  {
   "cell_type": "markdown",
   "metadata": {},
   "source": [
    "### Dump ebemdding models"
   ]
  },
  {
   "cell_type": "code",
   "execution_count": null,
   "metadata": {},
   "outputs": [],
   "source": [
    "for wzorcowy_emb_model, pelny_emb_model in tqdm(list(zip(wzorcowy_emb_models, pelny_emb_models))):\n",
    "    wzorcowy_emb_model.save(str(MODELS_DIR / f\"wzorcowy_{get_emb_model_name(wzorcowy_emb_model, safe=True)}.model\"))\n",
    "    pelny_emb_model.save(str(MODELS_DIR / f\"pelny_{get_emb_model_name(pelny_emb_model, safe=True)}.model\"))"
   ]
  },
  {
   "cell_type": "code",
   "execution_count": 20,
   "metadata": {},
   "outputs": [],
   "source": [
    "def vectorize(sentence, emb_model):\n",
    "    words = sentence.split()\n",
    "    words_vecs = [emb_model.wv[word] for word in words if word in emb_model.wv]\n",
    "    if len(words_vecs) == 0:\n",
    "        return np.zeros(100)\n",
    "    words_vecs = np.array(words_vecs)\n",
    "    return words_vecs.mean(axis=0)\n",
    "\n",
    "def vectorize_data(X, emb_model):\n",
    "    return np.array([vectorize(sentence, emb_model) for sentence in X])"
   ]
  },
  {
   "cell_type": "code",
   "execution_count": 21,
   "metadata": {},
   "outputs": [],
   "source": [
    "def evaluate_clf(clf, X_test, y_test, target_names=None):\n",
    "    y_pred = clf.predict(X_test)\n",
    "    return classification_report(y_test, y_pred, output_dict=False, target_names=target_names, zero_division=0, digits=4)"
   ]
  },
  {
   "cell_type": "code",
   "execution_count": 22,
   "metadata": {},
   "outputs": [
    {
     "name": "stdout",
     "output_type": "stream",
     "text": [
      "Embedding model:  3/4 | Fold: 5/5 | Classifier:  3/3                                                \n",
      "\n",
      "2023-12-07 21:31:07.769019 | DONE!\n"
     ]
    }
   ],
   "source": [
    "warnings.filterwarnings(\"ignore\", category=ConvergenceWarning)\n",
    "\n",
    "\n",
    "X, y = pl_data_preprocessed[\"text\"].to_numpy(), pl_data_preprocessed[\"task_label\"].to_numpy()\n",
    "\n",
    "classifiers = [\n",
    "    LogisticRegression(),\n",
    "    KNeighborsClassifier(),\n",
    "    DecisionTreeClassifier(),\n",
    "]\n",
    "\n",
    "skf = StratifiedKFold(n_splits=N_FOLDS, shuffle=True, random_state=RANDOM_STATE)\n",
    "\n",
    "metrics_rows = []\n",
    "fold_indices_rows = []\n",
    "for i_emb_model, (wzorcowy_emb_model, pelny_emb_model) in enumerate(list(zip(wzorcowy_emb_models, pelny_emb_models))):\n",
    "    wzorcowy_X_vecs = vectorize_data(X, wzorcowy_emb_model)\n",
    "    pelny_X_vecs = vectorize_data(X, pelny_emb_model)\n",
    "    \n",
    "    wzorcowy_emb_model_name = get_emb_model_name(wzorcowy_emb_model)\n",
    "    pelny_emb_model_name = get_emb_model_name(pelny_emb_model)\n",
    "\n",
    "    for fold, (train_indices, test_indices) in enumerate(skf.split(X, y), start=1):\n",
    "        wzorcowy_X_train, wzorcowy_y_train = wzorcowy_X_vecs.take(train_indices, axis=0), y.take(train_indices, axis=0)\n",
    "        wzorcowy_X_test, wzorcowy_y_test = wzorcowy_X_vecs.take(test_indices, axis=0), y.take(test_indices, axis=0)\n",
    "        \n",
    "        pelny_X_train, pelny_y_train = pelny_X_vecs.take(train_indices, axis=0), y.take(train_indices, axis=0)\n",
    "        pelny_X_test, pelny_y_test = pelny_X_vecs.take(test_indices, axis=0), y.take(test_indices, axis=0)\n",
    "\n",
    "        clfs = classifiers.copy()\n",
    "        for i_clf, (wzorcowy_clf, pelny_clf) in enumerate(zip(clfs, clfs), start=1):\n",
    "            clf_name = wzorcowy_clf.__class__.__name__\n",
    "\n",
    "            wzorcowy_clf.fit(wzorcowy_X_train, wzorcowy_y_train)\n",
    "            wzorcowy_y_preds = wzorcowy_clf.predict(wzorcowy_X_test)\n",
    "            wzorcowy_clf_report = classification_report(wzorcowy_y_test, wzorcowy_y_preds, output_dict=True, target_names=target_labels, zero_division=0)\n",
    "\n",
    "            pelny_clf.fit(pelny_X_train, pelny_y_train)\n",
    "            pelny_y_preds = pelny_clf.predict(pelny_X_test)\n",
    "            pelny_clf_report = classification_report(pelny_y_test, pelny_y_preds, output_dict=True, target_names=target_labels, zero_division=0)\n",
    "\n",
    "            metrics_rows.append({\n",
    "                \"EmbeddingModel\": wzorcowy_emb_model_name,\n",
    "                \"Classifier\": clf_name,\n",
    "                \"CvFold\": fold,\n",
    "                \"Accuracy\": wzorcowy_clf_report[\"accuracy\"],\n",
    "                \"F1scoreMacro\": wzorcowy_clf_report[\"macro avg\"][\"f1-score\"],\n",
    "                \"PrecisionMacro\": wzorcowy_clf_report[\"macro avg\"][\"precision\"],\n",
    "                \"RecallMacro\": wzorcowy_clf_report[\"macro avg\"][\"recall\"],\n",
    "                \"Support\": wzorcowy_clf_report[\"macro avg\"][\"support\"],\n",
    "            })\n",
    "            metrics_rows.append({\n",
    "                \"EmbeddingModel\": pelny_emb_model_name,\n",
    "                \"Classifier\": clf_name,\n",
    "                \"CvFold\": fold,\n",
    "                \"Accuracy\": pelny_clf_report[\"accuracy\"],\n",
    "                \"F1scoreMacro\": pelny_clf_report[\"macro avg\"][\"f1-score\"],\n",
    "                \"PrecisionMacro\": pelny_clf_report[\"macro avg\"][\"precision\"],\n",
    "                \"RecallMacro\": pelny_clf_report[\"macro avg\"][\"recall\"],\n",
    "                \"Support\": pelny_clf_report[\"macro avg\"][\"support\"],\n",
    "            })\n",
    "            \n",
    "            print((\n",
    "                \"Embedding model: \" + f\"{i_emb_model:>2}/{len(wzorcowy_emb_models)}\"\n",
    "                \" | Fold: \" + f\"{fold}/{N_FOLDS}\"\n",
    "                \" | Classifier: \" + f\"{i_clf:>2}/{len(classifiers)}\"\n",
    "            ).ljust(100, \" \"), end=\"\\r\")\n",
    "\n",
    "\n",
    "print(f\"\\n\\n{datetime.now()} | DONE!\")"
   ]
  },
  {
   "cell_type": "code",
   "execution_count": 23,
   "metadata": {},
   "outputs": [
    {
     "data": {
      "text/html": [
       "<div>\n",
       "<style scoped>\n",
       "    .dataframe tbody tr th:only-of-type {\n",
       "        vertical-align: middle;\n",
       "    }\n",
       "\n",
       "    .dataframe tbody tr th {\n",
       "        vertical-align: top;\n",
       "    }\n",
       "\n",
       "    .dataframe thead th {\n",
       "        text-align: right;\n",
       "    }\n",
       "</style>\n",
       "<table border=\"1\" class=\"dataframe\">\n",
       "  <thead>\n",
       "    <tr style=\"text-align: right;\">\n",
       "      <th></th>\n",
       "      <th>EmbeddingModel</th>\n",
       "      <th>Classifier</th>\n",
       "      <th>CvFold</th>\n",
       "      <th>Accuracy</th>\n",
       "      <th>F1scoreMacro</th>\n",
       "      <th>PrecisionMacro</th>\n",
       "      <th>RecallMacro</th>\n",
       "      <th>Support</th>\n",
       "    </tr>\n",
       "  </thead>\n",
       "  <tbody>\n",
       "    <tr>\n",
       "      <th>0</th>\n",
       "      <td>Word2Vec (Skip-gram)</td>\n",
       "      <td>LogisticRegression</td>\n",
       "      <td>1</td>\n",
       "      <td>0.318548</td>\n",
       "      <td>0.143954</td>\n",
       "      <td>0.194302</td>\n",
       "      <td>0.206279</td>\n",
       "      <td>8071.0</td>\n",
       "    </tr>\n",
       "    <tr>\n",
       "      <th>1</th>\n",
       "      <td>Word2Vec (Skip-gram)</td>\n",
       "      <td>LogisticRegression</td>\n",
       "      <td>1</td>\n",
       "      <td>0.318548</td>\n",
       "      <td>0.144252</td>\n",
       "      <td>0.194116</td>\n",
       "      <td>0.206552</td>\n",
       "      <td>8071.0</td>\n",
       "    </tr>\n",
       "    <tr>\n",
       "      <th>2</th>\n",
       "      <td>Word2Vec (Skip-gram)</td>\n",
       "      <td>KNeighborsClassifier</td>\n",
       "      <td>1</td>\n",
       "      <td>0.300582</td>\n",
       "      <td>0.089656</td>\n",
       "      <td>0.417012</td>\n",
       "      <td>0.172118</td>\n",
       "      <td>8071.0</td>\n",
       "    </tr>\n",
       "    <tr>\n",
       "      <th>3</th>\n",
       "      <td>Word2Vec (Skip-gram)</td>\n",
       "      <td>KNeighborsClassifier</td>\n",
       "      <td>1</td>\n",
       "      <td>0.299467</td>\n",
       "      <td>0.082828</td>\n",
       "      <td>0.404807</td>\n",
       "      <td>0.168893</td>\n",
       "      <td>8071.0</td>\n",
       "    </tr>\n",
       "    <tr>\n",
       "      <th>4</th>\n",
       "      <td>Word2Vec (Skip-gram)</td>\n",
       "      <td>DecisionTreeClassifier</td>\n",
       "      <td>1</td>\n",
       "      <td>0.321274</td>\n",
       "      <td>0.163462</td>\n",
       "      <td>0.363070</td>\n",
       "      <td>0.214129</td>\n",
       "      <td>8071.0</td>\n",
       "    </tr>\n",
       "    <tr>\n",
       "      <th>...</th>\n",
       "      <td>...</td>\n",
       "      <td>...</td>\n",
       "      <td>...</td>\n",
       "      <td>...</td>\n",
       "      <td>...</td>\n",
       "      <td>...</td>\n",
       "      <td>...</td>\n",
       "      <td>...</td>\n",
       "    </tr>\n",
       "    <tr>\n",
       "      <th>115</th>\n",
       "      <td>FastText (CBOW)</td>\n",
       "      <td>LogisticRegression</td>\n",
       "      <td>5</td>\n",
       "      <td>0.438166</td>\n",
       "      <td>0.313461</td>\n",
       "      <td>0.360053</td>\n",
       "      <td>0.326644</td>\n",
       "      <td>8070.0</td>\n",
       "    </tr>\n",
       "    <tr>\n",
       "      <th>116</th>\n",
       "      <td>FastText (CBOW)</td>\n",
       "      <td>KNeighborsClassifier</td>\n",
       "      <td>5</td>\n",
       "      <td>0.520322</td>\n",
       "      <td>0.458557</td>\n",
       "      <td>0.484395</td>\n",
       "      <td>0.447704</td>\n",
       "      <td>8070.0</td>\n",
       "    </tr>\n",
       "    <tr>\n",
       "      <th>117</th>\n",
       "      <td>FastText (CBOW)</td>\n",
       "      <td>KNeighborsClassifier</td>\n",
       "      <td>5</td>\n",
       "      <td>0.502230</td>\n",
       "      <td>0.437848</td>\n",
       "      <td>0.460123</td>\n",
       "      <td>0.428751</td>\n",
       "      <td>8070.0</td>\n",
       "    </tr>\n",
       "    <tr>\n",
       "      <th>118</th>\n",
       "      <td>FastText (CBOW)</td>\n",
       "      <td>DecisionTreeClassifier</td>\n",
       "      <td>5</td>\n",
       "      <td>0.450929</td>\n",
       "      <td>0.391472</td>\n",
       "      <td>0.393455</td>\n",
       "      <td>0.390073</td>\n",
       "      <td>8070.0</td>\n",
       "    </tr>\n",
       "    <tr>\n",
       "      <th>119</th>\n",
       "      <td>FastText (CBOW)</td>\n",
       "      <td>DecisionTreeClassifier</td>\n",
       "      <td>5</td>\n",
       "      <td>0.437918</td>\n",
       "      <td>0.380815</td>\n",
       "      <td>0.381999</td>\n",
       "      <td>0.379866</td>\n",
       "      <td>8070.0</td>\n",
       "    </tr>\n",
       "  </tbody>\n",
       "</table>\n",
       "<p>120 rows × 8 columns</p>\n",
       "</div>"
      ],
      "text/plain": [
       "           EmbeddingModel              Classifier  CvFold  Accuracy  \\\n",
       "0    Word2Vec (Skip-gram)      LogisticRegression       1  0.318548   \n",
       "1    Word2Vec (Skip-gram)      LogisticRegression       1  0.318548   \n",
       "2    Word2Vec (Skip-gram)    KNeighborsClassifier       1  0.300582   \n",
       "3    Word2Vec (Skip-gram)    KNeighborsClassifier       1  0.299467   \n",
       "4    Word2Vec (Skip-gram)  DecisionTreeClassifier       1  0.321274   \n",
       "..                    ...                     ...     ...       ...   \n",
       "115       FastText (CBOW)      LogisticRegression       5  0.438166   \n",
       "116       FastText (CBOW)    KNeighborsClassifier       5  0.520322   \n",
       "117       FastText (CBOW)    KNeighborsClassifier       5  0.502230   \n",
       "118       FastText (CBOW)  DecisionTreeClassifier       5  0.450929   \n",
       "119       FastText (CBOW)  DecisionTreeClassifier       5  0.437918   \n",
       "\n",
       "     F1scoreMacro  PrecisionMacro  RecallMacro  Support  \n",
       "0        0.143954        0.194302     0.206279   8071.0  \n",
       "1        0.144252        0.194116     0.206552   8071.0  \n",
       "2        0.089656        0.417012     0.172118   8071.0  \n",
       "3        0.082828        0.404807     0.168893   8071.0  \n",
       "4        0.163462        0.363070     0.214129   8071.0  \n",
       "..            ...             ...          ...      ...  \n",
       "115      0.313461        0.360053     0.326644   8070.0  \n",
       "116      0.458557        0.484395     0.447704   8070.0  \n",
       "117      0.437848        0.460123     0.428751   8070.0  \n",
       "118      0.391472        0.393455     0.390073   8070.0  \n",
       "119      0.380815        0.381999     0.379866   8070.0  \n",
       "\n",
       "[120 rows x 8 columns]"
      ]
     },
     "execution_count": 23,
     "metadata": {},
     "output_type": "execute_result"
    }
   ],
   "source": [
    "evaluation_df = pd.DataFrame.from_records(metrics_rows)\n",
    "evaluation_df"
   ]
  },
  {
   "cell_type": "code",
   "execution_count": 24,
   "metadata": {},
   "outputs": [],
   "source": [
    "evaluation_df.to_csv(DATA_DIR / \"nlp_lab_9_clf_evaluation.csv\", index=False)"
   ]
  },
  {
   "cell_type": "code",
   "execution_count": 25,
   "metadata": {},
   "outputs": [
    {
     "data": {
      "image/png": "[encoded data removed]",
      "text/plain": [
       "<Figure size 1200x800 with 4 Axes>"
      ]
     },
     "metadata": {},
     "output_type": "display_data"
    }
   ],
   "source": [
    "df = evaluation_df.copy()\n",
    "df[\"EmbeddingModel\"] = df[\"EmbeddingModel\"].str.replace(\" (\", \"\\n(\")\n",
    "\n",
    "XTICKS_ROTATION = 0\n",
    "\n",
    "# Adding score values on top of each bar\n",
    "\n",
    "def add_bar_labels(ax):\n",
    "    \"\"\"\n",
    "    Add labels on top of each bar in seaborn barplot.\n",
    "    \"\"\"\n",
    "    for p in ax.patches:\n",
    "        _x = p.get_x() + p.get_width() / 2\n",
    "        _y = p.get_y() + (p.get_height() * 0.8)\n",
    "        value = '{:.3f}'.format(p.get_height())\n",
    "        if value == '{:.3f}'.format(0):\n",
    "            continue\n",
    "        ax.text(_x, _y, value, ha=\"center\", va='bottom', fontsize=8)\n",
    "\n",
    "# Plotting with score values\n",
    "plt.figure(figsize=(12, 8))\n",
    "\n",
    "# Plot for Accuracy\n",
    "ax1 = plt.subplot(2, 2, 1)\n",
    "sns.barplot(data=df, x='EmbeddingModel', y='Accuracy', hue='Classifier', ax=ax1)\n",
    "plt.title('Accuracy Comparison')\n",
    "plt.xticks(rotation=XTICKS_ROTATION)\n",
    "add_bar_labels(ax1)\n",
    "\n",
    "# Plot for F1 Score Macro\n",
    "ax2 = plt.subplot(2, 2, 2)\n",
    "sns.barplot(data=df, x='EmbeddingModel', y='F1scoreMacro', hue='Classifier', ax=ax2)\n",
    "plt.title('F1 Score Macro Comparison')\n",
    "plt.xticks(rotation=XTICKS_ROTATION)\n",
    "add_bar_labels(ax2)\n",
    "\n",
    "# Plot for Precision Macro\n",
    "ax3 = plt.subplot(2, 2, 3)\n",
    "sns.barplot(data=df, x='EmbeddingModel', y='PrecisionMacro', hue='Classifier', ax=ax3)\n",
    "plt.title('Precision Macro Comparison')\n",
    "plt.xticks(rotation=XTICKS_ROTATION)\n",
    "add_bar_labels(ax3)\n",
    "\n",
    "# Plot for Recall Macro\n",
    "ax4 = plt.subplot(2, 2, 4)\n",
    "sns.barplot(data=df, x='EmbeddingModel', y='RecallMacro', hue='Classifier', ax=ax4)\n",
    "plt.title('Recall Macro Comparison')\n",
    "plt.xticks(rotation=XTICKS_ROTATION)\n",
    "add_bar_labels(ax4)\n",
    "\n",
    "# Adjust layout\n",
    "plt.tight_layout()\n",
    "\n",
    "# Show plot\n",
    "plt.show()\n"
   ]
  },
  {
   "cell_type": "code",
   "execution_count": null,
   "metadata": {},
   "outputs": [],
   "source": []
  }
 ],
 "metadata": {
  "kernelspec": {
   "display_name": "base",
   "language": "python",
   "name": "python3"
  },
  "language_info": {
   "codemirror_mode": {
    "name": "ipython",
    "version": 3
   },
   "file_extension": ".py",
   "mimetype": "text/x-python",
   "name": "python",
   "nbconvert_exporter": "python",
   "pygments_lexer": "ipython3",
   "version": "3.10.8"
  },
  "orig_nbformat": 4
 },
 "nbformat": 4,
 "nbformat_minor": 2
}
