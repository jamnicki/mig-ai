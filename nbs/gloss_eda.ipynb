{
 "cells": [
  {
   "cell_type": "code",
   "execution_count": 1,
   "metadata": {},
   "outputs": [],
   "source": [
    "%load_ext autoreload\n",
    "%autoreload 2"
   ]
  },
  {
   "cell_type": "code",
   "execution_count": 2,
   "metadata": {},
   "outputs": [],
   "source": [
    "import pandas as pd\n",
    "from src.data.dataset import GlossSeq2PolishDataset\n",
    "import seaborn as sns\n",
    "from matplotlib import pyplot as plt\n",
    "from pprint import pprint\n",
    "from src.settings import GLOSS_SPECIAL_SYMBOLS\n",
    "from src.data.utils import iter_dto_as_dicts\n",
    "import numpy as np\n",
    "from IPython.display import display_markdown\n",
    "from src.data.utils import get_task_name"
   ]
  },
  {
   "cell_type": "code",
   "execution_count": 3,
   "metadata": {},
   "outputs": [],
   "source": [
    "dataset = GlossSeq2PolishDataset()"
   ]
  },
  {
   "cell_type": "code",
   "execution_count": 4,
   "metadata": {},
   "outputs": [
    {
     "data": {
      "text/html": [
       "<div>\n",
       "<style scoped>\n",
       "    .dataframe tbody tr th:only-of-type {\n",
       "        vertical-align: middle;\n",
       "    }\n",
       "\n",
       "    .dataframe tbody tr th {\n",
       "        vertical-align: top;\n",
       "    }\n",
       "\n",
       "    .dataframe thead th {\n",
       "        text-align: right;\n",
       "    }\n",
       "</style>\n",
       "<table border=\"1\" class=\"dataframe\">\n",
       "  <thead>\n",
       "    <tr style=\"text-align: right;\">\n",
       "      <th></th>\n",
       "      <th>start</th>\n",
       "      <th>end</th>\n",
       "      <th>text</th>\n",
       "      <th>doc_filepath</th>\n",
       "      <th>video_filename</th>\n",
       "      <th>task_label</th>\n",
       "      <th>dominant_hand</th>\n",
       "    </tr>\n",
       "  </thead>\n",
       "  <tbody>\n",
       "    <tr>\n",
       "      <th>0</th>\n",
       "      <td>39040</td>\n",
       "      <td>39440</td>\n",
       "      <td>MYŚLEĆ 2.1 P:Z;L:Z (NA PRZEMIAN)</td>\n",
       "      <td>/15/K66BF13-26_15_15_signsNO.eaf</td>\n",
       "      <td>K66BF13-26.mp4</td>\n",
       "      <td>15</td>\n",
       "      <td>True</td>\n",
       "    </tr>\n",
       "    <tr>\n",
       "      <th>1</th>\n",
       "      <td>39440</td>\n",
       "      <td>39640</td>\n",
       "      <td>JAK 1.2 P:I;L:Ø</td>\n",
       "      <td>/15/K66BF13-26_15_15_signsNO.eaf</td>\n",
       "      <td>K66BF13-26.mp4</td>\n",
       "      <td>15</td>\n",
       "      <td>True</td>\n",
       "    </tr>\n",
       "    <tr>\n",
       "      <th>2</th>\n",
       "      <td>39640</td>\n",
       "      <td>39920</td>\n",
       "      <td>POMYSŁ 1.3 P:AZ;L:Ø</td>\n",
       "      <td>/15/K66BF13-26_15_15_signsNO.eaf</td>\n",
       "      <td>K66BF13-26.mp4</td>\n",
       "      <td>15</td>\n",
       "      <td>True</td>\n",
       "    </tr>\n",
       "    <tr>\n",
       "      <th>3</th>\n",
       "      <td>39920</td>\n",
       "      <td>40200</td>\n",
       "      <td>WSKAZ-JA 1.1 P:L;L;Ø (Z WIDOCZNYM KCIUKIEM)</td>\n",
       "      <td>/15/K66BF13-26_15_15_signsNO.eaf</td>\n",
       "      <td>K66BF13-26.mp4</td>\n",
       "      <td>15</td>\n",
       "      <td>True</td>\n",
       "    </tr>\n",
       "    <tr>\n",
       "      <th>4</th>\n",
       "      <td>40200</td>\n",
       "      <td>41120</td>\n",
       "      <td>MOŻNA 1.1 P:B;L:B  (MOŻE/MOŻLIWE)</td>\n",
       "      <td>/15/K66BF13-26_15_15_signsNO.eaf</td>\n",
       "      <td>K66BF13-26.mp4</td>\n",
       "      <td>15</td>\n",
       "      <td>True</td>\n",
       "    </tr>\n",
       "    <tr>\n",
       "      <th>...</th>\n",
       "      <td>...</td>\n",
       "      <td>...</td>\n",
       "      <td>...</td>\n",
       "      <td>...</td>\n",
       "      <td>...</td>\n",
       "      <td>...</td>\n",
       "      <td>...</td>\n",
       "    </tr>\n",
       "    <tr>\n",
       "      <th>242110</th>\n",
       "      <td>353480</td>\n",
       "      <td>354480</td>\n",
       "      <td>NIEDŹWIEDŹ/MIŚ 1.2 P:B;L:Ø</td>\n",
       "      <td>/13/K17BF13-26_13_13_comics.eaf</td>\n",
       "      <td>K17BF13-26.mp4</td>\n",
       "      <td>13</td>\n",
       "      <td>True</td>\n",
       "    </tr>\n",
       "    <tr>\n",
       "      <th>242111</th>\n",
       "      <td>354680</td>\n",
       "      <td>356440</td>\n",
       "      <td>PRZESTRASZYĆ 1.1 P:5A;L:5A (JAK ZŁAPAĆ)</td>\n",
       "      <td>/13/K17BF13-26_13_13_comics.eaf</td>\n",
       "      <td>K17BF13-26.mp4</td>\n",
       "      <td>13</td>\n",
       "      <td>True</td>\n",
       "    </tr>\n",
       "    <tr>\n",
       "      <th>242112</th>\n",
       "      <td>359240</td>\n",
       "      <td>360120</td>\n",
       "      <td>BIUSTONOSZ 1.2. P:5;L:5 (STANIK/STRÓJ KĄPIELOWY)</td>\n",
       "      <td>/13/K17BF13-26_13_13_comics.eaf</td>\n",
       "      <td>K17BF13-26.mp4</td>\n",
       "      <td>13</td>\n",
       "      <td>True</td>\n",
       "    </tr>\n",
       "    <tr>\n",
       "      <th>242113</th>\n",
       "      <td>360120</td>\n",
       "      <td>360960</td>\n",
       "      <td>DZIECKO 2.2 P:I1;LØ</td>\n",
       "      <td>/13/K17BF13-26_13_13_comics.eaf</td>\n",
       "      <td>K17BF13-26.mp4</td>\n",
       "      <td>13</td>\n",
       "      <td>True</td>\n",
       "    </tr>\n",
       "    <tr>\n",
       "      <th>242114</th>\n",
       "      <td>360960</td>\n",
       "      <td>361760</td>\n",
       "      <td>#???</td>\n",
       "      <td>/13/K17BF13-26_13_13_comics.eaf</td>\n",
       "      <td>K17BF13-26.mp4</td>\n",
       "      <td>13</td>\n",
       "      <td>True</td>\n",
       "    </tr>\n",
       "  </tbody>\n",
       "</table>\n",
       "<p>242115 rows × 7 columns</p>\n",
       "</div>"
      ],
      "text/plain": [
       "         start     end                                              text  \\\n",
       "0        39040   39440                  MYŚLEĆ 2.1 P:Z;L:Z (NA PRZEMIAN)   \n",
       "1        39440   39640                                   JAK 1.2 P:I;L:Ø   \n",
       "2        39640   39920                               POMYSŁ 1.3 P:AZ;L:Ø   \n",
       "3        39920   40200       WSKAZ-JA 1.1 P:L;L;Ø (Z WIDOCZNYM KCIUKIEM)   \n",
       "4        40200   41120                 MOŻNA 1.1 P:B;L:B  (MOŻE/MOŻLIWE)   \n",
       "...        ...     ...                                               ...   \n",
       "242110  353480  354480                        NIEDŹWIEDŹ/MIŚ 1.2 P:B;L:Ø   \n",
       "242111  354680  356440           PRZESTRASZYĆ 1.1 P:5A;L:5A (JAK ZŁAPAĆ)   \n",
       "242112  359240  360120  BIUSTONOSZ 1.2. P:5;L:5 (STANIK/STRÓJ KĄPIELOWY)   \n",
       "242113  360120  360960                              DZIECKO 2.2 P:I1;LØ    \n",
       "242114  360960  361760                                              #???   \n",
       "\n",
       "                            doc_filepath  video_filename task_label  \\\n",
       "0       /15/K66BF13-26_15_15_signsNO.eaf  K66BF13-26.mp4         15   \n",
       "1       /15/K66BF13-26_15_15_signsNO.eaf  K66BF13-26.mp4         15   \n",
       "2       /15/K66BF13-26_15_15_signsNO.eaf  K66BF13-26.mp4         15   \n",
       "3       /15/K66BF13-26_15_15_signsNO.eaf  K66BF13-26.mp4         15   \n",
       "4       /15/K66BF13-26_15_15_signsNO.eaf  K66BF13-26.mp4         15   \n",
       "...                                  ...             ...        ...   \n",
       "242110   /13/K17BF13-26_13_13_comics.eaf  K17BF13-26.mp4         13   \n",
       "242111   /13/K17BF13-26_13_13_comics.eaf  K17BF13-26.mp4         13   \n",
       "242112   /13/K17BF13-26_13_13_comics.eaf  K17BF13-26.mp4         13   \n",
       "242113   /13/K17BF13-26_13_13_comics.eaf  K17BF13-26.mp4         13   \n",
       "242114   /13/K17BF13-26_13_13_comics.eaf  K17BF13-26.mp4         13   \n",
       "\n",
       "        dominant_hand  \n",
       "0                True  \n",
       "1                True  \n",
       "2                True  \n",
       "3                True  \n",
       "4                True  \n",
       "...               ...  \n",
       "242110           True  \n",
       "242111           True  \n",
       "242112           True  \n",
       "242113           True  \n",
       "242114           True  \n",
       "\n",
       "[242115 rows x 7 columns]"
      ]
     },
     "execution_count": 4,
     "metadata": {},
     "output_type": "execute_result"
    }
   ],
   "source": [
    "gloss_annotations = (dto for record in dataset for dto in record.gloss_sequence)\n",
    "gloss_df = pd.DataFrame.from_records(iter_dto_as_dicts(gloss_annotations))\n",
    "gloss_df"
   ]
  },
  {
   "cell_type": "code",
   "execution_count": 17,
   "metadata": {},
   "outputs": [
    {
     "data": {
      "text/markdown": [
       "### Mean number of gloss annotations for corresponding Polish annotation:<br>`6.1105`"
      ]
     },
     "metadata": {},
     "output_type": "display_data"
    }
   ],
   "source": [
    "gloss_seq_in_corresponding_polish = [len(record.gloss_sequence) for record in dataset]\n",
    "display_markdown(\n",
    "    f\"### Mean number of gloss annotations for corresponding Polish annotation:<br>`{sum(gloss_seq_in_corresponding_polish) / len(gloss_seq_in_corresponding_polish):.4f}`\",\n",
    "    raw=True\n",
    ")"
   ]
  },
  {
   "cell_type": "code",
   "execution_count": 6,
   "metadata": {},
   "outputs": [
    {
     "data": {
      "text/plain": [
       "text\n",
       "WSKAZ: Z WSZYSTKIE KIERUNKI                                             8672\n",
       "%                                                                       5090\n",
       "CHŁOPAK/MĘŻCZYZNA/PAN 1.1 P:Z;L:Ø                                       3739\n",
       "WSKAZ: Z (WSZYSTKIE KIERUNKI/STRZELAĆ/JEŹDZIĆ/WŁAŚNIE/TO/W-TYM-ROKU)    3729\n",
       "WSKAZ: L WSZYSTKIE KIERUNKI                                             3372\n",
       "                                                                        ... \n",
       "TOR 3.2 P:Z;L:Z                                                            1\n",
       "N.A.N.A.[P].[Ó].J.                                                         1\n",
       "N.A.[P].[Ó].J.                                                             1\n",
       "WEEKEND 6.2 P:W;L:Ø                                                        1\n",
       "$:KL: H (PTAK NA ŚCIANIE/NA GÓRZE)? DL>MG                                  1\n",
       "Name: count, Length: 7607, dtype: int64"
      ]
     },
     "execution_count": 6,
     "metadata": {},
     "output_type": "execute_result"
    }
   ],
   "source": [
    "gloss_ann_counts = gloss_df[\"text\"].value_counts()\n",
    "gloss_ann_counts"
   ]
  },
  {
   "cell_type": "code",
   "execution_count": 7,
   "metadata": {},
   "outputs": [
    {
     "data": {
      "image/png": "[encoded data removed]",
      "text/plain": [
       "<Figure size 640x480 with 2 Axes>"
      ]
     },
     "metadata": {},
     "output_type": "display_data"
    }
   ],
   "source": [
    "fig, axes = plt.subplots(nrows=2, ncols=1)\n",
    "ax1, ax2 = axes.flatten()\n",
    "sns.barplot(\n",
    "    # least common 10 `gloss` annotations\n",
    "    data=gloss_ann_counts[:10],\n",
    "    orient=\"h\",\n",
    "    ax=ax1,\n",
    ")\n",
    "sns.barplot(\n",
    "    # most common 10 `gloss` annotations\n",
    "    data=gloss_ann_counts[-10:],\n",
    "    orient=\"h\",\n",
    "    ax=ax2,\n",
    ")\n",
    "ax1.set(ylabel=None)\n",
    "ax1.set(xlabel=None)\n",
    "ax2.set(ylabel=None)\n",
    "plt.xlabel(\"Count\")\n",
    "plt.show()"
   ]
  },
  {
   "cell_type": "markdown",
   "metadata": {},
   "source": [
    "## Special symbols used in the annotation of the PJM Corpus\n",
    "\n",
    "| Symbol | Meaning |\n",
    "|  :-:   | :-      |\n",
    "| `###` | interrupted, unfinished signs |\n",
    "| `^` | hold-pause between signs |\n",
    "| `%` | palm-ups |\n",
    "| `&` | gestures meaning \"never mind, whatever\" |\n",
    "| `@` | phatic gestures |"
   ]
  },
  {
   "cell_type": "code",
   "execution_count": 8,
   "metadata": {},
   "outputs": [
    {
     "data": {
      "text/plain": [
       "text\n",
       "%      5090\n",
       "###    1806\n",
       "&      1477\n",
       "@       895\n",
       "Name: count, dtype: int64"
      ]
     },
     "execution_count": 8,
     "metadata": {},
     "output_type": "execute_result"
    }
   ],
   "source": [
    "gloss_ann_counts[gloss_ann_counts.index.isin(GLOSS_SPECIAL_SYMBOLS)]"
   ]
  },
  {
   "cell_type": "code",
   "execution_count": 9,
   "metadata": {},
   "outputs": [
    {
     "data": {
      "text/plain": [
       "text\n",
       "%                                       5090\n",
       "^ -OZNACZA PAUZĘ W MIGANIU              2328\n",
       "###                                     1806\n",
       "&                                       1477\n",
       "@                                        895\n",
       "AKURAT 1.5 P:O;L:B @                     675\n",
       "MOŻNA & 1.4 P:B;L:Ø (MOŻE/MOŻLIWE)       116\n",
       "G: B+B (DOBRA &)                         101\n",
       "MOŻNA & 1.2 P:B;L:B  (MOŻE/MOŻLIWE)       93\n",
       "NIE*MIEĆ (= %) 1.4 P:B;L:B                93\n",
       "SKAKAĆ 1.7 P:H;L:B @                      12\n",
       "SOWA 1.1 P:O;L:O @                        11\n",
       "NIE*MIEĆ (= %) 1.3 P:B;L:Ø (WZÓR: %)      10\n",
       "ALE 1.6 P:L;:LB @                          6\n",
       "Q: O+O (NA 100%)                           5\n",
       "PIĘTNAŚCIE 1.4 P:5;L;5@                    4\n",
       "NASTĘPNY 2.7 P:B;L:B@ (PRZÓD)              4\n",
       "DLA 1.4 P:Z;L:B @                          4\n",
       "ZGADZAĆ-SIĘ 3.3 P:B;L:B@                   2\n",
       "NAPIS 6.2@ P:E;L:E                         2\n",
       "PŁOT 1.12 P:4;L:Ø @ (PIOZOMO)              2\n",
       "STAĆ 3.2 P:V;L:B@                          2\n",
       "ALBO/LUB 2.4 P:A;L:B @                     2\n",
       "POWTÓRZYĆ/POWTARZAĆ 1.3 P:5E;L:B @         1\n",
       "RUCH/RUCHLIWY 1.4 P:H;L:H @                1\n",
       "NUM: DZIEWIĘĆ 1.3 P:4;L:5@                 1\n",
       "WPŁYW 2.2 P:5;L:5 @                        1\n",
       "NUM: CZWORO 1.3 P:4@;L:A (KOŁO)            1\n",
       "Q: O (NA 100%)                             1\n",
       "Name: count, dtype: int64"
      ]
     },
     "execution_count": 9,
     "metadata": {},
     "output_type": "execute_result"
    }
   ],
   "source": [
    "# ###, ^, %, &, @\n",
    "gloss_ann_counts[\n",
    "    gloss_ann_counts.index.str.contains(\"###\", regex=False)\n",
    "    | gloss_ann_counts.index.str.contains(\"^\", regex=False)\n",
    "    | gloss_ann_counts.index.str.contains(\"%\", regex=False)\n",
    "    | gloss_ann_counts.index.str.contains(\"&\", regex=False)\n",
    "    | gloss_ann_counts.index.str.contains(\"@\", regex=False)\n",
    "]"
   ]
  },
  {
   "cell_type": "markdown",
   "metadata": {},
   "source": [
    "## Abbreviations for marking additional types of glosses\n",
    "\n",
    "| Symbol | Meaning |\n",
    "|:-:|:-|\n",
    "| `IDENTYF:()` | name signs |\n",
    "| `$:KL:X+X` | classifier constructions |\n",
    "| `WSKAZ:X` | indexical points |\n",
    "| `G:()` | gestures |"
   ]
  },
  {
   "cell_type": "code",
   "execution_count": 10,
   "metadata": {},
   "outputs": [
    {
     "data": {
      "text/plain": [
       "text\n",
       "IDENTYF: (CHARLIE CHAPLIN)+WĄS-PIONOWO                    287\n",
       "IDENTYF: (CHARLIE CHAPLIN)+WĄS+KSZTAŁT-C                  253\n",
       "IDENTYF: (CHARLIE CHAPLIN)+KIJ                            186\n",
       "IDENTYF: (CHARLIE CHAPLIN)+NOGI/CHÓD CHARAKTERYSTYCZNY     70\n",
       "IDENTYF: (CHARLIE CHAPLIN)+WĄS-POZIOMO                     29\n",
       "IDENTYF: (CHARLIE CHAPLIN) WĄS+KIJ                         29\n",
       "IDENTYF: (CHARLIE CHAPLIN)+WĄS+DRAPAĆ+POD+NOSEM            15\n",
       "IDENTYF: (CHARLIE CHAPLIN)+KIJ+WĄS                         10\n",
       "IDENTYF: (NIEMCY)                                           7\n",
       "IDENTYF: (BLOK)                                             6\n",
       "IDENTYF: (MAJ)                                              5\n",
       "IDENTYF: (DWIE-DŁONIE - FIRMA W ŁODZI)                      3\n",
       "IDENTYF: (LUDMIŁA WITT 1)                                   3\n",
       "IDENTYF: (MAŁGORZATA KOTULSKA)                              2\n",
       "IDENTYF: (KOPEĆ)                                            2\n",
       "IDENTYF: (CYBULSKI)                                         2\n",
       "IDENTYF: (WŁOSY 1)                                          2\n",
       "IDENTYF: (WŁOSY KRĘCONE 1)                                  1\n",
       "IDENTYF: (MARIA TARNAWSKA)                                  1\n",
       "IDENTYF: (PTAK)                                             1\n",
       "IDENTYF: (PAN WOŁODYJOWSK/WĄS 1)                            1\n",
       "Name: count, dtype: int64"
      ]
     },
     "execution_count": 10,
     "metadata": {},
     "output_type": "execute_result"
    }
   ],
   "source": [
    "gloss_ann_counts[gloss_ann_counts.index.str.contains(\"IDENTYF:\", regex=False)]"
   ]
  },
  {
   "cell_type": "code",
   "execution_count": 11,
   "metadata": {},
   "outputs": [
    {
     "data": {
      "text/plain": [
       "text\n",
       "$:KL: N LUB Z (IŚĆ/LATAĆ/SIEDZIEĆ W RÓŻNYCH KIERUNKACH)        629\n",
       "$:KL: B+B (KULA/AUTYZM/AKWARIUM/MISKA/DONICZKA)                311\n",
       "$:KL: A+A (GRAĆ/BĘBEN)                                         289\n",
       "$:KL: 5+5 (DUŻA KULA)                                          274\n",
       "$:KL: Z (IŚĆ/JEŹDZIĆ/WSPINAĆ/CZOŁGAĆ/TOCZYĆ/OSOBA/POJAZD)      252\n",
       "                                                              ... \n",
       "$:KL: 5 (PASEK/PŁYTA+WYPUKŁY+NIEWIDOMY                           1\n",
       "$:KL: 4+4 (WIATR/POWIETRZE/PRĄD+ELEKTRYZOWAĆ+ELEKTRYZUJĄCY)      1\n",
       "$:KL: LP (KSZTAŁT-ROMB/TABLETKA/                                 1\n",
       "$:KL: B (REGULAMIN/TABLICA/OGŁOSZENIE)                           1\n",
       "$:KL: H (PTAK NA ŚCIANIE/NA GÓRZE)? DL>MG                        1\n",
       "Name: count, Length: 1322, dtype: int64"
      ]
     },
     "execution_count": 11,
     "metadata": {},
     "output_type": "execute_result"
    }
   ],
   "source": [
    "gloss_ann_counts[gloss_ann_counts.index.str.contains(\"$:KL:\", regex=False)]"
   ]
  },
  {
   "cell_type": "code",
   "execution_count": 12,
   "metadata": {},
   "outputs": [
    {
     "data": {
      "text/plain": [
       "text\n",
       "WSKAZ: Z WSZYSTKIE KIERUNKI                                             8672\n",
       "WSKAZ: Z (WSZYSTKIE KIERUNKI/STRZELAĆ/JEŹDZIĆ/WŁAŚNIE/TO/W-TYM-ROKU)    3729\n",
       "WSKAZ: L WSZYSTKIE KIERUNKI                                             3372\n",
       "WSKAZ: B (JA)                                                           1790\n",
       "WSKAZ: Z+Z WSZYSTKIE KIERUNKI                                           1733\n",
       "                                                                        ... \n",
       "WSKAZ: C (CIEBIE/OSOBA/INDYWIDUALNY)                                       1\n",
       "WSKAZ: C+C (JA) (MNIE)                                                     1\n",
       "WSKAZ: 5 (RÓŻNE KIERUNKI)                                                  1\n",
       "WSKAZ: GEST                                                                1\n",
       "WSKAZ: C+C (RÓŻNE KIERUNKI)                                                1\n",
       "Name: count, Length: 106, dtype: int64"
      ]
     },
     "execution_count": 12,
     "metadata": {},
     "output_type": "execute_result"
    }
   ],
   "source": [
    "gloss_ann_counts[gloss_ann_counts.index.str.contains(\"WSKAZ:\", regex=False)]"
   ]
  },
  {
   "cell_type": "code",
   "execution_count": 13,
   "metadata": {},
   "outputs": [
    {
     "data": {
      "text/plain": [
       "text\n",
       "G: B/5 (DOBRZE/DOBRA)                                                126\n",
       "G: RĘCE+(SUPER-CIESZYĆ-RĘCE) P:B;L:B (PANTOMIMA)(POCIERANIE RĘCE)    121\n",
       "G: B+B (DOBRA &)                                                     101\n",
       "G: 5 (PRZEBIERANIE PALCAMI)                                           95\n",
       "G: RĘCE+RÓŻNIE P:B;L:B (PANTOMIMA)                                    86\n",
       "                                                                    ... \n",
       "G: B+B (BEZRADNIE,WZÓR:PANTOMIMA)                                      1\n",
       "G: B+B (ZASŁANIAĆ USZY)                                                1\n",
       "G: 5+5 (BYĆ-OTWARTYM)                                                  1\n",
       "G: B+B (PODPIERAĆ GŁOWĘ)                                               1\n",
       "G: B (CZUĆ-SIĘ ŹLE)                                                    1\n",
       "Name: count, Length: 113, dtype: int64"
      ]
     },
     "execution_count": 13,
     "metadata": {},
     "output_type": "execute_result"
    }
   ],
   "source": [
    "gloss_ann_counts[gloss_ann_counts.index.str.contains(\"G:\", regex=False)]"
   ]
  },
  {
   "cell_type": "code",
   "execution_count": 14,
   "metadata": {},
   "outputs": [
    {
     "data": {
      "text/markdown": [
       "| Task | Polish | Glosses equivalent |\n",
       "|:-:|:-:|:-|\n",
       "| _Znaki zakazu_ | Zakaz chodzenia w stroju kąpielowym w miejscu publicznym. |  - `PUBLICZNY 1.1 P:V;L:V` |\n",
       "| _Znaki zakazu_ | Nie lubi. |  - `NIE-LUBIĆ 1.1 P:5;L:Ø` |\n",
       "| _Sylwester / Żaba_ | Połknął. |  - `JEŚĆ 1.5 P:Z;L:Ø ` |\n",
       "| _Kalendarz_ | Wcześniej. |  - `PRZED/WCZEŚNIEJ 2.2 P:Z;L:Ø` |\n",
       "| _Kalendarz_ | O której godzinie? |  - `GODZINA 3.3 P:N; L:B (ZEGAR/CZAS)` |\n",
       "| _Kalendarz_ | Nie mam. |  - `NIE*MIEĆ (PRZY USTA) 1.1 P:B;L:Ø` |\n",
       "| _Kalendarz_ | Nie. |  - `NIE 3.1 P:B;L:Ø` |\n",
       "| _Kalendarz_ | Dwudziestego trzeciego. |  - `NUM: DWADZIEŚCIA-TRZY 1.1 P:L3;L:A`<br> - `NUM: DWADZIEŚCIA-TRZY 1.1 P:L3;L:A` |\n",
       "| _Sylwester / Żaba_ | Dobrze, już. |  - `DOBRZE 1.2 P:O;L:Ø`<br> - `JUŻ 1.1 P:B;L:B` |\n",
       "| _Znaki zakazu_ | Chyba. |  - `PODOBNY 5.3 P:B;L:Ø`<br> - `WSKAZ: Z WSZYSTKIE KIERUNKI` |\n",
       "| _Gruszki / Chaplin_ | Dziecko uciekło. |  - `DZIECKO 2.2 P:I1;LØ `<br> - `UCIEKAĆ 1.1 P:Z;L:B`<br> - `IŚĆ 18.1 P:B;L:Ø` |\n",
       "| _Komisky_ | Myszka zobaczyła to i zamilkła. |  - `MOŻNA 1.3 P:B;L:Ø (MOŻE/MOŻLIWE)`<br> - `WSKAZ: Z (WSZYSTKIE KIERUNKI/STRZELAĆ/JEŹDZIĆ/WŁAŚNIE/TO/W-TYM-ROKU)`<br> - `MILCZEĆ 1.2 P:Z;L:Ø` |\n",
       "| _Kalendarz_ | Najpierw piętnastego sprzątam. |  - `NAJPIERW 1.1 P:1;L:Ø`<br> - `PIĘTNAŚCIE 1.1 P:5;L:5`<br> - `SPRZĄTAĆ 2.1 P:B; L:B (RUCH_DWIE DŁONIE)` |\n",
       "| _Komisky_ | Ryba pływa w koło. |  - `Q: L (AA LUB AHA)`<br> - `RYBA 1.2 P:B;L:B`<br> - `OBROTY 1.3 P:Z;L:Z` |\n",
       "| _Znaki zakazu_ | Kształt odwróconego stożka, w środku woda. |  - `$:KL: B+B (KSZTAŁT+WIERZCHOŁEK+DÓŁ)`<br> - `WODA 2.2 P:5;L:Ø (PRZEBIERANIE PALCAMI)`<br> - `WSKAZ: Z WSZYSTKIE KIERUNKI` |\n",
       "| _Gruszki / Chaplin_ | Charlie cały czas odpycha chłopca i odpycha. |  - `WSKAZ: Z WSZYSTKIE KIERUNKI`<br> - `CHŁOPAK/MĘŻCZYZNA/PAN 1.1 P:Z;L:Ø`<br> - `WYNOCHA/POPYCHAĆ/ODPĘDZIĆ 1.1 P:B;L:Ø`<br> - `IŚĆ 1.4 P:1;L:1 (GONIĆ/ŚLEDZIĆ)` |\n",
       "| _Znaki zakazu_ | Tylko dla nudystów. |  - `GOŁY 2.1 P:B;L:B `<br> - `GOŁY 2.1 P:B;L:B `<br> - `GRUPA 1.5 P:5;L:Ø `<br> - `METAL 1.1 P:Z;L:Z (STAL/ŻELAZO)` |\n",
       "| _Komisky_ | Przestraszył się i wstał. |  - `ROZUMIEĆ/NIE-ROZUMIEĆ 1.1 P:R;L:Ø`<br> - `KOŁDRA 1.1 P:A;L:A (PRZYKRYĆ)`<br> - `WSKAZ: Z+Z (WSZYSTKIE KIERUNKI)`<br> - `WSTAWAĆ 1.1 P:H;L:B` |\n",
       "| _Znaki zakazu_ | Ciężko zauważyć. |  - `MYŚLEĆ 1.3 P:Z;L:Ø, P:L;L:Ø`<br> - `?`<br> - `MYŚLEĆ 1.3 P:Z;L:Ø, P:L;L:Ø`<br> - `CIĘŻKO/CIĘŻKI 1.4 P:A;L:Ø` |\n",
       "| _Kalendarz_ | A w poniedziałek, ósmego lutego po szesnastej? |  - `PONIEDZIAŁEK 1.1 P:3P;L:Ø`<br> - `NUM: OSIEM ©1.2 P:3;L:5`<br> - `LUTY 1.1 P:H;L:B`<br> - `PO 2.1 P:B;L:B`<br> - `NUM: SZESNAŚCIE 1.1 P:1;L:B` |\n",
       "| _Znaki zakazu_ | Hmmm… na dole nie wolno. |  - `%`<br> - `%`<br> - `%`<br> - `G: Z (W USTA/MYŚLEĆ/ZASTANAWIAĆ SIĘ)`<br> - `WSKAZ: Z+Z WSZYSTKIE KIERUNKI`<br> - `NIE*WOLNO 1.2 P:Z;L:Z`<br> - `WSKAZ: Z WSZYSTKIE KIERUNKI` |\n",
       "| _Sylwester / Żaba_ | Myśli, jak tam wejść. |  - `###`<br> - `###`<br> - `DOSYĆ 1.1 P:B;L:Ø (BRODA)`<br> - `JAK 1.2 P:I;L:Ø`<br> - `MYŚLEĆ 1.3 P:Z;L:Ø, P:L;L:Ø`<br> - `JAK 1.2 P:I;L:Ø`<br> - `$:KL: N LUB Z (IŚĆ/LATAĆ/SIEDZIEĆ W RÓŻNYCH KIERUNKACH) `<br> - `RYBA 1.1 P:B;L:Ø` |\n",
       "| _Znaki zakazu_ | Może chodzi o miejsce podobne do stawu. |  - `MOŻNA 1.3 P:B;L:Ø (MOŻE/MOŻLIWE)`<br> - `%`<br> - `MIEJSCE 1.1 P:5;L:Ø (LUDZIE/LOKALIZACJA/PRZESTRZEŃ)`<br> - `%`<br> - `WSKAZ: O (WSZYSTKIE KIERUNKI)`<br> - `PODOBNY 5.3 P:B;L:Ø`<br> - `S.T.A.W.`<br> - `JEZIORO 2.2 P:5;L:5`<br> - `JEZIORO/STAW/ZALEW 1.2 P:Z;L:Ø` |\n",
       "| _Kalendarz_ | Ale w sobotę dlatego, że w niedzielę ludzie są zmęczeni i odpoczywają. |  - `ALE 1.8 P:B;L:Ø`<br> - `SOBOTA 1.4 P:B;L:Ø (PROSTOPADLE)`<br> - `DLACZEGO 1.2 P:B;L:B`<br> - `NIEDZIELA 1.1 P:N;L:Ø`<br> - `LUDZIE 1.4 P:Z;L:Ø  (OD PRAWEJ DO LEWEJ)`<br> - `JUŻ 1.1 P:B;L:B`<br> - `ZMĘCZONY 2.1 P:5;L:5`<br> - `NIEDZIELA 1.1 P:N;L:Ø`<br> - `LUDZIE 1.1 P:Z;L:Ø `<br> - `ODPOCZYWAĆ 1.1 P:3;L:3 ` |\n",
       "| _Sylwester / Żaba_ | Myśli i decyduje się, że weźmie tą kulę od kręgli. |  - `@`<br> - `MIEĆ 1.4 P:B;L:Ø (DO SIEBIE)`<br> - `NUM: DWADZIEŚCIA-SIEDEM 1.1 P:L;L:A5`<br> - `###`<br> - `MYŚLEĆ 2.2 P:Z;L:Ø`<br> - `###`<br> - `$:KL: B+B (KULA/AUTYZM/AKWARIUM/MISKA/DONICZKA)`<br> - `BOWLING 1.1 P:A5;L:Ø`<br> - `B.O.W.L.I.N.G.`<br> - `BOWLING 1.1 P:A5;L:Ø` |\n",
       "| _Komisky_ | Przynosi miskę z truskawkami i stawia ją na stole. |  - `WSKAZ: L WSZYSTKIE KIERUNKI`<br> - `CZERWONY 1.1 P:Z;L:Ø`<br> - `ALBO/LUB 2.3 P:A;L:Ø`<br> - `$:KL: A+A (COŚ+TRZYMAĆ) `<br> - `TAK-SAMO/TEŻ/RÓWNIEŻ 1.1 P:Z;L:Z`<br> - `PRACOWAĆ/PRACA 1.2 P:A;L:A (OBRÓT)`<br> - `TRUSKAWKA 5.1 P:Z;L:Z`<br> - `$:KL: 5+5 (POSTAWIĆ+KOSZ/MISKA/KULA/`<br> - `JADALNIA/STOŁÓWKA 2.1 P:B;L:B`<br> - `$:KL: 5+5 (POSTAWIĆ+KOSZ/MISKA/KULA/`<br> - `TRUSKAWKA 5.1 P:Z;L:Z` |\n",
       "| _Kalendarz_ | Mam dwudziesty... siódmy. |  - `MIEĆ 1.4 P:B;L:Ø (DO SIEBIE)`<br> - `NUM: DWADZIEŚCIA 1.2 P:L;L:5`<br> - `NUM: SIEDEM 1.1 P:2;L:5`<br> - `WSKAZ: Z (WSZYSTKIE KIERUNKI/STRZELAĆ/JEŹDZIĆ/WŁAŚNIE/TO/W-TYM-ROKU)`<br> - `ZIEMIA 1.1 P:5;L:5`<br> - `NA 1.1 P:N;L:B`<br> - `ZIEMIA 1.1 P:5;L:5`<br> - `WSKAZ: Z (WSZYSTKIE KIERUNKI/STRZELAĆ/JEŹDZIĆ/WŁAŚNIE/TO/W-TYM-ROKU)`<br> - `PTAK/KURCZĄTKO 1.1 P:P;L:Ø `<br> - `###`<br> - `GODZINA 3.3 P:N; L:B (ZEGAR/CZAS)`<br> - `PTAK/FRUWAĆ 1.1 P:5;L:5` |\n",
       "| _Znaki zakazu_ | Dobrze mówisz, trzeba wolno jechać, bo z zaskoczenia może człowiek przejść, nie wolno jechać szybko. |  - `MUSIEĆ 4.3 P:Z;L:Ø`<br> - `DOBRZE 1.1 P:O;L:O`<br> - `WSKAZ: B WSZYSTKIE KIERUNKI`<br> - `SZYBKO 2.2 P:G;L:B`<br> - `NIE*WOLNO 1.1 P:Z;L:Ø`<br> - `SPOKOJNY/SPOKÓJ/SPOKOJNIE P:1;L:1`<br> - `WIEDZIEĆ 1.6 P:N;L:Ø`<br> - `WSKAZ: Z WSZYSTKIE KIERUNKI`<br> - `SPOKOJNY/SPOKÓJ/SPOKOJNIE P:1;L:1`<br> - `HAMULEC 3.1 P:5;P:5`<br> - `BAĆ/STRACH 6.1 P:G5;L:G5`<br> - `IŚĆ 2.7 P:N;L:Z (WYSIADAĆ. WSIADAĆ, WYSKOCZYĆ, SKOCZYĆ, SKAKAĆ)` |\n",
       "| _Komisky_ | Zając, ciało ma koloru niebieskiego, skacze. |  - `%`<br> - `NIE*WIEDZIEĆ/NIE*UMIEĆ 1.2 P:B;L:Ø`<br> - `%`<br> - `AKURAT 1.1 P:O;L:O`<br> - `WSKAZ: Z+Z WSZYSTKIE KIERUNKI`<br> - `KRÓLIK/ZAJĄC 2.2 P:N;L:N`<br> - `WSKAZ: Z WSZYSTKIE KIERUNKI`<br> - `NIEBIESKI 1.1 P:N;L:Ø`<br> - `KOLOR 1.2 P:5;L:Ø`<br> - `CIAŁO 1.3 P:5;L:5`<br> - `NIEBIESKI 1.1 P:N;L:Ø`<br> - `^ -OZNACZA PAUZĘ W MIGANIU`<br> - `$:KL: N+N (SKAKAĆ/KRÓLIK) (ŁAPKI)` |\n",
       "| _Sylwester / Żaba_ | Chciał ukryć się przed osami, opał się o poroże a okazało się, że leży okrakiem na rogach jelenia. |  - `OSA/PSZCZOŁA 1 P:O;L:Ø (OKROPNY)`<br> - `ATAK 1.3 P:5;L:Ø`<br> - `Q: 1I (NA WSZELKI WYPADEK/MOŻE SIĘ ZDARZYĆ)`<br> - `WSKAZ: N (JA)`<br> - `SIEDZIEĆ-OKRAKIEM 4.4 P:N;L:V (NA-ROWER/JELEŃ/DRZEWIE)`<br> - `WSKAZ: B (GŁOWA)`<br> - `LEŻEĆ 1.2 P:V;L:Ø © `<br> - `$:KL: A+A (ROGI)`<br> - `BYŁ 2.1 P:B;L:Ø (PALCAMI DO RAMIENIA)`<br> - `WSKAZ: Z+Z (WSZYSTKIE KIERUNKI)`<br> - `TO 1.2 P:TO;L:Ø`<br> - `OD-RAZU 1.1 P:G;L:G`<br> - `NUM: DRUGI-PUNKT/DRUGI 1.2 P:V;L:Z`<br> - `NIE*ROZUMIEĆ 1.1 P:R;L:Ø/P:N;L:Ø` |"
      ]
     },
     "metadata": {},
     "output_type": "display_data"
    }
   ],
   "source": [
    "def get_gloss_polish_md_table(records):\n",
    "    md_str = \"| Task | Polish | Glosses equivalent |\\n|:-:|:-:|:-|\"\n",
    "    sorted_records = sorted(records, key=lambda record: len(record.gloss_sequence))\n",
    "    for record in sorted_records:\n",
    "        task_label_md = f\"_{get_task_name(record.polish_annotation.task_label)}_\"\n",
    "        glosses_md = list(map(lambda dto: f'`{dto.text}`', record.gloss_sequence))\n",
    "        md_str += f\"\\n| {task_label_md} | {record.polish_annotation.text} |  - {'<br> - '.join(glosses_md)} |\"\n",
    "    return md_str\n",
    "\n",
    "md = get_gloss_polish_md_table(\n",
    "    records=np.random.choice(dataset, size=30)\n",
    ")\n",
    "display_markdown(md, raw=True)"
   ]
  },
  {
   "cell_type": "code",
   "execution_count": null,
   "metadata": {},
   "outputs": [],
   "source": []
  }
 ],
 "metadata": {
  "kernelspec": {
   "display_name": "base",
   "language": "python",
   "name": "python3"
  },
  "language_info": {
   "codemirror_mode": {
    "name": "ipython",
    "version": 3
   },
   "file_extension": ".py",
   "mimetype": "text/x-python",
   "name": "python",
   "nbconvert_exporter": "python",
   "pygments_lexer": "ipython3",
   "version": "3.10.8"
  },
  "orig_nbformat": 4
 },
 "nbformat": 4,
 "nbformat_minor": 2
}
