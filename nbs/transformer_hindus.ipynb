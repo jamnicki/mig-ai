{
 "cells": [
  {
   "cell_type": "code",
   "execution_count": 1,
   "metadata": {},
   "outputs": [],
   "source": [
    "import torch\n",
    "import numpy as np\n",
    "import pandas as pd\n",
    "import seaborn as sns\n",
    "import math\n",
    "from torch import nn\n",
    "import torch.nn.functional as F\n",
    "from torch.utils.data import Dataset, DataLoader\n",
    "from transformers import AutoTokenizer\n",
    "from sklearn.model_selection import train_test_split\n",
    "from jsonlines import jsonlines\n",
    "from typing import Dict, List, Any\n",
    "\n",
    "from src.settings import PREPROCESSED_DIR, MODELS_DIR, LOGS_DIR"
   ]
  },
  {
   "cell_type": "code",
   "execution_count": 2,
   "metadata": {},
   "outputs": [
    {
     "data": {
      "text/plain": [
       "device(type='cuda')"
      ]
     },
     "execution_count": 2,
     "metadata": {},
     "output_type": "execute_result"
    }
   ],
   "source": [
    "DEVICE = torch.device(\"cuda\" if torch.cuda.is_available() else \"cpu\")\n",
    "# DEVICE = torch.device(\"cpu\")\n",
    "DEVICE"
   ]
  },
  {
   "cell_type": "code",
   "execution_count": 3,
   "metadata": {},
   "outputs": [],
   "source": [
    "def set_seed(seed):\n",
    "    np.random.seed(seed)\n",
    "    torch.manual_seed(seed)\n",
    "    torch.cuda.manual_seed_all(seed)\n",
    "\n",
    "set_seed(42)"
   ]
  },
  {
   "cell_type": "code",
   "execution_count": 4,
   "metadata": {},
   "outputs": [],
   "source": [
    "def get_device():\n",
    "    return torch.device('cuda') if torch.cuda.is_available() else torch.device('cpu')\n",
    "    # return torch.device('cpu')\n",
    "\n",
    "def scaled_dot_product(q, k, v, mask=None):\n",
    "    d_k = q.size()[-1]\n",
    "    scaled = torch.matmul(q, k.transpose(-1, -2)) / math.sqrt(d_k)\n",
    "    if mask is not None:\n",
    "        scaled = scaled.permute(1, 0, 2, 3) + mask\n",
    "        scaled = scaled.permute(1, 0, 2, 3)\n",
    "    attention = F.softmax(scaled, dim=-1)\n",
    "    values = torch.matmul(attention, v)\n",
    "    return values, attention\n",
    "\n",
    "class PositionalEncoding(nn.Module):\n",
    "    def __init__(self, d_model, max_sequence_length):\n",
    "        super().__init__()\n",
    "        self.max_sequence_length = max_sequence_length\n",
    "        self.d_model = d_model\n",
    "\n",
    "    def forward(self):\n",
    "        even_i = torch.arange(0, self.d_model, 2).float()\n",
    "        denominator = torch.pow(10000, even_i/self.d_model)\n",
    "        position = (torch.arange(self.max_sequence_length)\n",
    "                          .reshape(self.max_sequence_length, 1))\n",
    "        even_PE = torch.sin(position / denominator)\n",
    "        odd_PE = torch.cos(position / denominator)\n",
    "        stacked = torch.stack([even_PE, odd_PE], dim=2)\n",
    "        PE = torch.flatten(stacked, start_dim=1, end_dim=2)\n",
    "        return PE\n",
    "\n",
    "class SentenceEmbedding(nn.Module):\n",
    "    \"For a given sentence, create an embedding\"\n",
    "    def __init__(self, max_sequence_length, d_model, vocab_size):\n",
    "        super().__init__()\n",
    "        self.max_sequence_length = max_sequence_length\n",
    "        self.embedding = nn.Embedding(vocab_size, d_model)\n",
    "        self.position_encoder = PositionalEncoding(d_model, max_sequence_length)\n",
    "        self.dropout = nn.Dropout(p=0.1)\n",
    "\n",
    "    def forward(self, x): # batched tokens ids\n",
    "        x = self.embedding(x)\n",
    "        pos = self.position_encoder().to(get_device())\n",
    "        x = self.dropout(x + pos)\n",
    "        return x\n",
    "\n",
    "\n",
    "class MultiHeadAttention(nn.Module):\n",
    "    def __init__(self, d_model, num_heads):\n",
    "        super().__init__()\n",
    "        self.d_model = d_model\n",
    "        self.num_heads = num_heads\n",
    "        self.head_dim = d_model // num_heads\n",
    "        self.qkv_layer = nn.Linear(d_model , 3 * d_model)\n",
    "        self.linear_layer = nn.Linear(d_model, d_model)\n",
    "    \n",
    "    def forward(self, x, mask):\n",
    "        batch_size, sequence_length, d_model = x.size()\n",
    "        qkv = self.qkv_layer(x)\n",
    "        qkv = qkv.reshape(batch_size, sequence_length, self.num_heads, 3 * self.head_dim)\n",
    "        qkv = qkv.permute(0, 2, 1, 3)\n",
    "        q, k, v = qkv.chunk(3, dim=-1)\n",
    "        values, attention = scaled_dot_product(q, k, v, mask)\n",
    "        values = values.permute(0, 2, 1, 3).reshape(batch_size, sequence_length, self.num_heads * self.head_dim)\n",
    "        out = self.linear_layer(values)\n",
    "        return out\n",
    "\n",
    "\n",
    "class LayerNormalization(nn.Module):\n",
    "    def __init__(self, parameters_shape, eps=1e-5):\n",
    "        super().__init__()\n",
    "        self.parameters_shape=parameters_shape\n",
    "        self.eps=eps\n",
    "        self.gamma = nn.Parameter(torch.ones(parameters_shape))\n",
    "        self.beta =  nn.Parameter(torch.zeros(parameters_shape))\n",
    "\n",
    "    def forward(self, inputs):\n",
    "        dims = [-(i + 1) for i in range(len(self.parameters_shape))]\n",
    "        mean = inputs.mean(dim=dims, keepdim=True)\n",
    "        var = ((inputs - mean) ** 2).mean(dim=dims, keepdim=True)\n",
    "        std = (var + self.eps).sqrt()\n",
    "        y = (inputs - mean) / std\n",
    "        out = self.gamma * y + self.beta\n",
    "        return out\n",
    "\n",
    "  \n",
    "class PositionwiseFeedForward(nn.Module):\n",
    "    def __init__(self, d_model, hidden, drop_prob=0.1):\n",
    "        super(PositionwiseFeedForward, self).__init__()\n",
    "        self.linear1 = nn.Linear(d_model, hidden)\n",
    "        self.linear2 = nn.Linear(hidden, d_model)\n",
    "        self.relu = nn.ReLU()\n",
    "        self.dropout = nn.Dropout(p=drop_prob)\n",
    "\n",
    "    def forward(self, x):\n",
    "        x = self.linear1(x)\n",
    "        x = self.relu(x)\n",
    "        x = self.dropout(x)\n",
    "        x = self.linear2(x)\n",
    "        return x\n",
    "\n",
    "\n",
    "class EncoderLayer(nn.Module):\n",
    "    def __init__(self, d_model, ffn_hidden, num_heads, drop_prob):\n",
    "        super(EncoderLayer, self).__init__()\n",
    "        self.attention = MultiHeadAttention(d_model=d_model, num_heads=num_heads)\n",
    "        self.norm1 = LayerNormalization(parameters_shape=[d_model])\n",
    "        self.dropout1 = nn.Dropout(p=drop_prob)\n",
    "        self.ffn = PositionwiseFeedForward(d_model=d_model, hidden=ffn_hidden, drop_prob=drop_prob)\n",
    "        self.norm2 = LayerNormalization(parameters_shape=[d_model])\n",
    "        self.dropout2 = nn.Dropout(p=drop_prob)\n",
    "\n",
    "    def forward(self, x, self_attention_mask):\n",
    "        residual_x = x.clone()\n",
    "        x = self.attention(x, mask=self_attention_mask)\n",
    "        x = self.dropout1(x)\n",
    "        x = self.norm1(x + residual_x)\n",
    "        residual_x = x.clone()\n",
    "        x = self.ffn(x)\n",
    "        x = self.dropout2(x)\n",
    "        x = self.norm2(x + residual_x)\n",
    "        return x\n",
    "    \n",
    "class SequentialEncoder(nn.Sequential):\n",
    "    def forward(self, *inputs):\n",
    "        x, self_attention_mask  = inputs\n",
    "        for module in self._modules.values():\n",
    "            x = module(x, self_attention_mask)\n",
    "        return x\n",
    "\n",
    "class FrameLandmarksEmbedding(nn.Module):\n",
    "    \"For a given sentence, create an embedding\"\n",
    "    def __init__(self, max_frames, d_model, n_landmarks=99):\n",
    "        super().__init__()\n",
    "        self.max_sequence_length = max_frames\n",
    "        self.linear = nn.Linear(n_landmarks, d_model)\n",
    "        self.position_encoder = PositionalEncoding(d_model, self.max_sequence_length)\n",
    "        self.dropout = nn.Dropout(p=0.1)\n",
    "\n",
    "    def forward(self, x):  # seq of frames (landmarks), batched\n",
    "        # in: (batch_size, n_frames, 99)\n",
    "        # x = x[:, :self.max_sequence_length, :]\n",
    "        # x = F.pad(x, (0, 0, 0, self.max_sequence_length - x.size(1)), value=-1)\n",
    "        x = self.linear(x)\n",
    "        pos = self.position_encoder().to(get_device())\n",
    "        x = self.dropout(x + pos)\n",
    "        # out: (batch_size, max_sequence_length, d_model)\n",
    "        return x\n",
    "\n",
    "class Encoder(nn.Module):\n",
    "    def __init__(self, \n",
    "                 d_model, \n",
    "                 ffn_hidden, \n",
    "                 num_heads, \n",
    "                 drop_prob, \n",
    "                 num_layers,\n",
    "                 max_sequence_length\n",
    "                ):\n",
    "        super().__init__()\n",
    "        # self.sentence_embedding = SentenceEmbedding(max_sequence_length, d_model, language_to_index, START_TOKEN, END_TOKEN, PADDING_TOKEN)\n",
    "        self.frames_seq_embedding = FrameLandmarksEmbedding(max_sequence_length, d_model)\n",
    "        self.layers = SequentialEncoder(*[EncoderLayer(d_model, ffn_hidden, num_heads, drop_prob)\n",
    "                                      for _ in range(num_layers)])\n",
    "\n",
    "    def forward(self, x, self_attention_mask):\n",
    "        # x = self.sentence_embedding(x, start_token, end_token)\n",
    "        x = self.frames_seq_embedding(x)\n",
    "        x = self.layers(x, self_attention_mask)\n",
    "        return x\n",
    "\n",
    "\n",
    "class MultiHeadCrossAttention(nn.Module):\n",
    "    def __init__(self, d_model, num_heads):\n",
    "        super().__init__()\n",
    "        self.d_model = d_model\n",
    "        self.num_heads = num_heads\n",
    "        self.head_dim = d_model // num_heads\n",
    "        self.kv_layer = nn.Linear(d_model , 2 * d_model)\n",
    "        self.q_layer = nn.Linear(d_model , d_model)\n",
    "        self.linear_layer = nn.Linear(d_model, d_model)\n",
    "    \n",
    "    def forward(self, x, y, mask):\n",
    "        batch_size, sequence_length, d_model = x.size() # in practice, this is the same for both languages...so we can technically combine with normal attention\n",
    "        kv = self.kv_layer(x)\n",
    "        q = self.q_layer(y)\n",
    "        kv = kv.reshape(batch_size, sequence_length, self.num_heads, 2 * self.head_dim)\n",
    "        q = q.reshape(batch_size, sequence_length, self.num_heads, self.head_dim)\n",
    "        kv = kv.permute(0, 2, 1, 3)\n",
    "        q = q.permute(0, 2, 1, 3)\n",
    "        k, v = kv.chunk(2, dim=-1)\n",
    "        values, attention = scaled_dot_product(q, k, v, mask) # We don't need the mask for cross attention, removing in outer function!\n",
    "        values = values.permute(0, 2, 1, 3).reshape(batch_size, sequence_length, d_model)\n",
    "        out = self.linear_layer(values)\n",
    "        return out\n",
    "\n",
    "\n",
    "class DecoderLayer(nn.Module):\n",
    "    def __init__(self, d_model, ffn_hidden, num_heads, drop_prob):\n",
    "        super(DecoderLayer, self).__init__()\n",
    "        self.self_attention = MultiHeadAttention(d_model=d_model, num_heads=num_heads)\n",
    "        self.layer_norm1 = LayerNormalization(parameters_shape=[d_model])\n",
    "        self.dropout1 = nn.Dropout(p=drop_prob)\n",
    "\n",
    "        self.encoder_decoder_attention = MultiHeadCrossAttention(d_model=d_model, num_heads=num_heads)\n",
    "        self.layer_norm2 = LayerNormalization(parameters_shape=[d_model])\n",
    "        self.dropout2 = nn.Dropout(p=drop_prob)\n",
    "\n",
    "        self.ffn = PositionwiseFeedForward(d_model=d_model, hidden=ffn_hidden, drop_prob=drop_prob)\n",
    "        self.layer_norm3 = LayerNormalization(parameters_shape=[d_model])\n",
    "        self.dropout3 = nn.Dropout(p=drop_prob)\n",
    "\n",
    "    def forward(self, x, y, self_attention_mask, cross_attention_mask):\n",
    "        _y = y.clone()\n",
    "        y = self.self_attention(y, mask=self_attention_mask)\n",
    "        y = self.dropout1(y)\n",
    "        y = self.layer_norm1(y + _y)\n",
    "\n",
    "        _y = y.clone()\n",
    "        y = self.encoder_decoder_attention(x, y, mask=cross_attention_mask)\n",
    "        y = self.dropout2(y)\n",
    "        y = self.layer_norm2(y + _y)\n",
    "\n",
    "        _y = y.clone()\n",
    "        y = self.ffn(y)\n",
    "        y = self.dropout3(y)\n",
    "        y = self.layer_norm3(y + _y)\n",
    "        return y\n",
    "\n",
    "\n",
    "class SequentialDecoder(nn.Sequential):\n",
    "    def forward(self, *inputs):\n",
    "        x, y, self_attention_mask, cross_attention_mask = inputs\n",
    "        for module in self._modules.values():\n",
    "            y = module(x, y, self_attention_mask, cross_attention_mask)\n",
    "        return y\n",
    "\n",
    "class Decoder(nn.Module):\n",
    "    def __init__(self, \n",
    "                 d_model, \n",
    "                 ffn_hidden, \n",
    "                 num_heads, \n",
    "                 drop_prob, \n",
    "                 num_layers,\n",
    "                 max_sequence_length,\n",
    "                 vocab_size,\n",
    "                ):\n",
    "        super().__init__()\n",
    "        self.sentence_embedding = SentenceEmbedding(max_sequence_length, d_model, vocab_size)\n",
    "        self.layers = SequentialDecoder(*[DecoderLayer(d_model, ffn_hidden, num_heads, drop_prob) for _ in range(num_layers)])\n",
    "\n",
    "    def forward(self, x, y, self_attention_mask, cross_attention_mask):\n",
    "        y = self.sentence_embedding(y)\n",
    "        y = self.layers(x, y, self_attention_mask, cross_attention_mask)\n",
    "        return y\n",
    "\n",
    "\n",
    "class Transformer(nn.Module):\n",
    "    def __init__(self, \n",
    "                d_model, \n",
    "                ffn_hidden, \n",
    "                num_heads, \n",
    "                drop_prob, \n",
    "                num_layers,\n",
    "                max_sequence_length, \n",
    "                vocab_size,\n",
    "                ):\n",
    "        super().__init__()\n",
    "        self.encoder = Encoder(d_model, ffn_hidden, num_heads, drop_prob, num_layers, max_sequence_length)\n",
    "        self.decoder = Decoder(d_model, ffn_hidden, num_heads, drop_prob, num_layers, max_sequence_length, vocab_size)\n",
    "        self.linear = nn.Linear(d_model, vocab_size)\n",
    "        self.device = torch.device('cuda') if torch.cuda.is_available() else torch.device('cpu')\n",
    "\n",
    "    def forward(self, \n",
    "                x, \n",
    "                y, \n",
    "                encoder_self_attention_mask=None, \n",
    "                decoder_self_attention_mask=None, \n",
    "                decoder_cross_attention_mask=None,\n",
    "    ):\n",
    "        x = self.encoder(x, encoder_self_attention_mask)\n",
    "        out = self.decoder(x, y, decoder_self_attention_mask, decoder_cross_attention_mask)\n",
    "        out = self.linear(out)\n",
    "        return out"
   ]
  },
  {
   "cell_type": "code",
   "execution_count": 5,
   "metadata": {},
   "outputs": [],
   "source": [
    "NUM_HEADS = 8\n",
    "DROP_PROB = 0.1\n",
    "NUM_LAYERS = 5\n",
    "D_MODEL = 512\n",
    "FFN_HIDDEN = 2048\n",
    "\n",
    "MAX_SEQUENCE_LENGTH = 50  # max in frames = max out tokens\n",
    "N_LANDMARKS = 99\n",
    "VOCAB_SIZE = 50_000\n",
    "\n",
    "BATCH_SIZE = 32\n",
    "SAMPLE_FRAC = 0.5"
   ]
  },
  {
   "cell_type": "code",
   "execution_count": 6,
   "metadata": {},
   "outputs": [],
   "source": [
    "class ClipsDataset(Dataset):\n",
    "\n",
    "    def __init__(self, records: List[Dict[str, Any]], max_input_lenght, max_output_length):\n",
    "        self.records = records\n",
    "        self.max_input_lenght = max_input_lenght\n",
    "        self.max_output_length = max_output_length\n",
    "\n",
    "    def __len__(self) -> int:\n",
    "        return len(self.records)\n",
    "\n",
    "    def __getitem__(self, index: int) -> Dict[str, torch.Tensor]:\n",
    "        out_polish_token_ids = torch.tensor(self.records[index][\"PolishAnnotationTokenIds\"], dtype=torch.int32)\n",
    "        if len(out_polish_token_ids) > 66:\n",
    "            # FIXME: this is a hack to make it work with the model; only one clip is affected\n",
    "            print(\"Warning: PolishAnnotationTokenIds is longer than 66\")\n",
    "            out_polish_token_ids = out_polish_token_ids[:66]\n",
    "\n",
    "        out_polish_token_ids = out_polish_token_ids[:self.max_output_length]\n",
    "\n",
    "        # (seq_len x 33 x 3) -> (seq_len x 99)\n",
    "        frame_seq_landmarks = torch.tensor(self.records[index][\"FramesLandmarksCoords\"], dtype=torch.float32).view(-1, 99)\n",
    "        every_nth_frame_seq_landmarks = frame_seq_landmarks[::4]  # get every 4th frame\n",
    "        seq_pad_len = self.max_input_lenght - every_nth_frame_seq_landmarks.size(0)\n",
    "        padded_frame_seq_landmarks = F.pad(every_nth_frame_seq_landmarks, (0, 0, 0, seq_pad_len), value=0)  # 200x99\n",
    "        # prepro_landmarks_seq = self.preprocess_landmarks_seq(frame_seq_landmarks)\n",
    "\n",
    "        return {\n",
    "            \"in_landmarks\": padded_frame_seq_landmarks,\n",
    "            \"out_polish_token_ids\": out_polish_token_ids,\n",
    "        }"
   ]
  },
  {
   "cell_type": "code",
   "execution_count": 7,
   "metadata": {},
   "outputs": [],
   "source": [
    "with jsonlines.open(PREPROCESSED_DIR / \"clips_dataset_wth_herbert_token_ids.jsonl\") as reader:\n",
    "    # total_records: 19_503\n",
    "    if SAMPLE_FRAC < 1:\n",
    "        raw_records = list((rec for rec in reader if np.random.choice([True, False], p=[SAMPLE_FRAC, 1 - SAMPLE_FRAC])))  # iterable approach for random sample\n",
    "    else:\n",
    "        raw_records = list(reader)\n",
    "\n",
    "train_records, val_records = train_test_split(raw_records, test_size=0.2)"
   ]
  },
  {
   "cell_type": "code",
   "execution_count": 8,
   "metadata": {},
   "outputs": [
    {
     "data": {
      "text/plain": [
       "(7813, 1954)"
      ]
     },
     "execution_count": 8,
     "metadata": {},
     "output_type": "execute_result"
    }
   ],
   "source": [
    "train_ds = ClipsDataset(train_records, max_input_lenght=MAX_SEQUENCE_LENGTH, max_output_length=MAX_SEQUENCE_LENGTH)\n",
    "val_ds = ClipsDataset(val_records, max_input_lenght=MAX_SEQUENCE_LENGTH, max_output_length=MAX_SEQUENCE_LENGTH)\n",
    "\n",
    "# del train_records, val_records, raw_records\n",
    "\n",
    "len(train_ds), len(val_ds)"
   ]
  },
  {
   "cell_type": "code",
   "execution_count": 9,
   "metadata": {},
   "outputs": [
    {
     "name": "stdout",
     "output_type": "stream",
     "text": [
      "torch.Size([50, 99])\n",
      "torch.Size([50])\n"
     ]
    }
   ],
   "source": [
    "for record in train_ds:\n",
    "    print(record[\"in_landmarks\"].shape)  # n_frames x n_landmarks*3\n",
    "    print(record[\"out_polish_token_ids\"].shape)  # padded n_tokens\n",
    "    break"
   ]
  },
  {
   "cell_type": "code",
   "execution_count": 10,
   "metadata": {},
   "outputs": [],
   "source": [
    "train_dl = DataLoader(train_ds, batch_size=BATCH_SIZE, pin_memory=True)\n",
    "val_dl = DataLoader(val_ds, batch_size=BATCH_SIZE, pin_memory=True)"
   ]
  },
  {
   "cell_type": "code",
   "execution_count": 11,
   "metadata": {},
   "outputs": [
    {
     "name": "stdout",
     "output_type": "stream",
     "text": [
      "torch.Size([32, 50, 99])\n",
      "torch.Size([32, 50])\n"
     ]
    }
   ],
   "source": [
    "for record in train_dl:\n",
    "    print(record[\"in_landmarks\"].shape)  # n_frames x n_landmarks*3\n",
    "    print(record[\"out_polish_token_ids\"].shape)  # padded n_tokens\n",
    "    break"
   ]
  },
  {
   "cell_type": "code",
   "execution_count": 12,
   "metadata": {},
   "outputs": [],
   "source": [
    "EPOCHS = 10\n",
    "LEARNING_RATE = 1e-4\n",
    "TOKEN_PROB_THRESHOLD = 0.5"
   ]
  },
  {
   "cell_type": "code",
   "execution_count": 13,
   "metadata": {},
   "outputs": [],
   "source": [
    "transformer = Transformer(\n",
    "    d_model=D_MODEL,\n",
    "    ffn_hidden=FFN_HIDDEN,\n",
    "    num_heads=NUM_HEADS,\n",
    "    drop_prob=DROP_PROB,\n",
    "    num_layers=NUM_LAYERS,\n",
    "    max_sequence_length=MAX_SEQUENCE_LENGTH,\n",
    "    vocab_size=VOCAB_SIZE,\n",
    ").to(DEVICE)"
   ]
  },
  {
   "cell_type": "code",
   "execution_count": 14,
   "metadata": {},
   "outputs": [],
   "source": [
    "tokenizer = AutoTokenizer.from_pretrained(\"allegro/herbert-base-cased\")"
   ]
  },
  {
   "cell_type": "code",
   "execution_count": 15,
   "metadata": {},
   "outputs": [
    {
     "name": "stdout",
     "output_type": "stream",
     "text": [
      "tokenizer.pad_token_id=1\n"
     ]
    }
   ],
   "source": [
    "print(f\"{tokenizer.pad_token_id=}\")\n",
    "criterion = nn.CrossEntropyLoss(\n",
    "    ignore_index=tokenizer.pad_token_id,\n",
    "    reduction=\"none\"\n",
    ")\n",
    "\n",
    "# # When computing the loss, we are ignoring cases when the label is the padding token\n",
    "# for params in transformer.parameters():\n",
    "#     if params.dim() > 1:\n",
    "#         nn.init.xavier_uniform_(params)\n",
    "\n",
    "optim = torch.optim.Adam(transformer.parameters(), lr=LEARNING_RATE)"
   ]
  },
  {
   "cell_type": "code",
   "execution_count": 16,
   "metadata": {},
   "outputs": [],
   "source": [
    "NEG_INFTY = -1e9\n",
    "\n",
    "def create_masks(seq_landmarks_batch, token_ids_batch):\n",
    "    num_sentences = len(seq_landmarks_batch)\n",
    "    look_ahead_mask = torch.full([MAX_SEQUENCE_LENGTH, MAX_SEQUENCE_LENGTH] , True)\n",
    "    look_ahead_mask = torch.triu(look_ahead_mask, diagonal=1)\n",
    "    encoder_padding_mask = torch.full([num_sentences, MAX_SEQUENCE_LENGTH, MAX_SEQUENCE_LENGTH] , False)\n",
    "    decoder_padding_mask_self_attention = torch.full([num_sentences, MAX_SEQUENCE_LENGTH, MAX_SEQUENCE_LENGTH] , False)\n",
    "    decoder_padding_mask_cross_attention = torch.full([num_sentences, MAX_SEQUENCE_LENGTH, MAX_SEQUENCE_LENGTH] , False)\n",
    "\n",
    "    for idx in range(num_sentences):\n",
    "      seq_landmarks_len, seq_token_ids_len = len(seq_landmarks_batch[idx]), len(token_ids_batch[idx])\n",
    "      seq_landmarks_pad_mask_ids = np.arange(seq_landmarks_len + 1, MAX_SEQUENCE_LENGTH)\n",
    "      seq_token_ids_pad_mask_ids = np.arange(seq_token_ids_len + 1, MAX_SEQUENCE_LENGTH)\n",
    "      encoder_padding_mask[idx, :, seq_landmarks_pad_mask_ids] = True\n",
    "      encoder_padding_mask[idx, seq_landmarks_pad_mask_ids, :] = True\n",
    "      decoder_padding_mask_self_attention[idx, :, seq_token_ids_pad_mask_ids] = True\n",
    "      decoder_padding_mask_self_attention[idx, seq_token_ids_pad_mask_ids, :] = True\n",
    "      decoder_padding_mask_cross_attention[idx, :, seq_landmarks_pad_mask_ids] = True\n",
    "      decoder_padding_mask_cross_attention[idx, seq_token_ids_pad_mask_ids, :] = True\n",
    "\n",
    "    encoder_self_attention_mask = torch.where(encoder_padding_mask, NEG_INFTY, 0)\n",
    "    decoder_self_attention_mask =  torch.where(look_ahead_mask + decoder_padding_mask_self_attention, NEG_INFTY, 0)\n",
    "    decoder_cross_attention_mask = torch.where(decoder_padding_mask_cross_attention, NEG_INFTY, 0)\n",
    "    return encoder_self_attention_mask, decoder_self_attention_mask, decoder_cross_attention_mask"
   ]
  },
  {
   "cell_type": "code",
   "execution_count": 17,
   "metadata": {},
   "outputs": [],
   "source": [
    "def decode_prediction_batch(pred_batch, tokenizer, threshold=0.3):\n",
    "    pass"
   ]
  },
  {
   "cell_type": "code",
   "execution_count": null,
   "metadata": {},
   "outputs": [],
   "source": []
  },
  {
   "cell_type": "code",
   "execution_count": 18,
   "metadata": {},
   "outputs": [
    {
     "name": "stdout",
     "output_type": "stream",
     "text": [
      "Epoch 0\n"
     ]
    },
    {
     "name": "stderr",
     "output_type": "stream",
     "text": [
      "/tmp/ipykernel_51506/2702555863.py:38: UserWarning: Implicit dimension choice for softmax has been deprecated. Change the call to include dim=X as an argument.\n",
      "  print(f\"{pd.Series(F.softmax(prediction[0][0]).detach().cpu()).describe()=}\")\n"
     ]
    },
    {
     "name": "stdout",
     "output_type": "stream",
     "text": [
      "pd.Series(F.softmax(prediction[0][0]).detach().cpu()).describe()=count    50000.000000\n",
      "mean         0.000020\n",
      "std          0.000012\n",
      "min          0.000002\n",
      "25%          0.000011\n",
      "50%          0.000017\n",
      "75%          0.000025\n",
      "max          0.000177\n",
      "dtype: float64\n",
      "Iteration 0 : 10.904820442199707\n",
      "Polish Annotation: Ja myślę, że na przykład nie wolno nosić wody do kąpieli z morza.\n",
      "Prediction: duchowe tolerancji pierwoSowizorganizowanie bynajmniej odwiedzin Ośrodkiem przyniosła tendencje ającekspozycji skakskakrezygnują duchowe tendencje Ministrów macieMinistrów Ministrów uciekają Ministrów macienapastJabłonzainteresowała napastaga rezygnują napastnapastnapastŻołnierzy napastdniami dniami dniami uciekają postawił napastdniami Тdniami zabiegał zadownapastMinistrów Ministrów koledzy\n"
     ]
    },
    {
     "name": "stderr",
     "output_type": "stream",
     "text": [
      "/tmp/ipykernel_51506/2702555863.py:38: UserWarning: Implicit dimension choice for softmax has been deprecated. Change the call to include dim=X as an argument.\n",
      "  print(f\"{pd.Series(F.softmax(prediction[0][0]).detach().cpu()).describe()=}\")\n"
     ]
    },
    {
     "name": "stdout",
     "output_type": "stream",
     "text": [
      "pd.Series(F.softmax(prediction[0][0]).detach().cpu()).describe()=count    5.000000e+04\n",
      "mean     1.999999e-05\n",
      "std      4.360072e-03\n",
      "min      3.986099e-08\n",
      "25%      2.699204e-07\n",
      "50%      4.047473e-07\n",
      "75%      6.122288e-07\n",
      "max      9.749520e-01\n",
      "dtype: float64\n",
      "Iteration 100 : 3.6414968967437744\n",
      "Polish Annotation: Policjant zastanawia się.\n",
      "Prediction: Policjant to się. się się się się się się się się się Jak się się się się się się się się się się się się z się się się się\n"
     ]
    },
    {
     "name": "stderr",
     "output_type": "stream",
     "text": [
      "/tmp/ipykernel_51506/2702555863.py:38: UserWarning: Implicit dimension choice for softmax has been deprecated. Change the call to include dim=X as an argument.\n",
      "  print(f\"{pd.Series(F.softmax(prediction[0][0]).detach().cpu()).describe()=}\")\n"
     ]
    },
    {
     "name": "stdout",
     "output_type": "stream",
     "text": [
      "pd.Series(F.softmax(prediction[0][0]).detach().cpu()).describe()=count    5.000000e+04\n",
      "mean     2.000000e-05\n",
      "std      4.428760e-03\n",
      "min      1.066946e-08\n",
      "25%      8.542509e-08\n",
      "50%      1.338538e-07\n",
      "75%      2.137226e-07\n",
      "max      9.903109e-01\n",
      "dtype: float64\n",
      "Iteration 200 : 2.8657279014587402\n",
      "Polish Annotation: Kot idzie zadowolony, merda ogonem.\n",
      "Prediction: Kot idzie i, grui Kot. ósmej grusię uważać się znak Miuje kota uje uważać Migruuje MiJak się się ucieka się się się się się uje się się się się\n",
      "Epoch 1\n"
     ]
    },
    {
     "name": "stderr",
     "output_type": "stream",
     "text": [
      "/tmp/ipykernel_51506/2702555863.py:38: UserWarning: Implicit dimension choice for softmax has been deprecated. Change the call to include dim=X as an argument.\n",
      "  print(f\"{pd.Series(F.softmax(prediction[0][0]).detach().cpu()).describe()=}\")\n"
     ]
    },
    {
     "name": "stdout",
     "output_type": "stream",
     "text": [
      "pd.Series(F.softmax(prediction[0][0]).detach().cpu()).describe()=count    5.000000e+04\n",
      "mean     2.000000e-05\n",
      "std      4.433808e-03\n",
      "min      8.429868e-09\n",
      "25%      7.034219e-08\n",
      "50%      1.108589e-07\n",
      "75%      1.803438e-07\n",
      "max      9.914398e-01\n",
      "dtype: float64\n",
      "Iteration 0 : 2.086927652359009\n",
      "Polish Annotation: Ja myślę, że na przykład nie wolno nosić wody do kąpieli z morza.\n",
      "Prediction: Ja myślę, że na przykład nie wolno można wody do kąpieli z n. kota się odkota uje ka Jak MiJak domu się się Jak się Jak Jak Jak Jak Jak z z Jak Jak Jak\n"
     ]
    },
    {
     "name": "stderr",
     "output_type": "stream",
     "text": [
      "/tmp/ipykernel_51506/2702555863.py:38: UserWarning: Implicit dimension choice for softmax has been deprecated. Change the call to include dim=X as an argument.\n",
      "  print(f\"{pd.Series(F.softmax(prediction[0][0]).detach().cpu()).describe()=}\")\n"
     ]
    },
    {
     "name": "stdout",
     "output_type": "stream",
     "text": [
      "pd.Series(F.softmax(prediction[0][0]).detach().cpu()).describe()=count    5.000000e+04\n",
      "mean     2.000004e-05\n",
      "std      4.454079e-03\n",
      "min      2.419474e-09\n",
      "25%      2.360693e-08\n",
      "50%      3.820811e-08\n",
      "75%      6.578098e-08\n",
      "max      9.959723e-01\n",
      "dtype: float64\n",
      "Iteration 100 : 1.7459313869476318\n",
      "Polish Annotation: Policjant zastanawia się.\n",
      "Prediction: Policjant zastanawia się. uje się uje Jak się Jak Jak Jak Jak się się uje się Jak Mimogę Jak uje są uje Jak Jak Jak uje się uje Jeuje się się się Jak Jak uje Jak Jak się Jak Miaby Jak się się mnie\n"
     ]
    },
    {
     "name": "stderr",
     "output_type": "stream",
     "text": [
      "/tmp/ipykernel_51506/2702555863.py:38: UserWarning: Implicit dimension choice for softmax has been deprecated. Change the call to include dim=X as an argument.\n",
      "  print(f\"{pd.Series(F.softmax(prediction[0][0]).detach().cpu()).describe()=}\")\n"
     ]
    },
    {
     "name": "stdout",
     "output_type": "stream",
     "text": [
      "pd.Series(F.softmax(prediction[0][0]).detach().cpu()).describe()=count    5.000000e+04\n",
      "mean     2.000004e-05\n",
      "std      4.456678e-03\n",
      "min      2.128197e-09\n",
      "25%      1.769387e-08\n",
      "50%      2.906483e-08\n",
      "75%      5.120774e-08\n",
      "max      9.965535e-01\n",
      "dtype: float64\n",
      "Iteration 200 : 1.5681272745132446\n",
      "Polish Annotation: Kot idzie zadowolony, merda ogonem.\n",
      "Prediction: Kot idzie zadowolony, do da ogonem. ósmej uważać nich Wtorek ósmej widzi się Wtorek uje ósmej uje ósmej kota ował masz Jak Jak uje uje Jak Wtorek Jak się kota Jak Jak Jak Jak Jak Jak siebie szył Jak blisko Znak raz Jak szył kota\n",
      "Epoch 2\n"
     ]
    },
    {
     "name": "stderr",
     "output_type": "stream",
     "text": [
      "/tmp/ipykernel_51506/2702555863.py:38: UserWarning: Implicit dimension choice for softmax has been deprecated. Change the call to include dim=X as an argument.\n",
      "  print(f\"{pd.Series(F.softmax(prediction[0][0]).detach().cpu()).describe()=}\")\n"
     ]
    },
    {
     "name": "stdout",
     "output_type": "stream",
     "text": [
      "pd.Series(F.softmax(prediction[0][0]).detach().cpu()).describe()=count    5.000000e+04\n",
      "mean     2.000003e-05\n",
      "std      4.459394e-03\n",
      "min      1.178548e-09\n",
      "25%      1.288535e-08\n",
      "50%      2.162905e-08\n",
      "75%      3.940991e-08\n",
      "max      9.971608e-01\n",
      "dtype: float64\n",
      "Iteration 0 : 1.3176002502441406\n",
      "Polish Annotation: Ja myślę, że na przykład nie wolno nosić wody do kąpieli z morza.\n",
      "Prediction: Ja myślę, że na przykład nie wolno może wody do kąpieli z kosze. Kiedy luKiedy ósmej pokazuje Jak kierunku mogę ósmej uje Kiedy mogę Jak czy Tak Wtorek ósmej górę się szył Jak górę one Wtorek szył ósmej mogę Kiedy Jak Kiedy Kiedy szył się\n"
     ]
    },
    {
     "name": "stderr",
     "output_type": "stream",
     "text": [
      "/tmp/ipykernel_51506/2702555863.py:38: UserWarning: Implicit dimension choice for softmax has been deprecated. Change the call to include dim=X as an argument.\n",
      "  print(f\"{pd.Series(F.softmax(prediction[0][0]).detach().cpu()).describe()=}\")\n"
     ]
    },
    {
     "name": "stdout",
     "output_type": "stream",
     "text": [
      "pd.Series(F.softmax(prediction[0][0]).detach().cpu()).describe()=count    5.000000e+04\n",
      "mean     2.000002e-05\n",
      "std      4.463116e-03\n",
      "min      5.439750e-10\n",
      "25%      6.479788e-09\n",
      "50%      1.104131e-08\n",
      "75%      2.062083e-08\n",
      "max      9.979930e-01\n",
      "dtype: float64\n",
      "Iteration 100 : 1.1426523923873901\n",
      "Polish Annotation: Policjant zastanawia się.\n",
      "Prediction: Policjant zastanawia się. porządku się widzi górę nich się się Jak szył przechodzi raz się się raz raz raz pokazuje Jak się górę uje się Jak Wtorek się Jak Wtorek szył się Wtorek szył się szył ka Jak Wtorek się się ósmej raz się się chyba się\n"
     ]
    },
    {
     "name": "stderr",
     "output_type": "stream",
     "text": [
      "/tmp/ipykernel_51506/2702555863.py:38: UserWarning: Implicit dimension choice for softmax has been deprecated. Change the call to include dim=X as an argument.\n",
      "  print(f\"{pd.Series(F.softmax(prediction[0][0]).detach().cpu()).describe()=}\")\n"
     ]
    },
    {
     "name": "stdout",
     "output_type": "stream",
     "text": [
      "pd.Series(F.softmax(prediction[0][0]).detach().cpu()).describe()=count    5.000000e+04\n",
      "mean     2.000000e-05\n",
      "std      4.465024e-03\n",
      "min      3.809544e-10\n",
      "25%      4.449287e-09\n",
      "50%      7.633300e-09\n",
      "75%      1.445527e-08\n",
      "max      9.984198e-01\n",
      "dtype: float64\n",
      "Iteration 200 : 1.0356847047805786\n",
      "Polish Annotation: Kot idzie zadowolony, merda ogonem.\n",
      "Prediction: Kot idzie zadowolony, merda ogonem. akwarsię! raz chłopiec uje się się chłopiec się uje dół deszcz k uje uje Kiedy czwartego czwartego czwartego czwartego wszyscy Wtorek Wtorek Wtorek Jak uje Wtorek górę Jak raz Wtorek blisko chłopiec Wtorek Babcia raz raz się\n",
      "Epoch 3\n"
     ]
    },
    {
     "name": "stderr",
     "output_type": "stream",
     "text": [
      "/tmp/ipykernel_51506/2702555863.py:38: UserWarning: Implicit dimension choice for softmax has been deprecated. Change the call to include dim=X as an argument.\n",
      "  print(f\"{pd.Series(F.softmax(prediction[0][0]).detach().cpu()).describe()=}\")\n"
     ]
    },
    {
     "name": "stdout",
     "output_type": "stream",
     "text": [
      "pd.Series(F.softmax(prediction[0][0]).detach().cpu()).describe()=count    5.000000e+04\n",
      "mean     2.000001e-05\n",
      "std      4.464715e-03\n",
      "min      4.259833e-10\n",
      "25%      4.925045e-09\n",
      "50%      8.417230e-09\n",
      "75%      1.606995e-08\n",
      "max      9.983506e-01\n",
      "dtype: float64\n",
      "Iteration 0 : 0.9302058815956116\n",
      "Polish Annotation: Ja myślę, że na przykład nie wolno nosić wody do kąpieli z morza.\n",
      "Prediction: Ja myślę, że na przykład nie wolno siódwody do kąpieli z wskaz. raz ósmej szył Jeleń trójraz kota kota uje ósmej ósmej siebie przechodzi przechodzi Wtorek Misię wszyscy się Jak Wtorek chJak szył ował ósmej szył Mimogę szył się się coś\n"
     ]
    },
    {
     "name": "stderr",
     "output_type": "stream",
     "text": [
      "/tmp/ipykernel_51506/2702555863.py:38: UserWarning: Implicit dimension choice for softmax has been deprecated. Change the call to include dim=X as an argument.\n",
      "  print(f\"{pd.Series(F.softmax(prediction[0][0]).detach().cpu()).describe()=}\")\n"
     ]
    },
    {
     "name": "stdout",
     "output_type": "stream",
     "text": [
      "pd.Series(F.softmax(prediction[0][0]).detach().cpu()).describe()=count    5.000000e+04\n",
      "mean     2.000001e-05\n",
      "std      4.467131e-03\n",
      "min      2.391910e-10\n",
      "25%      2.911775e-09\n",
      "50%      5.096888e-09\n",
      "75%      9.921436e-09\n",
      "max      9.988908e-01\n",
      "dtype: float64\n",
      "Iteration 100 : 0.7791839241981506\n",
      "Polish Annotation: Policjant zastanawia się.\n",
      "Prediction: Policjant zastanawia się. lusię raz Miszył deszcz czwartego raz ósmej dą raz siebie się ś szył perkuszył Miósmej pokazuje raz blisko Kiedy się Dziwne się się szył się się Jak Jak Jak się szył Kiedy Kiedy Kiedy Jak Kiedy szył Kiedy Kiedy się\n"
     ]
    },
    {
     "name": "stderr",
     "output_type": "stream",
     "text": [
      "/tmp/ipykernel_51506/2702555863.py:38: UserWarning: Implicit dimension choice for softmax has been deprecated. Change the call to include dim=X as an argument.\n",
      "  print(f\"{pd.Series(F.softmax(prediction[0][0]).detach().cpu()).describe()=}\")\n"
     ]
    },
    {
     "name": "stdout",
     "output_type": "stream",
     "text": [
      "pd.Series(F.softmax(prediction[0][0]).detach().cpu()).describe()=count    5.000000e+04\n",
      "mean     2.000001e-05\n",
      "std      4.467711e-03\n",
      "min      1.985321e-10\n",
      "25%      2.187284e-09\n",
      "50%      3.793054e-09\n",
      "75%      7.323812e-09\n",
      "max      9.990206e-01\n",
      "dtype: float64\n",
      "Iteration 200 : 0.7319203019142151\n",
      "Polish Annotation: Kot idzie zadowolony, merda ogonem.\n",
      "Prediction: Kot idzie zadowolony, merda ogonem. porządku pokazuje kota się ś Dziwne porządku Dziwne wszyscy deszcz raz przechodzi porządku trójDziwne uje przechodzi trójWtorek Wtorek widzi porządku przechodzi się Jak się Jak porządku dą siebie Kiedy chłopiec Wtorek złapał bierze Wtorek przechodzi szył szył\n",
      "Epoch 4\n"
     ]
    },
    {
     "name": "stderr",
     "output_type": "stream",
     "text": [
      "/tmp/ipykernel_51506/2702555863.py:38: UserWarning: Implicit dimension choice for softmax has been deprecated. Change the call to include dim=X as an argument.\n",
      "  print(f\"{pd.Series(F.softmax(prediction[0][0]).detach().cpu()).describe()=}\")\n"
     ]
    },
    {
     "name": "stdout",
     "output_type": "stream",
     "text": [
      "pd.Series(F.softmax(prediction[0][0]).detach().cpu()).describe()=count    5.000000e+04\n",
      "mean     2.000001e-05\n",
      "std      4.467557e-03\n",
      "min      2.087583e-10\n",
      "25%      2.322375e-09\n",
      "50%      4.061893e-09\n",
      "75%      8.020419e-09\n",
      "max      9.989861e-01\n",
      "dtype: float64\n",
      "Iteration 0 : 0.6599286198616028\n",
      "Polish Annotation: Ja myślę, że na przykład nie wolno nosić wody do kąpieli z morza.\n",
      "Prediction: Ja myślę, że na przykład nie wolno nosić wody do kąpieli z morza. kota kota Dziwne Miporządku raz luósmej MiMiKiedy Kiedy się poszli się przechodzi Wtorek przechodzi Wtorek się przechodzi Kiedy Kiedy porządku rynczwartego szył Kiedy szył Znak Kiedy Kiedy przechodzi\n"
     ]
    },
    {
     "name": "stderr",
     "output_type": "stream",
     "text": [
      "/tmp/ipykernel_51506/2702555863.py:38: UserWarning: Implicit dimension choice for softmax has been deprecated. Change the call to include dim=X as an argument.\n",
      "  print(f\"{pd.Series(F.softmax(prediction[0][0]).detach().cpu()).describe()=}\")\n"
     ]
    },
    {
     "name": "stdout",
     "output_type": "stream",
     "text": [
      "pd.Series(F.softmax(prediction[0][0]).detach().cpu()).describe()=count    5.000000e+04\n",
      "mean     2.000000e-05\n",
      "std      4.468023e-03\n",
      "min      1.396207e-10\n",
      "25%      1.736843e-09\n",
      "50%      3.069250e-09\n",
      "75%      6.095171e-09\n",
      "max      9.990903e-01\n",
      "dtype: float64\n",
      "Iteration 100 : 0.5599091053009033\n",
      "Polish Annotation: Policjant zastanawia się.\n",
      "Prediction: Policjant zastanawia się. raz raz się Kiedy Wtorek chszył się deszcz szył raz Miraz trójraz raz wszyscy raz Kiedy Wtorek ty Jak co Wtorek Jak Jak ował się się się chWtorek Wtorek Kiedy Jak Jak szył wiraz raz szył szył szył szył\n"
     ]
    },
    {
     "name": "stderr",
     "output_type": "stream",
     "text": [
      "/tmp/ipykernel_51506/2702555863.py:38: UserWarning: Implicit dimension choice for softmax has been deprecated. Change the call to include dim=X as an argument.\n",
      "  print(f\"{pd.Series(F.softmax(prediction[0][0]).detach().cpu()).describe()=}\")\n"
     ]
    },
    {
     "name": "stdout",
     "output_type": "stream",
     "text": [
      "pd.Series(F.softmax(prediction[0][0]).detach().cpu()).describe()=count    5.000000e+04\n",
      "mean     2.000001e-05\n",
      "std      4.469221e-03\n",
      "min      7.221546e-11\n",
      "25%      1.095086e-09\n",
      "50%      1.963983e-09\n",
      "75%      3.958307e-09\n",
      "max      9.993584e-01\n",
      "dtype: float64\n",
      "Iteration 200 : 0.5286969542503357\n",
      "Polish Annotation: Kot idzie zadowolony, merda ogonem.\n",
      "Prediction: Kot idzie zadowolony, merda ogonem. przechodzi aby trójWtorek ludeszcz u porządku raz widzi Miraz nął czyli czwartego Wtorek Wtorek Wtorek Dlatego czwartego Wtorek położył Wtorek przechodzi Wtorek czwartego Wtorek Kiedy Jak siebie szył Wtorek przechodzi Wtorek wszyscy Kiedy się raz szył\n",
      "Epoch 5\n"
     ]
    },
    {
     "name": "stderr",
     "output_type": "stream",
     "text": [
      "/tmp/ipykernel_51506/2702555863.py:38: UserWarning: Implicit dimension choice for softmax has been deprecated. Change the call to include dim=X as an argument.\n",
      "  print(f\"{pd.Series(F.softmax(prediction[0][0]).detach().cpu()).describe()=}\")\n"
     ]
    },
    {
     "name": "stdout",
     "output_type": "stream",
     "text": [
      "pd.Series(F.softmax(prediction[0][0]).detach().cpu()).describe()=count    5.000000e+04\n",
      "mean     2.000001e-05\n",
      "std      4.469453e-03\n",
      "min      8.010069e-11\n",
      "25%      9.787056e-10\n",
      "50%      1.766250e-09\n",
      "75%      3.584312e-09\n",
      "max      9.994102e-01\n",
      "dtype: float64\n",
      "Iteration 0 : 0.4640517830848694\n",
      "Polish Annotation: Ja myślę, że na przykład nie wolno nosić wody do kąpieli z morza.\n",
      "Prediction: Ja myślę, że na przykład nie wolno nosić wody do kąpieli z morza. Może szył luraz raz raz widzi akwarraz porządku Wtorek deszcz nich deszcz czyli Wtorek porządku Wtorek się chraz się szył przechodzi szył przechodzi przechodzi by się raz szył szył Znak\n"
     ]
    },
    {
     "name": "stderr",
     "output_type": "stream",
     "text": [
      "/tmp/ipykernel_51506/2702555863.py:38: UserWarning: Implicit dimension choice for softmax has been deprecated. Change the call to include dim=X as an argument.\n",
      "  print(f\"{pd.Series(F.softmax(prediction[0][0]).detach().cpu()).describe()=}\")\n"
     ]
    },
    {
     "name": "stdout",
     "output_type": "stream",
     "text": [
      "pd.Series(F.softmax(prediction[0][0]).detach().cpu()).describe()=count    5.000000e+04\n",
      "mean     2.000000e-05\n",
      "std      4.469685e-03\n",
      "min      4.978369e-11\n",
      "25%      6.664680e-10\n",
      "50%      1.207620e-09\n",
      "75%      2.454997e-09\n",
      "max      9.994621e-01\n",
      "dtype: float64\n",
      "Iteration 100 : 0.40239113569259644\n",
      "Polish Annotation: Policjant zastanawia się.\n",
      "Prediction: Policjant zastanawia się. luprzechodzi ósmej się stoją wszyscy raz kierunku raz kierunku coś coś raz ś ś pokazuje ło Kiedy ś Kiedy Kiedy raz luKiedy siebie przechodzi raz wszyscy coś się wszyscy picia Kiedy szył przechodzi chłopiec raz Wtorek ś coś Kiedy szył tyś\n"
     ]
    },
    {
     "name": "stderr",
     "output_type": "stream",
     "text": [
      "/tmp/ipykernel_51506/2702555863.py:38: UserWarning: Implicit dimension choice for softmax has been deprecated. Change the call to include dim=X as an argument.\n",
      "  print(f\"{pd.Series(F.softmax(prediction[0][0]).detach().cpu()).describe()=}\")\n"
     ]
    },
    {
     "name": "stdout",
     "output_type": "stream",
     "text": [
      "pd.Series(F.softmax(prediction[0][0]).detach().cpu()).describe()=count    5.000000e+04\n",
      "mean     2.000001e-05\n",
      "std      4.469542e-03\n",
      "min      5.870197e-11\n",
      "25%      6.898426e-10\n",
      "50%      1.246069e-09\n",
      "75%      2.561257e-09\n",
      "max      9.994300e-01\n",
      "dtype: float64\n",
      "Iteration 200 : 0.4034537672996521\n",
      "Polish Annotation: Kot idzie zadowolony, merda ogonem.\n",
      "Prediction: Kot idzie zadowolony, merda ogonem. porządku trójprzechodzi babci Jeleń trójstoją kierunku Jeleń się porządku Jeleń raz deszcz słoraz przechodzi chłopiec Jeleń coś Wtorek chłopiec szył się chWtorek przechodzi przechodzi przechodzi wszyscy Jeleń raz chłopiec czyli by się się coś się\n",
      "Epoch 6\n"
     ]
    },
    {
     "name": "stderr",
     "output_type": "stream",
     "text": [
      "/tmp/ipykernel_51506/2702555863.py:38: UserWarning: Implicit dimension choice for softmax has been deprecated. Change the call to include dim=X as an argument.\n",
      "  print(f\"{pd.Series(F.softmax(prediction[0][0]).detach().cpu()).describe()=}\")\n"
     ]
    },
    {
     "name": "stdout",
     "output_type": "stream",
     "text": [
      "pd.Series(F.softmax(prediction[0][0]).detach().cpu()).describe()=count    5.000000e+04\n",
      "mean     2.000000e-05\n",
      "std      4.469955e-03\n",
      "min      4.520172e-11\n",
      "25%      7.200695e-10\n",
      "50%      1.306153e-09\n",
      "75%      2.706438e-09\n",
      "max      9.995224e-01\n",
      "dtype: float64\n",
      "Iteration 0 : 0.33391934633255005\n",
      "Polish Annotation: Ja myślę, że na przykład nie wolno nosić wody do kąpieli z morza.\n",
      "Prediction: Ja myślę, że na przykład nie wolno nosić wody do kąpieli z morza. deszcz porządku skreślraz deszcz deszcz porządku porządku nął porządku Kiedy Wtorek stoją deszcz coś Jeleń porządku Wtorek przechodzi przechodzi Obok wieprzechodzi wieWtorek przechodzi przechodzi Kiedy się Kiedy raz Znak szył\n"
     ]
    },
    {
     "name": "stderr",
     "output_type": "stream",
     "text": [
      "/tmp/ipykernel_51506/2702555863.py:38: UserWarning: Implicit dimension choice for softmax has been deprecated. Change the call to include dim=X as an argument.\n",
      "  print(f\"{pd.Series(F.softmax(prediction[0][0]).detach().cpu()).describe()=}\")\n"
     ]
    },
    {
     "name": "stdout",
     "output_type": "stream",
     "text": [
      "pd.Series(F.softmax(prediction[0][0]).detach().cpu()).describe()=count    5.000000e+04\n",
      "mean     2.000000e-05\n",
      "std      4.470340e-03\n",
      "min      2.348970e-11\n",
      "25%      3.482010e-10\n",
      "50%      6.397056e-10\n",
      "75%      1.338756e-09\n",
      "max      9.996086e-01\n",
      "dtype: float64\n",
      "Iteration 100 : 0.2934947907924652\n",
      "Polish Annotation: Policjant zastanawia się.\n",
      "Prediction: Policjant zastanawia się. raz kierunku picia coś stoją chłopiec przechodzi przechodzi ś deszcz ś raz stoją ś im ło ś deszcz położył Kiedy przechodzi zydotyka się ło ucieka Wtorek się szył wszyscy ka zypołożył szył wszyscy szył szył wiszył pływatytał wszyscy ś\n"
     ]
    },
    {
     "name": "stderr",
     "output_type": "stream",
     "text": [
      "/tmp/ipykernel_51506/2702555863.py:38: UserWarning: Implicit dimension choice for softmax has been deprecated. Change the call to include dim=X as an argument.\n",
      "  print(f\"{pd.Series(F.softmax(prediction[0][0]).detach().cpu()).describe()=}\")\n"
     ]
    },
    {
     "name": "stdout",
     "output_type": "stream",
     "text": [
      "pd.Series(F.softmax(prediction[0][0]).detach().cpu()).describe()=count    5.000000e+04\n",
      "mean     1.999999e-05\n",
      "std      4.470154e-03\n",
      "min      3.012039e-11\n",
      "25%      3.931726e-10\n",
      "50%      7.205567e-10\n",
      "75%      1.505992e-09\n",
      "max      9.995669e-01\n",
      "dtype: float64\n",
      "Iteration 200 : 0.2990601360797882\n",
      "Polish Annotation: Kot idzie zadowolony, merda ogonem.\n",
      "Prediction: Kot idzie zadowolony, merda ogonem. się trójś coś kierunku przechodzi raz przechodzi trójwyjeżdżchłopiec szył deszcz Kiedy Kiedy Kuwidzi Dlatego Kiedy Jeleń poszli Kiedy Jeleń dotyka się wszyscy dotyka ś Kiedy szył przechodzi szył Jeleń się się Kiedy raz się się\n",
      "Epoch 7\n"
     ]
    },
    {
     "name": "stderr",
     "output_type": "stream",
     "text": [
      "/tmp/ipykernel_51506/2702555863.py:38: UserWarning: Implicit dimension choice for softmax has been deprecated. Change the call to include dim=X as an argument.\n",
      "  print(f\"{pd.Series(F.softmax(prediction[0][0]).detach().cpu()).describe()=}\")\n"
     ]
    },
    {
     "name": "stdout",
     "output_type": "stream",
     "text": [
      "pd.Series(F.softmax(prediction[0][0]).detach().cpu()).describe()=count    5.000000e+04\n",
      "mean     2.000000e-05\n",
      "std      4.470370e-03\n",
      "min      2.447870e-11\n",
      "25%      3.688721e-10\n",
      "50%      6.788479e-10\n",
      "75%      1.429342e-09\n",
      "max      9.996151e-01\n",
      "dtype: float64\n",
      "Iteration 0 : 0.2518574595451355\n",
      "Polish Annotation: Ja myślę, że na przykład nie wolno nosić wody do kąpieli z morza.\n",
      "Prediction: Ja myślę, że na przykład nie wolno nosić wody do kąpieli z morza. porządku stoją trójdeszcz czyli się dą raz Jeleń dź stoją stoją dź picia dotyka się przechodzi pokazuje chłopiec przechodzi chwszyscy chKiedy Kiedy Wtorek Kiedy przechodzi Babcia pokazuje Jeleń szesnastraz\n"
     ]
    },
    {
     "name": "stderr",
     "output_type": "stream",
     "text": [
      "/tmp/ipykernel_51506/2702555863.py:38: UserWarning: Implicit dimension choice for softmax has been deprecated. Change the call to include dim=X as an argument.\n",
      "  print(f\"{pd.Series(F.softmax(prediction[0][0]).detach().cpu()).describe()=}\")\n"
     ]
    },
    {
     "name": "stdout",
     "output_type": "stream",
     "text": [
      "pd.Series(F.softmax(prediction[0][0]).detach().cpu()).describe()=count    5.000000e+04\n",
      "mean     2.000001e-05\n",
      "std      4.470550e-03\n",
      "min      2.787447e-11\n",
      "25%      3.968600e-10\n",
      "50%      7.300793e-10\n",
      "75%      1.530864e-09\n",
      "max      9.996554e-01\n",
      "dtype: float64\n",
      "Iteration 100 : 0.2262566238641739\n",
      "Polish Annotation: Policjant zastanawia się.\n",
      "Prediction: Policjant zastanawia się. kierunku raz deszcz porządku przechodzi wszyscy ś ś wszyscy ś raz kierunku ś ś ś ś Wtorek raz ś szył raz chłopiec szył dotyka trójdeszcz szył Wtorek porządku Wtorek dotyka dotyka siebie ś raz przechodzi szył szył ławki wszyscy picia ty picia picia\n"
     ]
    },
    {
     "name": "stderr",
     "output_type": "stream",
     "text": [
      "/tmp/ipykernel_51506/2702555863.py:38: UserWarning: Implicit dimension choice for softmax has been deprecated. Change the call to include dim=X as an argument.\n",
      "  print(f\"{pd.Series(F.softmax(prediction[0][0]).detach().cpu()).describe()=}\")\n"
     ]
    },
    {
     "name": "stdout",
     "output_type": "stream",
     "text": [
      "pd.Series(F.softmax(prediction[0][0]).detach().cpu()).describe()=count    5.000000e+04\n",
      "mean     2.000002e-05\n",
      "std      4.470951e-03\n",
      "min      1.566318e-11\n",
      "25%      2.201084e-10\n",
      "50%      4.105764e-10\n",
      "75%      8.821185e-10\n",
      "max      9.997451e-01\n",
      "dtype: float64\n",
      "Iteration 200 : 0.22238093614578247\n",
      "Polish Annotation: Kot idzie zadowolony, merda ogonem.\n",
      "Prediction: Kot idzie zadowolony, merda ogonem. porządku uje kierunku Jeleń Jeleń pali się zaczęli się dem Jeleń Jeleń Jeleń Jeleń przydobry ludotyka ych przechodzi przechodzi fartuował pokazuje się się dotyka wszyscy ś raz Wtorek szył akwarJeleń pomyślał tywieJeleń się\n",
      "Epoch 8\n"
     ]
    },
    {
     "name": "stderr",
     "output_type": "stream",
     "text": [
      "/tmp/ipykernel_51506/2702555863.py:38: UserWarning: Implicit dimension choice for softmax has been deprecated. Change the call to include dim=X as an argument.\n",
      "  print(f\"{pd.Series(F.softmax(prediction[0][0]).detach().cpu()).describe()=}\")\n"
     ]
    },
    {
     "name": "stdout",
     "output_type": "stream",
     "text": [
      "pd.Series(F.softmax(prediction[0][0]).detach().cpu()).describe()=count    5.000000e+04\n",
      "mean     2.000000e-05\n",
      "std      4.470712e-03\n",
      "min      1.594151e-11\n",
      "25%      2.378283e-10\n",
      "50%      4.412426e-10\n",
      "75%      9.394853e-10\n",
      "max      9.996915e-01\n",
      "dtype: float64\n",
      "Iteration 0 : 0.17130741477012634\n",
      "Polish Annotation: Ja myślę, że na przykład nie wolno nosić wody do kąpieli z morza.\n",
      "Prediction: Ja myślę, że na przykład nie wolno nosić wody do kąpieli z morza. dostrzega Kiedy Jeleń raz deszcz pali czwartego deszcz ś pełna przechodzi Kiedy Kiedy skreśldź deszcz się się się chKiedy raz pomyślał ś raz raz Wtorek raz czyli Kiedy raz ś raz\n"
     ]
    },
    {
     "name": "stderr",
     "output_type": "stream",
     "text": [
      "/tmp/ipykernel_51506/2702555863.py:38: UserWarning: Implicit dimension choice for softmax has been deprecated. Change the call to include dim=X as an argument.\n",
      "  print(f\"{pd.Series(F.softmax(prediction[0][0]).detach().cpu()).describe()=}\")\n"
     ]
    },
    {
     "name": "stdout",
     "output_type": "stream",
     "text": [
      "pd.Series(F.softmax(prediction[0][0]).detach().cpu()).describe()=count    5.000000e+04\n",
      "mean     2.000000e-05\n",
      "std      4.470960e-03\n",
      "min      7.986324e-12\n",
      "25%      1.471131e-10\n",
      "50%      2.778889e-10\n",
      "75%      5.996524e-10\n",
      "max      9.997471e-01\n",
      "dtype: float64\n",
      "Iteration 100 : 0.16027948260307312\n",
      "Polish Annotation: Policjant zastanawia się.\n",
      "Prediction: Policjant zastanawia się. uje raz raz typali przechodzi babci raz raz ś aby kierunku prostoś raz ry picia deszcz deszcz coś raz trójchłopiec fartudeszcz przechodzi Jeleń Jeleń kierunku ś chłopiec ty przechodzi Chcę Wtorek szył szył ś przechodzi wszyscy wszyscy wszyscy picia raz\n"
     ]
    },
    {
     "name": "stderr",
     "output_type": "stream",
     "text": [
      "/tmp/ipykernel_51506/2702555863.py:38: UserWarning: Implicit dimension choice for softmax has been deprecated. Change the call to include dim=X as an argument.\n",
      "  print(f\"{pd.Series(F.softmax(prediction[0][0]).detach().cpu()).describe()=}\")\n"
     ]
    },
    {
     "name": "stdout",
     "output_type": "stream",
     "text": [
      "pd.Series(F.softmax(prediction[0][0]).detach().cpu()).describe()=count    5.000000e+04\n",
      "mean     2.000000e-05\n",
      "std      4.471133e-03\n",
      "min      1.334556e-11\n",
      "25%      1.867364e-10\n",
      "50%      3.471229e-10\n",
      "75%      7.393339e-10\n",
      "max      9.997858e-01\n",
      "dtype: float64\n",
      "Iteration 200 : 0.1570032387971878\n",
      "Polish Annotation: Kot idzie zadowolony, merda ogonem.\n",
      "Prediction: Kot idzie zadowolony, merda ogonem. Jeleń wietablestoją dostrzega wieraz stoją Jeleń wiepokazuje Jeleń widzi nić nić ławki liczy wieliczy dą Jeleń Jeleń Jeleń przechodzi ś Wtorek ś ś stoją szybę przechodzi Jeleń ś przechodzi Babcia się Obok raz przechodzi\n",
      "Epoch 9\n"
     ]
    },
    {
     "name": "stderr",
     "output_type": "stream",
     "text": [
      "/tmp/ipykernel_51506/2702555863.py:38: UserWarning: Implicit dimension choice for softmax has been deprecated. Change the call to include dim=X as an argument.\n",
      "  print(f\"{pd.Series(F.softmax(prediction[0][0]).detach().cpu()).describe()=}\")\n"
     ]
    },
    {
     "name": "stdout",
     "output_type": "stream",
     "text": [
      "pd.Series(F.softmax(prediction[0][0]).detach().cpu()).describe()=count    5.000000e+04\n",
      "mean     2.000001e-05\n",
      "std      4.471011e-03\n",
      "min      6.815149e-12\n",
      "25%      1.110941e-10\n",
      "50%      2.115723e-10\n",
      "75%      4.675870e-10\n",
      "max      9.997585e-01\n",
      "dtype: float64\n",
      "Iteration 0 : 0.11692168563604355\n",
      "Polish Annotation: Ja myślę, że na przykład nie wolno nosić wody do kąpieli z morza.\n",
      "Prediction: Ja myślę, że na przykład nie wolno nosić wody do kąpieli z morza. przychodzić prostoraz się porządku ych siedemnastraz się pełna siebie dą przechodzi dotyka się się przechodzi ś się się raz przechodzi raz raz Jeleń luJeleń przechodzi raz przechodzi stoją szesnastś\n"
     ]
    },
    {
     "name": "stderr",
     "output_type": "stream",
     "text": [
      "/tmp/ipykernel_51506/2702555863.py:38: UserWarning: Implicit dimension choice for softmax has been deprecated. Change the call to include dim=X as an argument.\n",
      "  print(f\"{pd.Series(F.softmax(prediction[0][0]).detach().cpu()).describe()=}\")\n"
     ]
    },
    {
     "name": "stdout",
     "output_type": "stream",
     "text": [
      "pd.Series(F.softmax(prediction[0][0]).detach().cpu()).describe()=count    5.000000e+04\n",
      "mean     2.000000e-05\n",
      "std      4.471255e-03\n",
      "min      5.580550e-12\n",
      "25%      1.202851e-10\n",
      "50%      2.280922e-10\n",
      "75%      4.955188e-10\n",
      "max      9.998129e-01\n",
      "dtype: float64\n",
      "Iteration 100 : 0.10740341991186142\n",
      "Polish Annotation: Policjant zastanawia się.\n",
      "Prediction: Policjant zastanawia się. kierunku odleluraz wieraz k raz Wtorek uważają mogę deszcz coś ś ś ś pali ś wszyscy pali ś ś ś ś deszcz wszyscy t górę ś ś się Wtorek szkoda deszcz pali szył ś raz Zastanawiam spada biec przechodzi przechodzi ś\n"
     ]
    },
    {
     "name": "stderr",
     "output_type": "stream",
     "text": [
      "/tmp/ipykernel_51506/2702555863.py:38: UserWarning: Implicit dimension choice for softmax has been deprecated. Change the call to include dim=X as an argument.\n",
      "  print(f\"{pd.Series(F.softmax(prediction[0][0]).detach().cpu()).describe()=}\")\n"
     ]
    },
    {
     "name": "stdout",
     "output_type": "stream",
     "text": [
      "pd.Series(F.softmax(prediction[0][0]).detach().cpu()).describe()=count    5.000000e+04\n",
      "mean     2.000001e-05\n",
      "std      4.471345e-03\n",
      "min      6.254172e-12\n",
      "25%      1.111738e-10\n",
      "50%      2.115845e-10\n",
      "75%      4.633922e-10\n",
      "max      9.998331e-01\n",
      "dtype: float64\n",
      "Iteration 200 : 0.11461439728736877\n",
      "Polish Annotation: Kot idzie zadowolony, merda ogonem.\n",
      "Prediction: Kot idzie zadowolony, merda ogonem. wszyscy wieś Jeleń raz Jeleń ś stoją Jeleń moniJeleń raz dostrzega pali Jeleń Niedziela bagażprzechodzi nić Jeleń bloperkuprzechodzi Jeleń Wtorek tableka picia ś Jeleń Jeleń Jeleń Jeleń Obok ś Obok Wtorek pomyślał szył\n"
     ]
    }
   ],
   "source": [
    "transformer.train()\n",
    "transformer.to(DEVICE)\n",
    "\n",
    "metrics_history = []\n",
    "for epoch in range(EPOCHS):\n",
    "    print(f\"Epoch {epoch}\")\n",
    "    for batch_num, batch in enumerate(train_dl):\n",
    "        transformer.train()\n",
    "        x, y = batch[\"in_landmarks\"].to(DEVICE), batch[\"out_polish_token_ids\"].to(DEVICE)\n",
    "        # print(f\"{x.shape=}, {y.shape=}\")\n",
    "\n",
    "        encoder_self_attention_mask, decoder_self_attention_mask, decoder_cross_attention_mask = create_masks(x, y)\n",
    "        optim.zero_grad()\n",
    "\n",
    "        prediction = transformer(x, y, encoder_self_attention_mask.to(DEVICE),  decoder_self_attention_mask.to(DEVICE), decoder_cross_attention_mask.to(DEVICE))\n",
    "        # print(f\"{ids_predictions.shape=} {ids_predictions.dtype=}\")\n",
    "\n",
    "        criterion_input = prediction.view(-1, VOCAB_SIZE)\n",
    "        # print(f\"{criterion_input.shape=} {criterion_input.dtype=}\")\n",
    "\n",
    "        criterion_target = y.view(-1).long()\n",
    "        # print(f\"{criterion_target.shape=} {criterion_target.dtype=}\")\n",
    "\n",
    "        loss = criterion(criterion_input, criterion_target)\n",
    "\n",
    "        valid_indicies = torch.where(criterion_target.view(-1) == tokenizer.pad_token_id, False, True)\n",
    "        loss = loss.sum() / valid_indicies.sum()\n",
    "        loss.backward()\n",
    "        optim.step()\n",
    "\n",
    "        metrics_history.append({\n",
    "            \"Epoch\": epoch + 1,\n",
    "            \"TrainLoss\": loss.item(),\n",
    "        })\n",
    "\n",
    "        if batch_num % 100 == 0:\n",
    "            y_batch_decoded = tokenizer.batch_decode(y, skip_special_tokens=True)\n",
    "            print(f\"{pd.Series(F.softmax(prediction[0][0]).detach().cpu()).describe()=}\")\n",
    "            ids_predictions = torch.argmax(prediction, dim=-1)\n",
    "            # thresholded_predictions = torch.where(prediction > TOKEN_PROB_THRESHOLD, 1, 0)\n",
    "            pred_decoded = tokenizer.batch_decode(ids_predictions, skip_special_tokens=True)\n",
    "            print(f\"Iteration {batch_num} : {loss.item()}\")\n",
    "            print(f\"Polish Annotation: {y_batch_decoded[0]}\")\n",
    "            print(f\"Prediction: {pred_decoded[0]}\")"
   ]
  },
  {
   "cell_type": "code",
   "execution_count": 19,
   "metadata": {},
   "outputs": [
    {
     "data": {
      "text/html": [
       "<div>\n",
       "<style scoped>\n",
       "    .dataframe tbody tr th:only-of-type {\n",
       "        vertical-align: middle;\n",
       "    }\n",
       "\n",
       "    .dataframe tbody tr th {\n",
       "        vertical-align: top;\n",
       "    }\n",
       "\n",
       "    .dataframe thead th {\n",
       "        text-align: right;\n",
       "    }\n",
       "</style>\n",
       "<table border=\"1\" class=\"dataframe\">\n",
       "  <thead>\n",
       "    <tr style=\"text-align: right;\">\n",
       "      <th></th>\n",
       "      <th>Epoch</th>\n",
       "      <th>TrainLoss</th>\n",
       "    </tr>\n",
       "  </thead>\n",
       "  <tbody>\n",
       "    <tr>\n",
       "      <th>0</th>\n",
       "      <td>1</td>\n",
       "      <td>10.904820</td>\n",
       "    </tr>\n",
       "    <tr>\n",
       "      <th>1</th>\n",
       "      <td>1</td>\n",
       "      <td>9.461005</td>\n",
       "    </tr>\n",
       "    <tr>\n",
       "      <th>2</th>\n",
       "      <td>1</td>\n",
       "      <td>9.158460</td>\n",
       "    </tr>\n",
       "    <tr>\n",
       "      <th>3</th>\n",
       "      <td>1</td>\n",
       "      <td>8.537040</td>\n",
       "    </tr>\n",
       "    <tr>\n",
       "      <th>4</th>\n",
       "      <td>1</td>\n",
       "      <td>8.279226</td>\n",
       "    </tr>\n",
       "    <tr>\n",
       "      <th>...</th>\n",
       "      <td>...</td>\n",
       "      <td>...</td>\n",
       "    </tr>\n",
       "    <tr>\n",
       "      <th>2445</th>\n",
       "      <td>10</td>\n",
       "      <td>0.094989</td>\n",
       "    </tr>\n",
       "    <tr>\n",
       "      <th>2446</th>\n",
       "      <td>10</td>\n",
       "      <td>0.083586</td>\n",
       "    </tr>\n",
       "    <tr>\n",
       "      <th>2447</th>\n",
       "      <td>10</td>\n",
       "      <td>0.076297</td>\n",
       "    </tr>\n",
       "    <tr>\n",
       "      <th>2448</th>\n",
       "      <td>10</td>\n",
       "      <td>0.051895</td>\n",
       "    </tr>\n",
       "    <tr>\n",
       "      <th>2449</th>\n",
       "      <td>10</td>\n",
       "      <td>0.020253</td>\n",
       "    </tr>\n",
       "  </tbody>\n",
       "</table>\n",
       "<p>2450 rows × 2 columns</p>\n",
       "</div>"
      ],
      "text/plain": [
       "      Epoch  TrainLoss\n",
       "0         1  10.904820\n",
       "1         1   9.461005\n",
       "2         1   9.158460\n",
       "3         1   8.537040\n",
       "4         1   8.279226\n",
       "...     ...        ...\n",
       "2445     10   0.094989\n",
       "2446     10   0.083586\n",
       "2447     10   0.076297\n",
       "2448     10   0.051895\n",
       "2449     10   0.020253\n",
       "\n",
       "[2450 rows x 2 columns]"
      ]
     },
     "execution_count": 19,
     "metadata": {},
     "output_type": "execute_result"
    }
   ],
   "source": [
    "metrics_df = pd.DataFrame.from_records(metrics_history)\n",
    "metrics_df"
   ]
  },
  {
   "cell_type": "code",
   "execution_count": 20,
   "metadata": {},
   "outputs": [
    {
     "data": {
      "text/plain": [
       "<Axes: xlabel='Epoch', ylabel='TrainLoss'>"
      ]
     },
     "execution_count": 20,
     "metadata": {},
     "output_type": "execute_result"
    },
    {
     "data": {
      "image/png": "[encoded data removed]",
      "text/plain": [
       "<Figure size 640x480 with 1 Axes>"
      ]
     },
     "metadata": {},
     "output_type": "display_data"
    }
   ],
   "source": [
    "sns.lineplot(data=metrics_df, x=\"Epoch\", y=\"TrainLoss\")"
   ]
  },
  {
   "cell_type": "code",
   "execution_count": 21,
   "metadata": {},
   "outputs": [],
   "source": [
    "torch.save(transformer.state_dict(), MODELS_DIR / \"transformer_v1.pth\")"
   ]
  },
  {
   "cell_type": "markdown",
   "metadata": {},
   "source": [
    "## Playground"
   ]
  },
  {
   "cell_type": "code",
   "execution_count": 22,
   "metadata": {},
   "outputs": [],
   "source": [
    "encoder = Encoder(\n",
    "    d_model=D_MODEL,\n",
    "    ffn_hidden=FFN_HIDDEN,\n",
    "    num_heads=NUM_HEADS,\n",
    "    drop_prob=DROP_PROB,\n",
    "    num_layers=NUM_LAYERS,\n",
    "    max_sequence_length=MAX_SEQUENCE_LENGTH\n",
    ").to(DEVICE)"
   ]
  },
  {
   "cell_type": "code",
   "execution_count": 23,
   "metadata": {},
   "outputs": [
    {
     "data": {
      "text/plain": [
       "torch.Size([32, 50, 512])"
      ]
     },
     "execution_count": 23,
     "metadata": {},
     "output_type": "execute_result"
    }
   ],
   "source": [
    "x = torch.randn( (BATCH_SIZE, MAX_SEQUENCE_LENGTH, N_LANDMARKS) ).to(DEVICE) # includes positional encoding\n",
    "out = encoder(x, self_attention_mask=None)\n",
    "\n",
    "out.shape"
   ]
  },
  {
   "cell_type": "code",
   "execution_count": 24,
   "metadata": {},
   "outputs": [],
   "source": [
    "x = torch.randn( (BATCH_SIZE, MAX_SEQUENCE_LENGTH, D_MODEL) ).to(DEVICE)  # seq of frames (landmarks), batched; positional encoded\n",
    "y = torch.randint(0, VOCAB_SIZE, (BATCH_SIZE, MAX_SEQUENCE_LENGTH) ).to(DEVICE)  # batched tokens ids; positional encoded\n",
    "\n",
    "mask = torch.full([MAX_SEQUENCE_LENGTH, MAX_SEQUENCE_LENGTH] , float('-inf')).to(DEVICE)\n",
    "mask = torch.triu(mask, diagonal=1).to(DEVICE)\n",
    "\n",
    "decoder = Decoder(D_MODEL, FFN_HIDDEN, NUM_HEADS, DROP_PROB, NUM_LAYERS, MAX_SEQUENCE_LENGTH, VOCAB_SIZE).to(DEVICE)\n",
    "\n",
    "out = decoder(x, y, mask, mask)"
   ]
  },
  {
   "cell_type": "code",
   "execution_count": 25,
   "metadata": {},
   "outputs": [
    {
     "data": {
      "text/plain": [
       "torch.Size([32, 50, 512])"
      ]
     },
     "execution_count": 25,
     "metadata": {},
     "output_type": "execute_result"
    }
   ],
   "source": [
    "out.shape"
   ]
  },
  {
   "cell_type": "code",
   "execution_count": 26,
   "metadata": {},
   "outputs": [],
   "source": [
    "transformer = Transformer(\n",
    "    d_model=D_MODEL,\n",
    "    ffn_hidden=FFN_HIDDEN,\n",
    "    num_heads=NUM_HEADS,\n",
    "    drop_prob=DROP_PROB,\n",
    "    num_layers=NUM_LAYERS,\n",
    "    max_sequence_length=MAX_SEQUENCE_LENGTH,\n",
    "    vocab_size=VOCAB_SIZE,\n",
    ").to(DEVICE)"
   ]
  },
  {
   "cell_type": "code",
   "execution_count": 27,
   "metadata": {},
   "outputs": [],
   "source": [
    "x = torch.randn( (BATCH_SIZE, MAX_SEQUENCE_LENGTH, N_LANDMARKS) ).to(get_device())\n",
    "y = torch.randint(0, VOCAB_SIZE, (BATCH_SIZE, MAX_SEQUENCE_LENGTH) ).to(get_device())\n",
    "\n",
    "result = transformer(x, y)"
   ]
  },
  {
   "cell_type": "code",
   "execution_count": 28,
   "metadata": {},
   "outputs": [
    {
     "data": {
      "text/plain": [
       "torch.Size([32, 50, 50000])"
      ]
     },
     "execution_count": 28,
     "metadata": {},
     "output_type": "execute_result"
    }
   ],
   "source": [
    "result.shape"
   ]
  },
  {
   "cell_type": "code",
   "execution_count": 29,
   "metadata": {},
   "outputs": [
    {
     "data": {
      "text/plain": [
       "tensor([[[ 0.9627,  0.0483, -0.8679,  ...,  0.1195, -0.1094,  0.6290],\n",
       "         [ 0.9919,  0.0301, -0.3626,  ...,  0.4176, -0.1630,  0.6565],\n",
       "         [ 0.7686, -0.1704,  0.1748,  ...,  0.5258, -1.4025,  0.5030],\n",
       "         ...,\n",
       "         [ 0.7538,  0.4849, -0.0271,  ...,  0.6694, -0.9478,  0.5285],\n",
       "         [ 1.4585, -0.0435,  0.2559,  ...,  0.3148, -0.3352,  0.6046],\n",
       "         [ 1.2859, -0.6242, -0.3211,  ...,  0.3898, -0.2568,  0.9221]],\n",
       "\n",
       "        [[ 0.3515, -0.5566,  0.1684,  ...,  0.4672, -0.3015,  0.6946],\n",
       "         [ 0.2413,  0.2286,  0.3218,  ...,  0.4733, -0.5607,  0.3345],\n",
       "         [-0.6346,  0.3005,  0.4521,  ...,  0.2904, -0.2683, -0.0039],\n",
       "         ...,\n",
       "         [ 1.1504,  0.6891,  0.5858,  ...,  0.1815, -0.2292,  1.2092],\n",
       "         [ 0.3794,  0.1834,  1.0685,  ..., -0.5546, -0.6466,  0.8908],\n",
       "         [ 0.7399, -0.4228,  0.7433,  ..., -0.5248, -0.4261,  0.9464]],\n",
       "\n",
       "        [[ 0.2302, -0.3049,  0.0202,  ..., -0.2127, -0.0866,  0.4929],\n",
       "         [ 0.9873, -0.2797, -0.7383,  ...,  0.1519,  0.1445, -0.2131],\n",
       "         [-0.1378, -0.1727, -0.4946,  ..., -1.2139, -0.3748,  0.3109],\n",
       "         ...,\n",
       "         [-0.1454,  0.0131,  0.1265,  ..., -0.4625, -0.1370,  0.3924],\n",
       "         [ 0.2196,  0.1182, -0.5297,  ..., -0.2155, -0.6738,  0.0645],\n",
       "         [ 0.3750, -0.2024, -0.3065,  ..., -0.5555,  0.3477,  1.2354]],\n",
       "\n",
       "        ...,\n",
       "\n",
       "        [[ 0.2955,  0.5402,  0.2496,  ..., -0.5783,  0.0545,  1.2552],\n",
       "         [ 0.1350,  0.1505,  0.4742,  ..., -0.4938, -0.0130,  0.3638],\n",
       "         [-0.6198,  0.3269, -0.3388,  ..., -0.4388, -0.9352, -0.2529],\n",
       "         ...,\n",
       "         [ 0.8423, -0.0826, -0.0023,  ...,  0.0031, -0.0271,  0.1231],\n",
       "         [ 0.6491,  0.6096, -0.0604,  ...,  0.5091,  0.0629,  1.0291],\n",
       "         [ 0.3111,  0.5954,  0.3220,  ...,  0.5200,  0.4188,  0.8646]],\n",
       "\n",
       "        [[ 0.1283,  1.0767, -0.2139,  ...,  0.3393, -0.3628,  0.6403],\n",
       "         [ 0.4363, -0.4464, -0.5586,  ...,  0.5151, -0.1203,  0.1716],\n",
       "         [ 0.2657,  0.1674,  0.2283,  ..., -0.4846, -0.2535,  0.0703],\n",
       "         ...,\n",
       "         [ 0.2090,  0.1905, -0.3601,  ..., -0.2685,  0.0966,  0.6247],\n",
       "         [ 0.1762,  0.2879, -0.1387,  ...,  0.4893, -0.2986,  0.6477],\n",
       "         [ 0.0840, -0.2398, -0.2616,  ..., -0.3866, -0.4232,  0.6934]],\n",
       "\n",
       "        [[ 0.4628,  0.6163,  0.3957,  ...,  0.1976, -0.4224,  0.5808],\n",
       "         [-0.3005,  0.6594,  0.1061,  ...,  0.0194, -0.7178,  1.0113],\n",
       "         [ 0.5925, -0.0263, -0.4851,  ...,  0.1753, -0.5518,  0.6798],\n",
       "         ...,\n",
       "         [ 0.5380, -0.1816,  0.2512,  ...,  0.0598,  0.2352,  1.2621],\n",
       "         [ 0.7149,  0.6473,  0.3348,  ...,  0.6328, -0.6345, -0.2003],\n",
       "         [ 0.4973, -0.4273, -0.0854,  ..., -0.3257, -0.2317,  0.6144]]],\n",
       "       device='cuda:0', grad_fn=<ViewBackward0>)"
      ]
     },
     "execution_count": 29,
     "metadata": {},
     "output_type": "execute_result"
    }
   ],
   "source": [
    "result"
   ]
  },
  {
   "cell_type": "code",
   "execution_count": null,
   "metadata": {},
   "outputs": [],
   "source": []
  },
  {
   "cell_type": "code",
   "execution_count": null,
   "metadata": {},
   "outputs": [],
   "source": []
  }
 ],
 "metadata": {
  "kernelspec": {
   "display_name": "base",
   "language": "python",
   "name": "python3"
  },
  "language_info": {
   "codemirror_mode": {
    "name": "ipython",
    "version": 3
   },
   "file_extension": ".py",
   "mimetype": "text/x-python",
   "name": "python",
   "nbconvert_exporter": "python",
   "pygments_lexer": "ipython3",
   "version": "3.10.8"
  },
  "orig_nbformat": 4
 },
 "nbformat": 4,
 "nbformat_minor": 2
}
