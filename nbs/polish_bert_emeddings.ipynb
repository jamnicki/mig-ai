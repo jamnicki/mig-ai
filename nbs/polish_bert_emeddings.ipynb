{
 "cells": [
  {
   "cell_type": "code",
   "execution_count": 1,
   "metadata": {},
   "outputs": [],
   "source": [
    "%load_ext autoreload\n",
    "%autoreload 2"
   ]
  },
  {
   "cell_type": "code",
   "execution_count": 2,
   "metadata": {},
   "outputs": [],
   "source": [
    "import torch\n",
    "from transformers import BertTokenizer, BertModel\n",
    "import json\n",
    "from tqdm.notebook import tqdm\n",
    "\n",
    "from src.settings import POLISH_ANNOTATIONS_FPATH, EMBEDDINGS_DIR"
   ]
  },
  {
   "cell_type": "code",
   "execution_count": 3,
   "metadata": {},
   "outputs": [
    {
     "data": {
      "text/plain": [
       "device(type='cuda')"
      ]
     },
     "execution_count": 3,
     "metadata": {},
     "output_type": "execute_result"
    }
   ],
   "source": [
    "CHECKPOINT = \"dkleczek/bert-base-polish-cased-v1\"\n",
    "DEVICE = torch.device(\"cuda\" if torch.cuda.is_available() else \"cpu\")\n",
    "DEVICE"
   ]
  },
  {
   "cell_type": "code",
   "execution_count": 4,
   "metadata": {},
   "outputs": [],
   "source": [
    "tokenizer = BertTokenizer.from_pretrained(CHECKPOINT, device=DEVICE)\n",
    "model = BertModel.from_pretrained(CHECKPOINT, output_hidden_states=True).to(DEVICE)"
   ]
  },
  {
   "cell_type": "code",
   "execution_count": 5,
   "metadata": {},
   "outputs": [],
   "source": [
    "def get_embedding(text, tokenizer, model, device):\n",
    "    marked_text = \"[CLS] \" + text + \" [SEP]\"\n",
    "    tokenized_text = tokenizer.tokenize(marked_text)\n",
    "    indexed_tokens = tokenizer.convert_tokens_to_ids(tokenized_text)\n",
    "    segments_ids = [1] * len(tokenized_text)\n",
    "\n",
    "    tokens_tensor = torch.tensor([indexed_tokens]).to(device)\n",
    "    segments_tensors = torch.tensor([segments_ids]).to(device)\n",
    "\n",
    "    with torch.no_grad():\n",
    "        outputs = model(tokens_tensor, segments_tensors)\n",
    "\n",
    "    token_vecs = outputs[2][-2][0]\n",
    "    sentence_embedding = torch.mean(token_vecs, dim=0)\n",
    "    return sentence_embedding"
   ]
  },
  {
   "cell_type": "code",
   "execution_count": 6,
   "metadata": {},
   "outputs": [
    {
     "data": {
      "application/vnd.jupyter.widget-view+json": {
       "model_id": "df2fb7e859674f0ba6cdf2cfa7b1e4d4",
       "version_major": 2,
       "version_minor": 0
      },
      "text/plain": [
       "  0%|          | 0/40355 [00:00<?, ?it/s]"
      ]
     },
     "metadata": {},
     "output_type": "display_data"
    }
   ],
   "source": [
    "embeddings = []\n",
    "with open(POLISH_ANNOTATIONS_FPATH, 'r', encoding='utf-8') as file:\n",
    "    for line in tqdm(file, total=40_355):\n",
    "        data = json.loads(line)\n",
    "        text = data['text']\n",
    "        embedding = get_embedding(text, tokenizer, model, DEVICE)\n",
    "        embeddings.append(embedding.tolist())"
   ]
  },
  {
   "cell_type": "code",
   "execution_count": 7,
   "metadata": {},
   "outputs": [
    {
     "name": "stdout",
     "output_type": "stream",
     "text": [
      "Embeddings saved to /app/data/preprocessed/embeddings/polish_annotations__dkleczek__bert_base_polish_cased_v1.json\n"
     ]
    }
   ],
   "source": [
    "safe_model_name = CHECKPOINT.replace('/', '__').replace('-', '_')\n",
    "out_path = EMBEDDINGS_DIR / f\"polish_annotations__{safe_model_name}.json\"\n",
    "with open(out_path, 'w', encoding='utf-8') as outfile:\n",
    "    json.dump(embeddings, outfile)\n",
    "\n",
    "print(f\"Embeddings saved to {out_path}\")"
   ]
  },
  {
   "cell_type": "code",
   "execution_count": null,
   "metadata": {},
   "outputs": [],
   "source": []
  }
 ],
 "metadata": {
  "kernelspec": {
   "display_name": ".venv",
   "language": "python",
   "name": "python3"
  },
  "language_info": {
   "codemirror_mode": {
    "name": "ipython",
    "version": 3
   },
   "file_extension": ".py",
   "mimetype": "text/x-python",
   "name": "python",
   "nbconvert_exporter": "python",
   "pygments_lexer": "ipython3",
   "version": "3.10.8"
  }
 },
 "nbformat": 4,
 "nbformat_minor": 2
}
