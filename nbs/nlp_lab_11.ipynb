{
 "cells": [
  {
   "cell_type": "code",
   "execution_count": 108,
   "metadata": {},
   "outputs": [],
   "source": [
    "import torch\n",
    "from torch.utils.data.dataloader import DataLoader\n",
    "from torch.utils.data import IterableDataset, Dataset\n",
    "\n",
    "from transformers import AutoTokenizer, AutoModel, AutoModelForSequenceClassification, TrainingArguments, Trainer\n",
    "\n",
    "import pandas as pd\n",
    "import numpy as np\n",
    "import json\n",
    "\n",
    "import re\n",
    "from termcolor import colored\n",
    "from tqdm.auto import tqdm\n",
    "\n",
    "from src.settings import POLISH_ANNOTATIONS_FPATH, EMBEDDINGS_DIR\n",
    "\n",
    "tqdm.pandas()"
   ]
  },
  {
   "cell_type": "code",
   "execution_count": 2,
   "metadata": {},
   "outputs": [
    {
     "data": {
      "text/html": [
       "<div>\n",
       "<style scoped>\n",
       "    .dataframe tbody tr th:only-of-type {\n",
       "        vertical-align: middle;\n",
       "    }\n",
       "\n",
       "    .dataframe tbody tr th {\n",
       "        vertical-align: top;\n",
       "    }\n",
       "\n",
       "    .dataframe thead th {\n",
       "        text-align: right;\n",
       "    }\n",
       "</style>\n",
       "<table border=\"1\" class=\"dataframe\">\n",
       "  <thead>\n",
       "    <tr style=\"text-align: right;\">\n",
       "      <th></th>\n",
       "      <th>start</th>\n",
       "      <th>end</th>\n",
       "      <th>text</th>\n",
       "      <th>doc_filepath</th>\n",
       "      <th>video_filename</th>\n",
       "      <th>task_label</th>\n",
       "    </tr>\n",
       "  </thead>\n",
       "  <tbody>\n",
       "    <tr>\n",
       "      <th>0</th>\n",
       "      <td>39040</td>\n",
       "      <td>41120</td>\n",
       "      <td>Myślę, że mam inny pomysł, można?</td>\n",
       "      <td>/15/K66BF13-26_15_15_signsNO.eaf</td>\n",
       "      <td>K66BF13-26.mp4</td>\n",
       "      <td>15</td>\n",
       "    </tr>\n",
       "    <tr>\n",
       "      <th>1</th>\n",
       "      <td>41120</td>\n",
       "      <td>49680</td>\n",
       "      <td>Chyba ten znak mówi, że jak ktoś będzie spacer...</td>\n",
       "      <td>/15/K66BF13-26_15_15_signsNO.eaf</td>\n",
       "      <td>K66BF13-26.mp4</td>\n",
       "      <td>15</td>\n",
       "    </tr>\n",
       "    <tr>\n",
       "      <th>2</th>\n",
       "      <td>49680</td>\n",
       "      <td>55280</td>\n",
       "      <td>Trzeba przejść łukiem obok leżącego i o tym zn...</td>\n",
       "      <td>/15/K66BF13-26_15_15_signsNO.eaf</td>\n",
       "      <td>K66BF13-26.mp4</td>\n",
       "      <td>15</td>\n",
       "    </tr>\n",
       "    <tr>\n",
       "      <th>3</th>\n",
       "      <td>61280</td>\n",
       "      <td>66840</td>\n",
       "      <td>Okrągły znak pomaga nam, mówi, że są pasy na u...</td>\n",
       "      <td>/15/K66BF13-26_15_15_signsNO.eaf</td>\n",
       "      <td>K66BF13-26.mp4</td>\n",
       "      <td>15</td>\n",
       "    </tr>\n",
       "    <tr>\n",
       "      <th>4</th>\n",
       "      <td>66840</td>\n",
       "      <td>73200</td>\n",
       "      <td>Jak ktoś zobaczy, ale zignoruje ten znak, to m...</td>\n",
       "      <td>/15/K66BF13-26_15_15_signsNO.eaf</td>\n",
       "      <td>K66BF13-26.mp4</td>\n",
       "      <td>15</td>\n",
       "    </tr>\n",
       "    <tr>\n",
       "      <th>...</th>\n",
       "      <td>...</td>\n",
       "      <td>...</td>\n",
       "      <td>...</td>\n",
       "      <td>...</td>\n",
       "      <td>...</td>\n",
       "      <td>...</td>\n",
       "    </tr>\n",
       "    <tr>\n",
       "      <th>40350</th>\n",
       "      <td>248960</td>\n",
       "      <td>250320</td>\n",
       "      <td>[uderzanie w coś]</td>\n",
       "      <td>/13/K17BF13-26_13_13_comics.eaf</td>\n",
       "      <td>K17BF13-26.mp4</td>\n",
       "      <td>13</td>\n",
       "    </tr>\n",
       "    <tr>\n",
       "      <th>40351</th>\n",
       "      <td>279560</td>\n",
       "      <td>291400</td>\n",
       "      <td>Kot zobaczył w akwarium rybkę. Podszedł i dał ...</td>\n",
       "      <td>/13/K17BF13-26_13_13_comics.eaf</td>\n",
       "      <td>K17BF13-26.mp4</td>\n",
       "      <td>13</td>\n",
       "    </tr>\n",
       "    <tr>\n",
       "      <th>40352</th>\n",
       "      <td>291400</td>\n",
       "      <td>347120</td>\n",
       "      <td>Zjadłam, zjadłam.</td>\n",
       "      <td>/13/K17BF13-26_13_13_comics.eaf</td>\n",
       "      <td>K17BF13-26.mp4</td>\n",
       "      <td>13</td>\n",
       "    </tr>\n",
       "    <tr>\n",
       "      <th>40353</th>\n",
       "      <td>347120</td>\n",
       "      <td>356440</td>\n",
       "      <td>Zając biegnie, zobaczył wiszące pranie. Wskocz...</td>\n",
       "      <td>/13/K17BF13-26_13_13_comics.eaf</td>\n",
       "      <td>K17BF13-26.mp4</td>\n",
       "      <td>13</td>\n",
       "    </tr>\n",
       "    <tr>\n",
       "      <th>40354</th>\n",
       "      <td>359240</td>\n",
       "      <td>361760</td>\n",
       "      <td>Kombinezon dziecka, tak na siebie założył.</td>\n",
       "      <td>/13/K17BF13-26_13_13_comics.eaf</td>\n",
       "      <td>K17BF13-26.mp4</td>\n",
       "      <td>13</td>\n",
       "    </tr>\n",
       "  </tbody>\n",
       "</table>\n",
       "<p>40355 rows × 6 columns</p>\n",
       "</div>"
      ],
      "text/plain": [
       "        start     end                                               text  \\\n",
       "0       39040   41120                  Myślę, że mam inny pomysł, można?   \n",
       "1       41120   49680  Chyba ten znak mówi, że jak ktoś będzie spacer...   \n",
       "2       49680   55280  Trzeba przejść łukiem obok leżącego i o tym zn...   \n",
       "3       61280   66840  Okrągły znak pomaga nam, mówi, że są pasy na u...   \n",
       "4       66840   73200  Jak ktoś zobaczy, ale zignoruje ten znak, to m...   \n",
       "...       ...     ...                                                ...   \n",
       "40350  248960  250320                                  [uderzanie w coś]   \n",
       "40351  279560  291400  Kot zobaczył w akwarium rybkę. Podszedł i dał ...   \n",
       "40352  291400  347120                                  Zjadłam, zjadłam.   \n",
       "40353  347120  356440  Zając biegnie, zobaczył wiszące pranie. Wskocz...   \n",
       "40354  359240  361760         Kombinezon dziecka, tak na siebie założył.   \n",
       "\n",
       "                           doc_filepath  video_filename  task_label  \n",
       "0      /15/K66BF13-26_15_15_signsNO.eaf  K66BF13-26.mp4          15  \n",
       "1      /15/K66BF13-26_15_15_signsNO.eaf  K66BF13-26.mp4          15  \n",
       "2      /15/K66BF13-26_15_15_signsNO.eaf  K66BF13-26.mp4          15  \n",
       "3      /15/K66BF13-26_15_15_signsNO.eaf  K66BF13-26.mp4          15  \n",
       "4      /15/K66BF13-26_15_15_signsNO.eaf  K66BF13-26.mp4          15  \n",
       "...                                 ...             ...         ...  \n",
       "40350   /13/K17BF13-26_13_13_comics.eaf  K17BF13-26.mp4          13  \n",
       "40351   /13/K17BF13-26_13_13_comics.eaf  K17BF13-26.mp4          13  \n",
       "40352   /13/K17BF13-26_13_13_comics.eaf  K17BF13-26.mp4          13  \n",
       "40353   /13/K17BF13-26_13_13_comics.eaf  K17BF13-26.mp4          13  \n",
       "40354   /13/K17BF13-26_13_13_comics.eaf  K17BF13-26.mp4          13  \n",
       "\n",
       "[40355 rows x 6 columns]"
      ]
     },
     "execution_count": 2,
     "metadata": {},
     "output_type": "execute_result"
    }
   ],
   "source": [
    "pl_ann_df = pd.read_json(POLISH_ANNOTATIONS_FPATH, lines=True)\n",
    "pl_ann_df"
   ]
  },
  {
   "cell_type": "markdown",
   "metadata": {},
   "source": [
    "## Metadata"
   ]
  },
  {
   "cell_type": "code",
   "execution_count": 3,
   "metadata": {},
   "outputs": [
    {
     "data": {
      "text/html": [
       "<div>\n",
       "<style scoped>\n",
       "    .dataframe tbody tr th:only-of-type {\n",
       "        vertical-align: middle;\n",
       "    }\n",
       "\n",
       "    .dataframe tbody tr th {\n",
       "        vertical-align: top;\n",
       "    }\n",
       "\n",
       "    .dataframe thead th {\n",
       "        text-align: right;\n",
       "    }\n",
       "</style>\n",
       "<table border=\"1\" class=\"dataframe\">\n",
       "  <thead>\n",
       "    <tr style=\"text-align: right;\">\n",
       "      <th></th>\n",
       "      <th>index</th>\n",
       "      <th>start</th>\n",
       "      <th>end</th>\n",
       "      <th>text</th>\n",
       "      <th>doc_filepath</th>\n",
       "      <th>video_filename</th>\n",
       "      <th>task_label</th>\n",
       "    </tr>\n",
       "  </thead>\n",
       "  <tbody>\n",
       "    <tr>\n",
       "      <th>0</th>\n",
       "      <td>12238</td>\n",
       "      <td>40960</td>\n",
       "      <td>42880</td>\n",
       "      <td>[Pozostali mówią:] Ej, był alarm, walili w drzwi.</td>\n",
       "      <td>/24/K08BF17-26_24_24_alarm.eaf</td>\n",
       "      <td>K08BF17-26.mp4</td>\n",
       "      <td>24</td>\n",
       "    </tr>\n",
       "    <tr>\n",
       "      <th>1</th>\n",
       "      <td>12853</td>\n",
       "      <td>42480</td>\n",
       "      <td>43760</td>\n",
       "      <td>Głusi zastanawiają się, [co się dzieje].</td>\n",
       "      <td>/24/K03BF22-26_24_24_alarm.eaf</td>\n",
       "      <td>K03BF22-26.mp4</td>\n",
       "      <td>24</td>\n",
       "    </tr>\n",
       "    <tr>\n",
       "      <th>2</th>\n",
       "      <td>14427</td>\n",
       "      <td>127920</td>\n",
       "      <td>131600</td>\n",
       "      <td>Dobra, inny [dzień], poczekaj, szacuję...</td>\n",
       "      <td>/07/K21AF01-16_07_07_calendar.eaf</td>\n",
       "      <td>K21AF01-16.mp4</td>\n",
       "      <td>7</td>\n",
       "    </tr>\n",
       "    <tr>\n",
       "      <th>3</th>\n",
       "      <td>23918</td>\n",
       "      <td>144520</td>\n",
       "      <td>145480</td>\n",
       "      <td>A ten chłopiec z rowerem [mówi]: dobrze, dobrze.</td>\n",
       "      <td>/17/K08AF17-26_17_pears_17_pears_pears.eaf</td>\n",
       "      <td>K08AF17-26.mp4</td>\n",
       "      <td>17</td>\n",
       "    </tr>\n",
       "    <tr>\n",
       "      <th>4</th>\n",
       "      <td>25326</td>\n",
       "      <td>127000</td>\n",
       "      <td>130200</td>\n",
       "      <td>[Charlie] kopie go, [mały] odskoczył, cofa się...</td>\n",
       "      <td>/17/K16BF15-26_17_kid_17_kid_chaplin.eaf</td>\n",
       "      <td>K16BF15-26.mp4</td>\n",
       "      <td>17</td>\n",
       "    </tr>\n",
       "    <tr>\n",
       "      <th>5</th>\n",
       "      <td>29863</td>\n",
       "      <td>13160</td>\n",
       "      <td>17920</td>\n",
       "      <td>Oni [pies i chłopiec] wstali, zobaczyli, że ni...</td>\n",
       "      <td>/08/K32AF01-16_08_frog_08_frog_frog.eaf</td>\n",
       "      <td>K32AF01-16.mp4</td>\n",
       "      <td>8</td>\n",
       "    </tr>\n",
       "    <tr>\n",
       "      <th>6</th>\n",
       "      <td>39210</td>\n",
       "      <td>107200</td>\n",
       "      <td>112440</td>\n",
       "      <td>Wypluł wodę. Nabrał wody i wypluł. [Kot] oblan...</td>\n",
       "      <td>/13/K32AF01-16_13_13_comics.eaf</td>\n",
       "      <td>K32AF01-16.mp4</td>\n",
       "      <td>13</td>\n",
       "    </tr>\n",
       "    <tr>\n",
       "      <th>7</th>\n",
       "      <td>39629</td>\n",
       "      <td>0</td>\n",
       "      <td>6640</td>\n",
       "      <td>Są dwie Myszki [Miki]: jedna jest duża, a drug...</td>\n",
       "      <td>/13/K09AF01-15_13_13_comics.eaf</td>\n",
       "      <td>K09AF01-15.mp4</td>\n",
       "      <td>13</td>\n",
       "    </tr>\n",
       "    <tr>\n",
       "      <th>8</th>\n",
       "      <td>39632</td>\n",
       "      <td>12000</td>\n",
       "      <td>16360</td>\n",
       "      <td>Ta duża Myszka [Miki] ma na głowie jabłko.</td>\n",
       "      <td>/13/K09AF01-15_13_13_comics.eaf</td>\n",
       "      <td>K09AF01-15.mp4</td>\n",
       "      <td>13</td>\n",
       "    </tr>\n",
       "    <tr>\n",
       "      <th>9</th>\n",
       "      <td>39648</td>\n",
       "      <td>146720</td>\n",
       "      <td>149320</td>\n",
       "      <td>Jest Myszka [Miki]. To kobieta.</td>\n",
       "      <td>/13/K09AF01-15_13_13_comics.eaf</td>\n",
       "      <td>K09AF01-15.mp4</td>\n",
       "      <td>13</td>\n",
       "    </tr>\n",
       "    <tr>\n",
       "      <th>10</th>\n",
       "      <td>40350</td>\n",
       "      <td>248960</td>\n",
       "      <td>250320</td>\n",
       "      <td>[uderzanie w coś]</td>\n",
       "      <td>/13/K17BF13-26_13_13_comics.eaf</td>\n",
       "      <td>K17BF13-26.mp4</td>\n",
       "      <td>13</td>\n",
       "    </tr>\n",
       "  </tbody>\n",
       "</table>\n",
       "</div>"
      ],
      "text/plain": [
       "    index   start     end                                               text  \\\n",
       "0   12238   40960   42880  [Pozostali mówią:] Ej, był alarm, walili w drzwi.   \n",
       "1   12853   42480   43760           Głusi zastanawiają się, [co się dzieje].   \n",
       "2   14427  127920  131600          Dobra, inny [dzień], poczekaj, szacuję...   \n",
       "3   23918  144520  145480   A ten chłopiec z rowerem [mówi]: dobrze, dobrze.   \n",
       "4   25326  127000  130200  [Charlie] kopie go, [mały] odskoczył, cofa się...   \n",
       "5   29863   13160   17920  Oni [pies i chłopiec] wstali, zobaczyli, że ni...   \n",
       "6   39210  107200  112440  Wypluł wodę. Nabrał wody i wypluł. [Kot] oblan...   \n",
       "7   39629       0    6640  Są dwie Myszki [Miki]: jedna jest duża, a drug...   \n",
       "8   39632   12000   16360         Ta duża Myszka [Miki] ma na głowie jabłko.   \n",
       "9   39648  146720  149320                    Jest Myszka [Miki]. To kobieta.   \n",
       "10  40350  248960  250320                                  [uderzanie w coś]   \n",
       "\n",
       "                                  doc_filepath  video_filename  task_label  \n",
       "0               /24/K08BF17-26_24_24_alarm.eaf  K08BF17-26.mp4          24  \n",
       "1               /24/K03BF22-26_24_24_alarm.eaf  K03BF22-26.mp4          24  \n",
       "2            /07/K21AF01-16_07_07_calendar.eaf  K21AF01-16.mp4           7  \n",
       "3   /17/K08AF17-26_17_pears_17_pears_pears.eaf  K08AF17-26.mp4          17  \n",
       "4     /17/K16BF15-26_17_kid_17_kid_chaplin.eaf  K16BF15-26.mp4          17  \n",
       "5      /08/K32AF01-16_08_frog_08_frog_frog.eaf  K32AF01-16.mp4           8  \n",
       "6              /13/K32AF01-16_13_13_comics.eaf  K32AF01-16.mp4          13  \n",
       "7              /13/K09AF01-15_13_13_comics.eaf  K09AF01-15.mp4          13  \n",
       "8              /13/K09AF01-15_13_13_comics.eaf  K09AF01-15.mp4          13  \n",
       "9              /13/K09AF01-15_13_13_comics.eaf  K09AF01-15.mp4          13  \n",
       "10             /13/K17BF13-26_13_13_comics.eaf  K17BF13-26.mp4          13  "
      ]
     },
     "execution_count": 3,
     "metadata": {},
     "output_type": "execute_result"
    }
   ],
   "source": [
    "records_wth_metadata = pl_ann_df[pl_ann_df['text'].str.contains(r'\\[|\\]', regex=True)].reset_index()\n",
    "records_wth_metadata"
   ]
  },
  {
   "cell_type": "code",
   "execution_count": 4,
   "metadata": {},
   "outputs": [
    {
     "data": {
      "text/plain": [
       "0.0002725808450006195"
      ]
     },
     "execution_count": 4,
     "metadata": {},
     "output_type": "execute_result"
    }
   ],
   "source": [
    "records_wth_metadata.shape[0] / pl_ann_df.shape[0]"
   ]
  },
  {
   "cell_type": "code",
   "execution_count": 5,
   "metadata": {},
   "outputs": [
    {
     "name": "stdout",
     "output_type": "stream",
     "text": [
      "\u001b[33m[Pozostali mówią:]\u001b[0m Ej, był alarm, walili w drzwi.\n",
      "Głusi zastanawiają się, \u001b[33m[co się dzieje]\u001b[0m.\n",
      "Dobra, inny \u001b[33m[dzień]\u001b[0m, poczekaj, szacuję...\n",
      "A ten chłopiec z rowerem \u001b[33m[mówi]\u001b[0m: dobrze, dobrze.\n",
      "\u001b[33m[Charlie]\u001b[0m kopie go, \u001b[33m[mały]\u001b[0m odskoczył, cofa się, idzie.\n",
      "Oni \u001b[33m[pies i chłopiec]\u001b[0m wstali, zobaczyli, że nie ma żaby, więc szukają.\n",
      "Wypluł wodę. Nabrał wody i wypluł. \u001b[33m[Kot]\u001b[0m oblany wodą zrezygnował i poszedł.\n",
      "Są dwie Myszki \u001b[33m[Miki]\u001b[0m: jedna jest duża, a druga mała.\n",
      "Ta duża Myszka \u001b[33m[Miki]\u001b[0m ma na głowie jabłko.\n",
      "Jest Myszka \u001b[33m[Miki]\u001b[0m. To kobieta.\n",
      "\u001b[33m[uderzanie w coś]\u001b[0m\n"
     ]
    }
   ],
   "source": [
    "for meta_text in records_wth_metadata['text']:\n",
    "    metadata_list = re.findall(r'\\[.*?\\]', meta_text)\n",
    "    for metadata in metadata_list:\n",
    "        meta_text = meta_text.replace(metadata, colored(metadata, 'yellow'))\n",
    "    print(meta_text)"
   ]
  },
  {
   "cell_type": "markdown",
   "metadata": {},
   "source": [
    "## Dataset"
   ]
  },
  {
   "cell_type": "code",
   "execution_count": 6,
   "metadata": {},
   "outputs": [
    {
     "name": "stderr",
     "output_type": "stream",
     "text": [
      "Some weights of the model checkpoint at allegro/herbert-base-cased were not used when initializing BertModel: ['cls.predictions.transform.LayerNorm.bias', 'cls.predictions.transform.dense.bias', 'cls.predictions.transform.dense.weight', 'cls.predictions.decoder.bias', 'cls.predictions.bias', 'cls.sso.sso_relationship.bias', 'cls.sso.sso_relationship.weight', 'cls.predictions.transform.LayerNorm.weight', 'cls.predictions.decoder.weight']\n",
      "- This IS expected if you are initializing BertModel from the checkpoint of a model trained on another task or with another architecture (e.g. initializing a BertForSequenceClassification model from a BertForPreTraining model).\n",
      "- This IS NOT expected if you are initializing BertModel from the checkpoint of a model that you expect to be exactly identical (initializing a BertForSequenceClassification model from a BertForSequenceClassification model).\n"
     ]
    }
   ],
   "source": [
    "herbert_tokenizer = AutoTokenizer.from_pretrained(\"allegro/herbert-base-cased\")\n",
    "herbert = AutoModel.from_pretrained(\"allegro/herbert-base-cased\").to(\"cuda:0\")"
   ]
  },
  {
   "cell_type": "code",
   "execution_count": 7,
   "metadata": {},
   "outputs": [
    {
     "data": {
      "text/plain": [
       "(768,)"
      ]
     },
     "execution_count": 7,
     "metadata": {},
     "output_type": "execute_result"
    }
   ],
   "source": [
    "def get_herbert_embedding(text: str, emb_model=None, tokenizer=None, device: str = \"cuda\") -> np.ndarray:\n",
    "    return emb_model(\n",
    "        **tokenizer.encode_plus(text,\n",
    "            padding='longest',\n",
    "            add_special_tokens=True,\n",
    "            return_tensors='pt'\n",
    "        ).to(device)\n",
    "    ).pooler_output.to(\"cpu\").detach().numpy()[0]\n",
    "\n",
    "get_herbert_embedding(\"Ala ma kota\", emb_model=herbert, tokenizer=herbert_tokenizer,).shape"
   ]
  },
  {
   "cell_type": "code",
   "execution_count": 9,
   "metadata": {},
   "outputs": [
    {
     "data": {
      "application/vnd.jupyter.widget-view+json": {
       "model_id": "cef6f6a4df4d48f0a82559c526c90f3d",
       "version_major": 2,
       "version_minor": 0
      },
      "text/plain": [
       "  0%|          | 0/40355 [00:00<?, ?it/s]"
      ]
     },
     "metadata": {},
     "output_type": "display_data"
    }
   ],
   "source": [
    "dataset = pl_ann_df.copy().drop(columns=[\"start\", \"end\", \"doc_filepath\", \"video_filename\"]) \\\n",
    "    # .sample(frac=0.2)\n",
    "\n",
    "dataset[\"embedding\"] = dataset[\"text\"].progress_apply(get_herbert_embedding, args=(herbert, herbert_tokenizer,))"
   ]
  },
  {
   "cell_type": "code",
   "execution_count": 10,
   "metadata": {},
   "outputs": [],
   "source": [
    "dataset[\"task_label\"] = dataset[\"task_label\"].astype(\"str\")"
   ]
  },
  {
   "cell_type": "code",
   "execution_count": 11,
   "metadata": {},
   "outputs": [
    {
     "data": {
      "text/html": [
       "<div>\n",
       "<style scoped>\n",
       "    .dataframe tbody tr th:only-of-type {\n",
       "        vertical-align: middle;\n",
       "    }\n",
       "\n",
       "    .dataframe tbody tr th {\n",
       "        vertical-align: top;\n",
       "    }\n",
       "\n",
       "    .dataframe thead th {\n",
       "        text-align: right;\n",
       "    }\n",
       "</style>\n",
       "<table border=\"1\" class=\"dataframe\">\n",
       "  <thead>\n",
       "    <tr style=\"text-align: right;\">\n",
       "      <th></th>\n",
       "      <th>text</th>\n",
       "      <th>task_label</th>\n",
       "      <th>embedding</th>\n",
       "    </tr>\n",
       "  </thead>\n",
       "  <tbody>\n",
       "    <tr>\n",
       "      <th>0</th>\n",
       "      <td>Myślę, że mam inny pomysł, można?</td>\n",
       "      <td>15</td>\n",
       "      <td>[-0.039401494, 0.04514404, -0.07359819, 0.9993...</td>\n",
       "    </tr>\n",
       "    <tr>\n",
       "      <th>1</th>\n",
       "      <td>Chyba ten znak mówi, że jak ktoś będzie spacer...</td>\n",
       "      <td>15</td>\n",
       "      <td>[-0.041031707, 0.18905161, -0.24736977, 0.9991...</td>\n",
       "    </tr>\n",
       "    <tr>\n",
       "      <th>2</th>\n",
       "      <td>Trzeba przejść łukiem obok leżącego i o tym zn...</td>\n",
       "      <td>15</td>\n",
       "      <td>[-0.09941986, 0.25549677, -0.27581707, 0.99669...</td>\n",
       "    </tr>\n",
       "    <tr>\n",
       "      <th>3</th>\n",
       "      <td>Okrągły znak pomaga nam, mówi, że są pasy na u...</td>\n",
       "      <td>15</td>\n",
       "      <td>[-0.2382573, -0.018337384, -0.060853552, 0.998...</td>\n",
       "    </tr>\n",
       "    <tr>\n",
       "      <th>4</th>\n",
       "      <td>Jak ktoś zobaczy, ale zignoruje ten znak, to m...</td>\n",
       "      <td>15</td>\n",
       "      <td>[-0.12970468, 0.22667477, -0.3403942, 0.995259...</td>\n",
       "    </tr>\n",
       "    <tr>\n",
       "      <th>...</th>\n",
       "      <td>...</td>\n",
       "      <td>...</td>\n",
       "      <td>...</td>\n",
       "    </tr>\n",
       "    <tr>\n",
       "      <th>40350</th>\n",
       "      <td>[uderzanie w coś]</td>\n",
       "      <td>13</td>\n",
       "      <td>[-0.18567152, 0.090941064, -0.07056465, 0.9985...</td>\n",
       "    </tr>\n",
       "    <tr>\n",
       "      <th>40351</th>\n",
       "      <td>Kot zobaczył w akwarium rybkę. Podszedł i dał ...</td>\n",
       "      <td>13</td>\n",
       "      <td>[-0.0069994903, -0.033343423, -0.19992347, 0.9...</td>\n",
       "    </tr>\n",
       "    <tr>\n",
       "      <th>40352</th>\n",
       "      <td>Zjadłam, zjadłam.</td>\n",
       "      <td>13</td>\n",
       "      <td>[-0.002218116, 0.15197517, -0.0095876055, 0.99...</td>\n",
       "    </tr>\n",
       "    <tr>\n",
       "      <th>40353</th>\n",
       "      <td>Zając biegnie, zobaczył wiszące pranie. Wskocz...</td>\n",
       "      <td>13</td>\n",
       "      <td>[0.04677121, -0.19330807, -0.19553015, 0.99709...</td>\n",
       "    </tr>\n",
       "    <tr>\n",
       "      <th>40354</th>\n",
       "      <td>Kombinezon dziecka, tak na siebie założył.</td>\n",
       "      <td>13</td>\n",
       "      <td>[-0.1957008, -0.2522222, -0.07181167, 0.999102...</td>\n",
       "    </tr>\n",
       "  </tbody>\n",
       "</table>\n",
       "<p>40355 rows × 3 columns</p>\n",
       "</div>"
      ],
      "text/plain": [
       "                                                    text task_label  \\\n",
       "0                      Myślę, że mam inny pomysł, można?         15   \n",
       "1      Chyba ten znak mówi, że jak ktoś będzie spacer...         15   \n",
       "2      Trzeba przejść łukiem obok leżącego i o tym zn...         15   \n",
       "3      Okrągły znak pomaga nam, mówi, że są pasy na u...         15   \n",
       "4      Jak ktoś zobaczy, ale zignoruje ten znak, to m...         15   \n",
       "...                                                  ...        ...   \n",
       "40350                                  [uderzanie w coś]         13   \n",
       "40351  Kot zobaczył w akwarium rybkę. Podszedł i dał ...         13   \n",
       "40352                                  Zjadłam, zjadłam.         13   \n",
       "40353  Zając biegnie, zobaczył wiszące pranie. Wskocz...         13   \n",
       "40354         Kombinezon dziecka, tak na siebie założył.         13   \n",
       "\n",
       "                                               embedding  \n",
       "0      [-0.039401494, 0.04514404, -0.07359819, 0.9993...  \n",
       "1      [-0.041031707, 0.18905161, -0.24736977, 0.9991...  \n",
       "2      [-0.09941986, 0.25549677, -0.27581707, 0.99669...  \n",
       "3      [-0.2382573, -0.018337384, -0.060853552, 0.998...  \n",
       "4      [-0.12970468, 0.22667477, -0.3403942, 0.995259...  \n",
       "...                                                  ...  \n",
       "40350  [-0.18567152, 0.090941064, -0.07056465, 0.9985...  \n",
       "40351  [-0.0069994903, -0.033343423, -0.19992347, 0.9...  \n",
       "40352  [-0.002218116, 0.15197517, -0.0095876055, 0.99...  \n",
       "40353  [0.04677121, -0.19330807, -0.19553015, 0.99709...  \n",
       "40354  [-0.1957008, -0.2522222, -0.07181167, 0.999102...  \n",
       "\n",
       "[40355 rows x 3 columns]"
      ]
     },
     "execution_count": 11,
     "metadata": {},
     "output_type": "execute_result"
    }
   ],
   "source": [
    "dataset"
   ]
  },
  {
   "cell_type": "code",
   "execution_count": 12,
   "metadata": {},
   "outputs": [
    {
     "data": {
      "text/plain": [
       "text          0\n",
       "task_label    0\n",
       "embedding     0\n",
       "dtype: int64"
      ]
     },
     "execution_count": 12,
     "metadata": {},
     "output_type": "execute_result"
    }
   ],
   "source": [
    "dataset.isna().sum()"
   ]
  },
  {
   "cell_type": "code",
   "execution_count": 14,
   "metadata": {},
   "outputs": [],
   "source": [
    "def get_target_vec(label, mapping):\n",
    "    vec = np.zeros(len(mapping))\n",
    "    vec[mapping[label]] = 1\n",
    "    return vec\n",
    "\n",
    "dataset[\"target\"] = dataset[\"task_label\"].apply(get_target_vec, args=(label2id,))"
   ]
  },
  {
   "cell_type": "code",
   "execution_count": 15,
   "metadata": {},
   "outputs": [
    {
     "data": {
      "text/html": [
       "<div>\n",
       "<style scoped>\n",
       "    .dataframe tbody tr th:only-of-type {\n",
       "        vertical-align: middle;\n",
       "    }\n",
       "\n",
       "    .dataframe tbody tr th {\n",
       "        vertical-align: top;\n",
       "    }\n",
       "\n",
       "    .dataframe thead th {\n",
       "        text-align: right;\n",
       "    }\n",
       "</style>\n",
       "<table border=\"1\" class=\"dataframe\">\n",
       "  <thead>\n",
       "    <tr style=\"text-align: right;\">\n",
       "      <th></th>\n",
       "      <th>text</th>\n",
       "      <th>task_label</th>\n",
       "      <th>embedding</th>\n",
       "      <th>target</th>\n",
       "    </tr>\n",
       "  </thead>\n",
       "  <tbody>\n",
       "    <tr>\n",
       "      <th>0</th>\n",
       "      <td>Myślę, że mam inny pomysł, można?</td>\n",
       "      <td>15</td>\n",
       "      <td>[-0.039401494, 0.04514404, -0.07359819, 0.9993...</td>\n",
       "      <td>[1.0, 0.0, 0.0, 0.0, 0.0, 0.0]</td>\n",
       "    </tr>\n",
       "    <tr>\n",
       "      <th>1</th>\n",
       "      <td>Chyba ten znak mówi, że jak ktoś będzie spacer...</td>\n",
       "      <td>15</td>\n",
       "      <td>[-0.041031707, 0.18905161, -0.24736977, 0.9991...</td>\n",
       "      <td>[1.0, 0.0, 0.0, 0.0, 0.0, 0.0]</td>\n",
       "    </tr>\n",
       "    <tr>\n",
       "      <th>2</th>\n",
       "      <td>Trzeba przejść łukiem obok leżącego i o tym zn...</td>\n",
       "      <td>15</td>\n",
       "      <td>[-0.09941986, 0.25549677, -0.27581707, 0.99669...</td>\n",
       "      <td>[1.0, 0.0, 0.0, 0.0, 0.0, 0.0]</td>\n",
       "    </tr>\n",
       "    <tr>\n",
       "      <th>3</th>\n",
       "      <td>Okrągły znak pomaga nam, mówi, że są pasy na u...</td>\n",
       "      <td>15</td>\n",
       "      <td>[-0.2382573, -0.018337384, -0.060853552, 0.998...</td>\n",
       "      <td>[1.0, 0.0, 0.0, 0.0, 0.0, 0.0]</td>\n",
       "    </tr>\n",
       "    <tr>\n",
       "      <th>4</th>\n",
       "      <td>Jak ktoś zobaczy, ale zignoruje ten znak, to m...</td>\n",
       "      <td>15</td>\n",
       "      <td>[-0.12970468, 0.22667477, -0.3403942, 0.995259...</td>\n",
       "      <td>[1.0, 0.0, 0.0, 0.0, 0.0, 0.0]</td>\n",
       "    </tr>\n",
       "    <tr>\n",
       "      <th>...</th>\n",
       "      <td>...</td>\n",
       "      <td>...</td>\n",
       "      <td>...</td>\n",
       "      <td>...</td>\n",
       "    </tr>\n",
       "    <tr>\n",
       "      <th>40350</th>\n",
       "      <td>[uderzanie w coś]</td>\n",
       "      <td>13</td>\n",
       "      <td>[-0.18567152, 0.090941064, -0.07056465, 0.9985...</td>\n",
       "      <td>[0.0, 0.0, 0.0, 0.0, 0.0, 1.0]</td>\n",
       "    </tr>\n",
       "    <tr>\n",
       "      <th>40351</th>\n",
       "      <td>Kot zobaczył w akwarium rybkę. Podszedł i dał ...</td>\n",
       "      <td>13</td>\n",
       "      <td>[-0.0069994903, -0.033343423, -0.19992347, 0.9...</td>\n",
       "      <td>[0.0, 0.0, 0.0, 0.0, 0.0, 1.0]</td>\n",
       "    </tr>\n",
       "    <tr>\n",
       "      <th>40352</th>\n",
       "      <td>Zjadłam, zjadłam.</td>\n",
       "      <td>13</td>\n",
       "      <td>[-0.002218116, 0.15197517, -0.0095876055, 0.99...</td>\n",
       "      <td>[0.0, 0.0, 0.0, 0.0, 0.0, 1.0]</td>\n",
       "    </tr>\n",
       "    <tr>\n",
       "      <th>40353</th>\n",
       "      <td>Zając biegnie, zobaczył wiszące pranie. Wskocz...</td>\n",
       "      <td>13</td>\n",
       "      <td>[0.04677121, -0.19330807, -0.19553015, 0.99709...</td>\n",
       "      <td>[0.0, 0.0, 0.0, 0.0, 0.0, 1.0]</td>\n",
       "    </tr>\n",
       "    <tr>\n",
       "      <th>40354</th>\n",
       "      <td>Kombinezon dziecka, tak na siebie założył.</td>\n",
       "      <td>13</td>\n",
       "      <td>[-0.1957008, -0.2522222, -0.07181167, 0.999102...</td>\n",
       "      <td>[0.0, 0.0, 0.0, 0.0, 0.0, 1.0]</td>\n",
       "    </tr>\n",
       "  </tbody>\n",
       "</table>\n",
       "<p>40355 rows × 4 columns</p>\n",
       "</div>"
      ],
      "text/plain": [
       "                                                    text task_label  \\\n",
       "0                      Myślę, że mam inny pomysł, można?         15   \n",
       "1      Chyba ten znak mówi, że jak ktoś będzie spacer...         15   \n",
       "2      Trzeba przejść łukiem obok leżącego i o tym zn...         15   \n",
       "3      Okrągły znak pomaga nam, mówi, że są pasy na u...         15   \n",
       "4      Jak ktoś zobaczy, ale zignoruje ten znak, to m...         15   \n",
       "...                                                  ...        ...   \n",
       "40350                                  [uderzanie w coś]         13   \n",
       "40351  Kot zobaczył w akwarium rybkę. Podszedł i dał ...         13   \n",
       "40352                                  Zjadłam, zjadłam.         13   \n",
       "40353  Zając biegnie, zobaczył wiszące pranie. Wskocz...         13   \n",
       "40354         Kombinezon dziecka, tak na siebie założył.         13   \n",
       "\n",
       "                                               embedding  \\\n",
       "0      [-0.039401494, 0.04514404, -0.07359819, 0.9993...   \n",
       "1      [-0.041031707, 0.18905161, -0.24736977, 0.9991...   \n",
       "2      [-0.09941986, 0.25549677, -0.27581707, 0.99669...   \n",
       "3      [-0.2382573, -0.018337384, -0.060853552, 0.998...   \n",
       "4      [-0.12970468, 0.22667477, -0.3403942, 0.995259...   \n",
       "...                                                  ...   \n",
       "40350  [-0.18567152, 0.090941064, -0.07056465, 0.9985...   \n",
       "40351  [-0.0069994903, -0.033343423, -0.19992347, 0.9...   \n",
       "40352  [-0.002218116, 0.15197517, -0.0095876055, 0.99...   \n",
       "40353  [0.04677121, -0.19330807, -0.19553015, 0.99709...   \n",
       "40354  [-0.1957008, -0.2522222, -0.07181167, 0.999102...   \n",
       "\n",
       "                               target  \n",
       "0      [1.0, 0.0, 0.0, 0.0, 0.0, 0.0]  \n",
       "1      [1.0, 0.0, 0.0, 0.0, 0.0, 0.0]  \n",
       "2      [1.0, 0.0, 0.0, 0.0, 0.0, 0.0]  \n",
       "3      [1.0, 0.0, 0.0, 0.0, 0.0, 0.0]  \n",
       "4      [1.0, 0.0, 0.0, 0.0, 0.0, 0.0]  \n",
       "...                               ...  \n",
       "40350  [0.0, 0.0, 0.0, 0.0, 0.0, 1.0]  \n",
       "40351  [0.0, 0.0, 0.0, 0.0, 0.0, 1.0]  \n",
       "40352  [0.0, 0.0, 0.0, 0.0, 0.0, 1.0]  \n",
       "40353  [0.0, 0.0, 0.0, 0.0, 0.0, 1.0]  \n",
       "40354  [0.0, 0.0, 0.0, 0.0, 0.0, 1.0]  \n",
       "\n",
       "[40355 rows x 4 columns]"
      ]
     },
     "execution_count": 15,
     "metadata": {},
     "output_type": "execute_result"
    }
   ],
   "source": [
    "dataset"
   ]
  },
  {
   "cell_type": "code",
   "execution_count": 16,
   "metadata": {},
   "outputs": [],
   "source": [
    "from sklearn.model_selection import train_test_split\n",
    "\n",
    "\n",
    "train_df, val_df = train_test_split(dataset, test_size=0.2, random_state=42, stratify=dataset[\"task_label\"])"
   ]
  },
  {
   "cell_type": "code",
   "execution_count": 17,
   "metadata": {},
   "outputs": [
    {
     "data": {
      "text/plain": [
       "((32284, 4), (8071, 4))"
      ]
     },
     "execution_count": 17,
     "metadata": {},
     "output_type": "execute_result"
    }
   ],
   "source": [
    "train_df.shape, val_df.shape"
   ]
  },
  {
   "cell_type": "code",
   "execution_count": 18,
   "metadata": {},
   "outputs": [],
   "source": [
    "# train_df.to_feather(EMBEDDINGS_DIR / \"train_df_herbert_pl_task_clf.feather\")\n",
    "# val_df.to_feather(EMBEDDINGS_DIR / \"val_df_herbert_pl_task_clf.feather\")"
   ]
  },
  {
   "cell_type": "code",
   "execution_count": 109,
   "metadata": {},
   "outputs": [],
   "source": [
    "train_df = pd.read_feather(EMBEDDINGS_DIR / \"train_df_herbert_pl_task_clf.feather\")\n",
    "val_df = pd.read_feather(EMBEDDINGS_DIR / \"val_df_herbert_pl_task_clf.feather\")"
   ]
  },
  {
   "cell_type": "code",
   "execution_count": 110,
   "metadata": {},
   "outputs": [
    {
     "data": {
      "text/plain": [
       "{0: '24', 1: '15', 2: '17', 3: '13', 4: '7', 5: '8'}"
      ]
     },
     "execution_count": 110,
     "metadata": {},
     "output_type": "execute_result"
    }
   ],
   "source": [
    "id2label = {i: label for i, label in enumerate(pd.concat([train_df[\"task_label\"], val_df[\"task_label\"]]).unique())}\n",
    "label2id = {label: i for i, label in id2label.items()}\n",
    "\n",
    "id2label"
   ]
  },
  {
   "cell_type": "code",
   "execution_count": 116,
   "metadata": {},
   "outputs": [],
   "source": [
    "class OrkpjmTaskDataset(Dataset):\n",
    "\n",
    "    def __init__(self, df):\n",
    "        self.df = df\n",
    "\n",
    "    def __len__(self):\n",
    "        return self.df.shape[0]\n",
    "\n",
    "    def __getitem__(self, index):\n",
    "        return {\n",
    "            \"embedding\": torch.from_numpy(self.df.iloc[index][\"embedding\"]),\n",
    "            \"target\": torch.from_numpy(self.df.iloc[index][\"target\"])\n",
    "        }"
   ]
  },
  {
   "cell_type": "code",
   "execution_count": 120,
   "metadata": {},
   "outputs": [],
   "source": [
    "train_ds = OrkpjmTaskDataset(train_df, label2id)\n",
    "val_ds = OrkpjmTaskDataset(val_df, label2id)"
   ]
  },
  {
   "cell_type": "code",
   "execution_count": 121,
   "metadata": {},
   "outputs": [],
   "source": [
    "train_dl = DataLoader(train_ds, batch_size=32, pin_memory=True)\n",
    "val_dl = DataLoader(val_ds, batch_size=32, pin_memory=True)"
   ]
  },
  {
   "cell_type": "code",
   "execution_count": 122,
   "metadata": {},
   "outputs": [
    {
     "name": "stdout",
     "output_type": "stream",
     "text": [
      "torch.Size([32, 768])\n",
      "torch.Size([32, 6])\n"
     ]
    }
   ],
   "source": [
    "for batch in train_dl:\n",
    "    print(batch[\"embedding\"].shape)\n",
    "    print(batch[\"target\"].shape)\n",
    "    break"
   ]
  },
  {
   "cell_type": "code",
   "execution_count": null,
   "metadata": {},
   "outputs": [],
   "source": []
  },
  {
   "cell_type": "markdown",
   "metadata": {},
   "source": [
    "## LSTM Classifier"
   ]
  },
  {
   "cell_type": "code",
   "execution_count": 214,
   "metadata": {},
   "outputs": [
    {
     "name": "stdout",
     "output_type": "stream",
     "text": [
      "cuda:0\n"
     ]
    }
   ],
   "source": [
    "device = torch.device('cuda:0' if torch.cuda.is_available() else 'cpu')\n",
    "print(device)\n",
    "\n",
    "torch.cuda.empty_cache()"
   ]
  },
  {
   "cell_type": "code",
   "execution_count": 215,
   "metadata": {},
   "outputs": [],
   "source": [
    "import torch.nn as nn"
   ]
  },
  {
   "cell_type": "code",
   "execution_count": 216,
   "metadata": {},
   "outputs": [],
   "source": [
    "EMB_SIZE = 768"
   ]
  },
  {
   "cell_type": "code",
   "execution_count": 217,
   "metadata": {},
   "outputs": [],
   "source": [
    "class LSTM_HerBERT(torch.nn.Module):\n",
    "    def __init__(self, embedding_dim, num_labels, hidden_dim=128):\n",
    "        super().__init__()\n",
    "        self.lstm = nn.LSTM(embedding_dim, hidden_dim, batch_first=True)\n",
    "        self.fc = nn.Linear(hidden_dim, num_labels)\n",
    "        self.dropout = nn.Dropout(0.2)\n",
    "        # self.softmax = nn.Softmax(dim=0)\n",
    "\n",
    "    def forward(self, x):\n",
    "        lstm_out, (ht, ct) = self.lstm(x)\n",
    "        x = ht[-1]\n",
    "        x = self.dropout(x)\n",
    "        x = self.fc(x)\n",
    "        # x = self.softmax(x)\n",
    "        return x"
   ]
  },
  {
   "cell_type": "code",
   "execution_count": 218,
   "metadata": {},
   "outputs": [],
   "source": [
    "# import torch.nn.functional as F\n",
    "# from sklearn.metrics import mean_squared_error\n",
    "\n",
    "\n",
    "# def train_model(model, epochs=10, lr=0.001):\n",
    "#     parameters = filter(lambda p: p.requires_grad, model.parameters())\n",
    "#     optimizer = torch.optim.Adam(parameters, lr=lr)\n",
    "#     train_metrics = []\n",
    "#     for i in range(epochs):\n",
    "#         model.train()\n",
    "#         sum_loss = 0.0\n",
    "#         total = 0\n",
    "#         for _, record in train_df.iterrows():\n",
    "#             x = torch.tensor(np.array( [ record[\"embedding\"] ] )).cuda()\n",
    "#             y = torch.tensor(record[\"target\"], requires_grad=True, dtype=torch.float).cuda()\n",
    "\n",
    "#             y_pred = model(x)\n",
    "\n",
    "#             optimizer.zero_grad()\n",
    "#             loss = F.cross_entropy(y_pred, y)\n",
    "\n",
    "#             loss.backward()\n",
    "#             optimizer.step()\n",
    "\n",
    "#             sum_loss += loss.item()*y.shape[0]\n",
    "#             total += y.shape[0]\n",
    "\n",
    "#         train_loss = sum_loss / total\n",
    "\n",
    "#         val_loss, val_acc = validation_metrics(model)\n",
    "#         train_metrics.append({\n",
    "#             \"train_loss\": train_loss,\n",
    "#             \"val_loss\": val_loss,\n",
    "#             \"val_acc\": val_acc,\n",
    "#         })\n",
    "\n",
    "#         # if i == 0 or i == epochs - 1 or i % 5 == 0:\n",
    "#         print(f\"epoch: {i+1:<3} train loss {train_loss:.3f}, val loss {val_loss:.3f}, val accuracy {val_acc:.3f}\")\n",
    "#     return train_metrics\n",
    "\n",
    "\n",
    "# def validation_metrics(model):\n",
    "#     model.eval()\n",
    "#     correct = 0\n",
    "#     total = 0\n",
    "#     sum_loss = 0.0\n",
    "#     sum_rmse = 0.0\n",
    "#     for _, record in val_df.iterrows():\n",
    "#         x = torch.tensor( np.array([ record[\"embedding\"]] ) ).cuda()\n",
    "#         y = torch.tensor(record[\"target\"], requires_grad=True, dtype=torch.float).cuda()\n",
    "\n",
    "#         y_hat = model(x)\n",
    "\n",
    "#         loss = F.cross_entropy(y_hat, y)\n",
    "\n",
    "#         pred = torch.max(y_hat, dim=-1).indices.item()\n",
    "#         # pred = torch.max(y_hat, 1)[1]\n",
    "\n",
    "#         correct += (pred == y).float().sum()\n",
    "#         total += y.shape[0]\n",
    "#         sum_loss += loss.item()*y.shape[0]\n",
    "\n",
    "#         # sum_rmse += np.sqrt(mean_squared_error(pred, y.unsqueeze(-1)))*y.shape[0]\n",
    "#     # return sum_loss/total, correct/total, sum_rmse/total\n",
    "#     return sum_loss/total, (correct/total).item()"
   ]
  },
  {
   "cell_type": "code",
   "execution_count": 219,
   "metadata": {},
   "outputs": [],
   "source": [
    "# model = LSTM_HerBERT(\n",
    "#     embedding_dim=EMB_SIZE,\n",
    "#     num_labels=len(id2label),\n",
    "#     hidden_dim=128\n",
    "# ).cuda()"
   ]
  },
  {
   "cell_type": "code",
   "execution_count": 220,
   "metadata": {},
   "outputs": [
    {
     "name": "stdout",
     "output_type": "stream",
     "text": [
      "epoch: 1   train loss 1.468, val loss 1.296, val accuracy 0.505\n",
      "epoch: 2   train loss 1.363, val loss 1.255, val accuracy 0.456\n",
      "epoch: 3   train loss 1.334, val loss 1.256, val accuracy 0.452\n",
      "epoch: 4   train loss 1.306, val loss 1.207, val accuracy 0.441\n",
      "epoch: 5   train loss 1.287, val loss 1.185, val accuracy 0.383\n",
      "epoch: 6   train loss 1.277, val loss 1.204, val accuracy 0.364\n",
      "epoch: 7   train loss 1.267, val loss 1.207, val accuracy 0.503\n",
      "epoch: 8   train loss 1.261, val loss 1.185, val accuracy 0.339\n",
      "epoch: 9   train loss 1.257, val loss 1.151, val accuracy 0.423\n",
      "epoch: 10  train loss 1.248, val loss 1.144, val accuracy 0.369\n",
      "epoch: 11  train loss 1.242, val loss 1.126, val accuracy 0.397\n",
      "epoch: 12  train loss 1.237, val loss 1.130, val accuracy 0.375\n"
     ]
    },
    {
     "ename": "KeyboardInterrupt",
     "evalue": "",
     "output_type": "error",
     "traceback": [
      "\u001b[0;31m---------------------------------------------------------------------------\u001b[0m",
      "\u001b[0;31mKeyboardInterrupt\u001b[0m                         Traceback (most recent call last)",
      "Cell \u001b[0;32mIn[220], line 1\u001b[0m\n\u001b[0;32m----> 1\u001b[0m train_metrics \u001b[39m=\u001b[39m train_model(model, epochs\u001b[39m=\u001b[39;49m\u001b[39m30\u001b[39;49m, lr\u001b[39m=\u001b[39;49m\u001b[39m0.002\u001b[39;49m)\n",
      "Cell \u001b[0;32mIn[218], line 23\u001b[0m, in \u001b[0;36mtrain_model\u001b[0;34m(model, epochs, lr)\u001b[0m\n\u001b[1;32m     20\u001b[0m loss \u001b[39m=\u001b[39m F\u001b[39m.\u001b[39mcross_entropy(y_pred, y)\n\u001b[1;32m     22\u001b[0m loss\u001b[39m.\u001b[39mbackward()\n\u001b[0;32m---> 23\u001b[0m optimizer\u001b[39m.\u001b[39;49mstep()\n\u001b[1;32m     25\u001b[0m sum_loss \u001b[39m+\u001b[39m\u001b[39m=\u001b[39m loss\u001b[39m.\u001b[39mitem()\u001b[39m*\u001b[39my\u001b[39m.\u001b[39mshape[\u001b[39m0\u001b[39m]\n\u001b[1;32m     26\u001b[0m total \u001b[39m+\u001b[39m\u001b[39m=\u001b[39m y\u001b[39m.\u001b[39mshape[\u001b[39m0\u001b[39m]\n",
      "File \u001b[0;32m/opt/conda/lib/python3.10/site-packages/torch/optim/optimizer.py:140\u001b[0m, in \u001b[0;36mOptimizer._hook_for_profile.<locals>.profile_hook_step.<locals>.wrapper\u001b[0;34m(*args, **kwargs)\u001b[0m\n\u001b[1;32m    138\u001b[0m profile_name \u001b[39m=\u001b[39m \u001b[39m\"\u001b[39m\u001b[39mOptimizer.step#\u001b[39m\u001b[39m{}\u001b[39;00m\u001b[39m.step\u001b[39m\u001b[39m\"\u001b[39m\u001b[39m.\u001b[39mformat(obj\u001b[39m.\u001b[39m\u001b[39m__class__\u001b[39m\u001b[39m.\u001b[39m\u001b[39m__name__\u001b[39m)\n\u001b[1;32m    139\u001b[0m \u001b[39mwith\u001b[39;00m torch\u001b[39m.\u001b[39mautograd\u001b[39m.\u001b[39mprofiler\u001b[39m.\u001b[39mrecord_function(profile_name):\n\u001b[0;32m--> 140\u001b[0m     out \u001b[39m=\u001b[39m func(\u001b[39m*\u001b[39;49margs, \u001b[39m*\u001b[39;49m\u001b[39m*\u001b[39;49mkwargs)\n\u001b[1;32m    141\u001b[0m     obj\u001b[39m.\u001b[39m_optimizer_step_code()\n\u001b[1;32m    142\u001b[0m     \u001b[39mreturn\u001b[39;00m out\n",
      "File \u001b[0;32m/opt/conda/lib/python3.10/site-packages/torch/optim/optimizer.py:23\u001b[0m, in \u001b[0;36m_use_grad_for_differentiable.<locals>._use_grad\u001b[0;34m(self, *args, **kwargs)\u001b[0m\n\u001b[1;32m     21\u001b[0m \u001b[39mtry\u001b[39;00m:\n\u001b[1;32m     22\u001b[0m     torch\u001b[39m.\u001b[39mset_grad_enabled(\u001b[39mself\u001b[39m\u001b[39m.\u001b[39mdefaults[\u001b[39m'\u001b[39m\u001b[39mdifferentiable\u001b[39m\u001b[39m'\u001b[39m])\n\u001b[0;32m---> 23\u001b[0m     ret \u001b[39m=\u001b[39m func(\u001b[39mself\u001b[39;49m, \u001b[39m*\u001b[39;49margs, \u001b[39m*\u001b[39;49m\u001b[39m*\u001b[39;49mkwargs)\n\u001b[1;32m     24\u001b[0m \u001b[39mfinally\u001b[39;00m:\n\u001b[1;32m     25\u001b[0m     torch\u001b[39m.\u001b[39mset_grad_enabled(prev_grad)\n",
      "File \u001b[0;32m/opt/conda/lib/python3.10/site-packages/torch/optim/adam.py:234\u001b[0m, in \u001b[0;36mAdam.step\u001b[0;34m(self, closure, grad_scaler)\u001b[0m\n\u001b[1;32m    231\u001b[0m                 \u001b[39mraise\u001b[39;00m \u001b[39mRuntimeError\u001b[39;00m(\u001b[39m'\u001b[39m\u001b[39m`requires_grad` is not supported for `step` in differentiable mode\u001b[39m\u001b[39m'\u001b[39m)\n\u001b[1;32m    232\u001b[0m             state_steps\u001b[39m.\u001b[39mappend(state[\u001b[39m'\u001b[39m\u001b[39mstep\u001b[39m\u001b[39m'\u001b[39m])\n\u001b[0;32m--> 234\u001b[0m     adam(params_with_grad,\n\u001b[1;32m    235\u001b[0m          grads,\n\u001b[1;32m    236\u001b[0m          exp_avgs,\n\u001b[1;32m    237\u001b[0m          exp_avg_sqs,\n\u001b[1;32m    238\u001b[0m          max_exp_avg_sqs,\n\u001b[1;32m    239\u001b[0m          state_steps,\n\u001b[1;32m    240\u001b[0m          amsgrad\u001b[39m=\u001b[39;49mgroup[\u001b[39m'\u001b[39;49m\u001b[39mamsgrad\u001b[39;49m\u001b[39m'\u001b[39;49m],\n\u001b[1;32m    241\u001b[0m          beta1\u001b[39m=\u001b[39;49mbeta1,\n\u001b[1;32m    242\u001b[0m          beta2\u001b[39m=\u001b[39;49mbeta2,\n\u001b[1;32m    243\u001b[0m          lr\u001b[39m=\u001b[39;49mgroup[\u001b[39m'\u001b[39;49m\u001b[39mlr\u001b[39;49m\u001b[39m'\u001b[39;49m],\n\u001b[1;32m    244\u001b[0m          weight_decay\u001b[39m=\u001b[39;49mgroup[\u001b[39m'\u001b[39;49m\u001b[39mweight_decay\u001b[39;49m\u001b[39m'\u001b[39;49m],\n\u001b[1;32m    245\u001b[0m          eps\u001b[39m=\u001b[39;49mgroup[\u001b[39m'\u001b[39;49m\u001b[39meps\u001b[39;49m\u001b[39m'\u001b[39;49m],\n\u001b[1;32m    246\u001b[0m          maximize\u001b[39m=\u001b[39;49mgroup[\u001b[39m'\u001b[39;49m\u001b[39mmaximize\u001b[39;49m\u001b[39m'\u001b[39;49m],\n\u001b[1;32m    247\u001b[0m          foreach\u001b[39m=\u001b[39;49mgroup[\u001b[39m'\u001b[39;49m\u001b[39mforeach\u001b[39;49m\u001b[39m'\u001b[39;49m],\n\u001b[1;32m    248\u001b[0m          capturable\u001b[39m=\u001b[39;49mgroup[\u001b[39m'\u001b[39;49m\u001b[39mcapturable\u001b[39;49m\u001b[39m'\u001b[39;49m],\n\u001b[1;32m    249\u001b[0m          differentiable\u001b[39m=\u001b[39;49mgroup[\u001b[39m'\u001b[39;49m\u001b[39mdifferentiable\u001b[39;49m\u001b[39m'\u001b[39;49m],\n\u001b[1;32m    250\u001b[0m          fused\u001b[39m=\u001b[39;49mgroup[\u001b[39m'\u001b[39;49m\u001b[39mfused\u001b[39;49m\u001b[39m'\u001b[39;49m],\n\u001b[1;32m    251\u001b[0m          grad_scale\u001b[39m=\u001b[39;49mgrad_scale,\n\u001b[1;32m    252\u001b[0m          found_inf\u001b[39m=\u001b[39;49mfound_inf)\n\u001b[1;32m    254\u001b[0m \u001b[39mreturn\u001b[39;00m loss\n",
      "File \u001b[0;32m/opt/conda/lib/python3.10/site-packages/torch/optim/adam.py:300\u001b[0m, in \u001b[0;36madam\u001b[0;34m(params, grads, exp_avgs, exp_avg_sqs, max_exp_avg_sqs, state_steps, foreach, capturable, differentiable, fused, grad_scale, found_inf, amsgrad, beta1, beta2, lr, weight_decay, eps, maximize)\u001b[0m\n\u001b[1;32m    297\u001b[0m \u001b[39melse\u001b[39;00m:\n\u001b[1;32m    298\u001b[0m     func \u001b[39m=\u001b[39m _single_tensor_adam\n\u001b[0;32m--> 300\u001b[0m func(params,\n\u001b[1;32m    301\u001b[0m      grads,\n\u001b[1;32m    302\u001b[0m      exp_avgs,\n\u001b[1;32m    303\u001b[0m      exp_avg_sqs,\n\u001b[1;32m    304\u001b[0m      max_exp_avg_sqs,\n\u001b[1;32m    305\u001b[0m      state_steps,\n\u001b[1;32m    306\u001b[0m      amsgrad\u001b[39m=\u001b[39;49mamsgrad,\n\u001b[1;32m    307\u001b[0m      beta1\u001b[39m=\u001b[39;49mbeta1,\n\u001b[1;32m    308\u001b[0m      beta2\u001b[39m=\u001b[39;49mbeta2,\n\u001b[1;32m    309\u001b[0m      lr\u001b[39m=\u001b[39;49mlr,\n\u001b[1;32m    310\u001b[0m      weight_decay\u001b[39m=\u001b[39;49mweight_decay,\n\u001b[1;32m    311\u001b[0m      eps\u001b[39m=\u001b[39;49meps,\n\u001b[1;32m    312\u001b[0m      maximize\u001b[39m=\u001b[39;49mmaximize,\n\u001b[1;32m    313\u001b[0m      capturable\u001b[39m=\u001b[39;49mcapturable,\n\u001b[1;32m    314\u001b[0m      differentiable\u001b[39m=\u001b[39;49mdifferentiable,\n\u001b[1;32m    315\u001b[0m      grad_scale\u001b[39m=\u001b[39;49mgrad_scale,\n\u001b[1;32m    316\u001b[0m      found_inf\u001b[39m=\u001b[39;49mfound_inf)\n",
      "File \u001b[0;32m/opt/conda/lib/python3.10/site-packages/torch/optim/adam.py:410\u001b[0m, in \u001b[0;36m_single_tensor_adam\u001b[0;34m(params, grads, exp_avgs, exp_avg_sqs, max_exp_avg_sqs, state_steps, grad_scale, found_inf, amsgrad, beta1, beta2, lr, weight_decay, eps, maximize, capturable, differentiable)\u001b[0m\n\u001b[1;32m    408\u001b[0m     denom \u001b[39m=\u001b[39m (max_exp_avg_sqs[i]\u001b[39m.\u001b[39msqrt() \u001b[39m/\u001b[39m bias_correction2_sqrt)\u001b[39m.\u001b[39madd_(eps)\n\u001b[1;32m    409\u001b[0m \u001b[39melse\u001b[39;00m:\n\u001b[0;32m--> 410\u001b[0m     denom \u001b[39m=\u001b[39m (exp_avg_sq\u001b[39m.\u001b[39;49msqrt() \u001b[39m/\u001b[39m bias_correction2_sqrt)\u001b[39m.\u001b[39madd_(eps)\n\u001b[1;32m    412\u001b[0m param\u001b[39m.\u001b[39maddcdiv_(exp_avg, denom, value\u001b[39m=\u001b[39m\u001b[39m-\u001b[39mstep_size)\n",
      "\u001b[0;31mKeyboardInterrupt\u001b[0m: "
     ]
    }
   ],
   "source": [
    "# train_metrics = train_model(model, epochs=30, lr=0.002)"
   ]
  },
  {
   "cell_type": "code",
   "execution_count": null,
   "metadata": {},
   "outputs": [
    {
     "data": {
      "text/plain": [
       "<Axes: >"
      ]
     },
     "execution_count": 180,
     "metadata": {},
     "output_type": "execute_result"
    },
    {
     "data": {
      "image/png": "[encoded data removed]",
      "text/plain": [
       "<Figure size 640x480 with 1 Axes>"
      ]
     },
     "metadata": {},
     "output_type": "display_data"
    }
   ],
   "source": [
    "metrics_df = pd.DataFrame.from_records(train_metrics)\n",
    "metrics_df[[\"train_loss\", \"val_loss\"]].plot()"
   ]
  },
  {
   "cell_type": "code",
   "execution_count": null,
   "metadata": {},
   "outputs": [
    {
     "data": {
      "text/plain": [
       "<Axes: >"
      ]
     },
     "execution_count": 181,
     "metadata": {},
     "output_type": "execute_result"
    },
    {
     "data": {
      "image/png": "[encoded data removed]",
      "text/plain": [
       "<Figure size 640x480 with 1 Axes>"
      ]
     },
     "metadata": {},
     "output_type": "display_data"
    }
   ],
   "source": [
    "metrics_df.val_acc.plot()"
   ]
  },
  {
   "cell_type": "code",
   "execution_count": null,
   "metadata": {},
   "outputs": [],
   "source": []
  },
  {
   "cell_type": "code",
   "execution_count": null,
   "metadata": {},
   "outputs": [],
   "source": []
  }
 ],
 "metadata": {
  "kernelspec": {
   "display_name": "base",
   "language": "python",
   "name": "python3"
  },
  "language_info": {
   "codemirror_mode": {
    "name": "ipython",
    "version": 3
   },
   "file_extension": ".py",
   "mimetype": "text/x-python",
   "name": "python",
   "nbconvert_exporter": "python",
   "pygments_lexer": "ipython3",
   "version": "3.10.8"
  },
  "orig_nbformat": 4
 },
 "nbformat": 4,
 "nbformat_minor": 2
}
