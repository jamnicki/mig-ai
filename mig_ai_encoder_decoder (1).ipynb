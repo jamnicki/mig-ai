{
  "cells": [
    {
      "cell_type": "code",
      "execution_count": 359,
      "metadata": {
        "colab": {
          "base_uri": "https://localhost:8080/",
          "height": 35
        },
        "id": "Es-DcbFJGtQa",
        "outputId": "4635e1d6-5104-4ad1-bfd1-1e89ff37fb73"
      },
      "outputs": [
        {
          "data": {
            "text/plain": [
              "'cpu'"
            ]
          },
          "execution_count": 359,
          "metadata": {},
          "output_type": "execute_result"
        }
      ],
      "source": [
        "import json\n",
        "import pandas as pd\n",
        "import torch.nn as nn\n",
        "import torch\n",
        "from io import open\n",
        "import unicodedata\n",
        "import re\n",
        "import random\n",
        "\n",
        "import torch\n",
        "import torch.nn as nn\n",
        "from torch import optim\n",
        "import torch.nn.functional as F\n",
        "\n",
        "import numpy as np\n",
        "from torch.utils.data import TensorDataset, DataLoader, RandomSampler\n",
        "\n",
        "device = torch.device(\"cuda\" if torch.cuda.is_available() else \"cpu\")\n",
        "device='cpu'\n",
        "device"
      ]
    },
    {
      "cell_type": "code",
      "execution_count": 360,
      "metadata": {
        "id": "HWDCJMiELmct"
      },
      "outputs": [],
      "source": [
        "jsonl_file_path = 'clips_dataset_wth_herbert_token_ids.jsonl'\n"
      ]
    },
    {
      "cell_type": "code",
      "execution_count": 361,
      "metadata": {
        "id": "yy6ccgNNL4GC"
      },
      "outputs": [],
      "source": [
        "import torch\n",
        "import torch.nn as nn\n",
        "import torch.optim as optim\n",
        "from torch.utils.data import Dataset, DataLoader\n",
        "import pandas as pd\n",
        "import numpy as np\n",
        "\n",
        "# Assuming CUDA is available, models and data will be moved to GPU for faster processing.\n",
        "# device = torch.device(\"cuda\" if torch.cuda.is_available() else \"cpu\")\n",
        "\n",
        "# Hyperparameters\n",
        "input_size = 33 * 3  # 33 joints * 3 coordinates\n",
        "hidden_size = 256\n",
        "output_size = 50000 # Assuming a vocabulary size of 66\n",
        "embedding_size = 256  # Make embedding size equal to hidden_size for simplicity\n",
        "SOS_token = 0  # Start-of-Sequence token"
      ]
    },
    {
      "cell_type": "code",
      "execution_count": 362,
      "metadata": {
        "id": "GKuYIHFV-RCE"
      },
      "outputs": [],
      "source": [
        "class Lang:\n",
        "    def __init__(self, name):\n",
        "        self.name = name\n",
        "        self.word2index = {\"SOS\": 0, \"EOS\": 1}\n",
        "        self.word2count = {\"SOS\": 0, \"EOS\": 0}\n",
        "        self.index2word = {0: \"SOS\", 1: \"EOS\"}\n",
        "        self.n_words = 2   # Count SOS and EOS\n",
        "\n",
        "    def addSentence(self, sentence):\n",
        "        for word in sentence.split(' '):\n",
        "            self.addWord(word)\n",
        "\n",
        "    def addWord(self, word):\n",
        "        if word not in self.word2index:\n",
        "            self.word2index[word] = self.n_words\n",
        "            self.word2count[word] = 1\n",
        "            self.index2word[self.n_words] = word\n",
        "            self.n_words += 1\n",
        "        else:\n",
        "            self.word2count[word] += 1\n",
        "\n",
        "class SignLanguage:\n",
        "    def __init__(self):\n",
        "        self.frames = []\n",
        "        self.max_length = 0\n",
        "\n",
        "    def addFrames(self, frame_data):\n",
        "        self.frames.append(frame_data)\n",
        "        if len(frame_data) > self.max_length:\n",
        "            self.max_length = len(frame_data)\n",
        "\n",
        "    def getFrames(self):\n",
        "        return self.frames\n"
      ]
    },
    {
      "cell_type": "code",
      "execution_count": 363,
      "metadata": {
        "id": "Vpy9igWm-pwz"
      },
      "outputs": [],
      "source": [
        "def prepareData(jsonl_file_path, max_samples=1000, split_ratio=0.8):\n",
        "    data = []\n",
        "    with open(jsonl_file_path, 'r', encoding='utf-8') as file:\n",
        "        for line in file:\n",
        "            data.append(json.loads(line))\n",
        "            if len(data) >= max_samples:\n",
        "                break\n",
        "\n",
        "    random.shuffle(data)\n",
        "    split_point = int(len(data) * split_ratio)\n",
        "    training_data = data[:split_point]\n",
        "    testing_data = data[split_point:]\n",
        "\n",
        "    def processData(data):\n",
        "        sign_language = SignLanguage()\n",
        "        lang_annotations = Lang('pl')\n",
        "        for item in data:\n",
        "            sign_language.addFrames(item['FramesLandmarksCoords'])\n",
        "            lang_annotations.addSentence(item['PolishAnnotation'])\n",
        "        return sign_language, lang_annotations, [(item['FramesLandmarksCoords'], item['PolishAnnotation']) for item in data]\n",
        "\n",
        "    return processData(training_data), processData(testing_data)\n"
      ]
    },
    {
      "cell_type": "code",
      "execution_count": 364,
      "metadata": {
        "colab": {
          "base_uri": "https://localhost:8080/"
        },
        "id": "7yvqaZDJ_rjO",
        "outputId": "7c10caa2-1c7d-437f-9858-5a30c537f1c0"
      },
      "outputs": [
        {
          "name": "stdout",
          "output_type": "stream",
          "text": [
            "Loaded 800 pairs of sign language frames and Polish annotations.\n"
          ]
        }
      ],
      "source": [
        "training_dataset, testing_dataset = prepareData(jsonl_file_path, max_samples=1000)\n",
        "\n",
        "# Unpack the training dataset\n",
        "train_sign_language, train_polish_annotations, train_pairs = training_dataset\n",
        "\n",
        "# Unpack the testing dataset\n",
        "test_sign_language, test_polish_annotations, test_pairs = testing_dataset\n",
        "\n",
        "print(f\"Loaded {len(train_pairs)} pairs of sign language frames and Polish annotations.\")"
      ]
    },
    {
      "cell_type": "code",
      "execution_count": 365,
      "metadata": {
        "id": "lwmM77OYAFGP"
      },
      "outputs": [],
      "source": [
        "EOS_token = train_polish_annotations.word2index['EOS']"
      ]
    },
    {
      "cell_type": "code",
      "execution_count": 366,
      "metadata": {
        "id": "wxqg7fvnB3Wh"
      },
      "outputs": [],
      "source": [
        "if 'EOS' not in train_polish_annotations.word2index:\n",
        "    train_polish_annotations.addWord('EOS')"
      ]
    },
    {
      "cell_type": "code",
      "execution_count": 367,
      "metadata": {
        "id": "lL5PRPuf-t5d"
      },
      "outputs": [],
      "source": [
        "def tensorsFromPair(pair, annotations):\n",
        "    # Attempt to handle a variety of data structures defensively\n",
        "    try:\n",
        "        # Flatten the frame data correctly, assuming it's deeply nested\n",
        "        flat_list = [coord for frame in pair[0] for landmark in frame for coord in (landmark if isinstance(landmark, list) else [landmark])]\n",
        "    except TypeError:\n",
        "        # If there's a type error, log the problematic data and skip or handle appropriately\n",
        "        print(\"Error processing pair:\", pair)\n",
        "        flat_list = []\n",
        "\n",
        "    # Now, calculate the dimensions based on the corrected flat list\n",
        "    if flat_list:\n",
        "        input_tensor = torch.tensor(flat_list, dtype=torch.float).view(-1, len(flat_list) // len(pair[0]))  # Adjust based on actual data length\n",
        "    else:\n",
        "        # Handle the error case (e.g., return a dummy tensor or skip this pair)\n",
        "        input_tensor = torch.tensor([], dtype=torch.float).view(-1, 1)  # Dummy tensor, adjust as needed\n",
        "\n",
        "    # Process target indexes\n",
        "    target_indexes = [annotations.word2index[word] for word in pair[1].split(' ')] + [EOS_token]\n",
        "    target_tensor = torch.tensor(target_indexes, dtype=torch.long)\n",
        "\n",
        "    return (input_tensor, target_tensor)\n",
        "\n",
        "from torch.nn.utils.rnn import pad_sequence\n",
        "\n",
        "def get_dataloader(pairs, batch_size, annotations):\n",
        "    input_tensors = []\n",
        "    target_tensors = []\n",
        "\n",
        "    for pair in pairs:\n",
        "        input_tensor, target_tensor = tensorsFromPair(pair, annotations)\n",
        "        input_tensors.append(input_tensor)\n",
        "        target_tensors.append(target_tensor)\n",
        "\n",
        "    # Pad sequences to have the same length within each tensor\n",
        "    # Note: pad_sequence automatically pads to the longest sequence in each batch\n",
        "    input_tensors_padded = pad_sequence(input_tensors, batch_first=True, padding_value=0)\n",
        "    target_tensors_padded = pad_sequence(target_tensors, batch_first=True, padding_value=annotations.word2index['EOS'])  # Assuming 'EOS' token is used as padding\n",
        "\n",
        "    dataset = TensorDataset(input_tensors_padded, target_tensors_padded)\n",
        "    dataloader = DataLoader(dataset, batch_size=batch_size, shuffle=True)\n",
        "    return dataloader\n"
      ]
    },
    {
      "cell_type": "code",
      "execution_count": 368,
      "metadata": {
        "colab": {
          "base_uri": "https://localhost:8080/"
        },
        "id": "NEF2dtzO_qn9",
        "outputId": "b48f34f9-655a-438e-8278-4c17f9d8f946"
      },
      "outputs": [
        {
          "name": "stdout",
          "output_type": "stream",
          "text": [
            "DataLoader prepared with batch size: 64\n"
          ]
        }
      ],
      "source": [
        "batch_size = 64\n",
        "\n",
        "data_loader = get_dataloader(train_pairs, batch_size, train_polish_annotations)\n",
        "data_loader_test = get_dataloader(test_pairs, batch_size, test_polish_annotations)\n",
        "\n",
        "print(f\"DataLoader prepared with batch size: {batch_size}\")"
      ]
    },
    {
      "cell_type": "code",
      "execution_count": 369,
      "metadata": {
        "id": "A32MG1ghC0D7"
      },
      "outputs": [],
      "source": [
        "class EncoderRNN(nn.Module):\n",
        "    def __init__(self, input_size, hidden_size, dropout_p=0.1):\n",
        "        super(EncoderRNN, self).__init__()\n",
        "        self.hidden_size = hidden_size\n",
        "        self.gru = nn.GRU(input_size, hidden_size, batch_first=True)\n",
        "        self.dropout = nn.Dropout(dropout_p)\n",
        "\n",
        "    def forward(self, input):\n",
        "        # Applying dropout to the input might not be directly applicable if input is continuous.\n",
        "        # Consider applying dropout after GRU if needed or using it in a different manner.\n",
        "        output, hidden = self.gru(input)\n",
        "        return output, hidden"
      ]
    },
    {
      "cell_type": "code",
      "execution_count": 370,
      "metadata": {
        "id": "fxJ6QOXEC8gx"
      },
      "outputs": [],
      "source": [
        "class DecoderRNN(nn.Module):\n",
        "    def __init__(self, hidden_size, output_size):\n",
        "        super(DecoderRNN, self).__init__()\n",
        "        self.embedding = nn.Embedding(output_size, hidden_size)\n",
        "        self.gru = nn.GRU(hidden_size, hidden_size, batch_first=True)\n",
        "        self.out = nn.Linear(hidden_size, output_size)\n",
        "\n",
        "    def forward(self, encoder_outputs, encoder_hidden, target_tensor=None):\n",
        "        batch_size = encoder_outputs.size(0)\n",
        "        decoder_input = torch.empty(batch_size, 1, dtype=torch.long, device=device).fill_(SOS_token)\n",
        "        decoder_hidden = encoder_hidden\n",
        "        decoder_outputs = []\n",
        "\n",
        "        for i in range(37):\n",
        "            decoder_output, decoder_hidden  = self.forward_step(decoder_input, decoder_hidden)\n",
        "            decoder_outputs.append(decoder_output)\n",
        "\n",
        "            if target_tensor is not None and i < target_tensor.size(1) - 1:\n",
        "            # Teacher forcing: Feed the target as the next input, ensuring we don't exceed target_tensor's length\n",
        "                decoder_input = target_tensor[:, i].unsqueeze(1)\n",
        "            else:\n",
        "                # Without teacher forcing: use its own predictions as the next input\n",
        "                _, topi = decoder_output.topk(1)\n",
        "                decoder_input = topi.squeeze(-1).detach()\n",
        "\n",
        "        decoder_outputs = torch.cat(decoder_outputs, dim=1)\n",
        "        decoder_outputs = F.log_softmax(decoder_outputs, dim=-1)\n",
        "        return decoder_outputs, decoder_hidden, None # We return `None` for consistency in the training loop\n",
        "\n",
        "    def forward_step(self, input, hidden):\n",
        "        output = self.embedding(input)\n",
        "        output = F.relu(output)\n",
        "        output, hidden = self.gru(output, hidden)\n",
        "        output = self.out(output)\n",
        "        return output, hidden"
      ]
    },
    {
      "cell_type": "code",
      "execution_count": 371,
      "metadata": {
        "id": "hDw3oBe2EzY5"
      },
      "outputs": [],
      "source": [
        "class BahdanauAttention(nn.Module):\n",
        "    def __init__(self, hidden_size):\n",
        "        super(BahdanauAttention, self).__init__()\n",
        "        self.Wa = nn.Linear(hidden_size, hidden_size)\n",
        "        self.Ua = nn.Linear(hidden_size, hidden_size)\n",
        "        self.Va = nn.Linear(hidden_size, 1)\n",
        "\n",
        "    def forward(self, query, keys):\n",
        "        query = query.float()\n",
        "        keys = keys.float()\n",
        "        scores = self.Va(torch.tanh(self.Wa(query.expand(-1, keys.size(1), -1)) + self.Ua(keys)))\n",
        "        scores = scores.squeeze(2).unsqueeze(1)\n",
        "\n",
        "        weights = F.softmax(scores, dim=-1)\n",
        "        context = torch.bmm(weights, keys)\n",
        "\n",
        "        return context, weights\n",
        "\n",
        "\n",
        "class AttnDecoderRNN(nn.Module):\n",
        "    def __init__(self, hidden_size, output_size, dropout_p=0.1):\n",
        "        super(AttnDecoderRNN, self).__init__()\n",
        "        self.embedding = nn.Embedding(output_size, hidden_size)\n",
        "        self.attention = BahdanauAttention(hidden_size)\n",
        "        self.gru = nn.GRU(2 * hidden_size, hidden_size, batch_first=True)\n",
        "        self.out = nn.Linear(hidden_size, output_size)\n",
        "        self.dropout = nn.Dropout(dropout_p)\n",
        "\n",
        "    def forward(self, encoder_outputs, encoder_hidden, target_tensor=None):\n",
        "        batch_size = encoder_outputs.size(0)\n",
        "        decoder_input = torch.empty(batch_size, 1, dtype=torch.long, device=device).fill_(SOS_token)\n",
        "        decoder_hidden = encoder_hidden\n",
        "        decoder_outputs = []\n",
        "        attentions = []\n",
        "\n",
        "        for i in range(37):\n",
        "            decoder_output, decoder_hidden, attn_weights = self.forward_step(\n",
        "                decoder_input, decoder_hidden, encoder_outputs\n",
        "            )\n",
        "            decoder_outputs.append(decoder_output)\n",
        "            attentions.append(attn_weights)\n",
        "\n",
        "            if target_tensor is not None:\n",
        "                # Teacher forcing: Feed the target as the next input\n",
        "                decoder_input = target_tensor[:, i].unsqueeze(1) # Teacher forcing\n",
        "            else:\n",
        "                # Without teacher forcing: use its own predictions as the next input\n",
        "                _, topi = decoder_output.topk(1)\n",
        "                decoder_input = topi.squeeze(-1).detach()  # detach from history as input\n",
        "\n",
        "        decoder_outputs = torch.cat(decoder_outputs, dim=1)\n",
        "        decoder_outputs = F.log_softmax(decoder_outputs, dim=-1)\n",
        "        attentions = torch.cat(attentions, dim=1)\n",
        "\n",
        "        return decoder_outputs, decoder_hidden, attentions\n",
        "\n",
        "\n",
        "    def forward_step(self, input, hidden, encoder_outputs):\n",
        "        embedded =  self.dropout(self.embedding(input))\n",
        "\n",
        "        query = hidden.permute(1, 0, 2)\n",
        "        context, attn_weights = self.attention(query, encoder_outputs)\n",
        "        input_gru = torch.cat((embedded, context), dim=2)\n",
        "\n",
        "        output, hidden = self.gru(input_gru, hidden)\n",
        "        output = self.out(output)\n",
        "\n",
        "        return output, hidden, attn_weights"
      ]
    },
    {
      "cell_type": "code",
      "execution_count": 372,
      "metadata": {
        "colab": {
          "base_uri": "https://localhost:8080/"
        },
        "id": "LsTsP17AFsR8",
        "outputId": "21c4c880-e864-4648-a4f0-5ee8f96d1dfb"
      },
      "outputs": [
        {
          "name": "stdout",
          "output_type": "stream",
          "text": [
            "EncoderRNN(\n",
            "  (gru): GRU(99, 256, batch_first=True)\n",
            "  (dropout): Dropout(p=0.1, inplace=False)\n",
            ")\n",
            "AttnDecoderRNN(\n",
            "  (embedding): Embedding(2422, 256)\n",
            "  (attention): BahdanauAttention(\n",
            "    (Wa): Linear(in_features=256, out_features=256, bias=True)\n",
            "    (Ua): Linear(in_features=256, out_features=256, bias=True)\n",
            "    (Va): Linear(in_features=256, out_features=1, bias=True)\n",
            "  )\n",
            "  (gru): GRU(512, 256, batch_first=True)\n",
            "  (out): Linear(in_features=256, out_features=2422, bias=True)\n",
            "  (dropout): Dropout(p=0.1, inplace=False)\n",
            ")\n"
          ]
        }
      ],
      "source": [
        "input_size = 33 * 3  # Assuming each frame is represented by 33 landmarks, each with 3 coordinates\n",
        "hidden_size = 256  # Example hidden size, adjust based on model complexity and dataset\n",
        "output_size = len(train_polish_annotations.word2index)  # Assuming polish_annotations is your output language object\n",
        "dropout_p = 0.1  # Dropout probability\n",
        "\n",
        "encoder = EncoderRNN(input_size, hidden_size, dropout_p).to(device)\n",
        "decoder = AttnDecoderRNN(hidden_size, output_size, dropout_p).to(device)\n",
        "\n",
        "# Example of model initialization\n",
        "print(encoder)\n",
        "print(decoder)"
      ]
    },
    {
      "cell_type": "code",
      "execution_count": 373,
      "metadata": {
        "id": "ITN7A14zFw-A"
      },
      "outputs": [],
      "source": [
        "def train_epoch(dataloader, encoder, decoder, encoder_optimizer,\n",
        "          decoder_optimizer, criterion):\n",
        "\n",
        "    encoder.train()\n",
        "    decoder.train()\n",
        "\n",
        "    total_loss = 0\n",
        "    for input_tensor, target_tensor in dataloader:\n",
        "        input_tensor = input_tensor.to(device)  # Move to the correct device\n",
        "        target_tensor = target_tensor.to(device)\n",
        "\n",
        "        encoder_optimizer.zero_grad()\n",
        "        decoder_optimizer.zero_grad()\n",
        "\n",
        "        encoder_outputs, encoder_hidden = encoder(input_tensor)\n",
        "        decoder_outputs, _, _ = decoder(encoder_outputs, encoder_hidden, target_tensor)\n",
        "\n",
        "        loss = criterion(\n",
        "            decoder_outputs.view(-1, decoder_outputs.size(-1)),\n",
        "            target_tensor.view(-1)\n",
        "        )\n",
        "        loss.backward()\n",
        "\n",
        "        encoder_optimizer.step()\n",
        "        decoder_optimizer.step()\n",
        "\n",
        "        total_loss += loss.item()\n",
        "\n",
        "    return total_loss / len(dataloader)"
      ]
    },
    {
      "cell_type": "code",
      "execution_count": 374,
      "metadata": {
        "colab": {
          "base_uri": "https://localhost:8080/",
          "height": 211
        },
        "id": "xGJq-GXFGQYA",
        "outputId": "172cb45c-ea70-43c6-9778-02a177bda9fe"
      },
      "outputs": [],
      "source": [
        "encoder_optimizer = optim.SGD(encoder.parameters(), lr=0.0001)\n",
        "decoder_optimizer = optim.SGD(decoder.parameters(), lr=0.0001)\n",
        "criterion = nn.NLLLoss().to(device)"
      ]
    },
    {
      "cell_type": "code",
      "execution_count": 375,
      "metadata": {},
      "outputs": [],
      "source": [
        "import matplotlib.pyplot as plt\n",
        "import matplotlib.ticker as ticker\n",
        "import numpy as np\n",
        "\n",
        "def showPlot(points):\n",
        "    plt.figure()\n",
        "    fig, ax = plt.subplots()\n",
        "    loc = ticker.MultipleLocator(base=0.2)\n",
        "    ax.yaxis.set_major_locator(loc)\n",
        "    plt.plot(points)\n",
        "    plt.show()"
      ]
    },
    {
      "cell_type": "code",
      "execution_count": 376,
      "metadata": {
        "id": "O_79injAF58U"
      },
      "outputs": [],
      "source": [
        "import time\n",
        "import math\n",
        "\n",
        "def asMinutes(s):\n",
        "    m = math.floor(s / 60)\n",
        "    s -= m * 60\n",
        "    return '%dm %ds' % (m, s)\n",
        "\n",
        "def timeSince(since, percent):\n",
        "    now = time.time()\n",
        "    s = now - since\n",
        "    es = s / (percent)\n",
        "    rs = es - s\n",
        "    return '%s (- %s)' % (asMinutes(s), asMinutes(rs))\n",
        "\n",
        "def train(train_dataloader, encoder, decoder, n_epochs, learning_rate=0.001,\n",
        "               print_every=100, plot_every=100):\n",
        "    start = time.time()\n",
        "    plot_losses = []\n",
        "    print_loss_total = 0  # Reset every print_every\n",
        "    plot_loss_total = 0  # Reset every plot_every\n",
        "\n",
        "    encoder_optimizer = optim.Adam(encoder.parameters(), lr=learning_rate)\n",
        "    decoder_optimizer = optim.Adam(decoder.parameters(), lr=learning_rate)\n",
        "    criterion = nn.NLLLoss()\n",
        "\n",
        "    for epoch in range(1, n_epochs + 1):\n",
        "        loss = train_epoch(train_dataloader, encoder, decoder, encoder_optimizer, decoder_optimizer, criterion)\n",
        "        print_loss_total += loss\n",
        "        plot_loss_total += loss\n",
        "\n",
        "        if epoch % print_every == 0:\n",
        "            print_loss_avg = print_loss_total / print_every\n",
        "            print_loss_total = 0\n",
        "            print('%s (%d %d%%) %.4f' % (timeSince(start, epoch / n_epochs),\n",
        "                                        epoch, epoch / n_epochs * 100, print_loss_avg))\n",
        "\n",
        "        if epoch % plot_every == 0:\n",
        "            plot_loss_avg = plot_loss_total / plot_every\n",
        "            plot_losses.append(plot_loss_avg)\n",
        "            plot_loss_total = 0\n",
        "\n",
        "    print(plot_losses)\n",
        "\n",
        "    showPlot(plot_losses)"
      ]
    },
    {
      "cell_type": "code",
      "execution_count": 378,
      "metadata": {},
      "outputs": [
        {
          "name": "stdout",
          "output_type": "stream",
          "text": [
            "1m 20s (- 0m 0s) (1 100%) 1.3960\n",
            "[1.3959516745347242]\n"
          ]
        },
        {
          "data": {
            "text/plain": [
              "<Figure size 640x480 with 0 Axes>"
            ]
          },
          "metadata": {},
          "output_type": "display_data"
        },
        {
          "data": {
            "image/png": "[encoded data removed]",
            "text/plain": [
              "<Figure size 640x480 with 1 Axes>"
            ]
          },
          "metadata": {},
          "output_type": "display_data"
        }
      ],
      "source": [
        "train(data_loader, encoder, decoder, 1, print_every=1, plot_every=1)"
      ]
    },
    {
      "cell_type": "code",
      "execution_count": 412,
      "metadata": {},
      "outputs": [],
      "source": [
        "def evaluate(encoder, decoder, dataloader):\n",
        "    with torch.no_grad():\n",
        "        for input_tensor, target_tensor in dataloader:\n",
        "\n",
        "            encoder_outputs, encoder_hidden = encoder(input_tensor)\n",
        "            decoder_outputs, decoder_hidden, decoder_attn = decoder(encoder_outputs, encoder_hidden)\n",
        "\n",
        "            _, topi = decoder_outputs.topk(1)\n",
        "            decoded_ids = topi.squeeze()\n",
        "\n",
        "            decoded_words = []\n",
        "            for idx in decoded_ids:\n",
        "                # if idx.item() == EOS_token:\n",
        "                #     decoded_words.append('<EOS>')\n",
        "                #     break\n",
        "                decoded_words.append(idx)\n",
        "        return decoded_words, decoder_attn\n"
      ]
    },
    {
      "cell_type": "code",
      "execution_count": 410,
      "metadata": {},
      "outputs": [],
      "source": [
        "def evaluateRandomly(encoder, decoder, n=10):\n",
        "    for i in range(n):\n",
        "        pair = random.choice(train_pairs)\n",
        "        print('>', pair[0])\n",
        "        print('=', pair[1])\n",
        "        output_words, _ = evaluate(encoder, decoder, data_loader)\n",
        "        output_sentence = ' '.join(output_words)\n",
        "        print('<', output_sentence)\n",
        "        print('')"
      ]
    },
    {
      "cell_type": "code",
      "execution_count": 413,
      "metadata": {},
      "outputs": [
        {
          "name": "stdout",
          "output_type": "stream",
          "text": [
            "> [[[0.5536189675331116, 0.3297105431556701, -0.2009197920560836], [0.5612958669662476, 0.2875800728797912, -0.1714861392974853], [0.5654477477073669, 0.287899911403656, -0.1716196984052658], [0.5687261819839478, 0.287930279970169, -0.1717343479394912], [0.5426627993583679, 0.2843984961509704, -0.2059215605258941], [0.5329124331474304, 0.2825249135494232, -0.2058753073215484], [0.522026538848877, 0.2785196006298065, -0.2061782777309417], [0.556364893913269, 0.2862173616886139, 0.0174603052437305], [0.4932738244533539, 0.2749283015727997, -0.1363002657890319], [0.551327645778656, 0.3666074573993683, -0.1242715939879417], [0.5301374197006226, 0.3626702129840851, -0.1691399365663528], [0.5812806487083435, 0.4469992816448211, 0.0904628336429596], [0.4046181738376617, 0.4621069729328155, -0.1098103299736976], [0.6790358424186707, 0.7130624651908875, 0.0002617332502268], [0.4710938334465027, 0.7446014285087585, -0.2050987929105758], [0.5687495470046997, 0.7138242125511169, -0.2158582508563995], [0.6171635985374451, 0.6470396518707275, -0.1962325423955917], [0.516053318977356, 0.7419239282608032, -0.278076171875], [0.6442482471466064, 0.6522973775863647, -0.2265136986970901], [0.4926771223545074, 0.7047539353370667, -0.2328423261642456], [0.6394363045692444, 0.6185402870178223, -0.2219071835279464], [0.5002221465110779, 0.6949318051338196, -0.2007214277982711], [0.6290943622589111, 0.6132662296295166, -0.1873328536748886], [0.6156144142150879, 0.948028564453125, 0.0319071784615516], [0.4852154850959778, 0.978980839252472, -0.0305518452078104], [0.6792777180671692, 1.2625893354415894, -0.111069343984127], [0.5015876293182373, 1.320872187614441, -0.2271284759044647], [0.6737735271453857, 1.635804295539856, 0.0492869988083839], [0.5319089293479919, 1.7249270677566528, -0.1113244891166687], [0.6645424962043762, 1.6864118576049805, 0.0562921836972236], [0.5360138416290283, 1.7796732187271118, -0.1066906675696373], [0.6840497851371765, 1.7737663984298706, -0.128659576177597], [0.5417924523353577, 1.860970377922058, -0.3162108957767486]], [[0.5535850524902344, 0.3297004401683807, -0.1980027705430984], [0.5612490773200989, 0.2875112891197204, -0.1693314909934997], [0.5654011368751526, 0.2878362238407135, -0.1694530546665191], [0.5686785578727722, 0.2878707945346832, -0.1695584058761596], [0.5426250696182251, 0.2843287587165832, -0.2042152881622314], [0.5328736901283264, 0.282429575920105, -0.2041642665863037], [0.5219911932945251, 0.2783838212490082, -0.2044718563556671], [0.5562924146652222, 0.2861643135547638, 0.0175548195838928], [0.4932487607002258, 0.2748087048530578, -0.1367760002613067], [0.5512983798980713, 0.3666087388992309, -0.1223256364464759], [0.5301042199134827, 0.3626582622528076, -0.1677817404270172], [0.581274151802063, 0.4471084177494049, 0.0906063169240951], [0.4046148657798767, 0.4621674418449402, -0.1108050793409347], [0.6790197491645813, 0.7133766412734985, 0.0026128918398171], [0.4710741937160492, 0.74465012550354, -0.2040590345859527], [0.5677796006202698, 0.7156595587730408, -0.2117230147123336], [0.6171080470085144, 0.6469542384147644, -0.1901638805866241], [0.5151961445808411, 0.7428159713745117, -0.2739244401454925], [0.6442527770996094, 0.6523284912109375, -0.2192164212465286], [0.4926489889621734, 0.7049588561058044, -0.228624016046524], [0.6394537091255188, 0.6187326312065125, -0.2146706134080886], [0.5000808238983154, 0.6954091191291809, -0.1968481093645095], [0.6291035413742065, 0.6133909225463867, -0.1811549067497253], [0.6156128644943237, 0.9482566118240356, 0.0327621549367904], [0.4853132665157318, 0.979003369808197, -0.0313770547509193], [0.6792696714401245, 1.2631832361221311, -0.0985775887966156], [0.5033835172653198, 1.326306700706482, -0.1741510927677154], [0.6737682223320007, 1.6364352703094482, 0.0477391332387924], [0.5318995118141174, 1.7254297733306885, -0.0519795939326286], [0.6646685004234314, 1.6874133348464966, 0.0536840632557868], [0.5356303453445435, 1.7800413370132446, -0.0468833297491073], [0.6840090751647949, 1.7741410732269287, -0.1304559409618377], [0.541899561882019, 1.860993504524231, -0.2467764616012573]], [[0.5535134673118591, 0.3296765685081482, -0.1981929838657379], [0.5611841678619385, 0.2874234914779663, -0.1694328486919403], [0.5653499364852905, 0.2877400815486908, -0.1695557087659835], [0.5686336755752563, 0.2877732813358307, -0.1696638315916061], [0.542548418045044, 0.2842737436294555, -0.204195350408554], [0.53278648853302, 0.2823517620563507, -0.204145461320877], [0.5219112634658813, 0.2782662808895111, -0.2044522762298584], [0.556260347366333, 0.2860938310623169, 0.0175653025507926], [0.493211567401886, 0.2746918201446533, -0.1366423666477203], [0.5512584447860718, 0.3665920197963714, -0.1224142536520958], [0.5300545692443848, 0.3626275658607483, -0.1677443385124206], [0.581283688545227, 0.4471434354782104, 0.0893979147076606], [0.4046114385128021, 0.4621792733669281, -0.1106916815042495], [0.6789507865905762, 0.7134308815002441, 0.0024082683958113], [0.4710016250610351, 0.7446756958961487, -0.2039414942264557], [0.5674508810043335, 0.7157683372497559, -0.2131190299987793], [0.616963267326355, 0.6469276547431946, -0.19145368039608], [0.5166898965835571, 0.7427990436553955, -0.275920569896698], [0.6442179679870605, 0.6523274183273315, -0.2210852205753326], [0.4926327168941498, 0.705001711845398, -0.230224460363388], [0.6394529938697815, 0.6187441945075989, -0.2163216769695282], [0.5000420212745667, 0.6955592036247253, -0.1982245743274688], [0.6290989518165588, 0.6134029626846313, -0.1824717670679092], [0.6156116127967834, 0.9483556747436525, 0.0325072519481182], [0.4853362143039703, 0.9790002703666688, -0.0311275087296962], [0.6791070699691772, 1.2635860443115234, -0.1018984317779541], [0.5029869675636292, 1.3261394500732422, -0.204232856631279], [0.6732662916183472, 1.6365091800689695, 0.0508086197078228], [0.5303464531898499, 1.7254269123077393, -0.0812333077192306], [0.6641838550567627, 1.687420129776001, 0.0581942126154899], [0.5336892604827881, 1.7800323963165283, -0.0757149308919906], [0.6833464503288269, 1.7743587493896484, -0.1247346401214599], [0.54072105884552, 1.8610069751739504, -0.2811439931392669]], [[0.5534783601760864, 0.3296682834625244, -0.1977318376302719], [0.561166524887085, 0.287321388721466, -0.1691316664218902], [0.5653355121612549, 0.2876182496547699, -0.1692515611648559], [0.5686193704605103, 0.2876341938972473, -0.1693598181009292], [0.5425086617469788, 0.2842044532299042, -0.2038230150938034], [0.5327300429344177, 0.2822397351264953, -0.2037683725357055], [0.5218492150306702, 0.2780826687812805, -0.2040737420320511], [0.5562208890914917, 0.285916656255722, 0.0175983887165784], [0.4931658804416656, 0.2744792103767395, -0.1365647614002227], [0.5512267351150513, 0.3665848970413208, -0.122158944606781], [0.5300304889678955, 0.362619400024414, -0.1674058139324188], [0.5812820196151733, 0.4471301138401031, 0.0892774164676666], [0.4046084284782409, 0.4621987640857696, -0.11048524081707], [0.6789106130599976, 0.7134648561477661, 0.0020781303755939], [0.4709775447845459, 0.7448292374610901, -0.2038712203502655], [0.5669131875038147, 0.7160115838050842, -0.2106662541627884], [0.6168767213821411, 0.6469230651855469, -0.1909518986940384], [0.5157650709152222, 0.7428919672966003, -0.2729230523109436], [0.6442005634307861, 0.6523122191429138, -0.2202107608318328], [0.4925707280635834, 0.7050005793571472, -0.2266921103000641], [0.6394384503364563, 0.6187168955802917, -0.2150874584913253], [0.4998605251312256, 0.69557124376297, -0.195493072271347], [0.6290773749351501, 0.613392174243927, -0.1818348318338394], [0.6156176924705505, 0.9484327435493468, 0.032680831849575], [0.4854493141174316, 0.9789845943450928, -0.0312991775572299], [0.6788215041160583, 1.265005350112915, -0.0867036134004592], [0.505205512046814, 1.329474687576294, -0.17664834856987], [0.6730405688285828, 1.6371995210647583, 0.0567078404128551], [0.532032310962677, 1.7254226207733154, -0.0573248080909252], [0.6640830636024475, 1.6883288621902466, 0.0631157457828521], [0.5347626209259033, 1.779926061630249, -0.0523074753582477], [0.6831878423690796, 1.774489164352417, -0.1184925660490989], [0.5437303781509399, 1.8605045080184937, -0.25434410572052]], [[0.5534418821334839, 0.3296752870082855, -0.197820708155632], [0.5611480474472046, 0.2873052060604095, -0.1691375821828842], [0.5653224587440491, 0.2875912487506866, -0.1692606210708618], [0.5686059594154358, 0.2875965237617492, -0.1693703532218933], [0.5424695014953613, 0.2841956913471222, -0.2037803381681442], [0.532677412033081, 0.2822233140468597, -0.2037255316972732], [0.5217968225479126, 0.2780567705631256, -0.2040311992168426], [0.5561918020248413, 0.2858472764492035, 0.0175710450857877], [0.49310502409935, 0.2744230628013611, -0.1361261457204818], [0.5511868000030518, 0.366587221622467, -0.1222027316689491], [0.5299956798553467, 0.3626236319541931, -0.1673552989959716], [0.5812787413597107, 0.4471166431903839, 0.0879281908273696], [0.4045917093753814, 0.4622172117233276, -0.108166255056858], [0.6788536906242371, 0.7135062217712402, -0.0001098331049433], [0.4709580838680267, 0.7450019717216492, -0.20210862159729], [0.5659121870994568, 0.7160961627960205, -0.2116459906101226], [0.6167951226234436, 0.646927535533905, -0.1905179321765899], [0.5147954821586609, 0.743008017539978, -0.2742490172386169], [0.6441624164581299, 0.6522886753082275, -0.2199958115816116], [0.4923595786094665, 0.7050098180770874, -0.22792549431324], [0.6393738985061646, 0.6186443567276001, -0.2144856452941894], [0.4995652139186859, 0.695608377456665, -0.1965063363313675], [0.6290112733840942, 0.6133643388748169, -0.1813047230243683], [0.6156163811683655, 0.9485015869140624, 0.0320980325341224], [0.4854550361633301, 0.9789885878562928, -0.0307327453047037], [0.678890585899353, 1.2632471323013306, -0.0983216315507888], [0.505120575428009, 1.3270437717437744, -0.2038142383098602], [0.6730307340621948, 1.6356040239334106, 0.0532244741916656], [0.5327669978141785, 1.724951148033142, -0.0839596018195152], [0.6640763878822327, 1.686485767364502, 0.0603441596031188], [0.5359045267105103, 1.7793959379196167, -0.0785000771284103], [0.6832029223442078, 1.7738745212554932, -0.1206416860222816], [0.5447778701782227, 1.860497236251831, -0.2814375758171081]], [[0.5534347891807556, 0.3296732008457184, -0.1979714334011078], [0.5611387491226196, 0.2872527837753296, -0.1691732704639434], [0.565313458442688, 0.2875246405601501, -0.1692970097064972], [0.5685957670211792, 0.2875115573406219, -0.1694073230028152], [0.5424643158912659, 0.2841565608978271, -0.2037883102893829], [0.5326713919639587, 0.2821628451347351, -0.2037326395511627], [0.521790623664856, 0.2779681086540222, -0.2040383070707321], [0.5561602115631104, 0.2857020497322082, 0.0176124311983585], [0.4930947422981262, 0.2743173837661743, -0.1360983401536941], [0.5511703491210938, 0.3665764331817627, -0.1222403272986412], [0.5299863815307617, 0.3626144528388977, -0.1673603504896164], [0.5812890529632568, 0.4470876455307007, 0.0876966118812561], [0.4045886397361755, 0.4622385799884796, -0.1081241965293884], [0.6788514852523804, 0.713529109954834, -0.0016684544971212], [0.4709540009498596, 0.7452563047409058, -0.2026676386594772], [0.5647866725921631, 0.7164983153343201, -0.2122468501329422], [0.6167817115783691, 0.6468863487243652, -0.1936826556921005], [0.5141621232032776, 0.7430046200752258, -0.275140643119812], [0.6441641449928284, 0.6521634459495544, -0.2238451987504959], [0.4921759665012359, 0.70499587059021, -0.2287739962339401], [0.6393726468086243, 0.6185420751571655, -0.2177416086196899], [0.4993130266666412, 0.6955991387367249, -0.1971498876810073], [0.6290053129196167, 0.613308310508728, -0.1843595504760742], [0.615634560585022, 0.9486275315284728, 0.0320417284965515], [0.4854961931705475, 0.979009747505188, -0.0306720733642578], [0.6782056093215942, 1.2654229402542114, -0.0915973410010337], [0.5057476758956909, 1.3271324634552002, -0.2027004957199096], [0.6729863286018372, 1.6370432376861572, 0.057100873440504], [0.5346540808677673, 1.724924087524414, -0.0840056389570236], [0.6640762686729431, 1.6879104375839231, 0.0637585297226905], [0.5378741025924683, 1.7793434858322144, -0.0787898078560829], [0.6831506490707397, 1.7746566534042358, -0.1192667037248611], [0.5463799834251404, 1.8602516651153564, -0.2827093601226806]], [[0.5534260272979736, 0.3296933770179748, -0.197952315211296], [0.5611296892166138, 0.2872505784034729, -0.1691155731678009], [0.5653036832809448, 0.2875183224678039, -0.1692408919334411], [0.5685849785804749, 0.2874982059001922, -0.1693509668111801], [0.5424569249153137, 0.2841531038284302, -0.2037450522184372], [0.5326641201972961, 0.2821564674377441, -0.2036913633346557], [0.521784245967865, 0.2779590785503387, -0.2039988934993744], [0.5561330914497375, 0.2856588661670685, 0.0178821310400962], [0.4930846095085144, 0.274305522441864, -0.1360588371753692], [0.5511595010757446, 0.366596519947052, -0.1221364140510559], [0.5299747586250305, 0.3626439869403839, -0.167285680770874], [0.5813006162643433, 0.4470893442630768, 0.0877051576972007], [0.4045871198177337, 0.4622708559036255, -0.1080056652426719], [0.6788463592529297, 0.7135211229324341, -0.0084855649620294], [0.4709504544734955, 0.7453364729881287, -0.2024472057819366], [0.5636979341506958, 0.7162547707557678, -0.2273119986057281], [0.6167768239974976, 0.6469649076461792, -0.1936133056879043], [0.5135790109634399, 0.7416401505470276, -0.2914707660675049], [0.6441704034805298, 0.6522044539451599, -0.2237469851970672], [0.4919983446598053, 0.7048608064651489, -0.2436120957136154], [0.6393821835517883, 0.6186574697494507, -0.2176934480667114], [0.4990990161895752, 0.6954482793807983, -0.2117338627576828], [0.6290141940116882, 0.6134659051895142, -0.1842861473560333], [0.6156278848648071, 0.9488732814788818, 0.0319508388638496], [0.4855879843235016, 0.9790843725204468, -0.0305916555225849], [0.6773556470870972, 1.2663620710372925, -0.0856721252202987], [0.5054095983505249, 1.3278642892837524, -0.2013963460922241], [0.6728283166885376, 1.637372970581055, 0.0630385130643844], [0.5344385504722595, 1.7251036167144775, -0.0841026157140731], [0.6640664339065552, 1.688121676445007, 0.0697547644376754], [0.5376721620559692, 1.779481053352356, -0.0788386091589927], [0.6827634572982788, 1.7748500108718872, -0.1121327131986618], [0.5460250973701477, 1.8602163791656492, -0.2829154133796692]], [[0.5534192323684692, 0.3296944797039032, -0.1947539746761322], [0.5611233711242676, 0.2872119843959808, -0.1657125800848007], [0.5652974843978882, 0.2874682247638702, -0.1658557653427124], [0.5685778856277466, 0.2874359488487243, -0.1659673005342483], [0.5424474477767944, 0.2841408550739288, -0.2003635913133621], [0.5326505899429321, 0.2821473181247711, -0.2003262341022491], [0.5217668414115906, 0.2779513597488403, -0.2006428688764572], [0.5561078786849976, 0.2856107056140899, 0.0206248313188552], [0.4930568635463714, 0.2742878198623657, -0.1341315060853958], [0.5511490106582642, 0.3666040301322937, -0.1189857497811317], [0.5299658179283142, 0.3626609444618225, -0.1642634719610214], [0.5813108086585999, 0.4470975697040558, 0.0886905863881111], [0.4045843183994293, 0.4623160064220428, -0.1061041131615638], [0.6787770986557007, 0.7135308980941772, -0.0098304441198706], [0.4709523320198059, 0.7454366683959961, -0.1970623880624771], [0.5524317026138306, 0.7160407304763794, -0.2321213185787201], [0.6167746186256409, 0.6469976305961609, -0.1871766149997711], [0.5126923322677612, 0.7415934801101685, -0.2972214519977569], [0.6441962718963623, 0.6522220373153687, -0.216828852891922], [0.489957332611084, 0.7048117518424988, -0.249347299337387], [0.6394520998001099, 0.6188080906867981, -0.2117983847856521], [0.4984201788902282, 0.6953309774398804, -0.2166275978088379], [0.6290709376335144, 0.6136651635169983, -0.1780914962291717], [0.6155823469161987, 0.9490094780921936, 0.0319338217377662], [0.4856409132480621, 0.979136049747467, -0.0305775962769985], [0.6767531037330627, 1.2664496898651123, -0.0863162577152252], [0.5052940845489502, 1.327838659286499, -0.2013143002986908], [0.6726248860359192, 1.6374382972717283, 0.0599795952439308], [0.5338937044143677, 1.7251805067062378, -0.0867052301764488], [0.6640064120292664, 1.688143253326416, 0.0658421292901039], [0.536957859992981, 1.7796238660812378, -0.0820561498403549], [0.6822673082351685, 1.7749391794204712, -0.1153989657759666], [0.5455447435379028, 1.8601443767547607, -0.2854399085044861]], [[0.5534127950668335, 0.329707533121109, -0.1948180347681045], [0.5611173510551453, 0.2872079312801361, -0.1656721979379654], [0.5652886033058167, 0.2874614596366882, -0.1658194959163665], [0.5685662627220154, 0.287424087524414, -0.1659329235553741], [0.54244065284729, 0.2841371297836303, -0.2002758234739303], [0.5326434373855591, 0.2821410894393921, -0.2002418339252472], [0.521760106086731, 0.2779432833194732, -0.2005579024553299], [0.5560981631278992, 0.285588651895523, 0.0213856641203165], [0.493047297000885, 0.2742742002010345, -0.1332524716854095], [0.5511307716369629, 0.3666348755359649, -0.1189540401101112], [0.529946506023407, 0.3627024292945862, -0.1641899347305297], [0.581312894821167, 0.4470950365066528, 0.0885673612356185], [0.4045822024345398, 0.462336391210556, -0.1039499193429946], [0.6787728071212769, 0.7135363817214966, -0.0165978725999593], [0.4709527492523193, 0.7455316185951233, -0.1964189112186432], [0.5530940890312195, 0.7153213620185852, -0.246587187051773], [0.6168471574783325, 0.6469997763633728, -0.1880501210689544], [0.512050211429596, 0.7404873967170715, -0.3140444159507751], [0.6442757844924927, 0.6522210836410522, -0.2186949551105499], [0.4885669350624084, 0.7047176361083984, -0.2657162547111511], [0.6395429372787476, 0.6188673377037048, -0.2138357907533645], [0.4978062212467193, 0.6951022148132324, -0.231288343667984], [0.6291453242301941, 0.6137388944625854, -0.1791273057460785], [0.6155727505683899, 0.94902902841568, 0.0309594720602035], [0.4856818616390228, 0.9791500568389891, -0.0296275708824396], [0.6767565011978149, 1.2657972574234009, -0.1076274663209915], [0.503052294254303, 1.3204957246780396, -0.2507117390632629], [0.6726058721542358, 1.6368858814239502, 0.0476318076252937], [0.5319380760192871, 1.7249367237091064, -0.1438196003437042], [0.6639887690544128, 1.687121033668518, 0.0547579638659954], [0.5354809761047363, 1.7796165943145752, -0.1395914256572723], [0.6820400357246399, 1.7748496532440186, -0.1297408640384674], [0.5426800847053528, 1.8600884675979612, -0.349343329668045]], [[0.5534164905548096, 0.3297612369060516, -0.1923628449440002], [0.5611281394958496, 0.2872464656829834, -0.1634703278541565], [0.565285325050354, 0.2874922752380371, -0.1636060923337936], [0.5685566663742065, 0.2874435484409332, -0.1637165993452072], [0.5424643754959106, 0.2841554582118988, -0.1980228126049041], [0.5326687097549438, 0.2821572721004486, -0.1979769766330719], [0.5217767953872681, 0.2779674530029297, -0.1982884705066681], [0.5560898780822754, 0.2855840027332306, 0.0221207905560731], [0.493036687374115, 0.2742587625980377, -0.1326229870319366], [0.5511189699172974, 0.3667178750038147, -0.1169175654649734], [0.5299345254898071, 0.3628248870372772, -0.1620819419622421], [0.5813102126121521, 0.4471094310283661, 0.0890020355582237], [0.4045799672603607, 0.4623306691646576, -0.1039540767669677], [0.6786695718765259, 0.7135246992111206, -0.0163554418832063], [0.4709497094154358, 0.7455505132675171, -0.195173978805542], [0.5534743070602417, 0.7148198485374451, -0.2447388470172882], [0.6169808506965637, 0.647023618221283, -0.1835632175207138], [0.5115883350372314, 0.7396659255027771, -0.3116326332092285], [0.6443971395492554, 0.6522805094718933, -0.2131616324186325], [0.4884915947914123, 0.7044666409492493, -0.263662576675415], [0.6397187113761902, 0.619066596031189, -0.2082424163818359], [0.4972046017646789, 0.6948795914649963, -0.2294845879077911], [0.629287838935852, 0.6139267086982727, -0.1745148599147796], [0.6153376698493958, 0.9490534663200378, 0.0312279947102069], [0.4856622219085693, 0.9792300462722778, -0.0298820342868566], [0.6762741208076477, 1.267367959022522, -0.0981881096959114], [0.5033543705940247, 1.3244733810424805, -0.1852699965238571], [0.6722882390022278, 1.6378560066223145, 0.0478740148246288], [0.5318078398704529, 1.7250573635101318, -0.0676406323909759], [0.6638232469558716, 1.6885268688201904, 0.0544535629451274], [0.5351107120513916, 1.779682755470276, -0.0628633350133895], [0.6817053556442261, 1.7752346992492676, -0.1297947466373443], [0.5425083637237549, 1.860084891319275, -0.2645378708839416]], [[0.5534139275550842, 0.3297653198242187, -0.1921815872192382], [0.5611329674720764, 0.2872974276542663, -0.1628980636596679], [0.5652840733528137, 0.287557452917099, -0.1630380004644394], [0.5685502290725708, 0.2875211834907532, -0.1631567329168319], [0.5424801707267761, 0.2841765582561493, -0.1973635852336883], [0.5326864719390869, 0.2821835279464721, -0.1973236501216888], [0.5217853784561157, 0.2780090868473053, -0.1976338326930999], [0.5560945272445679, 0.2856513261795044, 0.0236847214400768], [0.4930369853973388, 0.2742565870285034, -0.1307544261217117], [0.5511059761047363, 0.3667198121547699, -0.1164981871843338], [0.5299243927001953, 0.3628299832344055, -0.1615592241287231], [0.5814264416694641, 0.4471622109413147, 0.0893785133957862], [0.4045801758766174, 0.4623109102249145, -0.1028845459222793], [0.6786690950393677, 0.7134575843811035, -0.0156451221555471], [0.4708859324455261, 0.7455727458000183, -0.196772351861], [0.5480232238769531, 0.7142114639282227, -0.2427838742733001], [0.6169754266738892, 0.6471013426780701, -0.1924785524606704], [0.510715901851654, 0.7385798692703247, -0.3082958459854126], [0.6444175243377686, 0.6523747444152832, -0.2236719131469726], [0.4870728850364685, 0.7030589580535889, -0.2607049345970154], [0.6397572755813599, 0.6192232966423035, -0.219291090965271], [0.4966789186000824, 0.6934718489646912, -0.2273138761520385], [0.6293118596076965, 0.614079475402832, -0.1840237230062484], [0.6153482794761658, 0.9490812420845032, 0.0310061424970626], [0.485667884349823, 0.9792080521583556, -0.0296608414500951], [0.6762775182723999, 1.2662934064865112, -0.1157983168959617], [0.5030018091201782, 1.3165785074234009, -0.2417439669370651], [0.672048807144165, 1.6373499631881714, 0.0457601845264434], [0.5304914116859436, 1.724245309829712, -0.1319706887006759], [0.663383424282074, 1.6875481605529783, 0.0533732362091541], [0.5339547395706177, 1.7794828414916992, -0.1276534050703048], [0.6815593242645264, 1.775223970413208, -0.1312975585460662], [0.5397735834121704, 1.8599258661270144, -0.3394859433174133]], [[0.5534911751747131, 0.3297738432884216, -0.1890144050121307], [0.561163604259491, 0.2873733341693878, -0.1590172052383422], [0.5652872323989868, 0.2876434624195099, -0.1591621041297912], [0.5685461163520813, 0.2876100242137909, -0.1592819690704345], [0.5426242351531982, 0.2842071652412414, -0.1941517889499664], [0.5328928828239441, 0.282214879989624, -0.194120854139328], [0.5219979882240295, 0.2780739068984985, -0.1944429278373718], [0.5560879707336426, 0.2857054471969604, 0.0286581479012966], [0.4931049942970276, 0.2742553353309631, -0.1289625167846679], [0.5511211156845093, 0.36672243475914, -0.1129033416509628], [0.5299928784370422, 0.362844169139862, -0.1588413268327713], [0.5814483761787415, 0.4471583962440491, 0.0941110551357269], [0.4045855104923248, 0.4622295796871185, -0.1027485504746437], [0.6786526441574097, 0.713214099407196, -0.0153477983549237], [0.4708210527896881, 0.7455813884735107, -0.1974381506443023], [0.5457133650779724, 0.7119907140731812, -0.2438147515058517], [0.6169756650924683, 0.6470190286636353, -0.192470446228981], [0.5102792382240295, 0.7367773056030273, -0.3099760115146637], [0.6444428563117981, 0.6523775458335876, -0.223649263381958], [0.486419677734375, 0.7011635899543762, -0.2608750462532043], [0.6398440003395081, 0.619355320930481, -0.2191436737775802], [0.4964829981327057, 0.6914678812026978, -0.2281920164823532], [0.629371702671051, 0.6141543388366699, -0.1839770227670669], [0.6153882741928101, 0.9490966200828552, 0.0312609486281871], [0.4857603013515472, 0.9791841506958008, -0.0299233999103307], [0.6763153076171875, 1.266316533088684, -0.1083873659372329], [0.5030259490013123, 1.3171250820159912, -0.2344708889722824], [0.6723117232322693, 1.6373475790023804, 0.0547723770141601], [0.530326247215271, 1.7243359088897705, -0.1231743320822715], [0.6636903882026672, 1.6875269412994385, 0.0625313147902488], [0.533680260181427, 1.7796671390533447, -0.1188761368393898], [0.6821160316467285, 1.7751827239990234, -0.1207716315984726], [0.5394794940948486, 1.859834909439087, -0.3278248012065887]], [[0.5535376071929932, 0.3297841250896454, -0.1892664730548858], [0.5611853003501892, 0.2875671088695526, -0.1593014150857925], [0.5652962327003479, 0.2878551781177521, -0.1594457924365997], [0.5685547590255737, 0.2878275513648987, -0.1595655530691146], [0.5426802039146423, 0.2843030989170074, -0.1943549215793609], [0.5329654812812805, 0.2823202908039093, -0.1943232417106628], [0.5220720767974854, 0.2782471179962158, -0.194643884897232], [0.5561696887016296, 0.2859185636043548, 0.0302180498838424], [0.4931442737579345, 0.2743262946605682, -0.1268231868743896], [0.5511507391929626, 0.3667258322238922, -0.113126203417778], [0.5300100445747375, 0.3628719747066498, -0.1589749604463577], [0.5816116333007812, 0.4471604228019714, 0.0945573896169662], [0.4046248495578766, 0.4621838331222534, -0.1011365056037902], [0.678652286529541, 0.7131279706954956, -0.0247766580432653], [0.4707647264003753, 0.7455227971076965, -0.1993481367826461], [0.5434881448745728, 0.7097179293632507, -0.2617366015911102], [0.6169756650924683, 0.6469022631645203, -0.1993786543607711], [0.5093494653701782, 0.7344986796379089, -0.3306593596935272], [0.6444557309150696, 0.6523967981338501, -0.2309507578611374], [0.4855206608772278, 0.6990581750869751, -0.2790639400482178], [0.6398864984512329, 0.619896650314331, -0.2260316163301468], [0.4960507452487945, 0.6893474459648132, -0.2457764893770218], [0.6294170618057251, 0.6145355105400085, -0.1906546652317047], [0.6154199838638306, 0.9490741491317748, 0.0310032907873392], [0.4859207570552826, 0.9791077375411988, -0.0296869482845067], [0.6769580841064453, 1.2634402513504028, -0.1269081532955169], [0.500801146030426, 1.3103349208831787, -0.2731785178184509], [0.6723002195358276, 1.634857177734375, 0.0441134199500083], [0.5283257365226746, 1.723847508430481, -0.170803964138031], [0.6635696887969971, 1.6843680143356323, 0.0530099384486675], [0.5323852300643921, 1.7796674966812134, -0.1670961081981659], [0.6821662187576294, 1.773484468460083, -0.1330089569091797], [0.5356511473655701, 1.859395146369934, -0.3812950551509857]], [[0.5535827279090881, 0.3297885060310364, -0.1922475546598434], [0.5612226724624634, 0.2877184450626373, -0.1614855378866195], [0.5653270483016968, 0.2880150377750397, -0.1616338789463043], [0.5685933828353882, 0.2879842221736908, -0.1617534458637237], [0.5427183508872986, 0.284389853477478, -0.1961850970983505], [0.5330027937889099, 0.2824219465255737, -0.1961608827114105], [0.5221042633056641, 0.2784153521060943, -0.1964934021234512], [0.5563722848892212, 0.2860867977142334, 0.0298654679208993], [0.493154376745224, 0.2743965685367584, -0.1269413232803344], [0.5512110590934753, 0.3667291104793548, -0.1151705160737037], [0.5300205945968628, 0.3628968894481659, -0.1605515927076339], [0.581907331943512, 0.4471630454063415, 0.09272101521492], [0.4046324789524078, 0.462166428565979, -0.1004525274038314], [0.6786486506462097, 0.7133851647377014, -0.0347726121544837], [0.4706519246101379, 0.7455365657806396, -0.2005262821912765], [0.5401765704154968, 0.7079706192016602, -0.2688692212104797], [0.6169737577438354, 0.6468027830123901, -0.2038471698760986], [0.506818413734436, 0.7323513627052307, -0.3370088338851928], [0.6445127725601196, 0.6524993181228638, -0.2353007495403289], [0.4839536249637604, 0.6972814798355103, -0.2841974198818207], [0.6399782299995422, 0.6204521059989929, -0.2295107096433639], [0.4947634637355804, 0.6876264810562134, -0.2523227334022522], [0.6295081377029419, 0.6148364543914795, -0.1948769092559814], [0.6154208779335022, 0.9490858912467957, 0.0308188311755657], [0.4858906269073486, 0.9790928959846495, -0.0295057501643896], [0.6764651536941528, 1.2643276453018188, -0.1124231964349746], [0.5008336305618286, 1.3110191822052002, -0.2569947838783264], [0.6721246838569641, 1.6352262496948242, 0.0514735057950019], [0.5282937288284302, 1.7238266468048096, -0.155526578426361], [0.6634761691093445, 1.684712052345276, 0.0595849379897117], [0.5323453545570374, 1.77980375289917, -0.1523143500089645], [0.6819244027137756, 1.7736225128173828, -0.1286047399044037], [0.5354251265525818, 1.8589489459991453, -0.3662463426589966]], [[0.5536295175552368, 0.3297531902790069, -0.1978784352540969], [0.5612403154373169, 0.2877417206764221, -0.1674525439739227], [0.5653406381607056, 0.2880400121212005, -0.1675994098186493], [0.5686137080192566, 0.2880063652992248, -0.1677107512950897], [0.5427466630935669, 0.2844059765338897, -0.2018701136112213], [0.5330342054367065, 0.2824459373950958, -0.2018559277057647], [0.5221324563026428, 0.2784657776355743, -0.202202171087265], [0.5565113425254822, 0.286143034696579, 0.0231396630406379], [0.4931604862213135, 0.2744288444519043, -0.1321463882923126], [0.5512876510620117, 0.3666999340057373, -0.1206918954849243], [0.5300617814064026, 0.3629023134708404, -0.1658139526844024], [0.5824273824691772, 0.4472012817859649, 0.0860238820314407], [0.4046403765678406, 0.4621435701847076, -0.1028104871511459], [0.6786524057388306, 0.7146479487419128, -0.0371749028563499], [0.4705610871315002, 0.7455480098724365, -0.2056268155574798], [0.5383625030517578, 0.7078363299369812, -0.2653669714927673], [0.6169396638870239, 0.6468300819396973, -0.2089152634143829], [0.504784107208252, 0.7313886880874634, -0.331480324268341], [0.6445378065109253, 0.6525855660438538, -0.2396913766860962], [0.4827392101287842, 0.6966375708580017, -0.2793571352958679], [0.6400154829025269, 0.6208495497703552, -0.2324508428573608], [0.492070585489273, 0.6873957514762878, -0.2485959231853485], [0.6295559406280518, 0.6152306795120239, -0.1993264406919479], [0.615568995475769, 0.949112355709076, 0.0308155976235866], [0.4859117567539215, 0.9790922403335572, -0.0295037385076284], [0.6763885021209717, 1.2654550075531006, -0.0896683782339096], [0.5020870566368103, 1.317171335220337, -0.2236540764570236], [0.6726642847061157, 1.6354097127914429, 0.0684841722249984], [0.5285744071006775, 1.7240387201309204, -0.1185326799750328], [0.6645770072937012, 1.684929609298706, 0.0762260854244232], [0.5324179530143738, 1.7799566984176636, -0.114614762365818], [0.6821011304855347, 1.7736763954162598, -0.1084946617484092], [0.5365006923675537, 1.858614444732666, -0.3232106864452362]], [[0.5536710619926453, 0.3296577036380768, -0.2021285593509674], [0.56125408411026, 0.2877404391765594, -0.1727873831987381], [0.565351128578186, 0.2880375683307647, -0.1729024946689605], [0.5686303377151489, 0.2879994809627533, -0.1730017513036728], [0.5427669882774353, 0.2844071686267853, -0.2069287598133087], [0.5330551266670227, 0.2824486494064331, -0.2069043666124344], [0.5221511721611023, 0.2784778773784637, -0.2072490006685257], [0.556587278842926, 0.2861458361148834, 0.0144759695976972], [0.4931630492210388, 0.2744418382644653, -0.1391683369874954], [0.5513377785682678, 0.366592675447464, -0.1257615536451339], [0.5300936102867126, 0.3628814220428467, -0.1704966127872467], [0.5828391909599304, 0.4472058713436126, 0.0803455039858818], [0.4046406745910644, 0.4621189534664154, -0.1089255213737487], [0.6786437034606934, 0.7157319188117981, -0.0347380563616752], [0.4704261720180511, 0.745568573474884, -0.2072427570819854], [0.5378159284591675, 0.7069757580757141, -0.2651271224021911], [0.616910457611084, 0.6471115350723267, -0.2080006301403045], [0.5038606524467468, 0.7302809953689575, -0.3258933424949646], [0.644544243812561, 0.652890145778656, -0.2389067709445953], [0.4820996820926666, 0.6956610083580017, -0.2729581296443939], [0.64002525806427, 0.6210645437240601, -0.2294829785823822], [0.4918831288814544, 0.6863272190093994, -0.2471208572387695], [0.6295635104179382, 0.6154636144638062, -0.1991302073001861], [0.6157538890838623, 0.9491894841194152, 0.0323809012770652], [0.4858424067497253, 0.9792004227638244, -0.0310384128242731], [0.6737395524978638, 1.2753993272781372, -0.068203255534172], [0.5055440664291382, 1.3377087116241455, -0.1278802156448364], [0.6719415783882141, 1.642354130744934, 0.0813447535037994], [0.5284285545349121, 1.727110505104065, -0.0112941535189747], [0.6644382476806641, 1.6928117275238037, 0.0882851928472518], [0.5312198400497437, 1.782624363899231, -0.0070731742307543], [0.6806379556655884, 1.779837727546692, -0.095772348344326], [0.5366865396499634, 1.859005689620972, -0.2117512971162796]], [[0.5536975860595703, 0.3296010196208954, -0.2017690241336822], [0.5612627863883972, 0.287744790315628, -0.172330230474472], [0.5653588175773621, 0.2880415320396423, -0.1724481284618377], [0.5686432123184204, 0.2880024909973144, -0.1725496351718902], [0.5427750945091248, 0.2844099700450897, -0.2065465897321701], [0.5330618619918823, 0.2824566662311554, -0.2065190970897674], [0.5221558809280396, 0.2785029411315918, -0.2068590372800827], [0.5566403269767761, 0.2861655652523041, 0.0149452965706586], [0.4931604266166687, 0.2744748592376709, -0.1385224014520645], [0.5513654947280884, 0.3665378093719482, -0.1253402382135391], [0.5301074981689453, 0.3628743886947632, -0.1701318919658661], [0.5830844640731812, 0.4472606182098388, 0.0810252353549003], [0.4046468734741211, 0.4621182382106781, -0.107257068157196], [0.6786356568336487, 0.7164621949195862, -0.036381222307682], [0.4703866839408874, 0.745609700679779, -0.2069633305072784], [0.5375357866287231, 0.7059049010276794, -0.265820562839508], [0.6168991923332214, 0.6473938226699829, -0.2070380449295044], [0.5032921433448792, 0.7290331721305847, -0.3299103677272796], [0.644558310508728, 0.6533372402191162, -0.2378180027008056], [0.4816416203975677, 0.6948778033256531, -0.27669158577919], [0.6400364637374878, 0.6215267777442932, -0.2290121614933014], [0.4917631149291992, 0.6854478120803833, -0.2483679056167602], [0.6295914053916931, 0.6159023642539978, -0.1981757581233978], [0.6157737970352173, 0.9492366313934326, 0.0319352783262729], [0.4858122766017914, 0.979229748249054, -0.0306115634739398], [0.6741912364959717, 1.270380616188049, -0.0986508503556251], [0.5034417510032654, 1.3299248218536377, -0.2168326675891876], [0.6718183755874634, 1.6388583183288574, 0.0736615061759948], [0.5274921655654907, 1.726599931716919, -0.0954146310687065], [0.6640848517417908, 1.6886013746261597, 0.083341546356678], [0.5306130647659302, 1.7822719812393188, -0.0895777493715286], [0.680450975894928, 1.7783921957015991, -0.1005959659814834], [0.5363408327102661, 1.8590145111083984, -0.3005615770816803]], [[0.5537121891975403, 0.3295738101005554, -0.2022943198680877], [0.5612727999687195, 0.2877488136291504, -0.172647088766098], [0.5653698444366455, 0.2880453169345855, -0.1727631688117981], [0.5686613321304321, 0.2880052924156189, -0.1728693693876266], [0.5427788496017456, 0.2844163179397583, -0.2068282812833786], [0.5330637693405151, 0.2824717462062835, -0.2067956179380417], [0.5221566557884216, 0.2785380482673645, -0.2071324586868286], [0.5567226409912109, 0.2861852347850799, 0.0152979586273431], [0.4931569099426269, 0.2745259702205658, -0.1381475031375885], [0.5513949990272522, 0.3665119707584381, -0.1256465166807174], [0.53011155128479, 0.3628771901130676, -0.1703701466321945], [0.5832605361938477, 0.4473476111888885, 0.0814341232180595], [0.4046718180179596, 0.4621079862117767, -0.1077337861061096], [0.6786251068115234, 0.7166163921356201, -0.0349949933588504], [0.4703772664070129, 0.7456299066543579, -0.207417294383049], [0.5379611253738403, 0.7054983377456665, -0.2631852030754089], [0.6169229745864868, 0.6476045250892639, -0.2062314748764038], [0.5033642053604126, 0.7288492918014526, -0.3279357552528381], [0.6447454690933228, 0.6538155674934387, -0.2368727922439575], [0.4815908372402191, 0.6947949528694153, -0.275547981262207], [0.6402633190155029, 0.6220269799232483, -0.2286633253097534], [0.4917917847633362, 0.6852960586547852, -0.2461887300014495], [0.6298168301582336, 0.6162723302841187, -0.1972399950027465], [0.6157759428024292, 0.9492719769477844, 0.032093621790409], [0.485806405544281, 0.979248821735382, -0.0307629201561212], [0.6744269132614136, 1.269696593284607, -0.1024946346879005], [0.5031600594520569, 1.329780101776123, -0.20467109978199], [0.6711883544921875, 1.638700008392334, 0.0720341429114341], [0.527387261390686, 1.7265833616256714, -0.0796056240797042], [0.6630409359931946, 1.6884582042694092, 0.08075562864542], [0.5305384397506714, 1.782129406929016, -0.0741508454084396], [0.6800777912139893, 1.7783474922180176, -0.1031755805015564], [0.5362857580184937, 1.859097003936768, -0.2838355600833893]], [[0.5537146329879761, 0.3295212090015411, -0.2021398842334747], [0.5612744092941284, 0.2877369821071625, -0.172375351190567], [0.5653710961341858, 0.2880348563194275, -0.1724943816661834], [0.5686641335487366, 0.2879945933818817, -0.1726019978523254], [0.5427808165550232, 0.2844049036502838, -0.2065617740154266], [0.5330644845962524, 0.2824627161026001, -0.206529900431633], [0.5221544504165649, 0.2785293161869049, -0.2068656384944915], [0.5567517876625061, 0.2861889004707336, 0.0155249815434217], [0.4931561052799225, 0.2745223045349121, -0.1378010660409927], [0.551395833492279, 0.3664587140083313, -0.1254157274961471], [0.5301102995872498, 0.3628526926040649, -0.1701453626155853], [0.5832961797714233, 0.4474662244319916, 0.08175740391016], [0.404691606760025, 0.4621285796165466, -0.1074732765555381], [0.678604245185852, 0.7166579365730286, -0.0341809503734111], [0.470397412776947, 0.7456446886062622, -0.2072621136903762], [0.5382195711135864, 0.7053887248039246, -0.2625317871570587], [0.6169794797897339, 0.6476138830184937, -0.2058755904436111], [0.5033818483352661, 0.728819727897644, -0.3286616206169128], [0.6449610590934753, 0.653891921043396, -0.2367855757474899], [0.4815364778041839, 0.6947641968727112, -0.277155339717865], [0.6405593156814575, 0.6222031712532043, -0.2294109314680099], [0.4918011724948883, 0.6852380037307739, -0.2460565865039825], [0.6300820112228394, 0.6164095997810364, -0.1968913972377777], [0.6157665848731995, 0.949286162853241, 0.0320468321442604], [0.48582524061203, 0.9792482256889344, -0.0307139754295349], [0.67545086145401, 1.26838481426239, -0.1145238876342773], [0.5016080737113953, 1.327223539352417, -0.2336213886737823], [0.6711874008178711, 1.6381226778030396, 0.0716191604733467], [0.5264776349067688, 1.726176619529724, -0.1091146618127822], [0.6629992723464966, 1.687712788581848, 0.0790432468056678], [0.5297519564628601, 1.7817258834838867, -0.1035389900207519], [0.6800972819328308, 1.7781460285186768, -0.1045752763748169], [0.5354557037353516, 1.859094858169556, -0.3172041773796081]], [[0.5537037253379822, 0.3294525146484375, -0.2020152062177658], [0.5612648725509644, 0.2876993417739868, -0.1723153591156005], [0.5653623342514038, 0.2879950106143951, -0.1724358648061752], [0.5686569809913635, 0.2879514396190643, -0.1725432127714157], [0.5427629947662354, 0.284379631280899, -0.2065046578645706], [0.5330405831336975, 0.2824375033378601, -0.2064695656299591], [0.5221102833747864, 0.2784932553768158, -0.2068044394254684], [0.5567536354064941, 0.2861586809158325, 0.0160525403916835], [0.4931108951568603, 0.2745102643966675, -0.136721134185791], [0.5513868927955627, 0.3663881123065948, -0.1253022998571396], [0.5300973653793335, 0.3628131747245788, -0.1700956672430038], [0.583301305770874, 0.4475778341293335, 0.0818359553813934], [0.4047139585018158, 0.4621371924877167, -0.1068329215049743], [0.6786056756973267, 0.7166738510131836, -0.0336781777441501], [0.4704952239990234, 0.745664119720459, -0.207063153386116], [0.5383500456809998, 0.7053894996643066, -0.2623397409915924], [0.6170369982719421, 0.6475902795791626, -0.2057488858699798], [0.503408670425415, 0.7288318276405334, -0.328130841255188], [0.645102858543396, 0.6538605093955994, -0.2367388755083084], [0.4815140664577484, 0.6947842240333557, -0.2766058444976806], [0.6407078504562378, 0.622216522693634, -0.2296834886074066], [0.4917923808097839, 0.6852477788925171, -0.2457049638032913], [0.6302339434623718, 0.6164276003837585, -0.1967541575431823], [0.6157643795013428, 0.9493139386177064, 0.0320361629128456], [0.4858272969722748, 0.9792894721031188, -0.0307038612663745], [0.6754521727561951, 1.2680894136428833, -0.1128889322280883], [0.5016211271286011, 1.3269141912460327, -0.2325890809297561], [0.6709392070770264, 1.6381021738052368, 0.0638847649097442], [0.5264930725097656, 1.7261245250701904, -0.1102526187896728], [0.6626637578010559, 1.6876999139785769, 0.071516029536724], [0.5297641754150391, 1.7816977500915527, -0.1057753935456276], [0.6799021363258362, 1.778098225593567, -0.1148669868707656], [0.5354963541030884, 1.8590902090072632, -0.3189999759197235]], [[0.5536438226699829, 0.3294183313846588, -0.2041004598140716], [0.5612130761146545, 0.2876061797142029, -0.1742365807294845], [0.5653164982795715, 0.2878852486610412, -0.1743551194667816], [0.5686134696006775, 0.2878288626670837, -0.1744660437107086], [0.5426719784736633, 0.2843429446220398, -0.2083244323730468], [0.5329381823539734, 0.2824019491672516, -0.2082757502794265], [0.521982729434967, 0.2784483730792999, -0.2086067646741867], [0.5567201375961304, 0.2860369682312011, 0.0150747094303369], [0.4930076599121094, 0.2744920551776886, -0.1375392228364944], [0.5513458847999573, 0.3663531839847564, -0.1270787715911865], [0.5300534963607788, 0.3628012239933014, -0.1716728657484054], [0.58331298828125, 0.4476997852325439, 0.0809480622410774], [0.404721200466156, 0.4621377289295196, -0.1076369434595108], [0.6786028146743774, 0.7167001366615295, -0.0343378484249115], [0.47052201628685, 0.7456740736961365, -0.2083543241024017], [0.5383279323577881, 0.7055368423461914, -0.2624892294406891], [0.6170490980148315, 0.647614061832428, -0.2085262537002563], [0.5032809376716614, 0.7288526892662048, -0.3286156356334686], [0.6451885104179382, 0.6538673639297485, -0.2400531023740768], [0.4814294874668121, 0.6947980523109436, -0.2775824069976806], [0.6408060789108276, 0.6222360134124756, -0.2335000038146972], [0.4917425215244293, 0.6852759122848511, -0.2461978644132614], [0.6303232312202454, 0.6164648532867432, -0.1996757090091705], [0.615729808807373, 0.9493274092674256, 0.0320869386196136], [0.4858165681362152, 0.979314148426056, -0.0307473745197057], [0.6750644445419312, 1.268966555595398, -0.1013231128454208], [0.5017344355583191, 1.3284080028533936, -0.2083386182785034], [0.6701202988624573, 1.6394187211990356, 0.0638604089617729], [0.5265074968338013, 1.7263991832733154, -0.0959667861461639], [0.661956787109375, 1.689150333404541, 0.0714402124285698], [0.5297244191169739, 1.7818459272384644, -0.0922616571187973], [0.6786906719207764, 1.7789158821105957, -0.1149751916527748], [0.535520076751709, 1.8591468334198, -0.3048787117004394]], [[0.5536108613014221, 0.3294108211994171, -0.2040269672870636], [0.5611817836761475, 0.2874907255172729, -0.1739355325698852], [0.565282940864563, 0.287746250629425, -0.1740568280220031], [0.5685736536979675, 0.2876729369163513, -0.1741720288991928], [0.5426072478294373, 0.2842981219291687, -0.2080403119325637], [0.5328699350357056, 0.2823624014854431, -0.2079934626817703], [0.5219069719314575, 0.2784095406532287, -0.2083235681056976], [0.5566107034683228, 0.2859046161174774, 0.0166207756847143], [0.492920309305191, 0.2744864225387573, -0.1361207067966461], [0.5513063669204712, 0.3663493394851684, -0.1267556250095367], [0.5300253629684448, 0.3628104031085968, -0.1713387817144394], [0.5833145380020142, 0.4477829933166504, 0.0814604312181472], [0.4047238230705261, 0.4621471762657165, -0.1065833419561386], [0.6786003112792969, 0.7167103290557861, -0.0340593717992305], [0.4705592095851898, 0.745686411857605, -0.2082918584346771], [0.538467526435852, 0.7057654857635498, -0.2636683285236358], [0.6171103119850159, 0.6476178169250488, -0.2085449993610382], [0.5033179521560669, 0.7289215922355652, -0.3310679793357849], [0.6453433036804199, 0.653835117816925, -0.2402946650981903], [0.4814386367797851, 0.6948644518852234, -0.2804393470287323], [0.6409858465194702, 0.622244119644165, -0.2342200577259063], [0.491753488779068, 0.6853629946708679, -0.2477786988019943], [0.6304883360862732, 0.6164814829826355, -0.1997809410095214], [0.6157196760177612, 0.949381709098816, 0.031872060149908], [0.4858117997646332, 0.9793484807014464, -0.0305282771587371], [0.6750808954238892, 1.2688382863998413, -0.1096122860908508], [0.500410795211792, 1.325144648551941, -0.2385312020778656], [0.6699162721633911, 1.6394168138504028, 0.0595242753624916], [0.5255389213562012, 1.7263846397399902, -0.131611093878746], [0.6616460680961609, 1.6891348361968994, 0.0678509175777435], [0.5288970470428467, 1.7819193601608276, -0.1279216706752777], [0.6784324049949646, 1.7789725065231323, -0.1202083230018615], [0.5344341397285461, 1.8593544960021973, -0.3440496325492859]], [[0.5536032915115356, 0.3294655680656433, -0.2015556097030639], [0.5611684322357178, 0.2874525785446167, -0.171947106719017], [0.5652507543563843, 0.2876893579959869, -0.1720771938562393], [0.5685246586799622, 0.2875927090644836, -0.1721931099891662], [0.5425906777381897, 0.2842814028263092, -0.2067034542560577], [0.532859206199646, 0.2823379635810852, -0.2066598683595657], [0.5218957662582397, 0.278372585773468, -0.2069934606552124], [0.5564208030700684, 0.2857604920864105, 0.0169774051755666], [0.4928923547267914, 0.2744476795196533, -0.1365109384059906], [0.5512709021568298, 0.3664836585521698, -0.1248123794794082], [0.5300225019454956, 0.3629084229469299, -0.1702111512422561], [0.5831905603408813, 0.4477953910827636, 0.0816367641091346], [0.4047115445137024, 0.4622210562229156, -0.106998860836029], [0.678604006767273, 0.7167305946350098, -0.031784888356924], [0.4707818031311035, 0.7461525797843933, -0.2045625895261764], [0.538507342338562, 0.7068043351173401, -0.2607408463954925], [0.617056131362915, 0.647577702999115, -0.1975192725658416], [0.5033482909202576, 0.7294753789901733, -0.3268548846244812], [0.645341694355011, 0.6531405448913574, -0.2277911901473999], [0.4814668595790863, 0.6952714323997498, -0.2770251631736755], [0.6409760117530823, 0.6218635439872742, -0.2219799757003784], [0.4917603433132171, 0.6858015060424805, -0.2448846399784088], [0.6304821968078613, 0.6163443922996521, -0.1885313540697097], [0.6157222986221313, 0.9493945837020874, 0.0317584089934825], [0.4858382642269134, 0.9793126583099364, -0.0304182581603527], [0.6750577688217163, 1.272708773612976, -0.0882804840803146], [0.5003818273544312, 1.32910418510437, -0.2135921418666839], [0.6722496747970581, 1.6410095691680908, 0.0670783370733261], [0.5267743468284607, 1.7271052598953247, -0.0914588272571563], [0.665369987487793, 1.6911348104476929, 0.0745297893881797], [0.5302152037620544, 1.7822434902191162, -0.0856926590204238], [0.6802188158035278, 1.7790467739105225, -0.1109245643019676], [0.5358548164367676, 1.859430432319641, -0.2894729375839233]], [[0.5535856485366821, 0.3294835090637207, -0.2014991790056228], [0.561147153377533, 0.2873730957508087, -0.171904981136322], [0.565211296081543, 0.2875853180885315, -0.1720361411571502], [0.5684717893600464, 0.2874607443809509, -0.1721527576446533], [0.5425654649734497, 0.2842422425746918, -0.2066898643970489], [0.5328388810157776, 0.2822857797145843, -0.206651285290718], [0.5218750238418579, 0.2782960534095764, -0.2069859802722931], [0.556269645690918, 0.2855743765830993, 0.0156729891896247], [0.4928556978702545, 0.2743740975856781, -0.1398259699344635], [0.5512114763259888, 0.3665482699871063, -0.1248063445091247], [0.5300095081329346, 0.3629581034183502, -0.1702760159969329], [0.5830658674240112, 0.4478070437908172, 0.0799357667565345], [0.4046920835971832, 0.4622893929481506, -0.1097584217786789], [0.6786068677902222, 0.7168512940406799, -0.0316732265055179], [0.4708808362483978, 0.7466089725494385, -0.2045549899339676], [0.5385245084762573, 0.7071043252944946, -0.2595727145671844], [0.617034375667572, 0.647576093673706, -0.1965077668428421], [0.5033683776855469, 0.7295700907707214, -0.3240444958209991], [0.6453473567962646, 0.6529178619384766, -0.2262646853923797], [0.4814774394035339, 0.6953439712524414, -0.2739565074443817], [0.6409825682640076, 0.6217741370201111, -0.2196495085954666], [0.4917693734169006, 0.6858953833580017, -0.243309885263443], [0.6304911375045776, 0.6163215041160583, -0.1871381998062133], [0.6157366633415222, 0.9494045972824096, 0.0317113995552063], [0.4858596920967102, 0.9793151021003724, -0.0303781684488058], [0.6751432418823242, 1.2749972343444824, -0.0730397254228591], [0.5003291368484497, 1.3360530138015747, -0.1842812746763229], [0.6742595434188843, 1.6414217948913574, 0.08775445073843], [0.5269123315811157, 1.7278454303741455, -0.0479040667414665], [0.6680799722671509, 1.691945195198059, 0.0960290879011154], [0.5303390622138977, 1.7825579643249512, -0.0406850650906562], [0.6822994351387024, 1.7790006399154663, -0.0842103511095047], [0.5362663269042969, 1.8594781160354612, -0.2395593822002411]], [[0.5535825490951538, 0.3295260071754455, -0.202429324388504], [0.5611432194709778, 0.2873602211475372, -0.1731392294168472], [0.5651977062225342, 0.287560224533081, -0.1732640415430069], [0.568446159362793, 0.2874173820018768, -0.1733793467283249], [0.5425606369972229, 0.2842360436916351, -0.2082095146179199], [0.5328348875045776, 0.2822748720645904, -0.20817831158638], [0.5218716263771057, 0.2782773673534393, -0.2085145711898803], [0.556140661239624, 0.2854889929294586, 0.0137672945857048], [0.4928408563137054, 0.2743414044380188, -0.1436438113451004], [0.5511778593063354, 0.3666604459285736, -0.1258985102176666], [0.5300062894821167, 0.3630535900592804, -0.1717378199100494], [0.582953155040741, 0.4478156566619873, 0.079887107014656], [0.4046846032142639, 0.46231409907341, -0.1147190108895301], [0.6786036491394043, 0.7170611619949341, -0.0283238384872674], [0.4709242880344391, 0.746808648109436, -0.2090679705142974], [0.538580060005188, 0.7071325778961182, -0.2498336136341095], [0.617006242275238, 0.6476373076438904, -0.1991637200117111], [0.5033835172653198, 0.7295863032341003, -0.311682641506195], [0.6453559994697571, 0.652906596660614, -0.2283225506544113], [0.4814847409725189, 0.695361852645874, -0.2618282735347748], [0.6409897804260254, 0.6217690706253052, -0.2208191156387329], [0.4917857646942138, 0.6859040856361389, -0.2333755791187286], [0.6304998993873596, 0.6163395643234253, -0.189348891377449], [0.6158121824264526, 0.9494277238845824, 0.0323129631578922], [0.4859085977077484, 0.9793119430541992, -0.0309815406799316], [0.675238847732544, 1.2748233079910278, -0.0744326189160347], [0.5007878541946411, 1.3389981985092163, -0.1577589809894561], [0.6747419834136963, 1.6413804292678833, 0.0861336141824722], [0.527595043182373, 1.727850317955017, -0.0247552581131458], [0.6684650182723999, 1.691917061805725, 0.0944403484463691], [0.5308458209037781, 1.7824647426605225, -0.018419150263071], [0.6832291483879089, 1.7787631750106812, -0.0862584933638572], [0.5380080938339233, 1.8594437837600708, -0.2184998691082]], [[0.553587794303894, 0.3295695185661316, -0.205102726817131], [0.5611439347267151, 0.2873560190200805, -0.1765702813863754], [0.5651949048042297, 0.2875546216964721, -0.1766762286424636], [0.5684350728988647, 0.2874078452587127, -0.1767871081829071], [0.542564868927002, 0.2842328548431396, -0.2120395004749298], [0.5328425168991089, 0.2822702825069427, -0.2120043337345123], [0.5218797922134399, 0.278269499540329, -0.212340623140335], [0.5560367107391357, 0.2854523062705993, 0.0091731781139969], [0.4928353428840637, 0.2743096947669983, -0.1502609103918075], [0.5511608123779297, 0.3667745292186737, -0.1288372874259948], [0.5300058126449585, 0.3631696999073028, -0.1751614362001419], [0.5828192234039307, 0.4478242695331573, 0.0772240310907363], [0.4046731889247894, 0.4623772203922272, -0.1212270632386207], [0.6786001920700073, 0.7174091935157776, -0.0282319840043783], [0.4709378778934479, 0.7469950914382935, -0.2130045592784881], [0.5383206009864807, 0.7071155309677124, -0.2487271577119827], [0.6169013381004333, 0.6477259397506714, -0.2001277506351471], [0.5032560229301453, 0.7295734882354736, -0.310203343629837], [0.6453274488449097, 0.6528820991516113, -0.2286105453968048], [0.4814349710941314, 0.6953643560409546, -0.2606008052825928], [0.6408848166465759, 0.6217591166496277, -0.2211047857999801], [0.4917278289794922, 0.6859061121940613, -0.2323327511548996], [0.630436897277832, 0.6163528561592102, -0.1899971514940261], [0.6159699559211731, 0.9494777917861938, 0.0340765081346035], [0.4859406948089599, 0.9793622493743896, -0.03272720053792], [0.6749101877212524, 1.2789552211761477, -0.0552126355469226], [0.5050837993621826, 1.3501280546188354, -0.0978272408246994], [0.674721360206604, 1.6440494060516355, 0.1027571707963943], [0.5295928120613098, 1.7288283109664917, 0.0338274762034416], [0.6685512065887451, 1.6950385570526123, 0.1109458431601524], [0.531894862651825, 1.7829124927520752, 0.0396609827876091], [0.6832252144813538, 1.7802882194519043, -0.0691440105438232], [0.5416852235794067, 1.8594412803649905, -0.1586378663778305]], [[0.5536133050918579, 0.3296492397785187, -0.2017495185136795], [0.5611501336097717, 0.2873628437519073, -0.172464057803154], [0.5651920437812805, 0.2875566184520721, -0.1725817769765854], [0.5684195756912231, 0.2874034941196441, -0.1727002114057541], [0.5426025390625, 0.2842299044132232, -0.2085121572017669], [0.5328924655914307, 0.2822654247283935, -0.2084857523441314], [0.5219336152076721, 0.2782622575759887, -0.2088254392147064], [0.5558822154998779, 0.2854452729225158, 0.0149921970441937], [0.492830753326416, 0.274281769990921, -0.147680714726448], [0.5511492490768433, 0.3669511079788208, -0.1251177340745926], [0.5300149917602539, 0.3633298277854919, -0.172191634774208], [0.5826255679130554, 0.4478312134742737, 0.0819515734910965], [0.4046406745910644, 0.4625139534473419, -0.1205748468637466], [0.6786006689071655, 0.7174913287162781, -0.0265400111675262], [0.4709743559360504, 0.747044026851654, -0.212414413690567], [0.5382773876190186, 0.7070402503013611, -0.2489499300718307], [0.6167382001876831, 0.6479907035827637, -0.1998429745435714], [0.5032039880752563, 0.7294857501983643, -0.3104323744773865], [0.6451795697212219, 0.6528955698013306, -0.2285658121109008], [0.4813780188560486, 0.695310652256012, -0.2610388398170471], [0.6406140327453613, 0.6217683553695679, -0.221377819776535], [0.4916864931583404, 0.6858310699462891, -0.2325835227966308], [0.6302533149719238, 0.6164149641990662, -0.1899206489324569], [0.6159891486167908, 0.9496139287948608, 0.0340383350849151], [0.4859737455844879, 0.9793773293495178, -0.0326896235346794], [0.6753078103065491, 1.2765672206878662, -0.0785621255636215], [0.5040991902351379, 1.3452847003936768, -0.1846483200788498], [0.6746783256530762, 1.6427687406539917, 0.1011054143309593], [0.5294692516326904, 1.7284108400344849, -0.0545239076018333], [0.6683730483055115, 1.6931333541870115, 0.1092526912689209], [0.5318465232849121, 1.7824831008911133, -0.0481180548667907], [0.6832116842269897, 1.7797073125839231, -0.0730270594358444], [0.5414537191390991, 1.8593745231628416, -0.2542026340961456]], [[0.5536487102508545, 0.3297085165977478, -0.2019296139478683], [0.5611603260040283, 0.2873634994029999, -0.1726607531309127], [0.5651891231536865, 0.2875548899173736, -0.1727794855833053], [0.5684098601341248, 0.2873980700969696, -0.1728981286287307], [0.5426444411277771, 0.2842233777046203, -0.2086179703474044], [0.5329481363296509, 0.2822524309158325, -0.2085932791233062], [0.5219929218292236, 0.2782444059848785, -0.2089329212903976], [0.555726170539856, 0.2854332029819488, 0.0145575255155563], [0.4928266108036041, 0.2742405235767364, -0.1472720503807068], [0.5511454939842224, 0.3670623004436493, -0.1253823339939117], [0.5300294160842896, 0.363444060087204, -0.1723899692296981], [0.5824792981147766, 0.4478384554386139, 0.0794182270765304], [0.4045930504798889, 0.4626403748989105, -0.1195358410477638], [0.6785982847213745, 0.7176979184150696, -0.0286728031933307], [0.4709823131561279, 0.7471877932548523, -0.212050050497055], [0.5382841229438782, 0.7069826126098633, -0.2517542243003845], [0.6166506409645081, 0.6481084823608398, -0.1996113061904907], [0.5031538605690002, 0.7293431758880615, -0.3132278323173523], [0.6450733542442322, 0.652887225151062, -0.2282183617353439], [0.4813519418239593, 0.6952335238456726, -0.2630201876163482], [0.6404281258583069, 0.62176513671875, -0.2204823195934295], [0.4916703104972839, 0.6857128143310547, -0.2349596321582794], [0.6301394104957581, 0.6164358258247375, -0.1895306557416916], [0.6162687540054321, 0.9496516585350036, 0.0339614823460578], [0.4861380457878113, 0.979379177093506, -0.0326270647346973], [0.6759492754936218, 1.2788902521133425, -0.071324810385704], [0.5039718747138977, 1.3513730764389038, -0.1546197831630706], [0.6763117909431458, 1.6429126262664795, 0.1134755834937095], [0.5296508073806763, 1.7289806604385376, -0.0075886053964495], [0.6702401638031006, 1.6933192014694214, 0.1239949092268943], [0.5320634245872498, 1.782500386238098, 0.0004464378580451], [0.6853278279304504, 1.7796016931533811, -0.0541919767856597], [0.5419538021087646, 1.8593909740448, -0.1970729976892471]], [[0.5536507368087769, 0.3297590911388397, -0.2019243985414505], [0.5611571669578552, 0.2873757183551788, -0.1724953651428222], [0.565172553062439, 0.287563681602478, -0.1726186275482177], [0.5683773159980774, 0.2874013483524322, -0.1727395951747894], [0.5426477789878845, 0.284220814704895, -0.2085016965866089], [0.5329569578170776, 0.2822483479976654, -0.2084786146879196], [0.5220039486885071, 0.2782354354858398, -0.2088190615177154], [0.5555967688560486, 0.2854258120059967, 0.0164279006421566], [0.4928142130374908, 0.2741892039775848, -0.145702913403511], [0.5511305928230286, 0.3671381771564483, -0.1251817643642425], [0.5300307869911194, 0.3635016679763794, -0.1722595393657684], [0.5823795795440674, 0.4478597044944763, 0.0799521654844284], [0.4045473635196686, 0.4626950621604919, -0.1170341148972511], [0.6785970330238342, 0.7179107666015625, -0.0281585548073053], [0.4709886014461517, 0.7472636103630066, -0.2113545835018158], [0.5382487773895264, 0.7073824405670166, -0.2512093484401703], [0.6164653897285461, 0.6483692526817322, -0.2001801431179046], [0.5030142664909363, 0.729347825050354, -0.3135027587413788], [0.6449519991874695, 0.6528221368789673, -0.22977015376091], [0.4813346266746521, 0.6952612400054932, -0.2632995247840881], [0.640255331993103, 0.6217389106750488, -0.2224236726760864], [0.4916448593139648, 0.6857757568359375, -0.2346417158842086], [0.6300171613693237, 0.6164609789848328, -0.1903503239154815], [0.6164661645889282, 0.9496676921844482, 0.0332164466381073], [0.4862460494041443, 0.9793649315834044, -0.0319055430591106], [0.6766335964202881, 1.2768845558166504, -0.1037325635552406], [0.5014654397964478, 1.3432501554489136, -0.2236080467700958], [0.6768876314163208, 1.6405670642852783, 0.1062485724687576], [0.5297830104827881, 1.72793447971344, -0.076765738427639], [0.6704730987548828, 1.6897056102752686, 0.1146034002304077], [0.5327173471450806, 1.7810395956039429, -0.0683165863156318], [0.686225950717926, 1.7784978151321411, -0.0650893151760101], [0.5419938564300537, 1.859364032745361, -0.2745662033557892]], [[0.5536278486251831, 0.3297645151615143, -0.2020782232284546], [0.5611321330070496, 0.287369042634964, -0.1726008653640747], [0.5651370286941528, 0.2875549793243408, -0.1727264821529388], [0.5683313608169556, 0.2873904407024383, -0.1728468537330627], [0.5426291227340698, 0.2842103838920593, -0.2085671424865722], [0.5329388380050659, 0.2822317779064178, -0.2085447758436203], [0.5219871401786804, 0.2782087624073028, -0.2088863551616668], [0.5554941296577454, 0.2854126095771789, 0.0163839496672153], [0.4927422404289245, 0.274134486913681, -0.1454068124294281], [0.551081120967865, 0.3671557605266571, -0.1252613961696624], [0.5300143957138062, 0.3635112643241882, -0.172313243150711], [0.5823307633399963, 0.4479365050792694, 0.0792713314294815], [0.4044498801231384, 0.4627516865730285, -0.1166730299592018], [0.678564727306366, 0.7182321548461914, -0.0282474402338266], [0.471017450094223, 0.7474560141563416, -0.2093326598405838], [0.5382038354873657, 0.7081018686294556, -0.2512260377407074], [0.6163052320480347, 0.6490770578384399, -0.1977010071277618], [0.5028306245803833, 0.7294540405273438, -0.3136269152164459], [0.6447619795799255, 0.6528210639953613, -0.2271964251995086], [0.4813176095485687, 0.6953760981559753, -0.263530433177948], [0.6399401426315308, 0.6217381358146667, -0.2199655324220657], [0.4916292130947113, 0.685947060585022, -0.2346725463867187], [0.6298068761825562, 0.6165801286697388, -0.1879632025957107], [0.6166498064994812, 0.9497203230857848, 0.0331457890570163], [0.4863318800926208, 0.9795217514038086, -0.0318425670266151], [0.6767950057983398, 1.2785050868988037, -0.0971862822771072], [0.5015113949775696, 1.344859600067139, -0.1926862448453903], [0.6781224012374878, 1.6407233476638794, 0.1071611270308494], [0.5311132073402405, 1.728056788444519, -0.0363213159143924], [0.672016978263855, 1.6898020505905151, 0.1177346110343933], [0.534243106842041, 1.7810399532318115, -0.0274593438953161], [0.6873825788497925, 1.7784961462020874, -0.0619892999529838], [0.5436865091323853, 1.8593629598617556, -0.2267727106809616]], [[0.553613543510437, 0.3297677338123321, -0.2089800387620926], [0.5611090660095215, 0.2873501777648926, -0.1799646914005279], [0.5651038885116577, 0.2875318825244903, -0.1800829023122787], [0.5682891011238098, 0.2873622477054596, -0.1801927834749221], [0.5426098704338074, 0.2841936647891998, -0.2158862352371215], [0.5329188704490662, 0.2822109758853912, -0.2158675193786621], [0.5219689607620239, 0.2781817317008972, -0.2162158787250518], [0.5553909540176392, 0.285383403301239, 0.0091619929298758], [0.4926865994930267, 0.2740922570228576, -0.1524585634469986], [0.5510532259941101, 0.367163211107254, -0.1316321194171905], [0.5300086736679077, 0.363522469997406, -0.178683340549469], [0.5822932124137878, 0.447997510433197, 0.0750262290239334], [0.4043259620666504, 0.4628321230411529, -0.1229178458452224], [0.6785569787025452, 0.7184791564941406, -0.0288641341030597], [0.4710307717323303, 0.7475442886352539, -0.214435264468193], [0.5381611585617065, 0.709047257900238, -0.2512556910514831], [0.6161433458328247, 0.6499224305152893, -0.202880784869194], [0.5026835203170776, 0.7296674251556396, -0.3136251270771026], [0.6446415185928345, 0.6528566479682922, -0.2320020645856857], [0.4813161492347717, 0.6955538392066956, -0.2636580467224121], [0.6397302746772766, 0.621758759021759, -0.2240993976593017], [0.4916246831417084, 0.6862252354621887, -0.2347194701433181], [0.6296454668045044, 0.6167272925376892, -0.192811831831932], [0.6167309284210205, 0.9498218894004822, 0.033577561378479], [0.4863373339176178, 0.9798853397369384, -0.0322963669896125], [0.6768472790718079, 1.2867521047592163, -0.0540851950645446], [0.5045973062515259, 1.3565102815628052, -0.1275308281183242], [0.6807470321655273, 1.6440190076828003, 0.1362368315458297], [0.5335845947265625, 1.730008840560913, 0.0237379409372806], [0.6755346059799194, 1.6937774419784546, 0.1471010744571685], [0.536291241645813, 1.7823803424835205, 0.0317175090312957], [0.6906322240829468, 1.7792150974273682, -0.0322164297103881], [0.546359658241272, 1.859373927116394, -0.1662260442972183]], [[0.5536016225814819, 0.3297715485095978, -0.2058426141738891], [0.5610722303390503, 0.2873340249061584, -0.1759084165096283], [0.5650400519371033, 0.2875125110149383, -0.1760511249303817], [0.5682026743888855, 0.2873380780220032, -0.1761660724878311], [0.5426021218299866, 0.2841685712337494, -0.2124931067228317], [0.5329158306121826, 0.2821729183197021, -0.2124902009963989], [0.5219675898551941, 0.278131365776062, -0.2128486335277557], [0.5551866292953491, 0.2853300869464874, 0.0158185269683599], [0.4926384389400482, 0.2740419507026672, -0.1490481942892074], [0.5510092973709106, 0.3671706020832062, -0.1276904195547104], [0.5300079584121704, 0.3635326027870178, -0.175649419426918], [0.5822643041610718, 0.4480067789554596, 0.0841696932911872], [0.4042622148990631, 0.4629203081130981, -0.1224977597594261], [0.6785273551940918, 0.7185271382331848, -0.0218409299850463], [0.4710518717765808, 0.7475672960281372, -0.2140597999095916], [0.5381641983985901, 0.7095808982849121, -0.2483189404010772], [0.616131603717804, 0.6510591506958008, -0.2016366720199585], [0.502602219581604, 0.7297467589378357, -0.3118893504142761], [0.6445604562759399, 0.6532228589057922, -0.2306584864854812], [0.4813076555728912, 0.6956510543823242, -0.2622741162776947], [0.639616847038269, 0.6219676733016968, -0.2237941473722458], [0.4916132390499115, 0.6863681077957153, -0.2321796417236328], [0.6295812129974365, 0.6171121001243591, -0.1919154375791549], [0.6168626546859741, 0.9499119520187378, 0.033890176564455], [0.4864481091499328, 0.9799912571907043, -0.0326329246163368], [0.6779605746269226, 1.282680630683899, -0.087720088660717], [0.5046096444129944, 1.3534914255142212, -0.1830231547355651], [0.6815694570541382, 1.641716480255127, 0.1260807514190673], [0.534617006778717, 1.7299704551696775, -0.0371541827917099], [0.6756625175476074, 1.6902344226837158, 0.1421478539705276], [0.537463366985321, 1.7823069095611572, -0.0288758184760808], [0.6920281052589417, 1.7787636518478394, -0.0331930629909038], [0.5484615564346313, 1.859519839286804, -0.2313882857561111]], [[0.5536270141601562, 0.3298054337501526, -0.2001587450504303], [0.5610699653625488, 0.2873421609401703, -0.1704089790582656], [0.5650269985198975, 0.2875201106071472, -0.1705507189035415], [0.5681778788566589, 0.2873401045799255, -0.1706609427928924], [0.542625367641449, 0.2841642796993255, -0.2080999910831451], [0.5329586267471313, 0.2821642160415649, -0.2080894708633422], [0.5220209360122681, 0.2781238555908203, -0.2084529846906662], [0.5550159811973572, 0.28532275557518, 0.0197906475514173], [0.4926282465457916, 0.2740316689014435, -0.1489420980215072], [0.5510053038597107, 0.3672798871994018, -0.1224204078316688], [0.530060887336731, 0.3635904192924499, -0.1717275530099868], [0.5820541977882385, 0.4480164051055908, 0.0876729488372802], [0.4042501449584961, 0.4630799889564514, -0.1217744126915931], [0.6785245537757874, 0.7186028361320496, -0.0191949419677257], [0.4712207317352295, 0.7479000687599182, -0.2136083841323852], [0.5381776094436646, 0.7095797061920166, -0.2482342422008514], [0.6161220073699951, 0.651081383228302, -0.198528379201889], [0.5026229023933411, 0.7297512292861938, -0.3118393123149872], [0.6445489525794983, 0.6530303955078125, -0.2266577184200287], [0.4813649654388428, 0.69562166929245, -0.2621716856956482], [0.6395532488822937, 0.6217135787010193, -0.220077708363533], [0.4916753768920898, 0.6863435506820679, -0.2321169674396515], [0.6295245289802551, 0.6170446872711182, -0.1886880099773407], [0.616887629032135, 0.949933648109436, 0.0350249595940113], [0.486458957195282, 0.9801406860351562, -0.0337595678865909], [0.6779067516326904, 1.2852039337158203, -0.0708823427557945], [0.5056151151657104, 1.3550245761871338, -0.1591110378503799], [0.6818041205406189, 1.6437294483184814, 0.1196946129202842], [0.536873996257782, 1.730488896369934, -0.0128886280581355], [0.6760488748550415, 1.692517638206482, 0.1322395503520965], [0.5395224690437317, 1.7825922966003418, -0.0050735841505229], [0.6920971274375916, 1.779534935951233, -0.0464384518563747], [0.5504727363586426, 1.8595240116119385, -0.203867956995964]], [[0.5536668300628662, 0.3298568427562713, -0.1978520452976226], [0.5610684156417847, 0.2873460948467254, -0.1676615625619888], [0.5650202035903931, 0.2875196039676666, -0.1678152978420257], [0.5681675672531128, 0.2873356938362121, -0.1679308116436004], [0.5426376461982727, 0.2841604948043823, -0.2055860757827758], [0.5329746007919312, 0.2821581065654754, -0.2055759727954864], [0.5220306515693665, 0.2781165540218353, -0.2059431821107864], [0.5549134016036987, 0.2852745056152344, 0.0238368082791566], [0.4926092028617859, 0.2740210294723511, -0.1463628709316253], [0.5510291457176208, 0.3673665821552276, -0.1195811852812767], [0.5301401615142822, 0.3636844754219055, -0.1691444814205169], [0.5819472074508667, 0.4479967653751373, 0.0941947549581527], [0.40430349111557, 0.4631290733814239, -0.1213220730423927], [0.6785436868667603, 0.718758225440979, -0.017062833532691], [0.4713149666786194, 0.7490600347518921, -0.2132845669984817], [0.5381962060928345, 0.7092316746711731, -0.2479432076215744], [0.6161162257194519, 0.6508573889732361, -0.1985579431056976], [0.5026376843452454, 0.729575514793396, -0.3117647767066955], [0.6445417404174805, 0.6524606347084045, -0.2267685681581497], [0.4813679158687591, 0.6955172419548035, -0.261807769536972], [0.6394928693771362, 0.6209925413131714, -0.2201253920793533], [0.4916932582855224, 0.6861771941184998, -0.2318371832370758], [0.6294562816619873, 0.6166315674781799, -0.1887285411357879], [0.6170434951782227, 0.9499451518058776, 0.0351401939988136], [0.4866619110107422, 0.9801655411720276, -0.0338780805468559], [0.6773251295089722, 1.284757137298584, -0.083529032766819], [0.505561113357544, 1.348467469215393, -0.2054055035114288], [0.6817638874053955, 1.6437071561813354, 0.1015861853957176], [0.5371250510215759, 1.7304823398590088, -0.0763312429189682], [0.6760115623474121, 1.6924148797988892, 0.1124896258115768], [0.5400599837303162, 1.782684326171875, -0.0701349228620529], [0.6920608878135681, 1.7797318696975708, -0.0718149915337562], [0.5502468347549438, 1.859811544418335, -0.277199923992157]], [[0.5537017583847046, 0.3297700583934784, -0.1984441429376602], [0.5610650181770325, 0.2872298955917358, -0.169747769832611], [0.5650081634521484, 0.2873803377151489, -0.1698552370071411], [0.5681546926498413, 0.2871673703193664, -0.1699656844139099], [0.54263836145401, 0.284110426902771, -0.207230657339096], [0.532974362373352, 0.28211310505867, -0.2072048485279083], [0.5220241546630859, 0.2780876457691192, -0.2075640708208084], [0.55483478307724, 0.285134345293045, 0.0160522572696208], [0.492582619190216, 0.2740214467048645, -0.1503916680812835], [0.5510832071304321, 0.3673557341098785, -0.1212267503142356], [0.5302397608757019, 0.3636967539787292, -0.1701859235763549], [0.5819564461708069, 0.4479914903640747, 0.0903820618987083], [0.4045090675354004, 0.462894469499588, -0.1261749565601349], [0.6786104440689087, 0.718593418598175, -0.0174601413309574], [0.4713000655174255, 0.7498200535774231, -0.2162165194749832], [0.5381792783737183, 0.7080246210098267, -0.247921347618103], [0.6163894534111023, 0.6504660844802856, -0.1986025720834732], [0.5027002692222595, 0.729175329208374, -0.3113292157649994], [0.644883930683136, 0.6523671746253967, -0.2265934646129608], [0.4813001751899719, 0.6948018670082092, -0.2611272931098938], [0.6396884322166443, 0.6203925609588623, -0.2198573350906372], [0.4916131496429443, 0.6853262186050415, -0.2317273914813995], [0.6295304298400879, 0.6159548163414001, -0.1887604892253875], [0.6171058416366577, 0.950149953365326, 0.0391600057482719], [0.4866347312927246, 0.9802364110946656, -0.0377864949405193], [0.6732621192932129, 1.301722764968872, -0.0284301228821277], [0.5134942531585693, 1.3611787557601929, -0.0711984857916832], [0.6797410845756531, 1.6595228910446167, 0.1388058066368103], [0.5370214581489563, 1.7344664335250854, 0.0539586544036865], [0.6748613119125366, 1.7101589441299438, 0.1474524438381195], [0.5390608906745911, 1.7883546352386477, 0.058483101427555], [0.6907385587692261, 1.788878083229065, -0.0358975864946842], [0.5505850315093994, 1.8598151206970213, -0.1476169526576995]], [[0.5537031888961792, 0.3294948935508728, -0.1984258592128753], [0.5610328912734985, 0.2869132757186889, -0.1697161048650741], [0.5649693608283997, 0.2870213091373443, -0.1698218286037445], [0.5681225061416626, 0.286771148443222, -0.1699329018592834], [0.5426143407821655, 0.283991128206253, -0.2071464955806732], [0.532922625541687, 0.2820281386375427, -0.2071177065372467], [0.5219534635543823, 0.2780421078205108, -0.2074788808822631], [0.5547996163368225, 0.2848561108112335, 0.0168736316263675], [0.4924815595149994, 0.2740493714809418, -0.1498739570379257], [0.5511359572410583, 0.3671804964542389, -0.1210526376962661], [0.5303282141685486, 0.3636432290077209, -0.169815108180046], [0.5819402933120728, 0.44765505194664, 0.0934745892882347], [0.4048639237880707, 0.4629023671150207, -0.1257572174072265], [0.6786623597145081, 0.7166818976402283, -0.0170149728655815], [0.4713020324707031, 0.7508670091629028, -0.2166989743709564], [0.5409342646598816, 0.7065024375915527, -0.2493466883897781], [0.616255521774292, 0.6503599286079407, -0.2005116194486618], [0.5053867101669312, 0.729171097278595, -0.3132676780223846], [0.6447850465774536, 0.65244460105896, -0.2278468906879425], [0.4832231402397156, 0.6944399476051331, -0.2633405327796936], [0.6394095420837402, 0.6202096939086914, -0.2221140414476394], [0.4922144412994385, 0.6845471858978271, -0.2334106266498565], [0.629034161567688, 0.6153596043586731, -0.1909101605415344], [0.6170972585678101, 0.950169563293457, 0.0428917035460472], [0.4866401553153991, 0.9803667068481444, -0.0415060892701149], [0.6710812449455261, 1.3055073022842407, -0.0197072569280862], [0.5169358253479004, 1.364431381225586, -0.0699067860841751], [0.6764553785324097, 1.663023591041565, 0.1485200226306915], [0.5377857089042664, 1.7351438999176023, 0.0538251474499702], [0.6718794703483582, 1.713255524635315, 0.1571939885616302], [0.5390042662620544, 1.7895427942276, 0.058455754071474], [0.6870840787887573, 1.791491150856018, -0.025665184482932], [0.5519625544548035, 1.858391284942627, -0.1472193300724029]], [[0.5537782311439514, 0.3293257057666778, -0.1985777169466018], [0.5610265731811523, 0.2867847084999084, -0.169852465391159], [0.5649507641792297, 0.2868828773498535, -0.1699491292238235], [0.5680919885635376, 0.286622017621994, -0.1700564920902252], [0.542629599571228, 0.2839256823062897, -0.207703024148941], [0.5329334139823914, 0.2819857001304626, -0.2076812237501144], [0.5219623446464539, 0.2780302762985229, -0.2080462723970413], [0.5547572374343872, 0.2846927344799042, 0.0188126526772975], [0.4924717545509338, 0.2740734219551086, -0.1494432091712951], [0.5513460040092468, 0.3669919669628143, -0.1209747344255447], [0.5307493805885315, 0.3635167777538299, -0.1698193848133087], [0.5817922353744507, 0.4473451375961303, 0.1050418019294738], [0.4054444432258606, 0.4631244242191314, -0.1273557394742965], [0.6790411472320557, 0.7140607833862305, -0.0201365165412426], [0.4711618423461914, 0.752036452293396, -0.2170839011669159], [0.5553522109985352, 0.7018886804580688, -0.3060551583766937], [0.6150729060173035, 0.648557186126709, -0.2028138637542724], [0.5181053280830383, 0.7289683818817139, -0.3759505748748779], [0.6440483927726746, 0.6511226892471313, -0.2289416790008545], [0.4918671250343323, 0.6930322051048279, -0.3257360160350799], [0.638428807258606, 0.6172764897346497, -0.2250506579875946], [0.4998607635498047, 0.6814523339271545, -0.2920040488243103], [0.6279072165489197, 0.6121124029159546, -0.1935248076915741], [0.6170908808708191, 0.9501854181289672, 0.0474412702023983], [0.486694872379303, 0.9804974794387816, -0.0460225865244865], [0.6698769927024841, 1.3136502504348757, -0.010194388218224], [0.5185825824737549, 1.367905616760254, -0.0720813944935798], [0.6746566295623779, 1.6699962615966797, 0.1653454601764679], [0.5381532907485962, 1.7371845245361328, 0.0678854137659072], [0.6704577207565308, 1.720722794532776, 0.1744818389415741], [0.5389785170555115, 1.7923017740249634, 0.0743069872260093], [0.6850061416625977, 1.7956137657165527, -0.0120482612401247], [0.5531600117683411, 1.8583691120147705, -0.1349166929721832]], [[0.5537816286087036, 0.3291071355342865, -0.1921562552452087], [0.5609644651412964, 0.2865858376026153, -0.1631181687116623], [0.5648798942565918, 0.2866548895835876, -0.1632301360368728], [0.5680066347122192, 0.2863770723342895, -0.1633358746767044], [0.5425994396209717, 0.2838557362556457, -0.2004410475492477], [0.5328882336616516, 0.2819433510303497, -0.2004141807556152], [0.521919310092926, 0.2780159115791321, -0.2007830590009689], [0.5546979904174805, 0.2843522727489471, 0.0263495035469532], [0.4924532473087311, 0.274088054895401, -0.1395290195941925], [0.5514488816261292, 0.3666699230670929, -0.1142267137765884], [0.5309067368507385, 0.3632942140102386, -0.1624083220958709], [0.581779956817627, 0.4468570649623871, 0.1064376607537269], [0.4058381617069244, 0.4632582068443298, -0.1185057163238525], [0.6791180372238159, 0.7134710550308228, -0.0193819068372249], [0.4709599912166595, 0.7536925673484802, -0.2101500034332275], [0.5535179376602173, 0.7011682987213135, -0.2901318371295929], [0.6146786212921143, 0.6439149379730225, -0.2006489932537078], [0.5171073079109192, 0.7289786338806152, -0.3573527932167053], [0.6440423727035522, 0.6463451981544495, -0.2271393984556198], [0.4911364912986755, 0.6927398443222046, -0.3072214722633362], [0.6384626626968384, 0.6120726466178894, -0.2227712869644165], [0.4997529983520508, 0.6811305284500122, -0.2751495838165283], [0.6278492212295532, 0.607465386390686, -0.1912171691656112], [0.6171921491622925, 0.9501912593841552, 0.0467520095407962], [0.4867894649505615, 0.9805084466934204, -0.0453661866486072], [0.6700643301010132, 1.3107553720474243, -0.0121199116110801], [0.5176876187324524, 1.3671445846557615, -0.1202076077461242], [0.6742721796035767, 1.668381929397583, 0.128288134932518], [0.5381051898002625, 1.737368941307068, -0.0022492150310426], [0.669960618019104, 1.7190005779266355, 0.1343677937984466], [0.5389224290847778, 1.7926025390625, 0.0026760599575936], [0.6833047270774841, 1.7960799932479858, -0.0549205020070076], [0.5530034899711609, 1.8588875532150269, -0.207410842180252]], [[0.5536579489707947, 0.3279569745063782, -0.1951075345277786], [0.5606948733329773, 0.2854695916175842, -0.1664649248123169], [0.5646653175354004, 0.2854639589786529, -0.166535884141922], [0.567821741104126, 0.2851861417293548, -0.1666339486837387], [0.5422481894493103, 0.2833220064640045, -0.2021033465862274], [0.5323407649993896, 0.2814444899559021, -0.2020615339279174], [0.5213459730148315, 0.2775134146213531, -0.202433779835701], [0.5546244978904724, 0.2834712266921997, 0.0216045714914798], [0.4920286238193512, 0.2740059196949005, -0.1393813192844391], [0.5514505505561829, 0.3657769858837127, -0.1179834604263305], [0.5308850407600403, 0.3626978695392608, -0.1637278646230697], [0.5819203853607178, 0.4467285573482513, 0.0975626036524772], [0.4058637022972107, 0.4639959037303924, -0.1171527504920959], [0.6788651943206787, 0.7135455012321472, -0.0207074601203203], [0.4702580869197845, 0.7560535073280334, -0.2103501558303833], [0.543012261390686, 0.7000641226768494, -0.2800492942333221], [0.6126046776771545, 0.6394561529159546, -0.2069700509309768], [0.5030617117881775, 0.7261366248130798, -0.3430463075637817], [0.6438561081886292, 0.6420677304267883, -0.2338962256908416], [0.4851479530334472, 0.6915531158447266, -0.2934307157993316], [0.6382983326911926, 0.6067221164703369, -0.2263246327638626], [0.4922093749046325, 0.6804504990577698, -0.2647903561592102], [0.6271135210990906, 0.6016846895217896, -0.1966279447078704], [0.6173161864280701, 0.950203776359558, 0.0462719276547431], [0.486588567495346, 0.9807502031326294, -0.044851154088974], [0.6676448583602905, 1.3206477165222168, -0.0260181035846471], [0.520314633846283, 1.3702911138534546, -0.0660432130098342], [0.6711832284927368, 1.6799070835113523, 0.1239765882492065], [0.5380579233169556, 1.7401785850524902, 0.0570079386234283], [0.6674710512161255, 1.732035994529724, 0.1292293965816497], [0.538364589214325, 1.7962976694107056, 0.0612122900784015], [0.6786302328109741, 1.8055721521377563, -0.065925195813179], [0.5528544187545776, 1.8596601486206052, -0.1530412435531616]], [[0.5533034801483154, 0.327753484249115, -0.2019763886928558], [0.5602308511734009, 0.2851924300193786, -0.1733611077070236], [0.5643430352210999, 0.2851387858390808, -0.1734003275632858], [0.5675620436668396, 0.2848801016807556, -0.1734874695539474], [0.5416020154953003, 0.2832801938056946, -0.206997200846672], [0.531448483467102, 0.2814293801784515, -0.2069452702999115], [0.5205097794532776, 0.2775032222270965, -0.2073094546794891], [0.5545017719268799, 0.2834060788154602, 0.0141340550035238], [0.4913077354431152, 0.2740699350833893, -0.1395256221294403], [0.5514100790023804, 0.3657101988792419, -0.1255533248186111], [0.5306820869445801, 0.362684965133667, -0.1686021238565445], [0.5820260643959045, 0.4467357993125915, 0.0843237787485122], [0.405752569437027, 0.466905802488327, -0.1147499457001686], [0.6786054372787476, 0.7140483260154724, -0.0236579272896051], [0.4687715470790863, 0.7604590654373169, -0.2103150784969329], [0.5353400111198425, 0.7000612616539001, -0.2769753336906433], [0.6105294227600098, 0.6371102333068848, -0.2123485058546066], [0.4958223700523376, 0.7258959412574768, -0.3378646969795227], [0.6433428525924683, 0.6395671367645264, -0.2404960691928863], [0.4809537827968597, 0.6911957859992981, -0.2915013432502746], [0.6377676725387573, 0.6037981510162354, -0.2302515059709549], [0.4877451956272125, 0.6803979873657227, -0.2629213631153106], [0.6261059045791626, 0.5985656976699829, -0.201490119099617], [0.6175218820571899, 0.9502177834510804, 0.045855525881052], [0.4865268766880035, 0.9811158180236816, -0.04443996027112], [0.6676620244979858, 1.3219294548034668, -0.0266343262046575], [0.5209171772003174, 1.374140381813049, -0.0342410169541835], [0.6705325245857239, 1.6834611892700195, 0.1023543924093246], [0.5380191802978516, 1.7423762083053589, 0.0973374098539352], [0.6669366955757141, 1.7367569208145142, 0.107497788965702], [0.5379477739334106, 1.798439860343933, 0.1021632552146911], [0.6772757172584534, 1.8091648817062376, -0.0907937437295913], [0.5530239939689636, 1.861279010772705, -0.1098934784531593]], [[0.5526719093322754, 0.3274688720703125, -0.2178719937801361], [0.5595365762710571, 0.2847257554531097, -0.1889986246824264], [0.5638806223869324, 0.2845841646194458, -0.1890059560537338], [0.5672296285629272, 0.2843542098999023, -0.1890757232904434], [0.540411114692688, 0.2831735908985138, -0.2200919091701507], [0.5299313068389893, 0.2813342809677124, -0.2200263738632202], [0.5189892053604126, 0.2774275243282318, -0.2203911244869232], [0.554418683052063, 0.2832961976528168, 0.0012603722279891], [0.490121066570282, 0.2741287052631378, -0.1401885002851486], [0.5513013005256653, 0.3656468987464905, -0.1406290382146835], [0.5303202271461487, 0.3626814484596252, -0.1803698092699051], [0.5822012424468994, 0.4468843638896942, 0.0706361085176467], [0.4055933952331543, 0.4699713885784149, -0.1117891818284988], [0.6782225370407104, 0.715122640132904, -0.0352338477969169], [0.4657483100891113, 0.7657564878463745, -0.2089914828538894], [0.5297805070877075, 0.6999123692512512, -0.2746945023536682], [0.6085654497146606, 0.63737553358078, -0.2145199477672577], [0.4888820648193359, 0.724425733089447, -0.3364783227443695], [0.6430379152297974, 0.6397343277931213, -0.2430634200572967], [0.4762254357337951, 0.6898015737533569, -0.2893513739109039], [0.637717604637146, 0.6042805910110474, -0.2323037087917328], [0.4831880927085876, 0.6796420812606812, -0.2601978778839111], [0.6257820129394531, 0.5989933609962463, -0.2037011086940765], [0.6175304651260376, 0.9504538774490356, 0.0457085594534873], [0.486132949590683, 0.9816386103630066, -0.0443674251437187], [0.6648978590965271, 1.3282469511032104, -0.031205665320158], [0.5226362943649292, 1.376808524131775, -0.0128453951328992], [0.6687334775924683, 1.6890008449554443, 0.0993675217032432], [0.5380017161369324, 1.74405038356781, 0.1195883527398109], [0.6656880974769592, 1.7421691417694092, 0.10479386895895], [0.5373620390892029, 1.800594449043274, 0.1239596754312515], [0.67451411485672, 1.814812183380127, -0.097432866692543], [0.5529352426528931, 1.861682653427124, -0.0933921337127685]], [[0.5521332025527954, 0.3274417519569397, -0.2215228974819183], [0.5590530633926392, 0.2846664488315582, -0.1925777494907379], [0.5635367631912231, 0.2845114171504974, -0.1926030814647674], [0.5669655203819275, 0.2842967212200165, -0.1926680505275726], [0.5396798849105835, 0.2831604778766632, -0.2228831350803375], [0.5290724039077759, 0.2813208997249603, -0.2228322923183441], [0.518144965171814, 0.2774169445037842, -0.2232022285461425], [0.5543322563171387, 0.2832792699337005, -0.0032319158781319], [0.4895166456699371, 0.2741985619068146, -0.1402413696050644], [0.551064133644104, 0.3656609058380127, -0.1446148753166198], [0.5299130082130432, 0.3627484142780304, -0.1834184825420379], [0.5824657082557678, 0.4471879005432129, 0.0649898201227188], [0.4055141806602478, 0.4714398384094238, -0.1074095368385315], [0.6771901249885559, 0.7181199193000793, -0.0413542725145816], [0.4620567858219147, 0.7716626524925232, -0.2030777037143707], [0.5239521265029907, 0.6971651315689087, -0.2730641961097717], [0.6069308519363403, 0.6375811100006104, -0.2100607454776764], [0.4843128323554992, 0.7218133807182312, -0.3357466459274292], [0.6419077515602112, 0.6399689316749573, -0.2377379387617111], [0.4713472723960876, 0.6877577900886536, -0.2886302471160888], [0.6362669467926025, 0.6042519807815552, -0.2246080636978149], [0.4792971611022949, 0.6773874759674072, -0.2583183646202087], [0.6244450211524963, 0.5989795923233032, -0.1984586417675018], [0.6175400018692017, 0.9509835243225098, 0.0448666289448738], [0.4853299558162689, 0.9824560284614564, -0.0434238724410533], [0.6646537780761719, 1.3277714252471924, -0.0388671942055225], [0.5224586725234985, 1.3791475296020508, -0.0130842356011271], [0.668315052986145, 1.6888558864593506, 0.0929777771234512], [0.537969172000885, 1.74594247341156, 0.1250031888484954], [0.665351927280426, 1.7421506643295288, 0.0987849459052085], [0.5372928380966187, 1.8027215003967283, 0.1302670091390609], [0.6736127734184265, 1.8165948390960691, -0.103111445903778], [0.5529720187187195, 1.863832950592041, -0.0835898071527481]], [[0.5520421862602234, 0.3277952671051025, -0.2317850142717361], [0.5589979290962219, 0.284993052482605, -0.2024292945861816], [0.5634898543357849, 0.2849367260932922, -0.2024751603603363], [0.5669121146202087, 0.2848021984100342, -0.2025346755981445], [0.5396380424499512, 0.2832390666007995, -0.2321133613586425], [0.5290202498435974, 0.2813941538333893, -0.2320975810289383], [0.5180651545524597, 0.2775009274482727, -0.2324851304292678], [0.5542808175086975, 0.283706396818161, -0.0105333430692553], [0.4893623888492584, 0.2743874788284302, -0.1425304114818573], [0.5509274005889893, 0.3665080964565277, -0.1538794338703155], [0.5297149419784546, 0.3634686470031738, -0.1920214295387268], [0.5833256244659424, 0.4488832652568817, 0.0622656717896461], [0.4052184224128723, 0.4733631908893585, -0.1077508106827735], [0.6769228577613831, 0.7238378524780273, -0.0552736297249794], [0.4554618000984192, 0.7803234457969666, -0.2071795910596847], [0.5215539336204529, 0.6910762190818787, -0.2927038967609405], [0.6026164889335632, 0.6385950446128845, -0.231404423713684], [0.4819917678833008, 0.7186015844345093, -0.3545297980308532], [0.6400772929191589, 0.6424704790115356, -0.2614211738109588], [0.4696256220340729, 0.6817216873168945, -0.3036955893039703], [0.6345329880714417, 0.6043261289596558, -0.2448920011520385], [0.4775707721710205, 0.6702730655670166, -0.2767615914344787], [0.6224770545959473, 0.5992419719696045, -0.2184089720249176], [0.6177718639373779, 0.9514605402946472, 0.043667659163475], [0.4846790432929992, 0.9832953810691832, -0.0421772226691246], [0.6648542881011963, 1.3259295225143433, -0.0541849620640277], [0.522088885307312, 1.37936270236969, -0.0247982032597064], [0.6684039235115051, 1.6886087656021118, 0.079410895705223], [0.5379430055618286, 1.7493853569030762, 0.0647407844662666], [0.6653410196304321, 1.741756558418274, 0.084795631468296], [0.5372798442840576, 1.80772602558136, 0.0652547925710678], [0.67339026927948, 1.819580078125, -0.117469348013401], [0.5530351400375366, 1.8664798736572263, -0.1604978740215301]], [[0.5518640279769897, 0.3278479278087616, -0.2633716166019439], [0.55879145860672, 0.2850147187709808, -0.2340089976787567], [0.5633571743965149, 0.2849622666835785, -0.2339869290590286], [0.5668294429779053, 0.2848381996154785, -0.2340395003557205], [0.5392055511474609, 0.2832483053207397, -0.2617447972297668], [0.5284724831581116, 0.2813890874385834, -0.2617038488388061], [0.5174371004104614, 0.2774953544139862, -0.2620710134506225], [0.5542604923248291, 0.2837589979171753, -0.035017441958189], [0.4888893961906433, 0.2743977308273315, -0.1569888591766357], [0.5509254336357117, 0.3666679263114929, -0.1823688596487045], [0.5295140147209167, 0.3636183440685272, -0.2177821099758148], [0.5839200019836426, 0.4496103823184967, 0.0509290285408496], [0.4049200415611267, 0.4735336601734161, -0.1127937883138656], [0.6768866777420044, 0.72873854637146, -0.1073080524802208], [0.4471395015716553, 0.7893444299697876, -0.2450818121433258], [0.523479700088501, 0.6767961978912354, -0.4007148146629333], [0.5986323952674866, 0.6392366886138916, -0.3081353604793548], [0.4838620722293854, 0.7072673439979553, -0.4678215980529785], [0.6388962268829346, 0.6427857875823975, -0.3434734344482422], [0.4703734815120697, 0.6694587469100952, -0.4147371649742126], [0.6344359517097473, 0.6045770645141602, -0.3207519054412842], [0.4791086316108703, 0.6553199887275696, -0.3853420615196228], [0.6219936013221741, 0.5990033149719238, -0.2928279340267181], [0.6169117093086243, 0.9501758217811584, 0.0434211418032646], [0.4831370711326599, 0.9830569624900818, -0.0419027917087078], [0.6619188189506531, 1.32606840133667, -0.0160775687545537], [0.5218158960342407, 1.3791733980178833, -0.0107397083193063], [0.6646673083305359, 1.6876914501190186, 0.1592705696821212], [0.5346766710281372, 1.749309778213501, 0.1124525666236877], [0.6618057489395142, 1.7403796911239624, 0.1685869991779327], [0.5328203439712524, 1.8073546886444087, 0.11544881016016], [0.6681994199752808, 1.8194520473480225, -0.0317336693406105], [0.549994707107544, 1.86602795124054, -0.1132905110716819]], [[0.5515960454940796, 0.3270550966262817, -0.2987210750579834], [0.5584555864334106, 0.2838077545166015, -0.2689265608787536], [0.5630730986595154, 0.2833715081214905, -0.2688662409782409], [0.5666253566741943, 0.2829653620719909, -0.2688953876495361], [0.5385558605194092, 0.2828888893127441, -0.2975997030735016], [0.5277196764945984, 0.2809056043624878, -0.2975859045982361], [0.5167156457901001, 0.2768786251544952, -0.2979555428028106], [0.5542148947715759, 0.2824212312698364, -0.0584401302039623], [0.4884509146213531, 0.2741893827915191, -0.1856708526611328], [0.5510111451148987, 0.3656967878341675, -0.2128481566905975], [0.5295061469078064, 0.3633698225021362, -0.2498905956745147], [0.5853108167648315, 0.4489732384681701, 0.0523509010672569], [0.40371173620224, 0.4726336896419525, -0.1205084100365638], [0.6779131889343262, 0.7350231409072876, -0.1300898492336273], [0.4290073812007904, 0.7992722988128662, -0.269404649734497], [0.5414807200431824, 0.6395438313484192, -0.4863196313381195], [0.5873297452926636, 0.6442904472351074, -0.3964497447013855], [0.4994193911552429, 0.6513256430625916, -0.5565324425697327], [0.6335585713386536, 0.6499183177947998, -0.4349927902221679], [0.4895170331001282, 0.620867133140564, -0.5011466145515442], [0.632811427116394, 0.6106530427932739, -0.4095377326011657], [0.50257807970047, 0.6071579456329346, -0.4717095792293548], [0.6169029474258423, 0.6014096736907959, -0.380655825138092], [0.6154374480247498, 0.9486663937568665, 0.0437847189605236], [0.4787556529045105, 0.9816123247146606, -0.0422453321516513], [0.6562239527702332, 1.3259004354476929, 0.0462093353271484], [0.5158902406692505, 1.3783297538757324, -0.0268499515950679], [0.6597926616668701, 1.6869308948516846, 0.2703731060028076], [0.5237076878547668, 1.747998595237732, 0.1293880492448806], [0.6574112176895142, 1.739625334739685, 0.2842255532741546], [0.5208653211593628, 1.8069406747817995, 0.1366843581199646], [0.6631597876548767, 1.8202884197235107, 0.0835210233926773], [0.5407835245132446, 1.8635724782943728, -0.1035990342497825]], [[0.5511851906776428, 0.3269432485103607, -0.4467891156673431], [0.5577784776687622, 0.2833558917045593, -0.4233696460723877], [0.5625315308570862, 0.2826135754585266, -0.4232441782951355], [0.5662155151367188, 0.2819741070270538, -0.423236608505249], [0.5376898050308228, 0.2827203273773193, -0.4509357810020447], [0.5269290804862976, 0.2805860340595245, -0.4509254992008209], [0.5160268545150757, 0.2765190005302429, -0.4511972069740295], [0.5541971325874329, 0.2813474237918854, -0.2068231850862503], [0.4883559644222259, 0.2740952670574188, -0.3322168290615082], [0.5510095357894897, 0.3645289242267608, -0.356516569852829], [0.5294121503829956, 0.3629228472709656, -0.3925763666629791], [0.587988018989563, 0.4466047585010528, -0.0490079447627067], [0.4018919467926025, 0.4723295867443084, -0.2025359123945236], [0.6840385794639587, 0.7460785508155823, -0.1892970502376556], [0.4132658541202545, 0.8141411542892456, -0.3268417119979858], [0.5837773084640503, 0.6248303651809692, -0.5857008695602417], [0.5644770860671997, 0.6556202173233032, -0.4986550211906433], [0.5706401467323303, 0.6214182376861572, -0.6563578844070435], [0.6059421896934509, 0.6552953720092773, -0.5375159382820129], [0.5548849701881409, 0.5751135945320129, -0.6177042722702026], [0.6019982695579529, 0.6133006811141968, -0.5151192545890808], [0.5560727119445801, 0.5746431946754456, -0.5770106911659241], [0.584866464138031, 0.6046841740608215, -0.4839287400245666], [0.6128209233283997, 0.944347620010376, 0.0419415347278118], [0.4751167893409729, 0.9781981706619264, -0.0403968133032321], [0.6485503911972046, 1.3253077268600464, 0.0503991544246673], [0.5037757158279419, 1.3780174255371094, 0.0346583649516105], [0.6560840606689453, 1.6868258714675903, 0.28095144033432], [0.5089267492294312, 1.7462162971496582, 0.2549603581428528], [0.6531255841255188, 1.7390401363372805, 0.2949836850166321], [0.5061610341072083, 1.804981112480164, 0.2667829394340515], [0.66274493932724, 1.8195741176605225, 0.0876390412449836], [0.5277037620544434, 1.863100528717041, 0.0169607885181903]]]\n",
            "= Spokojnie jedzie na rowerze.\n"
          ]
        },
        {
          "ename": "TypeError",
          "evalue": "sequence item 0: expected str instance, Tensor found",
          "output_type": "error",
          "traceback": [
            "\u001b[1;31m---------------------------------------------------------------------------\u001b[0m",
            "\u001b[1;31mTypeError\u001b[0m                                 Traceback (most recent call last)",
            "Cell \u001b[1;32mIn[413], line 3\u001b[0m\n\u001b[0;32m      1\u001b[0m encoder\u001b[38;5;241m.\u001b[39meval()\n\u001b[0;32m      2\u001b[0m decoder\u001b[38;5;241m.\u001b[39meval()\n\u001b[1;32m----> 3\u001b[0m \u001b[43mevaluateRandomly\u001b[49m\u001b[43m(\u001b[49m\u001b[43mencoder\u001b[49m\u001b[43m,\u001b[49m\u001b[43m \u001b[49m\u001b[43mdecoder\u001b[49m\u001b[43m)\u001b[49m\n",
            "Cell \u001b[1;32mIn[410], line 7\u001b[0m, in \u001b[0;36mevaluateRandomly\u001b[1;34m(encoder, decoder, n)\u001b[0m\n\u001b[0;32m      5\u001b[0m \u001b[38;5;28mprint\u001b[39m(\u001b[38;5;124m'\u001b[39m\u001b[38;5;124m=\u001b[39m\u001b[38;5;124m'\u001b[39m, pair[\u001b[38;5;241m1\u001b[39m])\n\u001b[0;32m      6\u001b[0m output_words, _ \u001b[38;5;241m=\u001b[39m evaluate(encoder, decoder, data_loader)\n\u001b[1;32m----> 7\u001b[0m output_sentence \u001b[38;5;241m=\u001b[39m \u001b[38;5;124;43m'\u001b[39;49m\u001b[38;5;124;43m \u001b[39;49m\u001b[38;5;124;43m'\u001b[39;49m\u001b[38;5;241;43m.\u001b[39;49m\u001b[43mjoin\u001b[49m\u001b[43m(\u001b[49m\u001b[43moutput_words\u001b[49m\u001b[43m)\u001b[49m\n\u001b[0;32m      8\u001b[0m \u001b[38;5;28mprint\u001b[39m(\u001b[38;5;124m'\u001b[39m\u001b[38;5;124m<\u001b[39m\u001b[38;5;124m'\u001b[39m, output_sentence)\n\u001b[0;32m      9\u001b[0m \u001b[38;5;28mprint\u001b[39m(\u001b[38;5;124m'\u001b[39m\u001b[38;5;124m'\u001b[39m)\n",
            "\u001b[1;31mTypeError\u001b[0m: sequence item 0: expected str instance, Tensor found"
          ]
        }
      ],
      "source": [
        "encoder.eval()\n",
        "decoder.eval()\n",
        "evaluateRandomly(encoder, decoder)"
      ]
    }
  ],
  "metadata": {
    "accelerator": "GPU",
    "colab": {
      "gpuType": "T4",
      "provenance": []
    },
    "kernelspec": {
      "display_name": "Python 3",
      "name": "python3"
    },
    "language_info": {
      "codemirror_mode": {
        "name": "ipython",
        "version": 3
      },
      "file_extension": ".py",
      "mimetype": "text/x-python",
      "name": "python",
      "nbconvert_exporter": "python",
      "pygments_lexer": "ipython3",
      "version": "3.10.0"
    }
  },
  "nbformat": 4,
  "nbformat_minor": 0
}
